{
  "nbformat": 4,
  "nbformat_minor": 0,
  "metadata": {
    "colab": {
      "name": "binary_tree.ipynb",
      "provenance": [],
      "authorship_tag": "ABX9TyOZlOaMQpm5sAe1KtoeE2Wi",
      "include_colab_link": true
    },
    "kernelspec": {
      "name": "python3",
      "display_name": "Python 3"
    },
    "language_info": {
      "name": "python"
    }
  },
  "cells": [
    {
      "cell_type": "markdown",
      "metadata": {
        "id": "view-in-github",
        "colab_type": "text"
      },
      "source": [
        "<a href=\"https://colab.research.google.com/github/ajayks1974/learning/blob/master/binary_tree.ipynb\" target=\"_parent\"><img src=\"https://colab.research.google.com/assets/colab-badge.svg\" alt=\"Open In Colab\"/></a>"
      ]
    },
    {
      "cell_type": "markdown",
      "metadata": {
        "id": "5PyJEeo6MD7z"
      },
      "source": [
        "#Define Basic Tree Node"
      ]
    },
    {
      "cell_type": "code",
      "metadata": {
        "id": "fi7QDSHyMDVf"
      },
      "source": [
        "class BTNode:\n",
        "    def __init__(self,key):\n",
        "        self.left = None\n",
        "        self.right = None\n",
        "        self.val = key"
      ],
      "execution_count": 1,
      "outputs": []
    },
    {
      "cell_type": "markdown",
      "metadata": {
        "id": "88LJMV1ENz69"
      },
      "source": [
        "## Build a simple tree"
      ]
    },
    {
      "cell_type": "code",
      "metadata": {
        "id": "s42L6JrEL5FL"
      },
      "source": [
        "root = BTNode(1)\n",
        "root.left = BTNode(2)\n",
        "root.right = BTNode(3)\n",
        "root.left.left = BTNode(4)"
      ],
      "execution_count": 3,
      "outputs": []
    },
    {
      "cell_type": "code",
      "metadata": {
        "id": "PJCrseclODLd"
      },
      "source": [
        ""
      ],
      "execution_count": null,
      "outputs": []
    }
  ]
}