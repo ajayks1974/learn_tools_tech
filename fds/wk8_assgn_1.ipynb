{
  "nbformat": 4,
  "nbformat_minor": 0,
  "metadata": {
    "colab": {
      "name": "wk8_assgn_1.ipynb",
      "provenance": [],
      "authorship_tag": "ABX9TyNsilPZvx1sDWudIkn/j2P1",
      "include_colab_link": true
    },
    "kernelspec": {
      "name": "python3",
      "display_name": "Python 3"
    }
  },
  "cells": [
    {
      "cell_type": "markdown",
      "metadata": {
        "id": "view-in-github",
        "colab_type": "text"
      },
      "source": [
        "<a href=\"https://colab.research.google.com/github/ajayks1974/learning/blob/master/fds/wk8_assgn_1.ipynb\" target=\"_parent\"><img src=\"https://colab.research.google.com/assets/colab-badge.svg\" alt=\"Open In Colab\"/></a>"
      ]
    },
    {
      "cell_type": "code",
      "metadata": {
        "id": "vw5HrNYnVH0W",
        "colab_type": "code",
        "colab": {}
      },
      "source": [
        "import numpy as np"
      ],
      "execution_count": 3,
      "outputs": []
    },
    {
      "cell_type": "code",
      "metadata": {
        "id": "lWrBS1T9VOJJ",
        "colab_type": "code",
        "colab": {}
      },
      "source": [
        "def est_area_of_unitsq_excl_unitradcircl_1(num_of_points_to_sim):\n",
        "    arr_x_coords = np.random.rand(num_of_points_to_sim,num_of_points_to_sim)\n",
        "    arr_y_coords = np.random.rand(num_of_points_to_sim,num_of_points_to_sim)\n",
        "    arr_x_coords_sqr = arr_x_coords * arr_x_coords\n",
        "    arr_y_coords_sqr = arr_y_coords * arr_y_coords\n",
        "\n",
        "    arr_eucl_dist = arr_x_coords_sqr + arr_y_coords_sqr\n",
        "    arr_eucl_dist = np.sqrt(arr_eucl_dist)\n",
        "    arr_dist_for_point_excl_circl = arr_eucl_dist[arr_eucl_dist > 1]\n",
        "    return(arr_dist_for_point_excl_circl.size/(num_of_points_to_sim*num_of_points_to_sim))"
      ],
      "execution_count": 16,
      "outputs": []
    },
    {
      "cell_type": "code",
      "metadata": {
        "id": "wa0CvHhHiy2w",
        "colab_type": "code",
        "colab": {
          "base_uri": "https://localhost:8080/",
          "height": 171
        },
        "outputId": "229e3ce7-4090-4615-fc3a-a660bf4004a2"
      },
      "source": [
        "est_area_of_unitsq_excl_unitradcircl_1(10000)"
      ],
      "execution_count": 15,
      "outputs": [
        {
          "output_type": "error",
          "ename": "NameError",
          "evalue": "ignored",
          "traceback": [
            "\u001b[0;31m---------------------------------------------------------------------------\u001b[0m",
            "\u001b[0;31mNameError\u001b[0m                                 Traceback (most recent call last)",
            "\u001b[0;32m<ipython-input-15-cef1ef59c693>\u001b[0m in \u001b[0;36m<module>\u001b[0;34m()\u001b[0m\n\u001b[0;32m----> 1\u001b[0;31m \u001b[0mest_area_of_unitsq_excl_unitradcircl_1\u001b[0m\u001b[0;34m(\u001b[0m\u001b[0;36m10000\u001b[0m\u001b[0;34m)\u001b[0m\u001b[0;34m\u001b[0m\u001b[0;34m\u001b[0m\u001b[0m\n\u001b[0m",
            "\u001b[0;31mNameError\u001b[0m: name 'est_area_of_unitsq_excl_unitradcircl_1' is not defined"
          ]
        }
      ]
    },
    {
      "cell_type": "code",
      "metadata": {
        "id": "8SP-rtqUkbw4",
        "colab_type": "code",
        "colab": {}
      },
      "source": [
        "def est_area_of_unitsq_excl_unitradcircl_2(num_of_points_to_sim):\n",
        "    arr_x_coords = np.random.rand(num_of_points_to_sim,num_of_points_to_sim)\n",
        "    arr_y_coords = np.random.rand(num_of_points_to_sim,num_of_points_to_sim)\n",
        "    arr_x_coords_sqr = arr_x_coords * arr_x_coords\n",
        "    arr_y_coords_sqr = arr_y_coords * arr_y_coords\n",
        "\n",
        "    arr_eucl_dist = arr_x_coords_sqr + arr_y_coords_sqr\n",
        "    arr_eucl_dist = np.sqrt(arr_eucl_dist)\n",
        "    count_point_excl_unitradcircl = 0\n",
        "    for iter_row in range(num_of_points_to_sim):\n",
        "        for iter_col in range(num_of_points_to_sim):\n",
        "            if arr_eucl_dist[iter_row,iter_col] > 1:\n",
        "                count_point_excl_unitradcircl += 1\n",
        "    return(count_point_excl_unitradcircl/(num_of_points_to_sim*num_of_points_to_sim))"
      ],
      "execution_count": 17,
      "outputs": []
    },
    {
      "cell_type": "code",
      "metadata": {
        "id": "E8ijYdS0lgHv",
        "colab_type": "code",
        "colab": {
          "base_uri": "https://localhost:8080/",
          "height": 35
        },
        "outputId": "9865eb58-4da9-41cf-f1ec-44a8f841243d"
      },
      "source": [
        "est_area_of_unitsq_excl_unitradcircl_2(10000)"
      ],
      "execution_count": 18,
      "outputs": [
        {
          "output_type": "execute_result",
          "data": {
            "text/plain": [
              "0.21458261"
            ]
          },
          "metadata": {
            "tags": []
          },
          "execution_count": 18
        }
      ]
    }
  ]
}