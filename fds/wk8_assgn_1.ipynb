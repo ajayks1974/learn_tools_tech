{
  "nbformat": 4,
  "nbformat_minor": 0,
  "metadata": {
    "colab": {
      "name": "wk8_assgn_1.ipynb",
      "provenance": [],
      "authorship_tag": "ABX9TyOoZwMdYc7qgP3Su8qJTlBR",
      "include_colab_link": true
    },
    "kernelspec": {
      "name": "python3",
      "display_name": "Python 3"
    }
  },
  "cells": [
    {
      "cell_type": "markdown",
      "metadata": {
        "id": "view-in-github",
        "colab_type": "text"
      },
      "source": [
        "<a href=\"https://colab.research.google.com/github/ajayks1974/learning/blob/master/fds/wk8_assgn_1.ipynb\" target=\"_parent\"><img src=\"https://colab.research.google.com/assets/colab-badge.svg\" alt=\"Open In Colab\"/></a>"
      ]
    },
    {
      "cell_type": "code",
      "metadata": {
        "id": "vw5HrNYnVH0W",
        "colab_type": "code",
        "colab": {}
      },
      "source": [
        "import numpy as np"
      ],
      "execution_count": 1,
      "outputs": []
    },
    {
      "cell_type": "code",
      "metadata": {
        "id": "lWrBS1T9VOJJ",
        "colab_type": "code",
        "colab": {}
      },
      "source": [
        "def est_area_of_unitsq_excl_unitradcircl_1(num_of_points_to_sim):\n",
        "    arr_x_coords = np.random.rand(num_of_points_to_sim,num_of_points_to_sim)\n",
        "    arr_y_coords = np.random.rand(num_of_points_to_sim,num_of_points_to_sim)\n",
        "    arr_x_coords_sqr = arr_x_coords * arr_x_coords\n",
        "    arr_y_coords_sqr = arr_y_coords * arr_y_coords\n",
        "\n",
        "    arr_eucl_dist = arr_x_coords_sqr + arr_y_coords_sqr\n",
        "    arr_eucl_dist = np.sqrt(arr_eucl_dist)\n",
        "    arr_dist_for_point_excl_circl = arr_eucl_dist[arr_eucl_dist > 1]\n",
        "    return(arr_dist_for_point_excl_circl.size/(num_of_points_to_sim*num_of_points_to_sim))"
      ],
      "execution_count": 2,
      "outputs": []
    },
    {
      "cell_type": "code",
      "metadata": {
        "id": "wa0CvHhHiy2w",
        "colab_type": "code",
        "colab": {
          "base_uri": "https://localhost:8080/",
          "height": 68
        },
        "outputId": "5e08c375-b038-44ca-b12b-8c7c0e6e4602"
      },
      "source": [
        "%%time\n",
        "est_area_of_unitsq_excl_unitradcircl_1(10000)"
      ],
      "execution_count": 3,
      "outputs": [
        {
          "output_type": "stream",
          "text": [
            "CPU times: user 2.81 s, sys: 1.99 s, total: 4.8 s\n",
            "Wall time: 4.81 s\n"
          ],
          "name": "stdout"
        },
        {
          "output_type": "execute_result",
          "data": {
            "text/plain": [
              "0.21462385"
            ]
          },
          "metadata": {
            "tags": []
          },
          "execution_count": 3
        }
      ]
    },
    {
      "cell_type": "code",
      "metadata": {
        "id": "8SP-rtqUkbw4",
        "colab_type": "code",
        "colab": {}
      },
      "source": [
        "def est_area_of_unitsq_excl_unitradcircl_2(num_of_points_to_sim):\n",
        "    arr_x_coords = np.random.rand(num_of_points_to_sim,num_of_points_to_sim)\n",
        "    arr_y_coords = np.random.rand(num_of_points_to_sim,num_of_points_to_sim)\n",
        "    arr_x_coords_sqr = arr_x_coords * arr_x_coords\n",
        "    arr_y_coords_sqr = arr_y_coords * arr_y_coords\n",
        "\n",
        "    arr_eucl_dist = arr_x_coords_sqr + arr_y_coords_sqr\n",
        "    arr_eucl_dist = np.sqrt(arr_eucl_dist)\n",
        "    count_point_excl_unitradcircl = 0\n",
        "    for iter_row in range(num_of_points_to_sim):\n",
        "        for iter_col in range(num_of_points_to_sim):\n",
        "            if arr_eucl_dist[iter_row,iter_col] > 1:\n",
        "                count_point_excl_unitradcircl += 1\n",
        "    return(count_point_excl_unitradcircl/(num_of_points_to_sim*num_of_points_to_sim))"
      ],
      "execution_count": 4,
      "outputs": []
    },
    {
      "cell_type": "code",
      "metadata": {
        "id": "E8ijYdS0lgHv",
        "colab_type": "code",
        "colab": {
          "base_uri": "https://localhost:8080/",
          "height": 68
        },
        "outputId": "31b1d364-d809-430b-bc6d-2d610be194ae"
      },
      "source": [
        "%%time\n",
        "est_area_of_unitsq_excl_unitradcircl_2(10000)"
      ],
      "execution_count": 6,
      "outputs": [
        {
          "output_type": "stream",
          "text": [
            "CPU times: user 43.9 s, sys: 11.2 ms, total: 43.9 s\n",
            "Wall time: 43.9 s\n"
          ],
          "name": "stdout"
        },
        {
          "output_type": "execute_result",
          "data": {
            "text/plain": [
              "0.2146233"
            ]
          },
          "metadata": {
            "tags": []
          },
          "execution_count": 6
        }
      ]
    },
    {
      "cell_type": "code",
      "metadata": {
        "colab_type": "code",
        "id": "cnu5_2fEFH9X",
        "colab": {}
      },
      "source": [
        "def est_area_of_unitsq_excl_unitradcircl_3(num_of_points,ndim):\n",
        "    points = np.random.rand(num_of_points,ndim)\n",
        "    sqrd_points = points * points\n",
        "    sqrt_of_sum_of_points = np.sqrt(np.sum(sqrd_points, axis = 1))\n",
        "    dfo_points = sqrt_of_sum_of_points[sqrt_of_sum_of_points > 1]\n",
        "    return (dfo_points.size/(num_of_points))"
      ],
      "execution_count": 11,
      "outputs": []
    },
    {
      "cell_type": "code",
      "metadata": {
        "id": "gr-3k27sHgRY",
        "colab_type": "code",
        "colab": {
          "base_uri": "https://localhost:8080/",
          "height": 68
        },
        "outputId": "b238e972-c71a-4033-b05f-198b0e83f363"
      },
      "source": [
        "%%time\n",
        "est_area_of_unitsq_excl_unitradcircl_3(10000*10000, 2)"
      ],
      "execution_count": 12,
      "outputs": [
        {
          "output_type": "stream",
          "text": [
            "CPU times: user 8.49 s, sys: 25 ms, total: 8.51 s\n",
            "Wall time: 8.52 s\n"
          ],
          "name": "stdout"
        },
        {
          "output_type": "execute_result",
          "data": {
            "text/plain": [
              "0.21458598"
            ]
          },
          "metadata": {
            "tags": []
          },
          "execution_count": 12
        }
      ]
    },
    {
      "cell_type": "code",
      "metadata": {
        "id": "wthiYMdQHv44",
        "colab_type": "code",
        "colab": {}
      },
      "source": [
        ""
      ],
      "execution_count": null,
      "outputs": []
    }
  ]
}