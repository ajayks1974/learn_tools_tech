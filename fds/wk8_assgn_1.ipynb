{
  "nbformat": 4,
  "nbformat_minor": 0,
  "metadata": {
    "colab": {
      "name": "wk8_assgn_1.ipynb",
      "provenance": [],
      "authorship_tag": "ABX9TyMq/QUREARHFA3WDs1Fxe+T",
      "include_colab_link": true
    },
    "kernelspec": {
      "name": "python3",
      "display_name": "Python 3"
    }
  },
  "cells": [
    {
      "cell_type": "markdown",
      "metadata": {
        "id": "view-in-github",
        "colab_type": "text"
      },
      "source": [
        "<a href=\"https://colab.research.google.com/github/ajayks1974/learning/blob/master/fds/wk8_assgn_1.ipynb\" target=\"_parent\"><img src=\"https://colab.research.google.com/assets/colab-badge.svg\" alt=\"Open In Colab\"/></a>"
      ]
    },
    {
      "cell_type": "code",
      "metadata": {
        "id": "vw5HrNYnVH0W",
        "colab_type": "code",
        "colab": {}
      },
      "source": [
        "import numpy as np"
      ],
      "execution_count": 4,
      "outputs": []
    },
    {
      "cell_type": "code",
      "metadata": {
        "id": "lWrBS1T9VOJJ",
        "colab_type": "code",
        "colab": {}
      },
      "source": [
        "def est_area_of_unitsq_excl_unitradcircl_1(num_of_points_to_sim):\n",
        "    arr_x_coords = np.random.rand(num_of_points_to_sim,num_of_points_to_sim)\n",
        "    arr_y_coords = np.random.rand(num_of_points_to_sim,num_of_points_to_sim)\n",
        "    arr_x_coords_sqr = arr_x_coords * arr_x_coords\n",
        "    arr_y_coords_sqr = arr_y_coords * arr_y_coords\n",
        "\n",
        "    arr_eucl_dist = arr_x_coords_sqr + arr_y_coords_sqr\n",
        "    arr_eucl_dist = np.sqrt(arr_eucl_dist)\n",
        "    arr_dist_for_point_excl_circl = arr_eucl_dist[arr_eucl_dist > 1]\n",
        "    return(arr_dist_for_point_excl_circl.size/(num_of_points_to_sim*num_of_points_to_sim))"
      ],
      "execution_count": 2,
      "outputs": []
    },
    {
      "cell_type": "code",
      "metadata": {
        "id": "wa0CvHhHiy2w",
        "colab_type": "code",
        "colab": {
          "base_uri": "https://localhost:8080/",
          "height": 68
        },
        "outputId": "5e08c375-b038-44ca-b12b-8c7c0e6e4602"
      },
      "source": [
        "%%time\n",
        "est_area_of_unitsq_excl_unitradcircl_1(10000)"
      ],
      "execution_count": 3,
      "outputs": [
        {
          "output_type": "stream",
          "text": [
            "CPU times: user 2.81 s, sys: 1.99 s, total: 4.8 s\n",
            "Wall time: 4.81 s\n"
          ],
          "name": "stdout"
        },
        {
          "output_type": "execute_result",
          "data": {
            "text/plain": [
              "0.21462385"
            ]
          },
          "metadata": {
            "tags": []
          },
          "execution_count": 3
        }
      ]
    },
    {
      "cell_type": "code",
      "metadata": {
        "id": "8SP-rtqUkbw4",
        "colab_type": "code",
        "colab": {}
      },
      "source": [
        "def est_area_of_unitsq_excl_unitradcircl_2(num_of_points_to_sim):\n",
        "    arr_x_coords = np.random.rand(num_of_points_to_sim,num_of_points_to_sim)\n",
        "    arr_y_coords = np.random.rand(num_of_points_to_sim,num_of_points_to_sim)\n",
        "    arr_x_coords_sqr = arr_x_coords * arr_x_coords\n",
        "    arr_y_coords_sqr = arr_y_coords * arr_y_coords\n",
        "\n",
        "    arr_eucl_dist = arr_x_coords_sqr + arr_y_coords_sqr\n",
        "    arr_eucl_dist = np.sqrt(arr_eucl_dist)\n",
        "    count_point_excl_unitradcircl = 0\n",
        "    for iter_row in range(num_of_points_to_sim):\n",
        "        for iter_col in range(num_of_points_to_sim):\n",
        "            if arr_eucl_dist[iter_row,iter_col] > 1:\n",
        "                count_point_excl_unitradcircl += 1\n",
        "    return(count_point_excl_unitradcircl/(num_of_points_to_sim*num_of_points_to_sim))"
      ],
      "execution_count": 4,
      "outputs": []
    },
    {
      "cell_type": "code",
      "metadata": {
        "id": "E8ijYdS0lgHv",
        "colab_type": "code",
        "colab": {
          "base_uri": "https://localhost:8080/",
          "height": 68
        },
        "outputId": "31b1d364-d809-430b-bc6d-2d610be194ae"
      },
      "source": [
        "%%time\n",
        "est_area_of_unitsq_excl_unitradcircl_2(10000)"
      ],
      "execution_count": 6,
      "outputs": [
        {
          "output_type": "stream",
          "text": [
            "CPU times: user 43.9 s, sys: 11.2 ms, total: 43.9 s\n",
            "Wall time: 43.9 s\n"
          ],
          "name": "stdout"
        },
        {
          "output_type": "execute_result",
          "data": {
            "text/plain": [
              "0.2146233"
            ]
          },
          "metadata": {
            "tags": []
          },
          "execution_count": 6
        }
      ]
    },
    {
      "cell_type": "code",
      "metadata": {
        "colab_type": "code",
        "id": "cnu5_2fEFH9X",
        "colab": {}
      },
      "source": [
        "def est_area_of_unitsq_excl_unitradcircl_3(num_of_points,ndim):\n",
        "    points = np.random.rand(num_of_points,ndim)\n",
        "    sqrd_points = points * points\n",
        "    sqrt_of_sum_of_points = np.sqrt(np.sum(sqrd_points, axis = 1))\n",
        "    dfo_points = sqrt_of_sum_of_points[sqrt_of_sum_of_points > 1]\n",
        "    return (dfo_points.size/(num_of_points))"
      ],
      "execution_count": 5,
      "outputs": []
    },
    {
      "cell_type": "code",
      "metadata": {
        "id": "gr-3k27sHgRY",
        "colab_type": "code",
        "colab": {
          "base_uri": "https://localhost:8080/",
          "height": 68
        },
        "outputId": "649d2d3a-0112-4ae7-f2cf-3c2b256240e8"
      },
      "source": [
        "%%time\n",
        "est_area_of_unitsq_excl_unitradcircl_3(10000*10000, 2)"
      ],
      "execution_count": 6,
      "outputs": [
        {
          "output_type": "stream",
          "text": [
            "CPU times: user 4.11 s, sys: 1 s, total: 5.11 s\n",
            "Wall time: 5.12 s\n"
          ],
          "name": "stdout"
        },
        {
          "output_type": "execute_result",
          "data": {
            "text/plain": [
              "0.21462849"
            ]
          },
          "metadata": {
            "tags": []
          },
          "execution_count": 6
        }
      ]
    },
    {
      "cell_type": "code",
      "metadata": {
        "id": "wthiYMdQHv44",
        "colab_type": "code",
        "colab": {}
      },
      "source": [
        "def est_area_of_unitsq_excl_unitradcircl_4(num_of_points,ndim):\n",
        "    points = np.random.rand(num_of_points,ndim)\n",
        "    sqrd_points = points * points\n",
        "    sqrt_of_sum_of_points = np.sqrt(np.sum(sqrd_points, axis = 1))\n",
        "    dfo_points = np.sum(sqrt_of_sum_of_points > 1)\n",
        "    return dfo_points / num_of_points"
      ],
      "execution_count": 9,
      "outputs": []
    },
    {
      "cell_type": "code",
      "metadata": {
        "id": "7w6Lo0-cPI0a",
        "colab_type": "code",
        "colab": {
          "base_uri": "https://localhost:8080/",
          "height": 68
        },
        "outputId": "16cbb584-263c-456b-f160-afab335b949c"
      },
      "source": [
        "%%time\n",
        "est_area_of_unitsq_excl_unitradcircl_4(10000*10000, 2)"
      ],
      "execution_count": 10,
      "outputs": [
        {
          "output_type": "stream",
          "text": [
            "CPU times: user 3.71 s, sys: 917 ms, total: 4.62 s\n",
            "Wall time: 4.63 s\n"
          ],
          "name": "stdout"
        },
        {
          "output_type": "execute_result",
          "data": {
            "text/plain": [
              "0.21459547"
            ]
          },
          "metadata": {
            "tags": []
          },
          "execution_count": 10
        }
      ]
    },
    {
      "cell_type": "code",
      "metadata": {
        "id": "ZylMBUp6PMMX",
        "colab_type": "code",
        "colab": {}
      },
      "source": [
        "def est_area_of_unitsq_excl_unitradcircl_5(num_of_points,ndim):\n",
        "    points = np.random.rand(num_of_points,ndim)\n",
        "    return (np.sum(np.sqrt(np.sum(points * points, axis = 1)) > 1)) / num_of_points"
      ],
      "execution_count": 13,
      "outputs": []
    },
    {
      "cell_type": "code",
      "metadata": {
        "id": "OPfqen6OQs8x",
        "colab_type": "code",
        "colab": {
          "base_uri": "https://localhost:8080/",
          "height": 68
        },
        "outputId": "7d776cd4-b73d-4097-81df-5df7e04f79fe"
      },
      "source": [
        "%%time\n",
        "est_area_of_unitsq_excl_unitradcircl_5(10000*10000, 2)"
      ],
      "execution_count": 14,
      "outputs": [
        {
          "output_type": "stream",
          "text": [
            "CPU times: user 3.92 s, sys: 1.51 ms, total: 3.92 s\n",
            "Wall time: 3.93 s\n"
          ],
          "name": "stdout"
        },
        {
          "output_type": "execute_result",
          "data": {
            "text/plain": [
              "0.21457277"
            ]
          },
          "metadata": {
            "tags": []
          },
          "execution_count": 14
        }
      ]
    },
    {
      "cell_type": "code",
      "metadata": {
        "id": "K9UgazzVQ8nl",
        "colab_type": "code",
        "colab": {
          "base_uri": "https://localhost:8080/",
          "height": 1000
        },
        "outputId": "b8aeb243-bff6-4a86-f5a3-68f13cfd3d08"
      },
      "source": [
        "for i in range(2,100):\n",
        "    print(i,est_area_of_unitsq_excl_unitradcircl_5(10000,i))"
      ],
      "execution_count": 17,
      "outputs": [
        {
          "output_type": "stream",
          "text": [
            "2 0.2166\n",
            "3 0.4645\n",
            "4 0.6887\n",
            "5 0.8335\n",
            "6 0.9189\n",
            "7 0.9651\n",
            "8 0.9834\n",
            "9 0.9945\n",
            "10 0.997\n",
            "11 0.9995\n",
            "12 0.9997\n",
            "13 0.9998\n",
            "14 0.9999\n",
            "15 1.0\n",
            "16 1.0\n",
            "17 1.0\n",
            "18 1.0\n",
            "19 1.0\n",
            "20 1.0\n",
            "21 1.0\n",
            "22 1.0\n",
            "23 1.0\n",
            "24 1.0\n",
            "25 1.0\n",
            "26 1.0\n",
            "27 1.0\n",
            "28 1.0\n",
            "29 1.0\n",
            "30 1.0\n",
            "31 1.0\n",
            "32 1.0\n",
            "33 1.0\n",
            "34 1.0\n",
            "35 1.0\n",
            "36 1.0\n",
            "37 1.0\n",
            "38 1.0\n",
            "39 1.0\n",
            "40 1.0\n",
            "41 1.0\n",
            "42 1.0\n",
            "43 1.0\n",
            "44 1.0\n",
            "45 1.0\n",
            "46 1.0\n",
            "47 1.0\n",
            "48 1.0\n",
            "49 1.0\n",
            "50 1.0\n",
            "51 1.0\n",
            "52 1.0\n",
            "53 1.0\n",
            "54 1.0\n",
            "55 1.0\n",
            "56 1.0\n",
            "57 1.0\n",
            "58 1.0\n",
            "59 1.0\n",
            "60 1.0\n",
            "61 1.0\n",
            "62 1.0\n",
            "63 1.0\n",
            "64 1.0\n",
            "65 1.0\n",
            "66 1.0\n",
            "67 1.0\n",
            "68 1.0\n",
            "69 1.0\n",
            "70 1.0\n",
            "71 1.0\n",
            "72 1.0\n",
            "73 1.0\n",
            "74 1.0\n",
            "75 1.0\n",
            "76 1.0\n",
            "77 1.0\n",
            "78 1.0\n",
            "79 1.0\n",
            "80 1.0\n",
            "81 1.0\n",
            "82 1.0\n",
            "83 1.0\n",
            "84 1.0\n",
            "85 1.0\n",
            "86 1.0\n",
            "87 1.0\n",
            "88 1.0\n",
            "89 1.0\n",
            "90 1.0\n",
            "91 1.0\n",
            "92 1.0\n",
            "93 1.0\n",
            "94 1.0\n",
            "95 1.0\n",
            "96 1.0\n",
            "97 1.0\n",
            "98 1.0\n",
            "99 1.0\n"
          ],
          "name": "stdout"
        }
      ]
    },
    {
      "cell_type": "code",
      "metadata": {
        "id": "M0axlGuqRZqj",
        "colab_type": "code",
        "colab": {}
      },
      "source": [
        ""
      ],
      "execution_count": null,
      "outputs": []
    }
  ]
}