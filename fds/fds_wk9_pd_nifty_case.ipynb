{
  "nbformat": 4,
  "nbformat_minor": 0,
  "metadata": {
    "colab": {
      "name": "fds_wk9_pd_nifty_case.ipynb",
      "provenance": [],
      "toc_visible": true,
      "authorship_tag": "ABX9TyOv7XCHza5JVF4kQSNdpO3x",
      "include_colab_link": true
    },
    "kernelspec": {
      "name": "python3",
      "display_name": "Python 3"
    }
  },
  "cells": [
    {
      "cell_type": "markdown",
      "metadata": {
        "id": "view-in-github",
        "colab_type": "text"
      },
      "source": [
        "<a href=\"https://colab.research.google.com/github/ajayks1974/learning/blob/master/fds/fds_wk9_pd_nifty_case.ipynb\" target=\"_parent\"><img src=\"https://colab.research.google.com/assets/colab-badge.svg\" alt=\"Open In Colab\"/></a>"
      ]
    },
    {
      "cell_type": "markdown",
      "metadata": {
        "id": "tT3xDw00wM_I",
        "colab_type": "text"
      },
      "source": [
        "#NIFTY Case Study"
      ]
    },
    {
      "cell_type": "code",
      "metadata": {
        "id": "ph7n7zhWvxCD",
        "colab_type": "code",
        "colab": {}
      },
      "source": [
        "import numpy as np\n",
        "import pandas as pd"
      ],
      "execution_count": 2,
      "outputs": []
    },
    {
      "cell_type": "code",
      "metadata": {
        "id": "Ww0IO0IjwcTt",
        "colab_type": "code",
        "colab": {}
      },
      "source": [
        "nifty = pd.read_csv('nifty-200623-235920.csv', index_col=0).iloc[:,0]"
      ],
      "execution_count": 6,
      "outputs": []
    },
    {
      "cell_type": "code",
      "metadata": {
        "id": "AIpB67dpxO2D",
        "colab_type": "code",
        "colab": {
          "base_uri": "https://localhost:8080/",
          "height": 34
        },
        "outputId": "98f9ff54-9faf-45d9-f63d-0fff839ec966"
      },
      "source": [
        "type(nifty)"
      ],
      "execution_count": 7,
      "outputs": [
        {
          "output_type": "execute_result",
          "data": {
            "text/plain": [
              "pandas.core.series.Series"
            ]
          },
          "metadata": {
            "tags": []
          },
          "execution_count": 7
        }
      ]
    },
    {
      "cell_type": "code",
      "metadata": {
        "id": "PrX76lItxlWZ",
        "colab_type": "code",
        "colab": {
          "base_uri": "https://localhost:8080/",
          "height": 476
        },
        "outputId": "0543f7ed-5383-43da-9d3b-b80a742810e4"
      },
      "source": [
        "nifty.head(25)"
      ],
      "execution_count": 8,
      "outputs": [
        {
          "output_type": "execute_result",
          "data": {
            "text/plain": [
              "Date\n",
              "01-Jan-2019    10910.10\n",
              "02-Jan-2019    10792.50\n",
              "03-Jan-2019    10672.25\n",
              "04-Jan-2019    10727.35\n",
              "07-Jan-2019    10771.80\n",
              "08-Jan-2019    10802.15\n",
              "09-Jan-2019    10855.15\n",
              "10-Jan-2019    10821.60\n",
              "11-Jan-2019    10794.95\n",
              "14-Jan-2019    10737.60\n",
              "15-Jan-2019    10886.80\n",
              "16-Jan-2019    10890.30\n",
              "17-Jan-2019    10905.20\n",
              "18-Jan-2019    10906.95\n",
              "21-Jan-2019    10961.85\n",
              "22-Jan-2019    10922.75\n",
              "23-Jan-2019    10831.50\n",
              "24-Jan-2019    10849.80\n",
              "25-Jan-2019    10780.55\n",
              "28-Jan-2019    10661.55\n",
              "29-Jan-2019    10652.20\n",
              "30-Jan-2019    10651.80\n",
              "31-Jan-2019    10830.95\n",
              "01-Feb-2019    10893.65\n",
              "04-Feb-2019    10912.25\n",
              "Name: Close, dtype: float64"
            ]
          },
          "metadata": {
            "tags": []
          },
          "execution_count": 8
        }
      ]
    },
    {
      "cell_type": "code",
      "metadata": {
        "id": "jlaPt9OfxoVA",
        "colab_type": "code",
        "colab": {
          "base_uri": "https://localhost:8080/",
          "height": 476
        },
        "outputId": "ac6223ac-3e13-4ca1-b50b-34e21797bfb2"
      },
      "source": [
        "nifty.tail(25)"
      ],
      "execution_count": 9,
      "outputs": [
        {
          "output_type": "execute_result",
          "data": {
            "text/plain": [
              "Date\n",
              "26-Nov-2019    12037.70\n",
              "27-Nov-2019    12100.70\n",
              "28-Nov-2019    12151.15\n",
              "29-Nov-2019    12056.05\n",
              "02-Dec-2019    12048.20\n",
              "03-Dec-2019    11994.20\n",
              "04-Dec-2019    12043.20\n",
              "05-Dec-2019    12018.40\n",
              "06-Dec-2019    11921.50\n",
              "09-Dec-2019    11937.50\n",
              "10-Dec-2019    11856.80\n",
              "11-Dec-2019    11910.15\n",
              "12-Dec-2019    11971.80\n",
              "13-Dec-2019    12086.70\n",
              "16-Dec-2019    12053.95\n",
              "17-Dec-2019    12165.00\n",
              "18-Dec-2019    12221.65\n",
              "19-Dec-2019    12259.70\n",
              "20-Dec-2019    12271.80\n",
              "23-Dec-2019    12262.75\n",
              "24-Dec-2019    12214.55\n",
              "26-Dec-2019    12126.55\n",
              "27-Dec-2019    12245.80\n",
              "30-Dec-2019    12255.85\n",
              "31-Dec-2019    12168.45\n",
              "Name: Close, dtype: float64"
            ]
          },
          "metadata": {
            "tags": []
          },
          "execution_count": 9
        }
      ]
    },
    {
      "cell_type": "code",
      "metadata": {
        "id": "OG8wElrOxx54",
        "colab_type": "code",
        "colab": {
          "base_uri": "https://localhost:8080/",
          "height": 34
        },
        "outputId": "5c1ce7f7-96d3-40eb-cf11-d8d7869705b3"
      },
      "source": [
        "np.mean(nifty)"
      ],
      "execution_count": 10,
      "outputs": [
        {
          "output_type": "execute_result",
          "data": {
            "text/plain": [
              "11432.632244897959"
            ]
          },
          "metadata": {
            "tags": []
          },
          "execution_count": 10
        }
      ]
    },
    {
      "cell_type": "code",
      "metadata": {
        "id": "5Ai4BJ5bx8DV",
        "colab_type": "code",
        "colab": {
          "base_uri": "https://localhost:8080/",
          "height": 34
        },
        "outputId": "1ba7c879-a1f5-44e6-dee0-6716a0a9c71c"
      },
      "source": [
        "np.median(nifty)"
      ],
      "execution_count": 11,
      "outputs": [
        {
          "output_type": "execute_result",
          "data": {
            "text/plain": [
              "11512.4"
            ]
          },
          "metadata": {
            "tags": []
          },
          "execution_count": 11
        }
      ]
    },
    {
      "cell_type": "code",
      "metadata": {
        "id": "WvlWG_JbyAoc",
        "colab_type": "code",
        "colab": {
          "base_uri": "https://localhost:8080/",
          "height": 34
        },
        "outputId": "d5fc4283-1481-4cdd-d036-6bb1ff591211"
      },
      "source": [
        "np.std(nifty)"
      ],
      "execution_count": 12,
      "outputs": [
        {
          "output_type": "execute_result",
          "data": {
            "text/plain": [
              "453.2866947459807"
            ]
          },
          "metadata": {
            "tags": []
          },
          "execution_count": 12
        }
      ]
    },
    {
      "cell_type": "code",
      "metadata": {
        "id": "lvEM3hxcyCrh",
        "colab_type": "code",
        "colab": {
          "base_uri": "https://localhost:8080/",
          "height": 238
        },
        "outputId": "6e33ca77-ba63-49ea-a417-34f53c99ac6e"
      },
      "source": [
        "nifty[1:]"
      ],
      "execution_count": 13,
      "outputs": [
        {
          "output_type": "execute_result",
          "data": {
            "text/plain": [
              "Date\n",
              "02-Jan-2019    10792.50\n",
              "03-Jan-2019    10672.25\n",
              "04-Jan-2019    10727.35\n",
              "07-Jan-2019    10771.80\n",
              "08-Jan-2019    10802.15\n",
              "                 ...   \n",
              "24-Dec-2019    12214.55\n",
              "26-Dec-2019    12126.55\n",
              "27-Dec-2019    12245.80\n",
              "30-Dec-2019    12255.85\n",
              "31-Dec-2019    12168.45\n",
              "Name: Close, Length: 244, dtype: float64"
            ]
          },
          "metadata": {
            "tags": []
          },
          "execution_count": 13
        }
      ]
    },
    {
      "cell_type": "code",
      "metadata": {
        "id": "q3pBIR1Ty0pM",
        "colab_type": "code",
        "colab": {
          "base_uri": "https://localhost:8080/",
          "height": 238
        },
        "outputId": "aed4c89e-63af-475e-c3c4-91c7c31c4379"
      },
      "source": [
        "nifty[:-1]"
      ],
      "execution_count": 14,
      "outputs": [
        {
          "output_type": "execute_result",
          "data": {
            "text/plain": [
              "Date\n",
              "01-Jan-2019    10910.10\n",
              "02-Jan-2019    10792.50\n",
              "03-Jan-2019    10672.25\n",
              "04-Jan-2019    10727.35\n",
              "07-Jan-2019    10771.80\n",
              "                 ...   \n",
              "23-Dec-2019    12262.75\n",
              "24-Dec-2019    12214.55\n",
              "26-Dec-2019    12126.55\n",
              "27-Dec-2019    12245.80\n",
              "30-Dec-2019    12255.85\n",
              "Name: Close, Length: 244, dtype: float64"
            ]
          },
          "metadata": {
            "tags": []
          },
          "execution_count": 14
        }
      ]
    },
    {
      "cell_type": "code",
      "metadata": {
        "id": "beK2PA_ky2ug",
        "colab_type": "code",
        "colab": {
          "base_uri": "https://localhost:8080/",
          "height": 238
        },
        "outputId": "021c6a02-cca8-46b8-86c0-cb2cca89d1f1"
      },
      "source": [
        "nifty[:]"
      ],
      "execution_count": 16,
      "outputs": [
        {
          "output_type": "execute_result",
          "data": {
            "text/plain": [
              "Date\n",
              "01-Jan-2019    10910.10\n",
              "02-Jan-2019    10792.50\n",
              "03-Jan-2019    10672.25\n",
              "04-Jan-2019    10727.35\n",
              "07-Jan-2019    10771.80\n",
              "                 ...   \n",
              "24-Dec-2019    12214.55\n",
              "26-Dec-2019    12126.55\n",
              "27-Dec-2019    12245.80\n",
              "30-Dec-2019    12255.85\n",
              "31-Dec-2019    12168.45\n",
              "Name: Close, Length: 245, dtype: float64"
            ]
          },
          "metadata": {
            "tags": []
          },
          "execution_count": 16
        }
      ]
    },
    {
      "cell_type": "code",
      "metadata": {
        "id": "QJM7j2KGy4jr",
        "colab_type": "code",
        "colab": {
          "base_uri": "https://localhost:8080/",
          "height": 238
        },
        "outputId": "cd67d157-2e7a-425c-c712-cf89a3d87267"
      },
      "source": [
        "nifty[1:]-nifty[:-1]"
      ],
      "execution_count": 17,
      "outputs": [
        {
          "output_type": "execute_result",
          "data": {
            "text/plain": [
              "Date\n",
              "01-Apr-2019    0.0\n",
              "01-Aug-2019    0.0\n",
              "01-Feb-2019    0.0\n",
              "01-Jan-2019    NaN\n",
              "01-Jul-2019    0.0\n",
              "              ... \n",
              "31-Dec-2019    NaN\n",
              "31-Jan-2019    0.0\n",
              "31-Jul-2019    0.0\n",
              "31-May-2019    0.0\n",
              "31-Oct-2019    0.0\n",
              "Name: Close, Length: 245, dtype: float64"
            ]
          },
          "metadata": {
            "tags": []
          },
          "execution_count": 17
        }
      ]
    },
    {
      "cell_type": "code",
      "metadata": {
        "id": "YJ7VpfMezEWl",
        "colab_type": "code",
        "colab": {}
      },
      "source": [
        "nifty.values[1:] - nifty.values[:-1]"
      ],
      "execution_count": null,
      "outputs": []
    },
    {
      "cell_type": "code",
      "metadata": {
        "id": "jSVIA8-Oz2lp",
        "colab_type": "code",
        "colab": {}
      },
      "source": [
        "nifty.values[1:] - nifty.values[:-1] > 0"
      ],
      "execution_count": null,
      "outputs": []
    },
    {
      "cell_type": "code",
      "metadata": {
        "id": "_FwQQeot0KU2",
        "colab_type": "code",
        "colab": {
          "base_uri": "https://localhost:8080/",
          "height": 34
        },
        "outputId": "8effd831-1d76-463a-f6ec-bb61bfca3974"
      },
      "source": [
        "sum(nifty.values[1:] - nifty.values[:-1] > 0)"
      ],
      "execution_count": 20,
      "outputs": [
        {
          "output_type": "execute_result",
          "data": {
            "text/plain": [
              "129"
            ]
          },
          "metadata": {
            "tags": []
          },
          "execution_count": 20
        }
      ]
    },
    {
      "cell_type": "code",
      "metadata": {
        "id": "J2ii2A1M0O-M",
        "colab_type": "code",
        "colab": {
          "base_uri": "https://localhost:8080/",
          "height": 34
        },
        "outputId": "a9f4ca3c-af1d-4fac-bc55-b001c9d6a275"
      },
      "source": [
        "sum(nifty.values[1:] - nifty.values[:-1] > 0)/nifty.size"
      ],
      "execution_count": 21,
      "outputs": [
        {
          "output_type": "execute_result",
          "data": {
            "text/plain": [
              "0.5265306122448979"
            ]
          },
          "metadata": {
            "tags": []
          },
          "execution_count": 21
        }
      ]
    },
    {
      "cell_type": "markdown",
      "metadata": {
        "id": "7_EfJPzD0gAB",
        "colab_type": "text"
      },
      "source": [
        "** Tasks\n",
        "1. Compute Moving Average of the last 5 days\n",
        "2. Subset the data to include only data for Fridays\n"
      ]
    },
    {
      "cell_type": "code",
      "metadata": {
        "id": "Y1rFx82m0ZPL",
        "colab_type": "code",
        "colab": {}
      },
      "source": [
        ""
      ],
      "execution_count": null,
      "outputs": []
    },
    {
      "cell_type": "markdown",
      "metadata": {
        "id": "waVi_B-T0dqX",
        "colab_type": "text"
      },
      "source": [
        ""
      ]
    }
  ]
}