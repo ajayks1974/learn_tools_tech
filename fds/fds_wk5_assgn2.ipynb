{
  "nbformat": 4,
  "nbformat_minor": 0,
  "metadata": {
    "colab": {
      "name": "fds_wk5_assgn2.ipynb",
      "provenance": [],
      "authorship_tag": "ABX9TyO12KqQH4p7XoTIbHL4KgjK",
      "include_colab_link": true
    },
    "kernelspec": {
      "name": "python3",
      "display_name": "Python 3"
    }
  },
  "cells": [
    {
      "cell_type": "markdown",
      "metadata": {
        "id": "view-in-github",
        "colab_type": "text"
      },
      "source": [
        "<a href=\"https://colab.research.google.com/github/ajayks1974/learning/blob/master/fds/fds_wk5_assgn2.ipynb\" target=\"_parent\"><img src=\"https://colab.research.google.com/assets/colab-badge.svg\" alt=\"Open In Colab\"/></a>"
      ]
    },
    {
      "cell_type": "code",
      "metadata": {
        "id": "L50P-oMhFjCJ",
        "colab_type": "code",
        "colab": {}
      },
      "source": [
        "lat_long_rec1 = {\n",
        "    \"name\": \"Delhi\",\n",
        "    \"lat\": 28.644800,\n",
        "    \"long\": 77.216721\n",
        "}"
      ],
      "execution_count": null,
      "outputs": []
    },
    {
      "cell_type": "code",
      "metadata": {
        "id": "1JICHzbmHSNU",
        "colab_type": "code",
        "colab": {}
      },
      "source": [
        "places_record = []"
      ],
      "execution_count": null,
      "outputs": []
    },
    {
      "cell_type": "code",
      "metadata": {
        "id": "L51OLR22Hnjw",
        "colab_type": "code",
        "colab": {}
      },
      "source": [
        "places_record.append(lat_long_rec1)"
      ],
      "execution_count": null,
      "outputs": []
    },
    {
      "cell_type": "code",
      "metadata": {
        "id": "M4K1zgPfHu5g",
        "colab_type": "code",
        "colab": {
          "base_uri": "https://localhost:8080/",
          "height": 34
        },
        "outputId": "b29ac837-afe6-48d6-b294-2694d6dfc8fa"
      },
      "source": [
        "places_record[0][\"name\"]"
      ],
      "execution_count": null,
      "outputs": [
        {
          "output_type": "execute_result",
          "data": {
            "text/plain": [
              "'Delhi'"
            ]
          },
          "metadata": {
            "tags": []
          },
          "execution_count": 6
        }
      ]
    },
    {
      "cell_type": "code",
      "metadata": {
        "id": "PUW1UDPAH2CB",
        "colab_type": "code",
        "colab": {}
      },
      "source": [
        "def get_places_record(record):\n",
        "    flag_to_continue = True\n",
        "    while flag_to_continue == True:\n",
        "        place_rec = {}\n",
        "        print(\"Please Enter place data to record--->\")\n",
        "        \n",
        "        name = input(\"Enter Name of Location\")\n",
        "        try:\n",
        "            lat = float(input(\"Enter Latitude of Location\"))\n",
        "        except ValueError:\n",
        "            print(\"Invalid Value: Exiting..\")\n",
        "            return\n",
        "        try:\n",
        "            long = float(input(\"Enter Longitude of Location\"))\n",
        "        except ValueError:\n",
        "            print(\"Invalid Value: Exiting..\")\n",
        "            return\n",
        "        \n",
        "        place_rec[\"name\"]=name\n",
        "        place_rec[\"long\"]=long\n",
        "        place_rec[\"lat\"]=lat\n",
        "        record.append(place_rec)\n",
        "        print(\"Added Record for: \", name)\n",
        "\n",
        "        confirm = input(\"Do you want to Continue (y/n):\")\n",
        "        print(confirm)\n",
        "        if confirm[0] == \"n\":\n",
        "           flag_to_continue = False"
      ],
      "execution_count": null,
      "outputs": []
    },
    {
      "cell_type": "code",
      "metadata": {
        "id": "YX7ncAi8r_wl",
        "colab_type": "code",
        "colab": {}
      },
      "source": [
        "record = []"
      ],
      "execution_count": null,
      "outputs": []
    },
    {
      "cell_type": "code",
      "metadata": {
        "id": "IOk2cV1PsDvf",
        "colab_type": "code",
        "colab": {
          "base_uri": "https://localhost:8080/",
          "height": 119
        },
        "outputId": "606db750-399d-4eea-912c-6903bd4cb8a6"
      },
      "source": [
        "get_places_record(record)"
      ],
      "execution_count": null,
      "outputs": [
        {
          "output_type": "stream",
          "text": [
            "Please Enter place data to record--->\n",
            "Enter Name of LocationAgra\n",
            "Enter Latitude of Location27.1767\n",
            "Enter Longitude of Location78.0081\n",
            "Added Record for:  Agra\n",
            "Do you want to Continue (y/n):Y\n"
          ],
          "name": "stdout"
        }
      ]
    },
    {
      "cell_type": "code",
      "metadata": {
        "id": "mN6VIYjksGop",
        "colab_type": "code",
        "colab": {
          "base_uri": "https://localhost:8080/",
          "height": 255
        },
        "outputId": "1673bbca-771c-45ad-81dd-1f171ceb4b79"
      },
      "source": [
        "get_places_record(record)"
      ],
      "execution_count": null,
      "outputs": [
        {
          "output_type": "stream",
          "text": [
            "Please Enter place data to record--->\n",
            "Enter Name of LocationCalcutta\n",
            "Enter Latitude of Location22.5726\n",
            "Enter Longitude of Location88.3639\n",
            "Added Record for:  Calcutta\n",
            "Do you want to Continue (y/n):y\n",
            "y\n",
            "Please Enter place data to record--->\n",
            "Enter Name of LocationGuwahati\n",
            "Enter Latitude of Location26.1445\n",
            "Enter Longitude of Location91.7362\n",
            "Added Record for:  Guwahati\n",
            "Do you want to Continue (y/n):n\n",
            "n\n"
          ],
          "name": "stdout"
        }
      ]
    },
    {
      "cell_type": "code",
      "metadata": {
        "id": "oxRD07CXsXkV",
        "colab_type": "code",
        "colab": {
          "base_uri": "https://localhost:8080/",
          "height": 119
        },
        "outputId": "148fa2df-be49-4d16-a143-de693b493865"
      },
      "source": [
        "record"
      ],
      "execution_count": null,
      "outputs": [
        {
          "output_type": "execute_result",
          "data": {
            "text/plain": [
              "[{'lat': 27.1767, 'long': 78.0081, 'name': 'Agra'},\n",
              " {'lat': 13.0827, 'long': 80.2707, 'name': 'Chennai'},\n",
              " {'lat': 19.076, 'long': 72.8777, 'name': 'Mumbai'},\n",
              " {'lat': 12.9716, 'long': 77.5946, 'name': 'Banglore'},\n",
              " {'lat': 22.5726, 'long': 88.3639, 'name': 'Calcutta'},\n",
              " {'lat': 26.1445, 'long': 91.7362, 'name': 'Guwahati'}]"
            ]
          },
          "metadata": {
            "tags": []
          },
          "execution_count": 20
        }
      ]
    },
    {
      "cell_type": "code",
      "metadata": {
        "id": "dAsTWR5ws0K9",
        "colab_type": "code",
        "colab": {}
      },
      "source": [
        "record_pre_created = [{'lat': 27.1767, 'long': 78.0081, 'name': 'Agra'},\n",
        " {'lat': 13.0827, 'long': 80.2707, 'name': 'Chennai'},\n",
        " {'lat': 19.076, 'long': 72.8777, 'name': 'Mumbai'},\n",
        " {'lat': 12.9716, 'long': 77.5946, 'name': 'Banglore'},\n",
        " {'lat': 22.5726, 'long': 88.3639, 'name': 'Calcutta'},\n",
        " {'lat': 26.1445, 'long': 91.7362, 'name': 'Guwahati'}]"
      ],
      "execution_count": null,
      "outputs": []
    },
    {
      "cell_type": "code",
      "metadata": {
        "id": "VkNXadfmu8rf",
        "colab_type": "code",
        "colab": {}
      },
      "source": [
        "def build_places_latlong_map(places):\n",
        "    flag_to_continue = True\n",
        "    while flag_to_continue == True:\n",
        "        print(\"Please Enter place data to record--->\")\n",
        "        \n",
        "        name = input(\"Enter Name of Location\")\n",
        "        lat = input(\"Enter Latitude of Location\")\n",
        "        long = input(\"Enter Longitude of Location\")\n",
        "        places[name]=lat+long\n",
        "        print(\"Added Record for: \", name)\n",
        "        confirm = input(\"Do you want to Continue (y/n):\")\n",
        "        if confirm[0] == \"n\":\n",
        "           flag_to_continue = False"
      ],
      "execution_count": null,
      "outputs": []
    },
    {
      "cell_type": "code",
      "metadata": {
        "id": "X6md4cRA0fA9",
        "colab_type": "code",
        "colab": {
          "base_uri": "https://localhost:8080/",
          "height": 399
        },
        "outputId": "d5e64706-1dad-4464-f99b-3fc1422d13a3"
      },
      "source": [
        "places_latlong_map = {}\n",
        "build_places_latlong_map(places_latlong_map)"
      ],
      "execution_count": null,
      "outputs": [
        {
          "output_type": "stream",
          "text": [
            "Please Enter place data to record--->\n",
            "Enter Name of LocationAgra\n",
            "Enter Latitude of Location27.1767\n",
            "Enter Longitude of Location78.0081\n",
            "Added Record for:  Agra\n",
            "Do you want to Continue (y/n):y\n",
            "y\n",
            "Please Enter place data to record--->\n",
            "Enter Name of LocationChennai\n",
            "Enter Latitude of Location13.0827\n",
            "Enter Longitude of Location80.2707\n",
            "Added Record for:  Chennai\n",
            "Do you want to Continue (y/n):t\n",
            "t\n",
            "Please Enter place data to record--->\n",
            "Enter Name of LocationMumbai\n",
            "Enter Latitude of Location19.076\n",
            "Enter Longitude of Location80.2707\n",
            "Added Record for:  Mumbai\n",
            "Do you want to Continue (y/n):n\n",
            "n\n"
          ],
          "name": "stdout"
        }
      ]
    },
    {
      "cell_type": "code",
      "metadata": {
        "id": "RqwU6u_X0qLE",
        "colab_type": "code",
        "colab": {
          "base_uri": "https://localhost:8080/",
          "height": 72
        },
        "outputId": "d35879de-62ac-4ca8-cc37-5a2c32199b62"
      },
      "source": [
        "places_latlong_map"
      ],
      "execution_count": null,
      "outputs": [
        {
          "output_type": "execute_result",
          "data": {
            "text/plain": [
              "{'Agra': '27.176778.0081',\n",
              " 'Chennai': '13.082780.2707',\n",
              " 'Mumbai': '19.07680.2707'}"
            ]
          },
          "metadata": {
            "tags": []
          },
          "execution_count": 5
        }
      ]
    },
    {
      "cell_type": "code",
      "metadata": {
        "id": "RXO5zVTDchY6",
        "colab_type": "code",
        "colab": {}
      },
      "source": [
        "places_latlong_map1 = {'Agra': '27.176778.0081',\n",
        " 'Chennai': '13.082780.2707',\n",
        " 'Mumbai': '19.07680.2707'}"
      ],
      "execution_count": 1,
      "outputs": []
    },
    {
      "cell_type": "code",
      "metadata": {
        "id": "Vck3ROn-1Z5X",
        "colab_type": "code",
        "colab": {}
      },
      "source": [
        "def replace_poi_with_latlongs(phrase):\n",
        "    poi = 0\n",
        "    phrase_word_list = phrase.split()\n",
        "    out_phrase = \"\"\n",
        "    for item in phrase_word_list:\n",
        "        print(item)\n",
        "        try:\n",
        "            lat_long = places_latlong_map1[item]\n",
        "        except KeyError:\n",
        "            out_phrase +=item\n",
        "            out_phrase +=\" \"\n",
        "            continue\n",
        "        out_phrase+=item\n",
        "        out_phrase+=\"(\"\n",
        "        out_phrase+=lat_long\n",
        "        out_phrase+=\")\"\n",
        "        out_phrase +=\" \"\n",
        "        poi +=1\n",
        "    print(\"Total POIs found:\", poi)\n",
        "    print(\"Updated String:\", out_phrase)\n",
        "    return out_phrase"
      ],
      "execution_count": 2,
      "outputs": []
    },
    {
      "cell_type": "code",
      "metadata": {
        "id": "qHA9gaAxbTGH",
        "colab_type": "code",
        "colab": {}
      },
      "source": [
        "def replace_poi_with_latlong1(phrase):\n",
        "    poi = 0\n",
        "    phrase_word_list = phrase.split()\n",
        "    out_phrase = \"\"\n",
        "    for item in phrase_word_list:\n",
        "        if item in places_latlong_map1:\n",
        "            out_phrase += places_latlong_map1[item]\n",
        "        else:\n",
        "            out_phrase += item\n",
        "        out_phrase +=\" \"\n",
        "        poi +=1\n",
        "    print(\"Total POIs found:\", poi)\n",
        "    print(\"Updated String:\", out_phrase)\n",
        "    return out_phrase"
      ],
      "execution_count": 5,
      "outputs": []
    },
    {
      "cell_type": "code",
      "metadata": {
        "id": "jlIQ-A21ddx0",
        "colab_type": "code",
        "colab": {}
      },
      "source": [
        "def replace_poi_with_latlong2(phrase):\n",
        "    poi = 0\n",
        "    phrase_word_list = phrase.split()\n",
        "    out_phrase = \"\"\n",
        "    for item in phrase_word_list:\n",
        "        out_phrase += (places_latlong_map1.get(item,item) + \" \")\n",
        "        poi +=1\n",
        "    print(\"Total POIs found:\", poi)\n",
        "    print(\"Updated String:\", out_phrase)\n",
        "    return out_phrase"
      ],
      "execution_count": 7,
      "outputs": []
    },
    {
      "cell_type": "code",
      "metadata": {
        "id": "ii7AJZYI3LyU",
        "colab_type": "code",
        "colab": {
          "base_uri": "https://localhost:8080/",
          "height": 90
        },
        "outputId": "80c0315e-9d8b-472f-cd43-823e533b60e0"
      },
      "source": [
        "phrase = input(\"Enter a phrase: \")\n",
        "updated_phrase = replace_poi_with_latlong2(phrase)\n",
        "print(updated_phrase)"
      ],
      "execution_count": 8,
      "outputs": [
        {
          "output_type": "stream",
          "text": [
            "Enter a phrase: Mumbai is the financial Capital of India\n",
            "Total POIs found: 7\n",
            "Updated String: 19.07680.2707 is the financial Capital of India \n",
            "19.07680.2707 is the financial Capital of India \n"
          ],
          "name": "stdout"
        }
      ]
    },
    {
      "cell_type": "code",
      "metadata": {
        "id": "Tl_cIFIS3Wku",
        "colab_type": "code",
        "colab": {}
      },
      "source": [
        "phrase = \"Mumbai is the financial Capital of India\""
      ],
      "execution_count": null,
      "outputs": []
    },
    {
      "cell_type": "code",
      "metadata": {
        "id": "jpq-Tq9F38SR",
        "colab_type": "code",
        "colab": {
          "base_uri": "https://localhost:8080/",
          "height": 35
        },
        "outputId": "a3633105-81ed-40f8-e560-65a620fa5b74"
      },
      "source": [
        "print(len(phrase))"
      ],
      "execution_count": null,
      "outputs": [
        {
          "output_type": "stream",
          "text": [
            "40\n"
          ],
          "name": "stdout"
        }
      ]
    },
    {
      "cell_type": "code",
      "metadata": {
        "id": "vI8P-etL3-k6",
        "colab_type": "code",
        "colab": {
          "base_uri": "https://localhost:8080/",
          "height": 35
        },
        "outputId": "0f22b469-38c0-46e2-d14e-ae06c95ffc1d"
      },
      "source": [
        "type(places_latlong_map)"
      ],
      "execution_count": null,
      "outputs": [
        {
          "output_type": "execute_result",
          "data": {
            "text/plain": [
              "dict"
            ]
          },
          "metadata": {
            "tags": []
          },
          "execution_count": 16
        }
      ]
    },
    {
      "cell_type": "code",
      "metadata": {
        "id": "WGuvKwK45vv5",
        "colab_type": "code",
        "colab": {}
      },
      "source": [
        ""
      ],
      "execution_count": null,
      "outputs": []
    }
  ]
}