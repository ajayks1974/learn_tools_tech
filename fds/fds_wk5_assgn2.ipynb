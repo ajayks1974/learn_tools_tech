{
  "nbformat": 4,
  "nbformat_minor": 0,
  "metadata": {
    "colab": {
      "name": "fds_wk5_assgn2.ipynb",
      "provenance": [],
      "authorship_tag": "ABX9TyO9Fsooe1d7zCgteeXQVWKa",
      "include_colab_link": true
    },
    "kernelspec": {
      "name": "python3",
      "display_name": "Python 3"
    }
  },
  "cells": [
    {
      "cell_type": "markdown",
      "metadata": {
        "id": "view-in-github",
        "colab_type": "text"
      },
      "source": [
        "<a href=\"https://colab.research.google.com/github/ajayks1974/learning/blob/master/fds/fds_wk5_assgn2.ipynb\" target=\"_parent\"><img src=\"https://colab.research.google.com/assets/colab-badge.svg\" alt=\"Open In Colab\"/></a>"
      ]
    },
    {
      "cell_type": "code",
      "metadata": {
        "id": "L50P-oMhFjCJ",
        "colab_type": "code",
        "colab": {}
      },
      "source": [
        "lat_long_rec1 = {\n",
        "    \"name\": \"Delhi\",\n",
        "    \"lat\": 28.644800,\n",
        "    \"long\": 77.216721\n",
        "}"
      ],
      "execution_count": 3,
      "outputs": []
    },
    {
      "cell_type": "code",
      "metadata": {
        "id": "1JICHzbmHSNU",
        "colab_type": "code",
        "colab": {}
      },
      "source": [
        "places_record = []"
      ],
      "execution_count": 4,
      "outputs": []
    },
    {
      "cell_type": "code",
      "metadata": {
        "id": "L51OLR22Hnjw",
        "colab_type": "code",
        "colab": {}
      },
      "source": [
        "places_record.append(lat_long_rec1)"
      ],
      "execution_count": 5,
      "outputs": []
    },
    {
      "cell_type": "code",
      "metadata": {
        "id": "M4K1zgPfHu5g",
        "colab_type": "code",
        "colab": {
          "base_uri": "https://localhost:8080/",
          "height": 34
        },
        "outputId": "b29ac837-afe6-48d6-b294-2694d6dfc8fa"
      },
      "source": [
        "places_record[0][\"name\"]"
      ],
      "execution_count": 6,
      "outputs": [
        {
          "output_type": "execute_result",
          "data": {
            "text/plain": [
              "'Delhi'"
            ]
          },
          "metadata": {
            "tags": []
          },
          "execution_count": 6
        }
      ]
    },
    {
      "cell_type": "code",
      "metadata": {
        "id": "PUW1UDPAH2CB",
        "colab_type": "code",
        "colab": {}
      },
      "source": [
        "def get_places_record(record):\n",
        "    flag_to_continue = True\n",
        "    while flag_to_continue == True:\n",
        "        place_rec = {}\n",
        "        print(\"Please Enter place to record\")\n",
        "        name = input(\"Enter Name of Location\")\n",
        "        place_rec[\"name\"]=name\n",
        "        lat = float(input(\"Enter Latitude of Location\"))\n",
        "        place_rec[\"lat\"]=lat\n",
        "        lon = float(input(\"Enter Longitude of Location\"))\n",
        "        place_rec[\"long\"]=long\n",
        "\n",
        "        confirm = input(\"Do you want to Continue (y/n):\")\n",
        "        \n",
        "        flag_to_continue\n"
      ],
      "execution_count": null,
      "outputs": []
    }
  ]
}