{
  "nbformat": 4,
  "nbformat_minor": 0,
  "metadata": {
    "colab": {
      "name": "fds_wk5_assgn2.ipynb",
      "provenance": [],
      "authorship_tag": "ABX9TyMcxSr6qQAqnA20DObOm0Et",
      "include_colab_link": true
    },
    "kernelspec": {
      "name": "python3",
      "display_name": "Python 3"
    }
  },
  "cells": [
    {
      "cell_type": "markdown",
      "metadata": {
        "id": "view-in-github",
        "colab_type": "text"
      },
      "source": [
        "<a href=\"https://colab.research.google.com/github/ajayks1974/learning/blob/master/fds/fds_wk5_assgn2.ipynb\" target=\"_parent\"><img src=\"https://colab.research.google.com/assets/colab-badge.svg\" alt=\"Open In Colab\"/></a>"
      ]
    },
    {
      "cell_type": "code",
      "metadata": {
        "id": "L50P-oMhFjCJ",
        "colab_type": "code",
        "colab": {}
      },
      "source": [
        "lat_long_rec1 = {\n",
        "    \"name\": \"Delhi\",\n",
        "    \"lat\": 28.644800,\n",
        "    \"long\": 77.216721\n",
        "}"
      ],
      "execution_count": 3,
      "outputs": []
    },
    {
      "cell_type": "code",
      "metadata": {
        "id": "1JICHzbmHSNU",
        "colab_type": "code",
        "colab": {}
      },
      "source": [
        "places_record = []"
      ],
      "execution_count": 4,
      "outputs": []
    },
    {
      "cell_type": "code",
      "metadata": {
        "id": "L51OLR22Hnjw",
        "colab_type": "code",
        "colab": {}
      },
      "source": [
        "places_record.append(lat_long_rec1)"
      ],
      "execution_count": 5,
      "outputs": []
    },
    {
      "cell_type": "code",
      "metadata": {
        "id": "M4K1zgPfHu5g",
        "colab_type": "code",
        "colab": {
          "base_uri": "https://localhost:8080/",
          "height": 34
        },
        "outputId": "b29ac837-afe6-48d6-b294-2694d6dfc8fa"
      },
      "source": [
        "places_record[0][\"name\"]"
      ],
      "execution_count": 6,
      "outputs": [
        {
          "output_type": "execute_result",
          "data": {
            "text/plain": [
              "'Delhi'"
            ]
          },
          "metadata": {
            "tags": []
          },
          "execution_count": 6
        }
      ]
    },
    {
      "cell_type": "code",
      "metadata": {
        "id": "PUW1UDPAH2CB",
        "colab_type": "code",
        "colab": {}
      },
      "source": [
        "def get_places_record(record):\n",
        "    flag_to_continue = True\n",
        "    while flag_to_continue == True:\n",
        "        place_rec = {}\n",
        "        print(\"Please Enter place data to record--->\")\n",
        "        \n",
        "        name = input(\"Enter Name of Location\")\n",
        "        try:\n",
        "            lat = float(input(\"Enter Latitude of Location\"))\n",
        "        except ValueError:\n",
        "            print(\"Invalid Value: Exiting..\")\n",
        "            return\n",
        "        try:\n",
        "            long = float(input(\"Enter Longitude of Location\"))\n",
        "        except ValueError:\n",
        "            print(\"Invalid Value: Exiting..\")\n",
        "            return\n",
        "        \n",
        "        place_rec[\"name\"]=name\n",
        "        place_rec[\"long\"]=long\n",
        "        place_rec[\"lat\"]=lat\n",
        "        record.append(place_rec)\n",
        "        print(\"Added Record for: \", name)\n",
        "\n",
        "        confirm = input(\"Do you want to Continue (y/n):\")\n",
        "        print(confirm)\n",
        "        if confirm[0] == \"n\":\n",
        "           flag_to_continue = False"
      ],
      "execution_count": 15,
      "outputs": []
    },
    {
      "cell_type": "code",
      "metadata": {
        "id": "YX7ncAi8r_wl",
        "colab_type": "code",
        "colab": {}
      },
      "source": [
        "record = []"
      ],
      "execution_count": 8,
      "outputs": []
    },
    {
      "cell_type": "code",
      "metadata": {
        "id": "IOk2cV1PsDvf",
        "colab_type": "code",
        "colab": {
          "base_uri": "https://localhost:8080/",
          "height": 119
        },
        "outputId": "606db750-399d-4eea-912c-6903bd4cb8a6"
      },
      "source": [
        "get_places_record(record)"
      ],
      "execution_count": 9,
      "outputs": [
        {
          "output_type": "stream",
          "text": [
            "Please Enter place data to record--->\n",
            "Enter Name of LocationAgra\n",
            "Enter Latitude of Location27.1767\n",
            "Enter Longitude of Location78.0081\n",
            "Added Record for:  Agra\n",
            "Do you want to Continue (y/n):Y\n"
          ],
          "name": "stdout"
        }
      ]
    },
    {
      "cell_type": "code",
      "metadata": {
        "id": "mN6VIYjksGop",
        "colab_type": "code",
        "colab": {
          "base_uri": "https://localhost:8080/",
          "height": 255
        },
        "outputId": "1673bbca-771c-45ad-81dd-1f171ceb4b79"
      },
      "source": [
        "get_places_record(record)"
      ],
      "execution_count": 19,
      "outputs": [
        {
          "output_type": "stream",
          "text": [
            "Please Enter place data to record--->\n",
            "Enter Name of LocationCalcutta\n",
            "Enter Latitude of Location22.5726\n",
            "Enter Longitude of Location88.3639\n",
            "Added Record for:  Calcutta\n",
            "Do you want to Continue (y/n):y\n",
            "y\n",
            "Please Enter place data to record--->\n",
            "Enter Name of LocationGuwahati\n",
            "Enter Latitude of Location26.1445\n",
            "Enter Longitude of Location91.7362\n",
            "Added Record for:  Guwahati\n",
            "Do you want to Continue (y/n):n\n",
            "n\n"
          ],
          "name": "stdout"
        }
      ]
    },
    {
      "cell_type": "code",
      "metadata": {
        "id": "oxRD07CXsXkV",
        "colab_type": "code",
        "colab": {
          "base_uri": "https://localhost:8080/",
          "height": 119
        },
        "outputId": "148fa2df-be49-4d16-a143-de693b493865"
      },
      "source": [
        "record"
      ],
      "execution_count": 20,
      "outputs": [
        {
          "output_type": "execute_result",
          "data": {
            "text/plain": [
              "[{'lat': 27.1767, 'long': 78.0081, 'name': 'Agra'},\n",
              " {'lat': 13.0827, 'long': 80.2707, 'name': 'Chennai'},\n",
              " {'lat': 19.076, 'long': 72.8777, 'name': 'Mumbai'},\n",
              " {'lat': 12.9716, 'long': 77.5946, 'name': 'Banglore'},\n",
              " {'lat': 22.5726, 'long': 88.3639, 'name': 'Calcutta'},\n",
              " {'lat': 26.1445, 'long': 91.7362, 'name': 'Guwahati'}]"
            ]
          },
          "metadata": {
            "tags": []
          },
          "execution_count": 20
        }
      ]
    },
    {
      "cell_type": "code",
      "metadata": {
        "id": "dAsTWR5ws0K9",
        "colab_type": "code",
        "colab": {}
      },
      "source": [
        "record_pre_created = [{'lat': 27.1767, 'long': 78.0081, 'name': 'Agra'},\n",
        " {'lat': 13.0827, 'long': 80.2707, 'name': 'Chennai'},\n",
        " {'lat': 19.076, 'long': 72.8777, 'name': 'Mumbai'},\n",
        " {'lat': 12.9716, 'long': 77.5946, 'name': 'Banglore'},\n",
        " {'lat': 22.5726, 'long': 88.3639, 'name': 'Calcutta'},\n",
        " {'lat': 26.1445, 'long': 91.7362, 'name': 'Guwahati'}]"
      ],
      "execution_count": 21,
      "outputs": []
    },
    {
      "cell_type": "code",
      "metadata": {
        "id": "VkNXadfmu8rf",
        "colab_type": "code",
        "colab": {}
      },
      "source": [
        "def build_places_latlong_map(place)"
      ],
      "execution_count": null,
      "outputs": []
    }
  ]
}