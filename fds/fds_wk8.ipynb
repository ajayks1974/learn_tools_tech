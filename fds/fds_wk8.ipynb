{
  "nbformat": 4,
  "nbformat_minor": 0,
  "metadata": {
    "colab": {
      "name": "fds_wk8.ipynb",
      "provenance": [],
      "toc_visible": true,
      "authorship_tag": "ABX9TyMSSpyn4RoAP8vHOZRzi+tW",
      "include_colab_link": true
    },
    "kernelspec": {
      "name": "python3",
      "display_name": "Python 3"
    }
  },
  "cells": [
    {
      "cell_type": "markdown",
      "metadata": {
        "id": "view-in-github",
        "colab_type": "text"
      },
      "source": [
        "<a href=\"https://colab.research.google.com/github/ajayks1974/learning/blob/master/fds/fds_wk8.ipynb\" target=\"_parent\"><img src=\"https://colab.research.google.com/assets/colab-badge.svg\" alt=\"Open In Colab\"/></a>"
      ]
    },
    {
      "cell_type": "markdown",
      "metadata": {
        "id": "Dy2gNoJtt7JZ",
        "colab_type": "text"
      },
      "source": [
        "#Comparing performance Numpy with lists etc"
      ]
    },
    {
      "cell_type": "markdown",
      "metadata": {
        "id": "DaKbTjjz7KCy",
        "colab_type": "text"
      },
      "source": [
        "# New Section"
      ]
    },
    {
      "cell_type": "code",
      "metadata": {
        "id": "I1maOKoTwPWm",
        "colab_type": "code",
        "colab": {}
      },
      "source": [
        "import numpy as np"
      ],
      "execution_count": 82,
      "outputs": []
    },
    {
      "cell_type": "markdown",
      "metadata": {
        "id": "a0p_E-XY7NN3",
        "colab_type": "text"
      },
      "source": [
        "# New Section"
      ]
    },
    {
      "cell_type": "code",
      "metadata": {
        "id": "4m_kWOqnuDDx",
        "colab_type": "code",
        "colab": {}
      },
      "source": [
        "N = 100000000"
      ],
      "execution_count": null,
      "outputs": []
    },
    {
      "cell_type": "code",
      "metadata": {
        "id": "hDkl4k1FuM8S",
        "colab_type": "code",
        "colab": {
          "base_uri": "https://localhost:8080/",
          "height": 54
        },
        "outputId": "b36763cb-3daf-47bc-d4f5-1e7d8ae20de0"
      },
      "source": [
        "%%time\n",
        "list_ = list(range(N))\n",
        "for i in range(N):\n",
        "    list_[i] = list_[i] * list_[i]"
      ],
      "execution_count": null,
      "outputs": [
        {
          "output_type": "stream",
          "text": [
            "CPU times: user 18.8 s, sys: 3.43 s, total: 22.2 s\n",
            "Wall time: 22.2 s\n"
          ],
          "name": "stdout"
        }
      ]
    },
    {
      "cell_type": "code",
      "metadata": {
        "id": "bwonali-uUOd",
        "colab_type": "code",
        "colab": {}
      },
      "source": [
        "%%time\n",
        "list_ = list(range(N))\n",
        "list__ = [item * item for item in list_]"
      ],
      "execution_count": null,
      "outputs": []
    },
    {
      "cell_type": "code",
      "metadata": {
        "id": "aXXAtruFvMTp",
        "colab_type": "code",
        "colab": {}
      },
      "source": [
        "%%time\n",
        "list_ = list(range(N))\n",
        "list__ = map(lambda x: x * x, list_)"
      ],
      "execution_count": null,
      "outputs": []
    },
    {
      "cell_type": "code",
      "metadata": {
        "id": "_oOyvZIMvrP8",
        "colab_type": "code",
        "colab": {}
      },
      "source": [
        "%%time\n",
        "list_ = list(range(N))\n",
        "list_sum = 0\n",
        "for item in list_:\n",
        "    list_sum += item"
      ],
      "execution_count": null,
      "outputs": []
    },
    {
      "cell_type": "code",
      "metadata": {
        "id": "HIQVXqrgwEpj",
        "colab_type": "code",
        "colab": {}
      },
      "source": [
        "%%time\n",
        "list_ = list(range(N))\n",
        "list_sum = sum(list_)"
      ],
      "execution_count": null,
      "outputs": []
    },
    {
      "cell_type": "code",
      "metadata": {
        "id": "5xIemUixwlEn",
        "colab_type": "code",
        "colab": {}
      },
      "source": [
        "%%time\n",
        "arr = np.arange(N)\n",
        "arr = arr * arr"
      ],
      "execution_count": null,
      "outputs": []
    },
    {
      "cell_type": "code",
      "metadata": {
        "id": "E9K7pMVuwqH2",
        "colab_type": "code",
        "colab": {}
      },
      "source": [
        "%%time\n",
        "arr = np.arange(N)\n",
        "arr_sum = np.sum(arr)"
      ],
      "execution_count": null,
      "outputs": []
    },
    {
      "cell_type": "markdown",
      "metadata": {
        "id": "FgSMaUSbti5n",
        "colab_type": "text"
      },
      "source": [
        "#Creating np arrays"
      ]
    },
    {
      "cell_type": "code",
      "metadata": {
        "id": "m37OSUa7xCRx",
        "colab_type": "code",
        "colab": {}
      },
      "source": [
        "arr = np.arange(5)"
      ],
      "execution_count": null,
      "outputs": []
    },
    {
      "cell_type": "code",
      "metadata": {
        "id": "NTuER733tne8",
        "colab_type": "code",
        "colab": {}
      },
      "source": [
        "print(arr,type(arr))"
      ],
      "execution_count": null,
      "outputs": []
    },
    {
      "cell_type": "code",
      "metadata": {
        "id": "ehb_1B4ftqSR",
        "colab_type": "code",
        "colab": {}
      },
      "source": [
        "arr = np.array([0,1,2,3,4])"
      ],
      "execution_count": null,
      "outputs": []
    },
    {
      "cell_type": "code",
      "metadata": {
        "id": "RzD06aYutvq3",
        "colab_type": "code",
        "colab": {}
      },
      "source": [
        "print(arr,type(arr))"
      ],
      "execution_count": null,
      "outputs": []
    },
    {
      "cell_type": "code",
      "metadata": {
        "id": "kot1MoCltyCz",
        "colab_type": "code",
        "colab": {}
      },
      "source": [
        "arr"
      ],
      "execution_count": null,
      "outputs": []
    },
    {
      "cell_type": "code",
      "metadata": {
        "id": "p6n0gOZVt1eB",
        "colab_type": "code",
        "colab": {}
      },
      "source": [
        "arr.dtype"
      ],
      "execution_count": null,
      "outputs": []
    },
    {
      "cell_type": "code",
      "metadata": {
        "id": "yL6YasQmt5_d",
        "colab_type": "code",
        "colab": {}
      },
      "source": [
        "arr.ndim"
      ],
      "execution_count": null,
      "outputs": []
    },
    {
      "cell_type": "code",
      "metadata": {
        "id": "lAJDdHqit_V5",
        "colab_type": "code",
        "colab": {}
      },
      "source": [
        "arr.shape"
      ],
      "execution_count": null,
      "outputs": []
    },
    {
      "cell_type": "code",
      "metadata": {
        "id": "8fbJL5AMuA4b",
        "colab_type": "code",
        "colab": {}
      },
      "source": [
        "type(arr.shape)"
      ],
      "execution_count": null,
      "outputs": []
    },
    {
      "cell_type": "code",
      "metadata": {
        "id": "AvB92OcOuD0R",
        "colab_type": "code",
        "colab": {}
      },
      "source": [
        "arr.size"
      ],
      "execution_count": null,
      "outputs": []
    },
    {
      "cell_type": "code",
      "metadata": {
        "id": "lFEDQjZfuF9b",
        "colab_type": "code",
        "colab": {}
      },
      "source": [
        "arr.itemsize"
      ],
      "execution_count": null,
      "outputs": []
    },
    {
      "cell_type": "code",
      "metadata": {
        "id": "3XsdCplcuI0w",
        "colab_type": "code",
        "colab": {}
      },
      "source": [
        "arr = np.array([0.0,1,2,3,4])"
      ],
      "execution_count": null,
      "outputs": []
    },
    {
      "cell_type": "code",
      "metadata": {
        "id": "1zbqXvY8uOlq",
        "colab_type": "code",
        "colab": {}
      },
      "source": [
        "arr"
      ],
      "execution_count": null,
      "outputs": []
    },
    {
      "cell_type": "code",
      "metadata": {
        "id": "KPK4gVqluPmY",
        "colab_type": "code",
        "colab": {}
      },
      "source": [
        "arr.dtype"
      ],
      "execution_count": null,
      "outputs": []
    },
    {
      "cell_type": "code",
      "metadata": {
        "id": "xxNuref1uQxS",
        "colab_type": "code",
        "colab": {}
      },
      "source": [
        "arr2d = np.array([\n",
        "                  [1,2,3],\n",
        "                  [4,5,6]\n",
        "])"
      ],
      "execution_count": null,
      "outputs": []
    },
    {
      "cell_type": "code",
      "metadata": {
        "id": "jPl80-5eucBZ",
        "colab_type": "code",
        "colab": {}
      },
      "source": [
        "arr2d"
      ],
      "execution_count": null,
      "outputs": []
    },
    {
      "cell_type": "code",
      "metadata": {
        "id": "7xCmmtz1ued2",
        "colab_type": "code",
        "colab": {}
      },
      "source": [
        "arr2d.shape"
      ],
      "execution_count": null,
      "outputs": []
    },
    {
      "cell_type": "code",
      "metadata": {
        "id": "LvVSkkT_uhmz",
        "colab_type": "code",
        "colab": {}
      },
      "source": [
        "arr2d.ndim"
      ],
      "execution_count": null,
      "outputs": []
    },
    {
      "cell_type": "code",
      "metadata": {
        "id": "pwd866bRumJK",
        "colab_type": "code",
        "colab": {}
      },
      "source": [
        "arr2d.dtype"
      ],
      "execution_count": null,
      "outputs": []
    },
    {
      "cell_type": "code",
      "metadata": {
        "id": "pN5RDYXiuoRf",
        "colab_type": "code",
        "colab": {}
      },
      "source": [
        "arr2d.size"
      ],
      "execution_count": null,
      "outputs": []
    },
    {
      "cell_type": "code",
      "metadata": {
        "id": "tcKPaygPurKf",
        "colab_type": "code",
        "colab": {}
      },
      "source": [
        "arr2d.itemsize"
      ],
      "execution_count": null,
      "outputs": []
    },
    {
      "cell_type": "code",
      "metadata": {
        "id": "PS5cMLxfutZQ",
        "colab_type": "code",
        "colab": {}
      },
      "source": [
        "arr3d = np.array([\n",
        "                  [\n",
        "                   [1,2,3],\n",
        "                   [4,5,6]\n",
        "                  ],\n",
        "                  [\n",
        "                   [7,8,9],\n",
        "                   [10,11,12]\n",
        "                  ]\n",
        "])"
      ],
      "execution_count": null,
      "outputs": []
    },
    {
      "cell_type": "code",
      "metadata": {
        "id": "0_tuVrspvKC4",
        "colab_type": "code",
        "colab": {}
      },
      "source": [
        "arr3d"
      ],
      "execution_count": null,
      "outputs": []
    },
    {
      "cell_type": "code",
      "metadata": {
        "id": "yo3lHLGjvL29",
        "colab_type": "code",
        "colab": {}
      },
      "source": [
        "arr3d.shape"
      ],
      "execution_count": null,
      "outputs": []
    },
    {
      "cell_type": "code",
      "metadata": {
        "id": "S-bN1dOjvNtV",
        "colab_type": "code",
        "colab": {}
      },
      "source": [
        "arr3d.ndim"
      ],
      "execution_count": null,
      "outputs": []
    },
    {
      "cell_type": "code",
      "metadata": {
        "id": "OBFF0P5QvQWe",
        "colab_type": "code",
        "colab": {}
      },
      "source": [
        "arr3d.size"
      ],
      "execution_count": null,
      "outputs": []
    },
    {
      "cell_type": "code",
      "metadata": {
        "id": "O41yXY5fvShS",
        "colab_type": "code",
        "colab": {}
      },
      "source": [
        "arr3d.itemsize"
      ],
      "execution_count": null,
      "outputs": []
    },
    {
      "cell_type": "code",
      "metadata": {
        "id": "GYgoALBFvVzr",
        "colab_type": "code",
        "colab": {}
      },
      "source": [
        "np.ones((2,3,4))"
      ],
      "execution_count": null,
      "outputs": []
    },
    {
      "cell_type": "code",
      "metadata": {
        "id": "sYguUDXuvrYM",
        "colab_type": "code",
        "colab": {}
      },
      "source": [
        "1729 * np.ones((2,3,4))"
      ],
      "execution_count": null,
      "outputs": []
    },
    {
      "cell_type": "code",
      "metadata": {
        "id": "psFpJNEev13x",
        "colab_type": "code",
        "colab": {}
      },
      "source": [
        "np.zeros((2,3,4))"
      ],
      "execution_count": null,
      "outputs": []
    },
    {
      "cell_type": "code",
      "metadata": {
        "id": "xERG6rDUv7b7",
        "colab_type": "code",
        "colab": {}
      },
      "source": [
        "np.random.randn(2,3)"
      ],
      "execution_count": null,
      "outputs": []
    },
    {
      "cell_type": "code",
      "metadata": {
        "id": "Peo2bsCOwJ4i",
        "colab_type": "code",
        "colab": {}
      },
      "source": [
        "np.random.rand(2,3)"
      ],
      "execution_count": null,
      "outputs": []
    },
    {
      "cell_type": "code",
      "metadata": {
        "id": "mvuvefarwclQ",
        "colab_type": "code",
        "colab": {}
      },
      "source": [
        "np.random.rand(10,1)"
      ],
      "execution_count": null,
      "outputs": []
    },
    {
      "cell_type": "code",
      "metadata": {
        "id": "7m5Y7Oj2wiJ1",
        "colab_type": "code",
        "colab": {}
      },
      "source": [
        "np.random.randint(0,100,(2,3))"
      ],
      "execution_count": null,
      "outputs": []
    },
    {
      "cell_type": "code",
      "metadata": {
        "id": "K3d2hIH3wpUf",
        "colab_type": "code",
        "colab": {}
      },
      "source": [
        "np.random.randint(0,100,(10,10))"
      ],
      "execution_count": null,
      "outputs": []
    },
    {
      "cell_type": "code",
      "metadata": {
        "id": "Qc8R7PGAwt1S",
        "colab_type": "code",
        "colab": {}
      },
      "source": [
        "100 * np.random.rand(10,10)"
      ],
      "execution_count": null,
      "outputs": []
    },
    {
      "cell_type": "code",
      "metadata": {
        "id": "JBx22walw7L4",
        "colab_type": "code",
        "colab": {}
      },
      "source": [
        "np.arange(7,70,7)"
      ],
      "execution_count": null,
      "outputs": []
    },
    {
      "cell_type": "code",
      "metadata": {
        "id": "vORoggApxCvs",
        "colab_type": "code",
        "colab": {}
      },
      "source": [
        "np.linspace(7,70,10)"
      ],
      "execution_count": null,
      "outputs": []
    },
    {
      "cell_type": "code",
      "metadata": {
        "id": "WityTBd-xL3N",
        "colab_type": "code",
        "colab": {}
      },
      "source": [
        "bool_arr = np.array([True, False,True, False])"
      ],
      "execution_count": null,
      "outputs": []
    },
    {
      "cell_type": "code",
      "metadata": {
        "id": "PwiY8CA6xTMg",
        "colab_type": "code",
        "colab": {}
      },
      "source": [
        "str_array = np.array(['1.4', '2.1','1.1'])"
      ],
      "execution_count": null,
      "outputs": []
    },
    {
      "cell_type": "code",
      "metadata": {
        "id": "aACqHXcXxise",
        "colab_type": "code",
        "colab": {}
      },
      "source": [
        "bool_arr.itemsize"
      ],
      "execution_count": null,
      "outputs": []
    },
    {
      "cell_type": "code",
      "metadata": {
        "id": "qPGtrbdHxx7M",
        "colab_type": "code",
        "colab": {}
      },
      "source": [
        "bool_arr.dtype"
      ],
      "execution_count": null,
      "outputs": []
    },
    {
      "cell_type": "code",
      "metadata": {
        "id": "eBLjVYeJx4ys",
        "colab_type": "code",
        "colab": {}
      },
      "source": [
        "str_array.dtype"
      ],
      "execution_count": null,
      "outputs": []
    },
    {
      "cell_type": "code",
      "metadata": {
        "id": "fvGOG8lNx9hS",
        "colab_type": "code",
        "colab": {}
      },
      "source": [
        "str_array.itemsize"
      ],
      "execution_count": null,
      "outputs": []
    },
    {
      "cell_type": "code",
      "metadata": {
        "id": "72F4w5LjyBuJ",
        "colab_type": "code",
        "colab": {}
      },
      "source": [
        "str_array.size"
      ],
      "execution_count": null,
      "outputs": []
    },
    {
      "cell_type": "code",
      "metadata": {
        "id": "_KaKE7eNyD4v",
        "colab_type": "code",
        "colab": {}
      },
      "source": [
        "arr = np.array(str_array,dtype='float')"
      ],
      "execution_count": null,
      "outputs": []
    },
    {
      "cell_type": "code",
      "metadata": {
        "id": "ws2GNGGCyY3F",
        "colab_type": "code",
        "colab": {}
      },
      "source": [
        "arr"
      ],
      "execution_count": null,
      "outputs": []
    },
    {
      "cell_type": "code",
      "metadata": {
        "id": "MkdQzI4LyZml",
        "colab_type": "code",
        "colab": {}
      },
      "source": [
        "arr.dtype"
      ],
      "execution_count": null,
      "outputs": []
    },
    {
      "cell_type": "code",
      "metadata": {
        "id": "SrUayoGSybfh",
        "colab_type": "code",
        "colab": {}
      },
      "source": [
        "arr.itemsize"
      ],
      "execution_count": null,
      "outputs": []
    },
    {
      "cell_type": "code",
      "metadata": {
        "id": "b9dSO4sjydnY",
        "colab_type": "code",
        "colab": {}
      },
      "source": [
        "arr.size"
      ],
      "execution_count": null,
      "outputs": []
    },
    {
      "cell_type": "markdown",
      "metadata": {
        "id": "22FDvKuKfcVX",
        "colab_type": "text"
      },
      "source": [
        "#Indexing"
      ]
    },
    {
      "cell_type": "code",
      "metadata": {
        "id": "0lZ5xbXrfdlk",
        "colab_type": "code",
        "colab": {
          "base_uri": "https://localhost:8080/",
          "height": 35
        },
        "outputId": "84a1c30e-6af2-49d1-c082-cb827c054ec7"
      },
      "source": [
        "arr3d[0,0,0]"
      ],
      "execution_count": null,
      "outputs": [
        {
          "output_type": "execute_result",
          "data": {
            "text/plain": [
              "1"
            ]
          },
          "metadata": {
            "tags": []
          },
          "execution_count": 7
        }
      ]
    },
    {
      "cell_type": "code",
      "metadata": {
        "id": "-vBHpdmDfnZ4",
        "colab_type": "code",
        "colab": {
          "base_uri": "https://localhost:8080/",
          "height": 35
        },
        "outputId": "1529f2a3-5cba-4efa-b892-0ad0bcbb0b5d"
      },
      "source": [
        "arr3d[1,0,2]"
      ],
      "execution_count": null,
      "outputs": [
        {
          "output_type": "execute_result",
          "data": {
            "text/plain": [
              "9"
            ]
          },
          "metadata": {
            "tags": []
          },
          "execution_count": 8
        }
      ]
    },
    {
      "cell_type": "code",
      "metadata": {
        "id": "PAZhECyLfqzS",
        "colab_type": "code",
        "colab": {
          "base_uri": "https://localhost:8080/",
          "height": 35
        },
        "outputId": "af8bff03-21ba-4082-94c2-52ddb95096c6"
      },
      "source": [
        "i = 1\n",
        "j = 0\n",
        "k = 2\n",
        "arr3d[i,j,k]"
      ],
      "execution_count": null,
      "outputs": [
        {
          "output_type": "execute_result",
          "data": {
            "text/plain": [
              "9"
            ]
          },
          "metadata": {
            "tags": []
          },
          "execution_count": 9
        }
      ]
    },
    {
      "cell_type": "code",
      "metadata": {
        "id": "-ko25NMWfy9Z",
        "colab_type": "code",
        "colab": {}
      },
      "source": [
        "arr_split = arr3d[0,:,:]"
      ],
      "execution_count": null,
      "outputs": []
    },
    {
      "cell_type": "code",
      "metadata": {
        "id": "97sKpDJtf7CR",
        "colab_type": "code",
        "colab": {
          "base_uri": "https://localhost:8080/",
          "height": 35
        },
        "outputId": "2f80a692-2424-4067-a49e-a986293d2866"
      },
      "source": [
        "arr_split.shape"
      ],
      "execution_count": null,
      "outputs": [
        {
          "output_type": "execute_result",
          "data": {
            "text/plain": [
              "(2, 3)"
            ]
          },
          "metadata": {
            "tags": []
          },
          "execution_count": 13
        }
      ]
    },
    {
      "cell_type": "code",
      "metadata": {
        "id": "e3CcaWYIgFrw",
        "colab_type": "code",
        "colab": {
          "base_uri": "https://localhost:8080/",
          "height": 54
        },
        "outputId": "de2c661d-065a-4137-c103-d30e8989a0ac"
      },
      "source": [
        "arr_split"
      ],
      "execution_count": null,
      "outputs": [
        {
          "output_type": "execute_result",
          "data": {
            "text/plain": [
              "array([[1, 2, 3],\n",
              "       [4, 5, 6]])"
            ]
          },
          "metadata": {
            "tags": []
          },
          "execution_count": 14
        }
      ]
    },
    {
      "cell_type": "code",
      "metadata": {
        "id": "BMuVwumCgMSK",
        "colab_type": "code",
        "colab": {}
      },
      "source": [
        "arr_split = arr3d[:,1,:]"
      ],
      "execution_count": null,
      "outputs": []
    },
    {
      "cell_type": "code",
      "metadata": {
        "id": "Dwe0VKNsgjbR",
        "colab_type": "code",
        "colab": {
          "base_uri": "https://localhost:8080/",
          "height": 54
        },
        "outputId": "307583e8-2393-483f-910c-5e484b07e520"
      },
      "source": [
        "arr_split"
      ],
      "execution_count": null,
      "outputs": [
        {
          "output_type": "execute_result",
          "data": {
            "text/plain": [
              "array([[ 4,  5,  6],\n",
              "       [10, 11, 12]])"
            ]
          },
          "metadata": {
            "tags": []
          },
          "execution_count": 16
        }
      ]
    },
    {
      "cell_type": "code",
      "metadata": {
        "id": "IX8oT2qAgstB",
        "colab_type": "code",
        "colab": {
          "base_uri": "https://localhost:8080/",
          "height": 35
        },
        "outputId": "8b074eab-a460-4719-90d5-2976529e5664"
      },
      "source": [
        "arr_split.ndim"
      ],
      "execution_count": null,
      "outputs": [
        {
          "output_type": "execute_result",
          "data": {
            "text/plain": [
              "2"
            ]
          },
          "metadata": {
            "tags": []
          },
          "execution_count": 17
        }
      ]
    },
    {
      "cell_type": "code",
      "metadata": {
        "id": "-rmyG-rEhKni",
        "colab_type": "code",
        "colab": {
          "base_uri": "https://localhost:8080/",
          "height": 35
        },
        "outputId": "f1f70381-eb0e-4513-80ee-7c7c2988928d"
      },
      "source": [
        "arr_split.shape"
      ],
      "execution_count": null,
      "outputs": [
        {
          "output_type": "execute_result",
          "data": {
            "text/plain": [
              "(2, 2, 2)"
            ]
          },
          "metadata": {
            "tags": []
          },
          "execution_count": 21
        }
      ]
    },
    {
      "cell_type": "code",
      "metadata": {
        "id": "wElbBcWLg8eY",
        "colab_type": "code",
        "colab": {}
      },
      "source": [
        "arr_split = arr3d[:,:,0:2]"
      ],
      "execution_count": null,
      "outputs": []
    },
    {
      "cell_type": "code",
      "metadata": {
        "id": "YyQb-pHThAzy",
        "colab_type": "code",
        "colab": {
          "base_uri": "https://localhost:8080/",
          "height": 35
        },
        "outputId": "b2d6ced3-22ec-4b4f-c32a-7b06dab51bc4"
      },
      "source": [
        "arr_split"
      ],
      "execution_count": null,
      "outputs": [
        {
          "output_type": "execute_result",
          "data": {
            "text/plain": [
              "3"
            ]
          },
          "metadata": {
            "tags": []
          },
          "execution_count": 19
        }
      ]
    },
    {
      "cell_type": "code",
      "metadata": {
        "id": "cPTGfjhohGdF",
        "colab_type": "code",
        "colab": {
          "base_uri": "https://localhost:8080/",
          "height": 35
        },
        "outputId": "a560db5a-044c-4c16-b3eb-5b8b5eb4d89f"
      },
      "source": [
        "arr_split.shape"
      ],
      "execution_count": null,
      "outputs": [
        {
          "output_type": "execute_result",
          "data": {
            "text/plain": [
              "(2, 2, 2)"
            ]
          },
          "metadata": {
            "tags": []
          },
          "execution_count": 22
        }
      ]
    },
    {
      "cell_type": "code",
      "metadata": {
        "id": "MjADjAbJhR_2",
        "colab_type": "code",
        "colab": {
          "base_uri": "https://localhost:8080/",
          "height": 35
        },
        "outputId": "d31b1d6f-0660-42ed-85fe-c095657d7d83"
      },
      "source": [
        "arr_split.ndim"
      ],
      "execution_count": null,
      "outputs": [
        {
          "output_type": "execute_result",
          "data": {
            "text/plain": [
              "3"
            ]
          },
          "metadata": {
            "tags": []
          },
          "execution_count": 23
        }
      ]
    },
    {
      "cell_type": "code",
      "metadata": {
        "id": "dSWN3wsLhSYx",
        "colab_type": "code",
        "colab": {
          "base_uri": "https://localhost:8080/",
          "height": 108
        },
        "outputId": "27d6ead2-5b96-4a95-fea5-a42923c71fae"
      },
      "source": [
        "arr3d % 2 == 0"
      ],
      "execution_count": null,
      "outputs": [
        {
          "output_type": "execute_result",
          "data": {
            "text/plain": [
              "array([[[False,  True, False],\n",
              "        [ True, False,  True]],\n",
              "\n",
              "       [[False,  True, False],\n",
              "        [ True, False,  True]]])"
            ]
          },
          "metadata": {
            "tags": []
          },
          "execution_count": 24
        }
      ]
    },
    {
      "cell_type": "code",
      "metadata": {
        "id": "01o_SFvThiJ4",
        "colab_type": "code",
        "colab": {
          "base_uri": "https://localhost:8080/",
          "height": 35
        },
        "outputId": "b5e5e7a7-9b87-419d-cff1-9c7e9c3ca6f5"
      },
      "source": [
        "arr3d[arr3d % 2 == 1]"
      ],
      "execution_count": null,
      "outputs": [
        {
          "output_type": "execute_result",
          "data": {
            "text/plain": [
              "array([ 1,  3,  5,  7,  9, 11])"
            ]
          },
          "metadata": {
            "tags": []
          },
          "execution_count": 25
        }
      ]
    },
    {
      "cell_type": "code",
      "metadata": {
        "id": "D4Cb2Xwgh3Wv",
        "colab_type": "code",
        "colab": {
          "base_uri": "https://localhost:8080/",
          "height": 35
        },
        "outputId": "1161e021-fc91-4c4b-e691-1df8e012996c"
      },
      "source": [
        "arr3d[(arr3d % 2 == 1) & (arr3d > 5)]"
      ],
      "execution_count": null,
      "outputs": [
        {
          "output_type": "execute_result",
          "data": {
            "text/plain": [
              "array([ 7,  9, 11])"
            ]
          },
          "metadata": {
            "tags": []
          },
          "execution_count": 27
        }
      ]
    },
    {
      "cell_type": "code",
      "metadata": {
        "id": "ozsj9QG2iEyG",
        "colab_type": "code",
        "colab": {}
      },
      "source": [
        "arr_slice = arr3d[:,:,0:2]"
      ],
      "execution_count": null,
      "outputs": []
    },
    {
      "cell_type": "code",
      "metadata": {
        "id": "cL76xiE9ilx6",
        "colab_type": "code",
        "colab": {}
      },
      "source": [
        "arr_slice[0,0,0] = 1729"
      ],
      "execution_count": null,
      "outputs": []
    },
    {
      "cell_type": "code",
      "metadata": {
        "id": "MqvN9mw5iqM7",
        "colab_type": "code",
        "colab": {
          "base_uri": "https://localhost:8080/",
          "height": 108
        },
        "outputId": "ddc63aae-a04f-4d92-d662-4df2968753a4"
      },
      "source": [
        "arr_slice"
      ],
      "execution_count": null,
      "outputs": [
        {
          "output_type": "execute_result",
          "data": {
            "text/plain": [
              "array([[[1729,    2],\n",
              "        [   4,    5]],\n",
              "\n",
              "       [[   7,    8],\n",
              "        [  10,   11]]])"
            ]
          },
          "metadata": {
            "tags": []
          },
          "execution_count": 31
        }
      ]
    },
    {
      "cell_type": "code",
      "metadata": {
        "id": "YWMxn3jMivQq",
        "colab_type": "code",
        "colab": {
          "base_uri": "https://localhost:8080/",
          "height": 108
        },
        "outputId": "b2f295f9-2728-4471-b850-9c762046cfa8"
      },
      "source": [
        "arr3d"
      ],
      "execution_count": null,
      "outputs": [
        {
          "output_type": "execute_result",
          "data": {
            "text/plain": [
              "array([[[1729,    2,    3],\n",
              "        [   4,    5,    6]],\n",
              "\n",
              "       [[   7,    8,    9],\n",
              "        [  10,   11,   12]]])"
            ]
          },
          "metadata": {
            "tags": []
          },
          "execution_count": 32
        }
      ]
    },
    {
      "cell_type": "code",
      "metadata": {
        "id": "1Mk6_wLFiyEi",
        "colab_type": "code",
        "colab": {}
      },
      "source": [
        "arr_slice_copy = np.copy(arr3d[:,:,0:2])"
      ],
      "execution_count": null,
      "outputs": []
    },
    {
      "cell_type": "code",
      "metadata": {
        "id": "mb83CYFdi7fm",
        "colab_type": "code",
        "colab": {}
      },
      "source": [
        "arr3d[0,0,0] = 1"
      ],
      "execution_count": null,
      "outputs": []
    },
    {
      "cell_type": "code",
      "metadata": {
        "id": "pKHkCPq-jAkL",
        "colab_type": "code",
        "colab": {}
      },
      "source": [
        "arr_slice_copy[0,0,0] = 1729"
      ],
      "execution_count": null,
      "outputs": []
    },
    {
      "cell_type": "code",
      "metadata": {
        "id": "VUdVKGCvjEcm",
        "colab_type": "code",
        "colab": {
          "base_uri": "https://localhost:8080/",
          "height": 108
        },
        "outputId": "3671a0a6-d5b7-4b1b-e091-65f6f64e9f8e"
      },
      "source": [
        "arr3d"
      ],
      "execution_count": null,
      "outputs": [
        {
          "output_type": "execute_result",
          "data": {
            "text/plain": [
              "array([[[ 1,  2,  3],\n",
              "        [ 4,  5,  6]],\n",
              "\n",
              "       [[ 7,  8,  9],\n",
              "        [10, 11, 12]]])"
            ]
          },
          "metadata": {
            "tags": []
          },
          "execution_count": 36
        }
      ]
    },
    {
      "cell_type": "code",
      "metadata": {
        "id": "FzQ1Tj84jF56",
        "colab_type": "code",
        "colab": {
          "base_uri": "https://localhost:8080/",
          "height": 108
        },
        "outputId": "e7316d12-d34d-4e57-c5ec-eecf32502ef6"
      },
      "source": [
        "arr_slice"
      ],
      "execution_count": null,
      "outputs": [
        {
          "output_type": "execute_result",
          "data": {
            "text/plain": [
              "array([[[ 1,  2],\n",
              "        [ 4,  5]],\n",
              "\n",
              "       [[ 7,  8],\n",
              "        [10, 11]]])"
            ]
          },
          "metadata": {
            "tags": []
          },
          "execution_count": 37
        }
      ]
    },
    {
      "cell_type": "code",
      "metadata": {
        "id": "10a29h2zjI77",
        "colab_type": "code",
        "colab": {}
      },
      "source": [
        "arr = np.random.randint(0, 10, (5))"
      ],
      "execution_count": null,
      "outputs": []
    },
    {
      "cell_type": "code",
      "metadata": {
        "id": "1sGYLPHJjb7b",
        "colab_type": "code",
        "colab": {
          "base_uri": "https://localhost:8080/",
          "height": 35
        },
        "outputId": "e6c662c9-45fb-4fec-f1d8-158b704862fb"
      },
      "source": [
        "arr"
      ],
      "execution_count": null,
      "outputs": [
        {
          "output_type": "execute_result",
          "data": {
            "text/plain": [
              "array([5, 7, 4, 9, 0])"
            ]
          },
          "metadata": {
            "tags": []
          },
          "execution_count": 39
        }
      ]
    },
    {
      "cell_type": "code",
      "metadata": {
        "id": "bogsfBlfjdRH",
        "colab_type": "code",
        "colab": {}
      },
      "source": [
        "arr1 = np.random.randint(0, 10, (5,1))"
      ],
      "execution_count": null,
      "outputs": []
    },
    {
      "cell_type": "code",
      "metadata": {
        "id": "_i6Mw7a1jh3J",
        "colab_type": "code",
        "colab": {
          "base_uri": "https://localhost:8080/",
          "height": 108
        },
        "outputId": "c261fd81-452f-4314-f8ae-93e7ea66eb96"
      },
      "source": [
        "arr1"
      ],
      "execution_count": null,
      "outputs": [
        {
          "output_type": "execute_result",
          "data": {
            "text/plain": [
              "array([[8],\n",
              "       [8],\n",
              "       [0],\n",
              "       [0],\n",
              "       [0]])"
            ]
          },
          "metadata": {
            "tags": []
          },
          "execution_count": 41
        }
      ]
    },
    {
      "cell_type": "code",
      "metadata": {
        "id": "1RbP2HFMjijD",
        "colab_type": "code",
        "colab": {}
      },
      "source": [
        "indices = [1,3,4]"
      ],
      "execution_count": null,
      "outputs": []
    },
    {
      "cell_type": "code",
      "metadata": {
        "id": "sycSj0uujz8R",
        "colab_type": "code",
        "colab": {
          "base_uri": "https://localhost:8080/",
          "height": 35
        },
        "outputId": "27cdfcb5-cd4c-4b58-c82a-88930ebfd6ad"
      },
      "source": [
        "arr[indices]"
      ],
      "execution_count": null,
      "outputs": [
        {
          "output_type": "execute_result",
          "data": {
            "text/plain": [
              "array([7, 9, 0])"
            ]
          },
          "metadata": {
            "tags": []
          },
          "execution_count": 43
        }
      ]
    },
    {
      "cell_type": "code",
      "metadata": {
        "id": "1kAPG2Chj2-Y",
        "colab_type": "code",
        "colab": {}
      },
      "source": [
        ""
      ],
      "execution_count": null,
      "outputs": []
    },
    {
      "cell_type": "markdown",
      "metadata": {
        "id": "tyHEfheJ8_dO",
        "colab_type": "text"
      },
      "source": [
        "#Numpy Operations"
      ]
    },
    {
      "cell_type": "code",
      "metadata": {
        "id": "18bFAvff9BiZ",
        "colab_type": "code",
        "colab": {}
      },
      "source": [
        "arr1 = np.zeros((3,4))"
      ],
      "execution_count": null,
      "outputs": []
    },
    {
      "cell_type": "code",
      "metadata": {
        "id": "o6SPw0ZY9O6c",
        "colab_type": "code",
        "colab": {}
      },
      "source": [
        "arr2 = np.ones((3,4))"
      ],
      "execution_count": null,
      "outputs": []
    },
    {
      "cell_type": "code",
      "metadata": {
        "id": "KJKGxyFF9SM0",
        "colab_type": "code",
        "colab": {
          "base_uri": "https://localhost:8080/",
          "height": 72
        },
        "outputId": "1261bb8f-3d8f-4fc0-d3f6-865e2ea6aac9"
      },
      "source": [
        "arr1 + arr2"
      ],
      "execution_count": null,
      "outputs": [
        {
          "output_type": "execute_result",
          "data": {
            "text/plain": [
              "array([[1., 1., 1., 1.],\n",
              "       [1., 1., 1., 1.],\n",
              "       [1., 1., 1., 1.]])"
            ]
          },
          "metadata": {
            "tags": []
          },
          "execution_count": 4
        }
      ]
    },
    {
      "cell_type": "code",
      "metadata": {
        "id": "adrEm7N29XjM",
        "colab_type": "code",
        "colab": {
          "base_uri": "https://localhost:8080/",
          "height": 72
        },
        "outputId": "03e70f4e-5ffe-4e2b-f562-630e5fa2ed63"
      },
      "source": [
        "arr1 - arr2"
      ],
      "execution_count": null,
      "outputs": [
        {
          "output_type": "execute_result",
          "data": {
            "text/plain": [
              "array([[-1., -1., -1., -1.],\n",
              "       [-1., -1., -1., -1.],\n",
              "       [-1., -1., -1., -1.]])"
            ]
          },
          "metadata": {
            "tags": []
          },
          "execution_count": 5
        }
      ]
    },
    {
      "cell_type": "code",
      "metadata": {
        "id": "WSHnmZmg9jjB",
        "colab_type": "code",
        "colab": {
          "base_uri": "https://localhost:8080/",
          "height": 72
        },
        "outputId": "169e69fe-4ac0-4702-d53f-596715d00b7c"
      },
      "source": [
        "arr2 - arr1"
      ],
      "execution_count": null,
      "outputs": [
        {
          "output_type": "execute_result",
          "data": {
            "text/plain": [
              "array([[1., 1., 1., 1.],\n",
              "       [1., 1., 1., 1.],\n",
              "       [1., 1., 1., 1.]])"
            ]
          },
          "metadata": {
            "tags": []
          },
          "execution_count": 6
        }
      ]
    },
    {
      "cell_type": "code",
      "metadata": {
        "id": "60CMuP999leo",
        "colab_type": "code",
        "colab": {
          "base_uri": "https://localhost:8080/",
          "height": 72
        },
        "outputId": "825872e8-381b-401e-ecbc-44ea243d52ef"
      },
      "source": [
        "arr1 * arr2"
      ],
      "execution_count": null,
      "outputs": [
        {
          "output_type": "execute_result",
          "data": {
            "text/plain": [
              "array([[0., 0., 0., 0.],\n",
              "       [0., 0., 0., 0.],\n",
              "       [0., 0., 0., 0.]])"
            ]
          },
          "metadata": {
            "tags": []
          },
          "execution_count": 7
        }
      ]
    },
    {
      "cell_type": "code",
      "metadata": {
        "id": "CBVjcA-n9sQn",
        "colab_type": "code",
        "colab": {
          "base_uri": "https://localhost:8080/",
          "height": 72
        },
        "outputId": "8429ae20-720f-407b-d731-564268e4ee83"
      },
      "source": [
        "arr1 / arr2"
      ],
      "execution_count": null,
      "outputs": [
        {
          "output_type": "execute_result",
          "data": {
            "text/plain": [
              "array([[0., 0., 0., 0.],\n",
              "       [0., 0., 0., 0.],\n",
              "       [0., 0., 0., 0.]])"
            ]
          },
          "metadata": {
            "tags": []
          },
          "execution_count": 8
        }
      ]
    },
    {
      "cell_type": "code",
      "metadata": {
        "id": "vhWUYGzG9uIZ",
        "colab_type": "code",
        "colab": {
          "base_uri": "https://localhost:8080/",
          "height": 108
        },
        "outputId": "40658b46-9ee4-4716-9b35-3a172a6dc6c9"
      },
      "source": [
        "arr2 / arr1"
      ],
      "execution_count": null,
      "outputs": [
        {
          "output_type": "stream",
          "text": [
            "/usr/local/lib/python3.6/dist-packages/ipykernel_launcher.py:1: RuntimeWarning: divide by zero encountered in true_divide\n",
            "  \"\"\"Entry point for launching an IPython kernel.\n"
          ],
          "name": "stderr"
        },
        {
          "output_type": "execute_result",
          "data": {
            "text/plain": [
              "array([[inf, inf, inf, inf],\n",
              "       [inf, inf, inf, inf],\n",
              "       [inf, inf, inf, inf]])"
            ]
          },
          "metadata": {
            "tags": []
          },
          "execution_count": 9
        }
      ]
    },
    {
      "cell_type": "code",
      "metadata": {
        "id": "2HGY2FXa9wBQ",
        "colab_type": "code",
        "colab": {
          "base_uri": "https://localhost:8080/",
          "height": 72
        },
        "outputId": "942f529e-a4fd-4756-bd6f-694fc882157b"
      },
      "source": [
        "np.exp(arr1)"
      ],
      "execution_count": null,
      "outputs": [
        {
          "output_type": "execute_result",
          "data": {
            "text/plain": [
              "array([[1., 1., 1., 1.],\n",
              "       [1., 1., 1., 1.],\n",
              "       [1., 1., 1., 1.]])"
            ]
          },
          "metadata": {
            "tags": []
          },
          "execution_count": 10
        }
      ]
    },
    {
      "cell_type": "code",
      "metadata": {
        "id": "d_CLXFKM9ziX",
        "colab_type": "code",
        "colab": {
          "base_uri": "https://localhost:8080/",
          "height": 72
        },
        "outputId": "f916286a-f93b-42e0-b1c4-812e6a6870b5"
      },
      "source": [
        "np.exp(arr2)"
      ],
      "execution_count": null,
      "outputs": [
        {
          "output_type": "execute_result",
          "data": {
            "text/plain": [
              "array([[2.71828183, 2.71828183, 2.71828183, 2.71828183],\n",
              "       [2.71828183, 2.71828183, 2.71828183, 2.71828183],\n",
              "       [2.71828183, 2.71828183, 2.71828183, 2.71828183]])"
            ]
          },
          "metadata": {
            "tags": []
          },
          "execution_count": 11
        }
      ]
    },
    {
      "cell_type": "code",
      "metadata": {
        "id": "-VZI9bYN92Gd",
        "colab_type": "code",
        "colab": {
          "base_uri": "https://localhost:8080/",
          "height": 72
        },
        "outputId": "0f804578-7e16-4c65-9bd3-991bbbec251f"
      },
      "source": [
        "np.log(arr2)"
      ],
      "execution_count": null,
      "outputs": [
        {
          "output_type": "execute_result",
          "data": {
            "text/plain": [
              "array([[0., 0., 0., 0.],\n",
              "       [0., 0., 0., 0.],\n",
              "       [0., 0., 0., 0.]])"
            ]
          },
          "metadata": {
            "tags": []
          },
          "execution_count": 12
        }
      ]
    },
    {
      "cell_type": "code",
      "metadata": {
        "id": "WasC3Cri96Pf",
        "colab_type": "code",
        "colab": {
          "base_uri": "https://localhost:8080/",
          "height": 108
        },
        "outputId": "61e7b231-00c5-45ab-eeec-e07fbb330055"
      },
      "source": [
        "np.log(arr1)"
      ],
      "execution_count": null,
      "outputs": [
        {
          "output_type": "stream",
          "text": [
            "/usr/local/lib/python3.6/dist-packages/ipykernel_launcher.py:1: RuntimeWarning: divide by zero encountered in log\n",
            "  \"\"\"Entry point for launching an IPython kernel.\n"
          ],
          "name": "stderr"
        },
        {
          "output_type": "execute_result",
          "data": {
            "text/plain": [
              "array([[-inf, -inf, -inf, -inf],\n",
              "       [-inf, -inf, -inf, -inf],\n",
              "       [-inf, -inf, -inf, -inf]])"
            ]
          },
          "metadata": {
            "tags": []
          },
          "execution_count": 13
        }
      ]
    },
    {
      "cell_type": "code",
      "metadata": {
        "id": "9tJGcLRL97s-",
        "colab_type": "code",
        "colab": {
          "base_uri": "https://localhost:8080/",
          "height": 72
        },
        "outputId": "94a5611a-df8c-4264-ea6c-9f69017e64b0"
      },
      "source": [
        "np.sin(arr1)"
      ],
      "execution_count": null,
      "outputs": [
        {
          "output_type": "execute_result",
          "data": {
            "text/plain": [
              "array([[0., 0., 0., 0.],\n",
              "       [0., 0., 0., 0.],\n",
              "       [0., 0., 0., 0.]])"
            ]
          },
          "metadata": {
            "tags": []
          },
          "execution_count": 14
        }
      ]
    },
    {
      "cell_type": "code",
      "metadata": {
        "id": "LKByvHAD-CFT",
        "colab_type": "code",
        "colab": {
          "base_uri": "https://localhost:8080/",
          "height": 72
        },
        "outputId": "6333c0d8-49f9-4dbc-f536-cfd7fae11a15"
      },
      "source": [
        "np.cos(arr1)"
      ],
      "execution_count": null,
      "outputs": [
        {
          "output_type": "execute_result",
          "data": {
            "text/plain": [
              "array([[1., 1., 1., 1.],\n",
              "       [1., 1., 1., 1.],\n",
              "       [1., 1., 1., 1.]])"
            ]
          },
          "metadata": {
            "tags": []
          },
          "execution_count": 15
        }
      ]
    },
    {
      "cell_type": "code",
      "metadata": {
        "id": "h3Str6Jh-E8-",
        "colab_type": "code",
        "colab": {
          "base_uri": "https://localhost:8080/",
          "height": 72
        },
        "outputId": "c1a07950-8c4d-42e1-bb30-cac80a084fe3"
      },
      "source": [
        "np.sqrt(arr2)"
      ],
      "execution_count": null,
      "outputs": [
        {
          "output_type": "execute_result",
          "data": {
            "text/plain": [
              "array([[1., 1., 1., 1.],\n",
              "       [1., 1., 1., 1.],\n",
              "       [1., 1., 1., 1.]])"
            ]
          },
          "metadata": {
            "tags": []
          },
          "execution_count": 16
        }
      ]
    },
    {
      "cell_type": "code",
      "metadata": {
        "id": "Whfqrzis-J-Q",
        "colab_type": "code",
        "colab": {}
      },
      "source": [
        "arr_inv = 1 / arr2"
      ],
      "execution_count": null,
      "outputs": []
    },
    {
      "cell_type": "code",
      "metadata": {
        "id": "Q7yeGH4R-g0c",
        "colab_type": "code",
        "colab": {
          "base_uri": "https://localhost:8080/",
          "height": 72
        },
        "outputId": "7c46582e-59f6-40eb-c940-e1b96f25a268"
      },
      "source": [
        "arr_inv"
      ],
      "execution_count": null,
      "outputs": [
        {
          "output_type": "execute_result",
          "data": {
            "text/plain": [
              "array([[1., 1., 1., 1.],\n",
              "       [1., 1., 1., 1.],\n",
              "       [1., 1., 1., 1.]])"
            ]
          },
          "metadata": {
            "tags": []
          },
          "execution_count": 18
        }
      ]
    },
    {
      "cell_type": "code",
      "metadata": {
        "id": "RsXMS79S-iQ6",
        "colab_type": "code",
        "colab": {
          "base_uri": "https://localhost:8080/",
          "height": 54
        },
        "outputId": "f6ed15ee-3938-431e-a32a-8ebb3888821c"
      },
      "source": [
        "arr_inv = 1 / arr1"
      ],
      "execution_count": null,
      "outputs": [
        {
          "output_type": "stream",
          "text": [
            "/usr/local/lib/python3.6/dist-packages/ipykernel_launcher.py:1: RuntimeWarning: divide by zero encountered in true_divide\n",
            "  \"\"\"Entry point for launching an IPython kernel.\n"
          ],
          "name": "stderr"
        }
      ]
    },
    {
      "cell_type": "code",
      "metadata": {
        "id": "JdPxLbNz-qRc",
        "colab_type": "code",
        "colab": {
          "base_uri": "https://localhost:8080/",
          "height": 35
        },
        "outputId": "6c39c4f9-ec21-4264-a24c-7950b6ca50fb"
      },
      "source": [
        "np.isinf(arr_inv[0,0])"
      ],
      "execution_count": null,
      "outputs": [
        {
          "output_type": "execute_result",
          "data": {
            "text/plain": [
              "True"
            ]
          },
          "metadata": {
            "tags": []
          },
          "execution_count": 20
        }
      ]
    },
    {
      "cell_type": "code",
      "metadata": {
        "id": "dL9bVHDp-vob",
        "colab_type": "code",
        "colab": {}
      },
      "source": [
        ""
      ],
      "execution_count": null,
      "outputs": []
    },
    {
      "cell_type": "markdown",
      "metadata": {
        "id": "Y-wbYdG8y1Zz",
        "colab_type": "text"
      },
      "source": [
        "#Numpy Broadcasting"
      ]
    },
    {
      "cell_type": "code",
      "metadata": {
        "id": "fXUPHxq4y4Wc",
        "colab_type": "code",
        "colab": {}
      },
      "source": [
        "arr1 = np.arange(6)"
      ],
      "execution_count": null,
      "outputs": []
    },
    {
      "cell_type": "code",
      "metadata": {
        "id": "MpJEgjv5zISM",
        "colab_type": "code",
        "colab": {
          "base_uri": "https://localhost:8080/",
          "height": 34
        },
        "outputId": "753553c7-b57f-4e51-95fc-2640a20336f3"
      },
      "source": [
        "arr1.shape"
      ],
      "execution_count": null,
      "outputs": [
        {
          "output_type": "execute_result",
          "data": {
            "text/plain": [
              "(6,)"
            ]
          },
          "metadata": {
            "tags": []
          },
          "execution_count": 3
        }
      ]
    },
    {
      "cell_type": "code",
      "metadata": {
        "id": "2YTCg_pUzL9D",
        "colab_type": "code",
        "colab": {}
      },
      "source": [
        "arr1 = arr1.reshape((3,2))"
      ],
      "execution_count": null,
      "outputs": []
    },
    {
      "cell_type": "code",
      "metadata": {
        "id": "BiLf1yt7zQn6",
        "colab_type": "code",
        "colab": {
          "base_uri": "https://localhost:8080/",
          "height": 68
        },
        "outputId": "7a929901-81e2-40e7-f00e-42bc484bbd64"
      },
      "source": [
        "arr1"
      ],
      "execution_count": null,
      "outputs": [
        {
          "output_type": "execute_result",
          "data": {
            "text/plain": [
              "array([[0, 1],\n",
              "       [2, 3],\n",
              "       [4, 5]])"
            ]
          },
          "metadata": {
            "tags": []
          },
          "execution_count": 5
        }
      ]
    },
    {
      "cell_type": "code",
      "metadata": {
        "id": "x9yFTUc4zRQf",
        "colab_type": "code",
        "colab": {}
      },
      "source": [
        "arr2 = np.arange(6).reshape((3,2))"
      ],
      "execution_count": null,
      "outputs": []
    },
    {
      "cell_type": "code",
      "metadata": {
        "id": "ld8NT-bczt3V",
        "colab_type": "code",
        "colab": {
          "base_uri": "https://localhost:8080/",
          "height": 68
        },
        "outputId": "f1189f69-f2c3-4dd9-93f1-292bd505601c"
      },
      "source": [
        "arr2"
      ],
      "execution_count": null,
      "outputs": [
        {
          "output_type": "execute_result",
          "data": {
            "text/plain": [
              "array([[0, 1],\n",
              "       [2, 3],\n",
              "       [4, 5]])"
            ]
          },
          "metadata": {
            "tags": []
          },
          "execution_count": 22
        }
      ]
    },
    {
      "cell_type": "code",
      "metadata": {
        "id": "fqVh1-T_zvA-",
        "colab_type": "code",
        "colab": {
          "base_uri": "https://localhost:8080/",
          "height": 68
        },
        "outputId": "6ef9c0ff-fd5c-411e-a7aa-084a5fe15f05"
      },
      "source": [
        "arr1 + arr2"
      ],
      "execution_count": null,
      "outputs": [
        {
          "output_type": "execute_result",
          "data": {
            "text/plain": [
              "array([[ 0,  2],\n",
              "       [ 4,  6],\n",
              "       [ 8, 10]])"
            ]
          },
          "metadata": {
            "tags": []
          },
          "execution_count": 23
        }
      ]
    },
    {
      "cell_type": "code",
      "metadata": {
        "id": "KouR8xLUzzMf",
        "colab_type": "code",
        "colab": {
          "base_uri": "https://localhost:8080/",
          "height": 68
        },
        "outputId": "c57dc7c5-43b8-401e-a9e4-bec76feff307"
      },
      "source": [
        "arr1 + arr2[0].reshape((1,2))"
      ],
      "execution_count": null,
      "outputs": [
        {
          "output_type": "execute_result",
          "data": {
            "text/plain": [
              "array([[0, 2],\n",
              "       [2, 4],\n",
              "       [4, 6]])"
            ]
          },
          "metadata": {
            "tags": []
          },
          "execution_count": 24
        }
      ]
    },
    {
      "cell_type": "code",
      "metadata": {
        "id": "z5B2gIqi0grs",
        "colab_type": "code",
        "colab": {
          "base_uri": "https://localhost:8080/",
          "height": 34
        },
        "outputId": "e0c1b042-22d2-4ef4-d4fb-fe8598af41b2"
      },
      "source": [
        "arr2[0].reshape((1,2))"
      ],
      "execution_count": null,
      "outputs": [
        {
          "output_type": "execute_result",
          "data": {
            "text/plain": [
              "array([[0, 1]])"
            ]
          },
          "metadata": {
            "tags": []
          },
          "execution_count": 26
        }
      ]
    },
    {
      "cell_type": "code",
      "metadata": {
        "id": "6HsX_-a00pRH",
        "colab_type": "code",
        "colab": {
          "base_uri": "https://localhost:8080/",
          "height": 68
        },
        "outputId": "93d07a17-9096-4e5c-8049-1c21db7818dd"
      },
      "source": [
        "arr2[:,0].reshape((3,1))"
      ],
      "execution_count": null,
      "outputs": [
        {
          "output_type": "execute_result",
          "data": {
            "text/plain": [
              "array([[0],\n",
              "       [2],\n",
              "       [4]])"
            ]
          },
          "metadata": {
            "tags": []
          },
          "execution_count": 27
        }
      ]
    },
    {
      "cell_type": "code",
      "metadata": {
        "id": "0bFJ6kgW4pEJ",
        "colab_type": "code",
        "colab": {
          "base_uri": "https://localhost:8080/",
          "height": 68
        },
        "outputId": "90b45590-9baf-4f52-d2f5-b16d8afa2c21"
      },
      "source": [
        "arr1 + arr2[:,0].reshape((3,1))"
      ],
      "execution_count": null,
      "outputs": [
        {
          "output_type": "execute_result",
          "data": {
            "text/plain": [
              "array([[0, 1],\n",
              "       [4, 5],\n",
              "       [8, 9]])"
            ]
          },
          "metadata": {
            "tags": []
          },
          "execution_count": 28
        }
      ]
    },
    {
      "cell_type": "code",
      "metadata": {
        "id": "ebjWv0Wu6mKS",
        "colab_type": "code",
        "colab": {}
      },
      "source": [
        "arr1 = np.zeros((3,4))"
      ],
      "execution_count": null,
      "outputs": []
    },
    {
      "cell_type": "code",
      "metadata": {
        "id": "fRlsJ3U76eap",
        "colab_type": "code",
        "colab": {
          "base_uri": "https://localhost:8080/",
          "height": 68
        },
        "outputId": "3d273581-c0dd-4cab-83f4-f914b2366fe6"
      },
      "source": [
        "arr1"
      ],
      "execution_count": null,
      "outputs": [
        {
          "output_type": "execute_result",
          "data": {
            "text/plain": [
              "array([[0., 0., 0., 0.],\n",
              "       [0., 0., 0., 0.],\n",
              "       [0., 0., 0., 0.]])"
            ]
          },
          "metadata": {
            "tags": []
          },
          "execution_count": 5
        }
      ]
    },
    {
      "cell_type": "code",
      "metadata": {
        "id": "2cW6ThNt61Lr",
        "colab_type": "code",
        "colab": {}
      },
      "source": [
        "arr2 = np.arange(6).reshape((3,2))"
      ],
      "execution_count": null,
      "outputs": []
    },
    {
      "cell_type": "code",
      "metadata": {
        "id": "0gomtrOkNw0v",
        "colab_type": "code",
        "colab": {}
      },
      "source": [
        "arr2 = np.arange(3).reshape((3,1))"
      ],
      "execution_count": null,
      "outputs": []
    },
    {
      "cell_type": "code",
      "metadata": {
        "id": "vnWTD2tNNyf-",
        "colab_type": "code",
        "colab": {
          "base_uri": "https://localhost:8080/",
          "height": 68
        },
        "outputId": "c4abbeed-eefa-4563-c2ab-8cede1e5712f"
      },
      "source": [
        "arr2 + arr1"
      ],
      "execution_count": null,
      "outputs": [
        {
          "output_type": "execute_result",
          "data": {
            "text/plain": [
              "array([[0., 0., 0., 0.],\n",
              "       [1., 1., 1., 1.],\n",
              "       [2., 2., 2., 2.]])"
            ]
          },
          "metadata": {
            "tags": []
          },
          "execution_count": 11
        }
      ]
    },
    {
      "cell_type": "code",
      "metadata": {
        "id": "4mBcWbkSN164",
        "colab_type": "code",
        "colab": {}
      },
      "source": [
        "arr1 = np.arange(24).reshape((2,3,4))"
      ],
      "execution_count": null,
      "outputs": []
    },
    {
      "cell_type": "code",
      "metadata": {
        "id": "WvwLkKQtOZd8",
        "colab_type": "code",
        "colab": {}
      },
      "source": [
        "arr2 = np.ones((1,4))"
      ],
      "execution_count": null,
      "outputs": []
    },
    {
      "cell_type": "code",
      "metadata": {
        "id": "z9t51zMKOgbL",
        "colab_type": "code",
        "colab": {
          "base_uri": "https://localhost:8080/",
          "height": 136
        },
        "outputId": "af3202e1-2f44-4682-d058-702fdc914d35"
      },
      "source": [
        "arr1 + arr2"
      ],
      "execution_count": null,
      "outputs": [
        {
          "output_type": "execute_result",
          "data": {
            "text/plain": [
              "array([[[ 1.,  2.,  3.,  4.],\n",
              "        [ 5.,  6.,  7.,  8.],\n",
              "        [ 9., 10., 11., 12.]],\n",
              "\n",
              "       [[13., 14., 15., 16.],\n",
              "        [17., 18., 19., 20.],\n",
              "        [21., 22., 23., 24.]]])"
            ]
          },
          "metadata": {
            "tags": []
          },
          "execution_count": 14
        }
      ]
    },
    {
      "cell_type": "markdown",
      "metadata": {
        "id": "4OgeG7h3EgQk",
        "colab_type": "text"
      },
      "source": [
        ""
      ]
    },
    {
      "cell_type": "markdown",
      "metadata": {
        "id": "ghZYol8IE87O",
        "colab_type": "text"
      },
      "source": [
        "#File Handling"
      ]
    },
    {
      "cell_type": "markdown",
      "metadata": {
        "id": "B-u1iJb9FHhf",
        "colab_type": "text"
      },
      "source": [
        ""
      ]
    },
    {
      "cell_type": "code",
      "metadata": {
        "id": "2Yt05s2KE-83",
        "colab_type": "code",
        "colab": {}
      },
      "source": [
        "plants_small = np.loadtxt(\"planets_small-200320-181217.txt\", \n",
        "                       skiprows = 1,\n",
        "                       usecols = (1,2,3,4,5,6,7,8,9))"
      ],
      "execution_count": null,
      "outputs": []
    },
    {
      "cell_type": "code",
      "metadata": {
        "id": "HS7HVUg6Fj2z",
        "colab_type": "code",
        "colab": {
          "base_uri": "https://localhost:8080/",
          "height": 34
        },
        "outputId": "590c2509-6a53-424e-a4ec-f161b7128504"
      },
      "source": [
        "plants_small.ndim"
      ],
      "execution_count": null,
      "outputs": [
        {
          "output_type": "execute_result",
          "data": {
            "text/plain": [
              "2"
            ]
          },
          "metadata": {
            "tags": []
          },
          "execution_count": 5
        }
      ]
    },
    {
      "cell_type": "code",
      "metadata": {
        "id": "nVuT_YFaF9i1",
        "colab_type": "code",
        "colab": {
          "base_uri": "https://localhost:8080/",
          "height": 34
        },
        "outputId": "b3b906b3-5212-4011-9549-8dc5effe91fc"
      },
      "source": [
        "plants_small.shape"
      ],
      "execution_count": null,
      "outputs": [
        {
          "output_type": "execute_result",
          "data": {
            "text/plain": [
              "(3, 9)"
            ]
          },
          "metadata": {
            "tags": []
          },
          "execution_count": 6
        }
      ]
    },
    {
      "cell_type": "code",
      "metadata": {
        "id": "TWeGyZTHF_9w",
        "colab_type": "code",
        "colab": {
          "base_uri": "https://localhost:8080/",
          "height": 119
        },
        "outputId": "bd236166-4b49-4f22-db47-20f62eeca57a"
      },
      "source": [
        "plants_small"
      ],
      "execution_count": null,
      "outputs": [
        {
          "output_type": "execute_result",
          "data": {
            "text/plain": [
              "array([[3.3000e-01, 4.8700e+00, 5.9700e+00, 6.4200e-01, 1.8980e+03,\n",
              "        5.6800e+02, 8.6800e+01, 1.0200e+02, 1.4600e-02],\n",
              "       [5.7900e+01, 1.0820e+02, 1.4960e+02, 2.2790e+02, 7.7860e+02,\n",
              "        1.4335e+03, 2.8725e+03, 4.4951e+03, 5.9064e+03],\n",
              "       [4.2226e+03, 2.8020e+03, 2.4000e+01, 2.4700e+01, 9.9000e+00,\n",
              "        1.0700e+01, 1.7200e+01, 1.6100e+01, 1.5330e+02]])"
            ]
          },
          "metadata": {
            "tags": []
          },
          "execution_count": 7
        }
      ]
    },
    {
      "cell_type": "code",
      "metadata": {
        "id": "ryeURCHXGDSc",
        "colab_type": "code",
        "colab": {}
      },
      "source": [
        "planets = np.genfromtxt(\"planets-200320-181217.txt\",\n",
        "                        skip_header = 1,\n",
        "                        usecols = [1,2,3,4,5,6,7,8,9])"
      ],
      "execution_count": null,
      "outputs": []
    },
    {
      "cell_type": "code",
      "metadata": {
        "id": "0Xu8JkT8N9FR",
        "colab_type": "code",
        "colab": {
          "base_uri": "https://localhost:8080/",
          "height": 1000
        },
        "outputId": "86a576b4-7823-4a8a-899d-618135b551a3"
      },
      "source": [
        "planets"
      ],
      "execution_count": null,
      "outputs": [
        {
          "output_type": "execute_result",
          "data": {
            "text/plain": [
              "array([[ 3.30000e-01,  4.87000e+00,  5.97000e+00,  7.30000e-02,\n",
              "         6.42000e-01,  1.89800e+03,  5.68000e+02,  8.68000e+01,\n",
              "         1.02000e+02],\n",
              "       [ 4.87900e+03,  1.21040e+04,  1.27560e+04,  3.47500e+03,\n",
              "         6.79200e+03,  1.42984e+05,  1.20536e+05,  5.11180e+04,\n",
              "         4.95280e+04],\n",
              "       [ 5.42700e+03,  5.24300e+03,  5.51400e+03,  3.34000e+03,\n",
              "         3.93300e+03,  1.32600e+03,  6.87000e+02,  1.27100e+03,\n",
              "         1.63800e+03],\n",
              "       [ 3.70000e+00,  8.90000e+00,  9.80000e+00,  1.60000e+00,\n",
              "         3.70000e+00,  2.31000e+01,  9.00000e+00,  8.70000e+00,\n",
              "         1.10000e+01],\n",
              "       [ 4.30000e+00,  1.04000e+01,  1.12000e+01,  2.40000e+00,\n",
              "         5.00000e+00,  5.95000e+01,  3.55000e+01,  2.13000e+01,\n",
              "         2.35000e+01],\n",
              "       [ 1.40760e+03, -5.83250e+03,  2.39000e+01,  6.55700e+02,\n",
              "         2.46000e+01,  9.90000e+00,  1.07000e+01, -1.72000e+01,\n",
              "         1.61000e+01],\n",
              "       [ 4.22260e+03,  2.80200e+03,  2.40000e+01,  7.08700e+02,\n",
              "         2.47000e+01,  9.90000e+00,  1.07000e+01,  1.72000e+01,\n",
              "         1.61000e+01],\n",
              "       [ 5.79000e+01,  1.08200e+02,  1.49600e+02,  3.84000e-01,\n",
              "         2.27900e+02,  7.78600e+02,  1.43350e+03,  2.87250e+03,\n",
              "         4.49510e+03],\n",
              "       [ 4.60000e+01,  1.07500e+02,  1.47100e+02,  3.63000e-01,\n",
              "         2.06600e+02,  7.40500e+02,  1.35260e+03,  2.74130e+03,\n",
              "         4.44450e+03],\n",
              "       [ 6.98000e+01,  1.08900e+02,  1.52100e+02,  4.06000e-01,\n",
              "         2.49200e+02,  8.16600e+02,  1.51450e+03,  3.00360e+03,\n",
              "         4.54570e+03],\n",
              "       [ 8.80000e+01,  2.24700e+02,  3.65200e+02,  2.73000e+01,\n",
              "         6.87000e+02,  4.33100e+03,  1.07470e+04,  3.05890e+04,\n",
              "         5.98000e+04],\n",
              "       [ 4.74000e+01,  3.50000e+01,  2.98000e+01,  1.00000e+00,\n",
              "         2.41000e+01,  1.31000e+01,  9.70000e+00,  6.80000e+00,\n",
              "         5.40000e+00],\n",
              "       [ 7.00000e+00,  3.40000e+00,  0.00000e+00,  5.10000e+00,\n",
              "         1.90000e+00,  1.30000e+00,  2.50000e+00,  8.00000e-01,\n",
              "         1.80000e+00],\n",
              "       [ 2.05000e-01,  7.00000e-03,  1.70000e-02,  5.50000e-02,\n",
              "         9.40000e-02,  4.90000e-02,  5.70000e-02,  4.60000e-02,\n",
              "         1.10000e-02],\n",
              "       [ 3.40000e-02,  1.77400e+02,  2.34000e+01,  6.70000e+00,\n",
              "         2.52000e+01,  3.10000e+00,  2.67000e+01,  9.78000e+01,\n",
              "         2.83000e+01],\n",
              "       [ 1.67000e+02,  4.64000e+02,  1.50000e+01, -2.00000e+01,\n",
              "        -6.50000e+01, -1.10000e+02, -1.40000e+02, -1.95000e+02,\n",
              "        -2.00000e+02],\n",
              "       [ 0.00000e+00,  9.20000e+01,  1.00000e+00,  0.00000e+00,\n",
              "         1.00000e-02,          nan,          nan,          nan,\n",
              "                 nan],\n",
              "       [ 0.00000e+00,  0.00000e+00,  1.00000e+00,  0.00000e+00,\n",
              "         2.00000e+00,  7.90000e+01,  8.20000e+01,  2.70000e+01,\n",
              "         1.40000e+01],\n",
              "       [ 0.00000e+00,  0.00000e+00,  0.00000e+00,  0.00000e+00,\n",
              "         0.00000e+00,  1.00000e+00,  1.00000e+00,  1.00000e+00,\n",
              "         1.00000e+00],\n",
              "       [ 1.00000e+00,  0.00000e+00,  1.00000e+00,  0.00000e+00,\n",
              "         0.00000e+00,  1.00000e+00,  1.00000e+00,  1.00000e+00,\n",
              "         1.00000e+00]])"
            ]
          },
          "metadata": {
            "tags": []
          },
          "execution_count": 11
        }
      ]
    },
    {
      "cell_type": "code",
      "metadata": {
        "id": "tIwyN4AQOKT1",
        "colab_type": "code",
        "colab": {
          "base_uri": "https://localhost:8080/",
          "height": 34
        },
        "outputId": "560d2bfa-8071-4051-cd70-8818c016d009"
      },
      "source": [
        "planets.size"
      ],
      "execution_count": null,
      "outputs": [
        {
          "output_type": "execute_result",
          "data": {
            "text/plain": [
              "180"
            ]
          },
          "metadata": {
            "tags": []
          },
          "execution_count": 12
        }
      ]
    },
    {
      "cell_type": "code",
      "metadata": {
        "id": "kSxILV4tONR3",
        "colab_type": "code",
        "colab": {
          "base_uri": "https://localhost:8080/",
          "height": 34
        },
        "outputId": "11979299-29ae-46bf-c2ac-fbcb99df59a3"
      },
      "source": [
        "planets.shape"
      ],
      "execution_count": null,
      "outputs": [
        {
          "output_type": "execute_result",
          "data": {
            "text/plain": [
              "(20, 9)"
            ]
          },
          "metadata": {
            "tags": []
          },
          "execution_count": 13
        }
      ]
    },
    {
      "cell_type": "code",
      "metadata": {
        "id": "IXqoRuAlOPag",
        "colab_type": "code",
        "colab": {
          "base_uri": "https://localhost:8080/",
          "height": 163
        },
        "outputId": "83820d85-c232-4a46-ed83-c56fe087365f"
      },
      "source": [
        "np.isnan(plants)"
      ],
      "execution_count": null,
      "outputs": [
        {
          "output_type": "error",
          "ename": "NameError",
          "evalue": "ignored",
          "traceback": [
            "\u001b[0;31m---------------------------------------------------------------------------\u001b[0m",
            "\u001b[0;31mNameError\u001b[0m                                 Traceback (most recent call last)",
            "\u001b[0;32m<ipython-input-14-d8895286784e>\u001b[0m in \u001b[0;36m<module>\u001b[0;34m()\u001b[0m\n\u001b[0;32m----> 1\u001b[0;31m \u001b[0mnp\u001b[0m\u001b[0;34m.\u001b[0m\u001b[0misnan\u001b[0m\u001b[0;34m(\u001b[0m\u001b[0mplants\u001b[0m\u001b[0;34m)\u001b[0m\u001b[0;34m\u001b[0m\u001b[0;34m\u001b[0m\u001b[0m\n\u001b[0m",
            "\u001b[0;31mNameError\u001b[0m: name 'plants' is not defined"
          ]
        }
      ]
    },
    {
      "cell_type": "code",
      "metadata": {
        "id": "vxl1bfo9OoHS",
        "colab_type": "code",
        "colab": {
          "base_uri": "https://localhost:8080/",
          "height": 357
        },
        "outputId": "ed53636d-e5a0-416e-8874-1f7c446984b6"
      },
      "source": [
        "np.isnan(planets)"
      ],
      "execution_count": null,
      "outputs": [
        {
          "output_type": "execute_result",
          "data": {
            "text/plain": [
              "array([[False, False, False, False, False, False, False, False, False],\n",
              "       [False, False, False, False, False, False, False, False, False],\n",
              "       [False, False, False, False, False, False, False, False, False],\n",
              "       [False, False, False, False, False, False, False, False, False],\n",
              "       [False, False, False, False, False, False, False, False, False],\n",
              "       [False, False, False, False, False, False, False, False, False],\n",
              "       [False, False, False, False, False, False, False, False, False],\n",
              "       [False, False, False, False, False, False, False, False, False],\n",
              "       [False, False, False, False, False, False, False, False, False],\n",
              "       [False, False, False, False, False, False, False, False, False],\n",
              "       [False, False, False, False, False, False, False, False, False],\n",
              "       [False, False, False, False, False, False, False, False, False],\n",
              "       [False, False, False, False, False, False, False, False, False],\n",
              "       [False, False, False, False, False, False, False, False, False],\n",
              "       [False, False, False, False, False, False, False, False, False],\n",
              "       [False, False, False, False, False, False, False, False, False],\n",
              "       [False, False, False, False, False,  True,  True,  True,  True],\n",
              "       [False, False, False, False, False, False, False, False, False],\n",
              "       [False, False, False, False, False, False, False, False, False],\n",
              "       [False, False, False, False, False, False, False, False, False]])"
            ]
          },
          "metadata": {
            "tags": []
          },
          "execution_count": 15
        }
      ]
    },
    {
      "cell_type": "code",
      "metadata": {
        "id": "RNKINqAgOyMd",
        "colab_type": "code",
        "colab": {}
      },
      "source": [
        "planets_new = np.nan_to_num(planets,nan=-1)"
      ],
      "execution_count": null,
      "outputs": []
    },
    {
      "cell_type": "code",
      "metadata": {
        "id": "Ed_xMTqePE8I",
        "colab_type": "code",
        "colab": {}
      },
      "source": [
        "planets_new"
      ],
      "execution_count": null,
      "outputs": []
    },
    {
      "cell_type": "code",
      "metadata": {
        "id": "KJFi9El1PG-n",
        "colab_type": "code",
        "colab": {}
      },
      "source": [
        "planets_new.dtype"
      ],
      "execution_count": null,
      "outputs": []
    },
    {
      "cell_type": "code",
      "metadata": {
        "id": "2Qf59ixlPNbw",
        "colab_type": "code",
        "colab": {}
      },
      "source": [
        "np.savetxt('planets_new.txt', planets_new, delimiter=',')"
      ],
      "execution_count": null,
      "outputs": []
    },
    {
      "cell_type": "code",
      "metadata": {
        "id": "-WU_8NMxPlEH",
        "colab_type": "code",
        "colab": {}
      },
      "source": [
        "np.save(\"planets_new\", planets_new)"
      ],
      "execution_count": null,
      "outputs": []
    },
    {
      "cell_type": "code",
      "metadata": {
        "id": "kukB6hBmQJZQ",
        "colab_type": "code",
        "colab": {
          "base_uri": "https://localhost:8080/",
          "height": 34
        },
        "outputId": "7299e0cc-3e59-4a6b-cc5d-3af5b19f03c5"
      },
      "source": [
        "!ls"
      ],
      "execution_count": null,
      "outputs": [
        {
          "output_type": "stream",
          "text": [
            "sample_data\n"
          ],
          "name": "stdout"
        }
      ]
    },
    {
      "cell_type": "code",
      "metadata": {
        "id": "kRRV8_qWQKgp",
        "colab_type": "code",
        "colab": {}
      },
      "source": [
        "!ls -l"
      ],
      "execution_count": null,
      "outputs": []
    },
    {
      "cell_type": "code",
      "metadata": {
        "id": "UtW3kqyyQOu2",
        "colab_type": "code",
        "colab": {}
      },
      "source": [
        "!ls -lh"
      ],
      "execution_count": null,
      "outputs": []
    },
    {
      "cell_type": "code",
      "metadata": {
        "id": "QfqxB9-oQQtl",
        "colab_type": "code",
        "colab": {}
      },
      "source": [
        "arr1 = np.random.rand(1000, 10)\n",
        "arr2 = np.random.rand(2000, 5)\n",
        "arr3 = np.random.rand(20, 10000)\n"
      ],
      "execution_count": null,
      "outputs": []
    },
    {
      "cell_type": "code",
      "metadata": {
        "id": "DQF1nLOqQwbx",
        "colab_type": "code",
        "colab": {}
      },
      "source": [
        "np.savez(\"many_arrays\", arr1, arr2, arr3)"
      ],
      "execution_count": null,
      "outputs": []
    },
    {
      "cell_type": "code",
      "metadata": {
        "id": "9hrgBMZAQ4B5",
        "colab_type": "code",
        "colab": {}
      },
      "source": [
        "!ls -lh"
      ],
      "execution_count": null,
      "outputs": []
    },
    {
      "cell_type": "code",
      "metadata": {
        "id": "G6g_Ev8NQ53t",
        "colab_type": "code",
        "colab": {}
      },
      "source": [
        "arrs = np.load('many_arrays.npz')"
      ],
      "execution_count": null,
      "outputs": []
    },
    {
      "cell_type": "code",
      "metadata": {
        "id": "wdYoImiiRH3G",
        "colab_type": "code",
        "colab": {}
      },
      "source": [
        "arrs.type"
      ],
      "execution_count": null,
      "outputs": []
    },
    {
      "cell_type": "code",
      "metadata": {
        "id": "YMfb6RyyRJLK",
        "colab_type": "code",
        "colab": {
          "base_uri": "https://localhost:8080/",
          "height": 34
        },
        "outputId": "fd04af2b-4058-4e28-cd01-9d18594a5673"
      },
      "source": [
        "print(type(arrs))"
      ],
      "execution_count": null,
      "outputs": [
        {
          "output_type": "stream",
          "text": [
            "<class 'numpy.lib.npyio.NpzFile'>\n"
          ],
          "name": "stdout"
        }
      ]
    },
    {
      "cell_type": "code",
      "metadata": {
        "id": "Pp4WJkJNRMIH",
        "colab_type": "code",
        "colab": {
          "base_uri": "https://localhost:8080/",
          "height": 34
        },
        "outputId": "ab9066a9-439d-4b78-ddf6-cd01dc2c4822"
      },
      "source": [
        "arrs.files"
      ],
      "execution_count": null,
      "outputs": [
        {
          "output_type": "execute_result",
          "data": {
            "text/plain": [
              "['arr_0', 'arr_1', 'arr_2']"
            ]
          },
          "metadata": {
            "tags": []
          },
          "execution_count": 32
        }
      ]
    },
    {
      "cell_type": "code",
      "metadata": {
        "id": "gWppCzfhRRvy",
        "colab_type": "code",
        "colab": {
          "base_uri": "https://localhost:8080/",
          "height": 34
        },
        "outputId": "6add45ec-78bd-41ba-c9f5-189ef333ba42"
      },
      "source": [
        "arrs['arr_0'].shape"
      ],
      "execution_count": null,
      "outputs": [
        {
          "output_type": "execute_result",
          "data": {
            "text/plain": [
              "(1000, 10)"
            ]
          },
          "metadata": {
            "tags": []
          },
          "execution_count": 33
        }
      ]
    },
    {
      "cell_type": "code",
      "metadata": {
        "id": "FTLiOS7-RXwO",
        "colab_type": "code",
        "colab": {
          "base_uri": "https://localhost:8080/",
          "height": 34
        },
        "outputId": "20faf034-f9e9-4686-b18a-23ea2b61ca5f"
      },
      "source": [
        "arrs['arr_0'][0,0]"
      ],
      "execution_count": null,
      "outputs": [
        {
          "output_type": "execute_result",
          "data": {
            "text/plain": [
              "0.8170328732069082"
            ]
          },
          "metadata": {
            "tags": []
          },
          "execution_count": 34
        }
      ]
    },
    {
      "cell_type": "code",
      "metadata": {
        "id": "2MzlnjduRb3e",
        "colab_type": "code",
        "colab": {
          "base_uri": "https://localhost:8080/",
          "height": 238
        },
        "outputId": "62614adb-5ccd-4d51-92ba-bc9c936963eb"
      },
      "source": [
        "arrs['arr_0']"
      ],
      "execution_count": null,
      "outputs": [
        {
          "output_type": "execute_result",
          "data": {
            "text/plain": [
              "array([[0.81703287, 0.11857987, 0.30461208, ..., 0.1580477 , 0.04798478,\n",
              "        0.3247678 ],\n",
              "       [0.11988019, 0.05791491, 0.57374716, ..., 0.54787777, 0.36957234,\n",
              "        0.44784531],\n",
              "       [0.30107328, 0.12838813, 0.02518844, ..., 0.9309684 , 0.96485922,\n",
              "        0.74648608],\n",
              "       ...,\n",
              "       [0.69423504, 0.5553746 , 0.7578684 , ..., 0.39124022, 0.96226759,\n",
              "        0.17809584],\n",
              "       [0.16791714, 0.74002958, 0.60725485, ..., 0.2805913 , 0.44179223,\n",
              "        0.93974497],\n",
              "       [0.19898519, 0.52803865, 0.84022197, ..., 0.97513595, 0.83443212,\n",
              "        0.21494034]])"
            ]
          },
          "metadata": {
            "tags": []
          },
          "execution_count": 35
        }
      ]
    },
    {
      "cell_type": "code",
      "metadata": {
        "id": "FWyHCSSFRfLO",
        "colab_type": "code",
        "colab": {}
      },
      "source": [
        "np.savez_compressed('many_arrs_comprsd',arr1,arr2,arr3)"
      ],
      "execution_count": null,
      "outputs": []
    },
    {
      "cell_type": "code",
      "metadata": {
        "id": "JNP8yD6iRzA3",
        "colab_type": "code",
        "colab": {
          "base_uri": "https://localhost:8080/",
          "height": 187
        },
        "outputId": "413c0c8b-a1d9-4300-a02b-19b78e83c3cd"
      },
      "source": [
        "!ls -hl"
      ],
      "execution_count": null,
      "outputs": [
        {
          "output_type": "stream",
          "text": [
            "total 3.4M\n",
            "-rw-r--r-- 1 root root 1.7M Jul  3 10:40 many_arrays.npz\n",
            "-rw-r--r-- 1 root root 1.6M Jul  3 10:44 many_arrs_comprsd.npz\n",
            "-rw-r--r-- 1 root root 1.5K Jul  3 10:26 planets-200320-181217.txt\n",
            "-rw-r--r-- 1 root root 1.6K Jul  3 10:36 planets_new.npy\n",
            "-rw-r--r-- 1 root root 4.5K Jul  3 10:35 planets_new.txt\n",
            "-rw-r--r-- 1 root root 4.5K Jul  3 10:34 planets_nex,txt\n",
            "-rw-r--r-- 1 root root 4.5K Jul  3 10:35 planets_nex.txt\n",
            "-rw-r--r-- 1 root root  254 Jul  3 09:47 planets_small-200320-181217.txt\n",
            "drwxr-xr-x 1 root root 4.0K Jun 26 16:26 sample_data\n"
          ],
          "name": "stdout"
        }
      ]
    },
    {
      "cell_type": "code",
      "metadata": {
        "id": "dcVJalLiR1_a",
        "colab_type": "code",
        "colab": {
          "base_uri": "https://localhost:8080/",
          "height": 187
        },
        "outputId": "7b37cf17-0bda-4009-824a-90a04a505d1f"
      },
      "source": [
        "!ls -lh"
      ],
      "execution_count": null,
      "outputs": [
        {
          "output_type": "stream",
          "text": [
            "total 3.4M\n",
            "-rw-r--r-- 1 root root 1.7M Jul  3 10:40 many_arrays.npz\n",
            "-rw-r--r-- 1 root root 1.6M Jul  3 10:44 many_arrs_comprsd.npz\n",
            "-rw-r--r-- 1 root root 1.5K Jul  3 10:26 planets-200320-181217.txt\n",
            "-rw-r--r-- 1 root root 1.6K Jul  3 10:36 planets_new.npy\n",
            "-rw-r--r-- 1 root root 4.5K Jul  3 10:35 planets_new.txt\n",
            "-rw-r--r-- 1 root root 4.5K Jul  3 10:34 planets_nex,txt\n",
            "-rw-r--r-- 1 root root 4.5K Jul  3 10:35 planets_nex.txt\n",
            "-rw-r--r-- 1 root root  254 Jul  3 09:47 planets_small-200320-181217.txt\n",
            "drwxr-xr-x 1 root root 4.0K Jun 26 16:26 sample_data\n"
          ],
          "name": "stdout"
        }
      ]
    },
    {
      "cell_type": "code",
      "metadata": {
        "id": "Z9keSKh0R53C",
        "colab_type": "code",
        "colab": {}
      },
      "source": [
        "arr1 = np.zeros((10000,10000))"
      ],
      "execution_count": null,
      "outputs": []
    },
    {
      "cell_type": "code",
      "metadata": {
        "id": "DH_754-0SFL3",
        "colab_type": "code",
        "colab": {}
      },
      "source": [
        "np.savez(\"zeros\",arr1)"
      ],
      "execution_count": null,
      "outputs": []
    },
    {
      "cell_type": "code",
      "metadata": {
        "id": "Tr5mK_30SNvW",
        "colab_type": "code",
        "colab": {}
      },
      "source": [
        "np.savez_compressed(\"zeros_comprsd\",arr1)"
      ],
      "execution_count": null,
      "outputs": []
    },
    {
      "cell_type": "code",
      "metadata": {
        "id": "QCFuef1bSUKa",
        "colab_type": "code",
        "colab": {
          "base_uri": "https://localhost:8080/",
          "height": 221
        },
        "outputId": "320e8096-9e42-4209-fe3f-14d30f9b7cd3"
      },
      "source": [
        "!ls -lh"
      ],
      "execution_count": null,
      "outputs": [
        {
          "output_type": "stream",
          "text": [
            "total 767M\n",
            "-rw-r--r-- 1 root root 1.7M Jul  3 10:40 many_arrays.npz\n",
            "-rw-r--r-- 1 root root 1.6M Jul  3 10:44 many_arrs_comprsd.npz\n",
            "-rw-r--r-- 1 root root 1.5K Jul  3 10:26 planets-200320-181217.txt\n",
            "-rw-r--r-- 1 root root 1.6K Jul  3 10:36 planets_new.npy\n",
            "-rw-r--r-- 1 root root 4.5K Jul  3 10:35 planets_new.txt\n",
            "-rw-r--r-- 1 root root 4.5K Jul  3 10:34 planets_nex,txt\n",
            "-rw-r--r-- 1 root root 4.5K Jul  3 10:35 planets_nex.txt\n",
            "-rw-r--r-- 1 root root  254 Jul  3 09:47 planets_small-200320-181217.txt\n",
            "drwxr-xr-x 1 root root 4.0K Jun 26 16:26 sample_data\n",
            "-rw-r--r-- 1 root root 760K Jul  3 10:46 zeros_comprsd.npz\n",
            "-rw-r--r-- 1 root root 763M Jul  3 10:46 zeros.npz\n"
          ],
          "name": "stdout"
        }
      ]
    },
    {
      "cell_type": "code",
      "metadata": {
        "id": "rCm3IVE8SVt1",
        "colab_type": "code",
        "colab": {}
      },
      "source": [
        ""
      ],
      "execution_count": null,
      "outputs": []
    },
    {
      "cell_type": "markdown",
      "metadata": {
        "id": "0du9NPaRm96C",
        "colab_type": "text"
      },
      "source": [
        "#Stats with NumPy"
      ]
    },
    {
      "cell_type": "code",
      "metadata": {
        "id": "dsgr363VnCVr",
        "colab_type": "code",
        "colab": {}
      },
      "source": [
        "arr = np.random.rand(10000,)"
      ],
      "execution_count": null,
      "outputs": []
    },
    {
      "cell_type": "code",
      "metadata": {
        "id": "pFVAx-dinV2v",
        "colab_type": "code",
        "colab": {
          "base_uri": "https://localhost:8080/",
          "height": 34
        },
        "outputId": "41c39014-9783-4926-c2d8-90a5c9d6fc8e"
      },
      "source": [
        "np.amin(arr)"
      ],
      "execution_count": null,
      "outputs": [
        {
          "output_type": "execute_result",
          "data": {
            "text/plain": [
              "3.179747770087893e-06"
            ]
          },
          "metadata": {
            "tags": []
          },
          "execution_count": 4
        }
      ]
    },
    {
      "cell_type": "code",
      "metadata": {
        "id": "-YyFqS_1nb70",
        "colab_type": "code",
        "colab": {
          "base_uri": "https://localhost:8080/",
          "height": 34
        },
        "outputId": "e861b7aa-6a66-4fb1-ad54-2091acc8da4c"
      },
      "source": [
        "np.amax(arr)"
      ],
      "execution_count": null,
      "outputs": [
        {
          "output_type": "execute_result",
          "data": {
            "text/plain": [
              "0.999766990549871"
            ]
          },
          "metadata": {
            "tags": []
          },
          "execution_count": 5
        }
      ]
    },
    {
      "cell_type": "code",
      "metadata": {
        "id": "tVw5XJEdnkAc",
        "colab_type": "code",
        "colab": {
          "base_uri": "https://localhost:8080/",
          "height": 34
        },
        "outputId": "616afd68-42de-4436-b386-0bf28e9005a9"
      },
      "source": [
        "np.mean(arr)"
      ],
      "execution_count": null,
      "outputs": [
        {
          "output_type": "execute_result",
          "data": {
            "text/plain": [
              "0.5009704727227924"
            ]
          },
          "metadata": {
            "tags": []
          },
          "execution_count": 6
        }
      ]
    },
    {
      "cell_type": "code",
      "metadata": {
        "id": "TthQcGC7npbM",
        "colab_type": "code",
        "colab": {
          "base_uri": "https://localhost:8080/",
          "height": 34
        },
        "outputId": "d419866e-160f-4030-d773-da03c591166f"
      },
      "source": [
        "np.var(arr)"
      ],
      "execution_count": null,
      "outputs": [
        {
          "output_type": "execute_result",
          "data": {
            "text/plain": [
              "0.08402023323066683"
            ]
          },
          "metadata": {
            "tags": []
          },
          "execution_count": 7
        }
      ]
    },
    {
      "cell_type": "code",
      "metadata": {
        "id": "Ujq-o-YvnrhP",
        "colab_type": "code",
        "colab": {
          "base_uri": "https://localhost:8080/",
          "height": 34
        },
        "outputId": "4cc31875-5c4a-4b5e-9239-66efae2a8ec6"
      },
      "source": [
        "np.std(arr)"
      ],
      "execution_count": null,
      "outputs": [
        {
          "output_type": "execute_result",
          "data": {
            "text/plain": [
              "0.2898624384611894"
            ]
          },
          "metadata": {
            "tags": []
          },
          "execution_count": 8
        }
      ]
    },
    {
      "cell_type": "code",
      "metadata": {
        "id": "rYQDKN1UnvvS",
        "colab_type": "code",
        "colab": {
          "base_uri": "https://localhost:8080/",
          "height": 34
        },
        "outputId": "745b7a24-90ce-4a8b-b509-1f0f17d0de78"
      },
      "source": [
        "np.median(arr)"
      ],
      "execution_count": null,
      "outputs": [
        {
          "output_type": "execute_result",
          "data": {
            "text/plain": [
              "0.502919723486772"
            ]
          },
          "metadata": {
            "tags": []
          },
          "execution_count": 9
        }
      ]
    },
    {
      "cell_type": "code",
      "metadata": {
        "id": "vhdldSNenyb7",
        "colab_type": "code",
        "colab": {
          "base_uri": "https://localhost:8080/",
          "height": 34
        },
        "outputId": "605838e6-b583-46ad-9fd8-71be5a64c3fd"
      },
      "source": [
        "np.percentile(arr,50)"
      ],
      "execution_count": null,
      "outputs": [
        {
          "output_type": "execute_result",
          "data": {
            "text/plain": [
              "0.502919723486772"
            ]
          },
          "metadata": {
            "tags": []
          },
          "execution_count": 10
        }
      ]
    },
    {
      "cell_type": "code",
      "metadata": {
        "id": "Wrwlu4S1n6Gk",
        "colab_type": "code",
        "colab": {
          "base_uri": "https://localhost:8080/",
          "height": 34
        },
        "outputId": "8554e27c-5dbc-4e70-aacd-b8e306628922"
      },
      "source": [
        "np.percentile(arr,60)"
      ],
      "execution_count": null,
      "outputs": [
        {
          "output_type": "execute_result",
          "data": {
            "text/plain": [
              "0.6037797020191311"
            ]
          },
          "metadata": {
            "tags": []
          },
          "execution_count": 11
        }
      ]
    },
    {
      "cell_type": "code",
      "metadata": {
        "id": "aggGhkXJn9A_",
        "colab_type": "code",
        "colab": {
          "base_uri": "https://localhost:8080/",
          "height": 34
        },
        "outputId": "164b72bf-005a-4fa8-ab84-b72b91a2ae5c"
      },
      "source": [
        "np.percentile(arr,100)"
      ],
      "execution_count": null,
      "outputs": [
        {
          "output_type": "execute_result",
          "data": {
            "text/plain": [
              "0.999766990549871"
            ]
          },
          "metadata": {
            "tags": []
          },
          "execution_count": 12
        }
      ]
    },
    {
      "cell_type": "code",
      "metadata": {
        "id": "RxapZouXn_q6",
        "colab_type": "code",
        "colab": {
          "base_uri": "https://localhost:8080/",
          "height": 34
        },
        "outputId": "811de605-71a3-48f8-f23a-41e9374b4f61"
      },
      "source": [
        "np.percentile(arr,75)"
      ],
      "execution_count": null,
      "outputs": [
        {
          "output_type": "execute_result",
          "data": {
            "text/plain": [
              "0.7497537718818541"
            ]
          },
          "metadata": {
            "tags": []
          },
          "execution_count": 13
        }
      ]
    },
    {
      "cell_type": "code",
      "metadata": {
        "id": "O3KlHmLroDYO",
        "colab_type": "code",
        "colab": {
          "base_uri": "https://localhost:8080/",
          "height": 51
        },
        "outputId": "a22b8c2d-b3f9-4f30-bdf9-0364f26a3f16"
      },
      "source": [
        "%%time\n",
        "iqr = np.percentile(arr,75) - np.percentile(arr,25)"
      ],
      "execution_count": null,
      "outputs": [
        {
          "output_type": "stream",
          "text": [
            "CPU times: user 1.42 ms, sys: 31 µs, total: 1.45 ms\n",
            "Wall time: 1.33 ms\n"
          ],
          "name": "stdout"
        }
      ]
    },
    {
      "cell_type": "code",
      "metadata": {
        "id": "AHqr7e3VoVS1",
        "colab_type": "code",
        "colab": {
          "base_uri": "https://localhost:8080/",
          "height": 34
        },
        "outputId": "72f45602-7a38-4cf5-8082-c1023729e1c5"
      },
      "source": [
        "iqr"
      ],
      "execution_count": null,
      "outputs": [
        {
          "output_type": "execute_result",
          "data": {
            "text/plain": [
              "0.5012289320110694"
            ]
          },
          "metadata": {
            "tags": []
          },
          "execution_count": 15
        }
      ]
    },
    {
      "cell_type": "code",
      "metadata": {
        "id": "pmw3Mn-aoW3W",
        "colab_type": "code",
        "colab": {
          "base_uri": "https://localhost:8080/",
          "height": 51
        },
        "outputId": "6b8dfc3b-3608-45d1-892f-b743873bae7a"
      },
      "source": [
        "%%time\n",
        "quartiles = np.percentile(arr,[25,75])\n",
        "iqr = quartiles[1] - quartiles[0]"
      ],
      "execution_count": null,
      "outputs": [
        {
          "output_type": "stream",
          "text": [
            "CPU times: user 1.21 ms, sys: 38 µs, total: 1.25 ms\n",
            "Wall time: 841 µs\n"
          ],
          "name": "stdout"
        }
      ]
    },
    {
      "cell_type": "code",
      "metadata": {
        "id": "Zd1vb4uwpBDU",
        "colab_type": "code",
        "colab": {}
      },
      "source": [
        "z_score =(arr - np.mean(arr)) / np.std(arr)"
      ],
      "execution_count": null,
      "outputs": []
    },
    {
      "cell_type": "code",
      "metadata": {
        "id": "WLRREUJ8peFN",
        "colab_type": "code",
        "colab": {
          "base_uri": "https://localhost:8080/",
          "height": 51
        },
        "outputId": "b7c2ffb5-608d-43a2-c054-af2161fbc129"
      },
      "source": [
        "z_score"
      ],
      "execution_count": null,
      "outputs": [
        {
          "output_type": "execute_result",
          "data": {
            "text/plain": [
              "array([ 0.91710479, -0.83733039, -1.4956239 , ...,  1.575767  ,\n",
              "       -1.03208573,  0.71808177])"
            ]
          },
          "metadata": {
            "tags": []
          },
          "execution_count": 21
        }
      ]
    },
    {
      "cell_type": "code",
      "metadata": {
        "id": "fZdfiR0XpgSd",
        "colab_type": "code",
        "colab": {}
      },
      "source": [
        "hist = np.histogram(arr,bins=5)"
      ],
      "execution_count": null,
      "outputs": []
    },
    {
      "cell_type": "code",
      "metadata": {
        "id": "GeHHTzcop45c",
        "colab_type": "code",
        "colab": {}
      },
      "source": [
        "hist"
      ],
      "execution_count": null,
      "outputs": []
    },
    {
      "cell_type": "code",
      "metadata": {
        "id": "xNPfWFhop5uk",
        "colab_type": "code",
        "colab": {
          "base_uri": "https://localhost:8080/",
          "height": 34
        },
        "outputId": "42db49fe-bb39-42fc-c473-a3ddd5526510"
      },
      "source": [
        "print(type(hist))"
      ],
      "execution_count": null,
      "outputs": [
        {
          "output_type": "stream",
          "text": [
            "<class 'tuple'>\n"
          ],
          "name": "stdout"
        }
      ]
    },
    {
      "cell_type": "code",
      "metadata": {
        "id": "AiyJlo3tp8q4",
        "colab_type": "code",
        "colab": {
          "base_uri": "https://localhost:8080/",
          "height": 34
        },
        "outputId": "7198f398-771c-41cb-9d74-bc8ab4e763be"
      },
      "source": [
        "hist[0].shape"
      ],
      "execution_count": null,
      "outputs": [
        {
          "output_type": "execute_result",
          "data": {
            "text/plain": [
              "(5,)"
            ]
          },
          "metadata": {
            "tags": []
          },
          "execution_count": 38
        }
      ]
    },
    {
      "cell_type": "code",
      "metadata": {
        "id": "n5gHS9ESqGlx",
        "colab_type": "code",
        "colab": {
          "base_uri": "https://localhost:8080/",
          "height": 34
        },
        "outputId": "8765e313-eb48-4848-ab69-b38b32d95329"
      },
      "source": [
        "hist[1].ndim"
      ],
      "execution_count": null,
      "outputs": [
        {
          "output_type": "execute_result",
          "data": {
            "text/plain": [
              "1"
            ]
          },
          "metadata": {
            "tags": []
          },
          "execution_count": 39
        }
      ]
    },
    {
      "cell_type": "code",
      "metadata": {
        "id": "BHaVOagSqTkD",
        "colab_type": "code",
        "colab": {
          "base_uri": "https://localhost:8080/",
          "height": 34
        },
        "outputId": "32cab353-5a3d-47cc-898b-d884e7750531"
      },
      "source": [
        "hist[1].shape"
      ],
      "execution_count": null,
      "outputs": [
        {
          "output_type": "execute_result",
          "data": {
            "text/plain": [
              "(6,)"
            ]
          },
          "metadata": {
            "tags": []
          },
          "execution_count": 40
        }
      ]
    },
    {
      "cell_type": "code",
      "metadata": {
        "id": "xhGhRt_ZqW4E",
        "colab_type": "code",
        "colab": {
          "base_uri": "https://localhost:8080/",
          "height": 34
        },
        "outputId": "b5f0347d-99ec-42e2-fb92-04cc1db15482"
      },
      "source": [
        "np.histogram(arr, bins=[0, 0.25, 0.5, 0.75, 1])"
      ],
      "execution_count": null,
      "outputs": [
        {
          "output_type": "execute_result",
          "data": {
            "text/plain": [
              "(array([2524, 2446, 2534, 2496]), array([0.  , 0.25, 0.5 , 0.75, 1.  ]))"
            ]
          },
          "metadata": {
            "tags": []
          },
          "execution_count": 41
        }
      ]
    },
    {
      "cell_type": "code",
      "metadata": {
        "id": "LyR4PkOIq4M6",
        "colab_type": "code",
        "colab": {}
      },
      "source": [
        "bins = [0, 0.25, 0.5, 0.75, 1]"
      ],
      "execution_count": null,
      "outputs": []
    },
    {
      "cell_type": "code",
      "metadata": {
        "id": "ZIql6U3zq7fq",
        "colab_type": "code",
        "colab": {
          "base_uri": "https://localhost:8080/",
          "height": 34
        },
        "outputId": "4a8521fc-ab4c-4d32-fccf-3dbcf6c38507"
      },
      "source": [
        "np.digitize(arr, bins)"
      ],
      "execution_count": null,
      "outputs": [
        {
          "output_type": "execute_result",
          "data": {
            "text/plain": [
              "array([4, 2, 1, ..., 4, 1, 3])"
            ]
          },
          "metadata": {
            "tags": []
          },
          "execution_count": 43
        }
      ]
    },
    {
      "cell_type": "code",
      "metadata": {
        "id": "a97vJCRyrCei",
        "colab_type": "code",
        "colab": {}
      },
      "source": [
        "arr1 = np.random.randint(0,10,(10))"
      ],
      "execution_count": null,
      "outputs": []
    },
    {
      "cell_type": "code",
      "metadata": {
        "id": "-ATVh70ZrOqK",
        "colab_type": "code",
        "colab": {
          "base_uri": "https://localhost:8080/",
          "height": 34
        },
        "outputId": "22c75527-fffa-4644-c295-cb7d5542eabc"
      },
      "source": [
        "arr1.shape"
      ],
      "execution_count": null,
      "outputs": [
        {
          "output_type": "execute_result",
          "data": {
            "text/plain": [
              "(10,)"
            ]
          },
          "metadata": {
            "tags": []
          },
          "execution_count": 49
        }
      ]
    },
    {
      "cell_type": "code",
      "metadata": {
        "id": "N82LpLworRxV",
        "colab_type": "code",
        "colab": {
          "base_uri": "https://localhost:8080/",
          "height": 34
        },
        "outputId": "770a37fb-56dc-4238-ffb7-8aca39a4d2ee"
      },
      "source": [
        "arr1"
      ],
      "execution_count": null,
      "outputs": [
        {
          "output_type": "execute_result",
          "data": {
            "text/plain": [
              "array([4, 0, 1, 7, 2, 1, 5, 1, 8, 1])"
            ]
          },
          "metadata": {
            "tags": []
          },
          "execution_count": 60
        }
      ]
    },
    {
      "cell_type": "code",
      "metadata": {
        "id": "Qv6t0oMorYl3",
        "colab_type": "code",
        "colab": {}
      },
      "source": [
        "bins = [0, 7, 10]"
      ],
      "execution_count": null,
      "outputs": []
    },
    {
      "cell_type": "code",
      "metadata": {
        "id": "Uu49xDPGr431",
        "colab_type": "code",
        "colab": {
          "base_uri": "https://localhost:8080/",
          "height": 34
        },
        "outputId": "d9fe3d54-4322-427f-9467-c986f401fa99"
      },
      "source": [
        "np.digitize(arr1, bins, right = True)"
      ],
      "execution_count": null,
      "outputs": [
        {
          "output_type": "execute_result",
          "data": {
            "text/plain": [
              "array([1, 0, 1, 1, 1, 1, 1, 1, 2, 1])"
            ]
          },
          "metadata": {
            "tags": []
          },
          "execution_count": 63
        }
      ]
    },
    {
      "cell_type": "code",
      "metadata": {
        "id": "JlegjOm3sMH8",
        "colab_type": "code",
        "colab": {}
      },
      "source": [
        "arr_1 = np.random.randint(50,80,100) #weight"
      ],
      "execution_count": null,
      "outputs": []
    },
    {
      "cell_type": "code",
      "metadata": {
        "id": "vhDOBx7bs2QI",
        "colab_type": "code",
        "colab": {}
      },
      "source": [
        "arr_2 = np.random.randint(150,185,100) #height"
      ],
      "execution_count": null,
      "outputs": []
    },
    {
      "cell_type": "code",
      "metadata": {
        "id": "fooURy3is5FF",
        "colab_type": "code",
        "colab": {}
      },
      "source": [
        "arr_3 = np.random.randint(17,22,100) #age"
      ],
      "execution_count": null,
      "outputs": []
    },
    {
      "cell_type": "code",
      "metadata": {
        "id": "_2WK2ewKs9dy",
        "colab_type": "code",
        "colab": {}
      },
      "source": [
        "arr_2d_1 = np.concatenate((arr_1, arr_2, arr_3 )).reshape(3,100)"
      ],
      "execution_count": null,
      "outputs": []
    },
    {
      "cell_type": "code",
      "metadata": {
        "id": "N8dP67zatwN-",
        "colab_type": "code",
        "colab": {
          "base_uri": "https://localhost:8080/",
          "height": 34
        },
        "outputId": "779a1365-3122-4f0d-d100-a105b6ec7301"
      },
      "source": [
        "arr_2d_1.ndim"
      ],
      "execution_count": null,
      "outputs": [
        {
          "output_type": "execute_result",
          "data": {
            "text/plain": [
              "2"
            ]
          },
          "metadata": {
            "tags": []
          },
          "execution_count": 75
        }
      ]
    },
    {
      "cell_type": "code",
      "metadata": {
        "id": "jQXb760WtTJY",
        "colab_type": "code",
        "colab": {}
      },
      "source": [
        "arr_2d_2 = np.vstack((arr_1, arr_2, arr_3))"
      ],
      "execution_count": null,
      "outputs": []
    },
    {
      "cell_type": "code",
      "metadata": {
        "id": "cfcR_G0atkhy",
        "colab_type": "code",
        "colab": {
          "base_uri": "https://localhost:8080/",
          "height": 34
        },
        "outputId": "571045c8-b77a-47b1-a4de-2dc729c47cc8"
      },
      "source": [
        "np.amin(arr_2d_2, axis = 1)"
      ],
      "execution_count": null,
      "outputs": [
        {
          "output_type": "execute_result",
          "data": {
            "text/plain": [
              "array([ 50, 151,  17])"
            ]
          },
          "metadata": {
            "tags": []
          },
          "execution_count": 77
        }
      ]
    },
    {
      "cell_type": "code",
      "metadata": {
        "id": "vzaYPiJRuGyo",
        "colab_type": "code",
        "colab": {
          "base_uri": "https://localhost:8080/",
          "height": 34
        },
        "outputId": "699bfd12-083a-4af4-9cc4-732cf1a88de4"
      },
      "source": [
        "np.amin(arr_2d_1, axis = 1)"
      ],
      "execution_count": null,
      "outputs": [
        {
          "output_type": "execute_result",
          "data": {
            "text/plain": [
              "array([ 50, 151,  17])"
            ]
          },
          "metadata": {
            "tags": []
          },
          "execution_count": 78
        }
      ]
    },
    {
      "cell_type": "code",
      "metadata": {
        "id": "ZA7_ajxGuLU6",
        "colab_type": "code",
        "colab": {
          "base_uri": "https://localhost:8080/",
          "height": 34
        },
        "outputId": "f32f0fa4-918b-4c06-f7a8-a16b0d462029"
      },
      "source": [
        "np.amax(arr_2d_1, axis = 1)"
      ],
      "execution_count": null,
      "outputs": [
        {
          "output_type": "execute_result",
          "data": {
            "text/plain": [
              "array([ 79, 184,  21])"
            ]
          },
          "metadata": {
            "tags": []
          },
          "execution_count": 79
        }
      ]
    },
    {
      "cell_type": "code",
      "metadata": {
        "id": "jYoE4XiKuO-V",
        "colab_type": "code",
        "colab": {
          "base_uri": "https://localhost:8080/",
          "height": 34
        },
        "outputId": "0e2d2a9c-c307-41fb-dde0-b4a4364c0864"
      },
      "source": [
        "np.std(arr_2d_1, axis = 1)"
      ],
      "execution_count": null,
      "outputs": [
        {
          "output_type": "execute_result",
          "data": {
            "text/plain": [
              "array([9.30515449, 9.83145971, 1.51842023])"
            ]
          },
          "metadata": {
            "tags": []
          },
          "execution_count": 80
        }
      ]
    },
    {
      "cell_type": "code",
      "metadata": {
        "id": "7uYbzqZquWeo",
        "colab_type": "code",
        "colab": {
          "base_uri": "https://localhost:8080/",
          "height": 34
        },
        "outputId": "95ed8294-1503-44e9-a8a1-a63ea3d40496"
      },
      "source": [
        "np.mean(arr_2d_1, axis = 1)"
      ],
      "execution_count": null,
      "outputs": [
        {
          "output_type": "execute_result",
          "data": {
            "text/plain": [
              "array([ 65.29, 166.32,  18.88])"
            ]
          },
          "metadata": {
            "tags": []
          },
          "execution_count": 81
        }
      ]
    },
    {
      "cell_type": "code",
      "metadata": {
        "id": "v3Ac4DVFuZxm",
        "colab_type": "code",
        "colab": {}
      },
      "source": [
        ""
      ],
      "execution_count": null,
      "outputs": []
    },
    {
      "cell_type": "markdown",
      "metadata": {
        "id": "iCqQMTGl7UFg",
        "colab_type": "text"
      },
      "source": [
        "# Checking stats rules with Numpy"
      ]
    },
    {
      "cell_type": "markdown",
      "metadata": {
        "id": "l7lnDsBQ7Zpr",
        "colab_type": "text"
      },
      "source": [
        "## Mean substracted array has zero mean"
      ]
    },
    {
      "cell_type": "code",
      "metadata": {
        "id": "YQ2GvgWP7YEC",
        "colab_type": "code",
        "colab": {}
      },
      "source": [
        "arr = np.random.rand(1000)"
      ],
      "execution_count": 88,
      "outputs": []
    },
    {
      "cell_type": "code",
      "metadata": {
        "id": "7HJRhJDU74Z5",
        "colab_type": "code",
        "colab": {}
      },
      "source": [
        "mean = np.mean(arr)"
      ],
      "execution_count": 89,
      "outputs": []
    },
    {
      "cell_type": "code",
      "metadata": {
        "id": "6Lr9t847780t",
        "colab_type": "code",
        "colab": {}
      },
      "source": [
        "arr1 = arr - mean"
      ],
      "execution_count": 90,
      "outputs": []
    },
    {
      "cell_type": "code",
      "metadata": {
        "id": "LfFSvNnU8ALM",
        "colab_type": "code",
        "colab": {
          "base_uri": "https://localhost:8080/",
          "height": 34
        },
        "outputId": "cc8915aa-37a5-4585-8bfd-ce6a7a61b8d9"
      },
      "source": [
        "np.mean(arr1)"
      ],
      "execution_count": 91,
      "outputs": [
        {
          "output_type": "execute_result",
          "data": {
            "text/plain": [
              "-3.68594044175552e-17"
            ]
          },
          "metadata": {
            "tags": []
          },
          "execution_count": 91
        }
      ]
    },
    {
      "cell_type": "markdown",
      "metadata": {
        "id": "L4oWhyN38RBc",
        "colab_type": "text"
      },
      "source": [
        "##Computing mean with smaller set of values"
      ]
    },
    {
      "cell_type": "code",
      "metadata": {
        "id": "yE5DX-lj8RxU",
        "colab_type": "code",
        "colab": {}
      },
      "source": [
        "arr = np.random.rand(1000)"
      ],
      "execution_count": 92,
      "outputs": []
    },
    {
      "cell_type": "code",
      "metadata": {
        "id": "-A7eKqta8c1O",
        "colab_type": "code",
        "colab": {
          "base_uri": "https://localhost:8080/",
          "height": 955
        },
        "outputId": "dbc137f2-d138-4fc0-d54d-ccc111b2444d"
      },
      "source": [
        "for k in range(50):\n",
        "    arr1 = arr[0:k]\n",
        "    print(k,np.mean(arr1))"
      ],
      "execution_count": 95,
      "outputs": [
        {
          "output_type": "stream",
          "text": [
            "0 nan\n",
            "1 0.38303937089075835\n",
            "2 0.6437107904749605\n",
            "3 0.7243586554536162\n",
            "4 0.6069806868967678\n",
            "5 0.6121763807753245\n",
            "6 0.6363491031319958\n",
            "7 0.6660508939372357\n",
            "8 0.7065353634991518\n",
            "9 0.6353146294542831\n",
            "10 0.5756163413023102\n",
            "11 0.5865047999216311\n",
            "12 0.6120453036271823\n",
            "13 0.5682602184887539\n",
            "14 0.5957308031847359\n",
            "15 0.5776979688782493\n",
            "16 0.5477190207827813\n",
            "17 0.5672463030638561\n",
            "18 0.5755830362316645\n",
            "19 0.5928120428658188\n",
            "20 0.5855628930748635\n",
            "21 0.5883092624194853\n",
            "22 0.5617033347519526\n",
            "23 0.5796722715626098\n",
            "24 0.564577542030725\n",
            "25 0.5562166615837103\n",
            "26 0.5603689293444593\n",
            "27 0.5649259515041104\n",
            "28 0.5716520260601383\n",
            "29 0.5694841056868256\n",
            "30 0.5641364114752059\n",
            "31 0.5734788554695398\n",
            "32 0.575605412923475\n",
            "33 0.5734216947674547\n",
            "34 0.5789958773902308\n",
            "35 0.5772474405706728\n",
            "36 0.5850190406747303\n",
            "37 0.570337286639793\n",
            "38 0.5600853641801099\n",
            "39 0.5515287108596048\n",
            "40 0.539137858345836\n",
            "41 0.5313507102389984\n",
            "42 0.5398882162643728\n",
            "43 0.5424702074400792\n",
            "44 0.5372800312421122\n",
            "45 0.5376565922587221\n",
            "46 0.5405903279151557\n",
            "47 0.5456217002188516\n",
            "48 0.5362401298558553\n",
            "49 0.5377259251895801\n"
          ],
          "name": "stdout"
        },
        {
          "output_type": "stream",
          "text": [
            "/usr/local/lib/python3.6/dist-packages/numpy/core/fromnumeric.py:3335: RuntimeWarning: Mean of empty slice.\n",
            "  out=out, **kwargs)\n",
            "/usr/local/lib/python3.6/dist-packages/numpy/core/_methods.py:161: RuntimeWarning: invalid value encountered in double_scalars\n",
            "  ret = ret.dtype.type(ret / rcount)\n"
          ],
          "name": "stderr"
        }
      ]
    },
    {
      "cell_type": "code",
      "metadata": {
        "id": "bxqlPxmH8f77",
        "colab_type": "code",
        "colab": {}
      },
      "source": [
        "np.cumsum(arr)"
      ],
      "execution_count": null,
      "outputs": []
    },
    {
      "cell_type": "code",
      "metadata": {
        "id": "HrOh1q4H9gwE",
        "colab_type": "code",
        "colab": {
          "base_uri": "https://localhost:8080/",
          "height": 1000
        },
        "outputId": "8021e844-8a12-4b00-f8a5-e9d482a483b3"
      },
      "source": [
        "np.cumsum(arr) / np.arange(1,1001)"
      ],
      "execution_count": 97,
      "outputs": [
        {
          "output_type": "execute_result",
          "data": {
            "text/plain": [
              "array([0.38303937, 0.64371079, 0.72435866, 0.60698069, 0.61217638,\n",
              "       0.6363491 , 0.66605089, 0.70653536, 0.63531463, 0.57561634,\n",
              "       0.5865048 , 0.6120453 , 0.56826022, 0.5957308 , 0.57769797,\n",
              "       0.54771902, 0.5672463 , 0.57558304, 0.59281204, 0.58556289,\n",
              "       0.58830926, 0.56170333, 0.57967227, 0.56457754, 0.55621666,\n",
              "       0.56036893, 0.56492595, 0.57165203, 0.56948411, 0.56413641,\n",
              "       0.57347886, 0.57560541, 0.57342169, 0.57899588, 0.57724744,\n",
              "       0.58501904, 0.57033729, 0.56008536, 0.55152871, 0.53913786,\n",
              "       0.53135071, 0.53988822, 0.54247021, 0.53728003, 0.53765659,\n",
              "       0.54059033, 0.5456217 , 0.53624013, 0.53772593, 0.54037014,\n",
              "       0.54393587, 0.53429443, 0.52980936, 0.53187901, 0.52603202,\n",
              "       0.51838642, 0.52246926, 0.5140078 , 0.50779864, 0.51505251,\n",
              "       0.5117612 , 0.51534684, 0.50815367, 0.50400591, 0.51120297,\n",
              "       0.50993442, 0.50575519, 0.50165842, 0.49551475, 0.49103019,\n",
              "       0.49447143, 0.48820832, 0.49008221, 0.48427457, 0.48205011,\n",
              "       0.48466185, 0.48493356, 0.48476894, 0.49069728, 0.4904855 ,\n",
              "       0.49176858, 0.49545963, 0.4988856 , 0.5040347 , 0.50603037,\n",
              "       0.5030982 , 0.50530442, 0.50088236, 0.4970361 , 0.49157441,\n",
              "       0.49267228, 0.49555125, 0.49634972, 0.49231373, 0.48834843,\n",
              "       0.49165802, 0.492966  , 0.49628207, 0.49571512, 0.4962252 ,\n",
              "       0.49617766, 0.50012079, 0.50459886, 0.50457586, 0.50704318,\n",
              "       0.50973402, 0.50551435, 0.50128258, 0.50404498, 0.5009701 ,\n",
              "       0.49799404, 0.49881756, 0.49702045, 0.49498983, 0.49814891,\n",
              "       0.50039732, 0.50293097, 0.50420312, 0.5025413 , 0.5029453 ,\n",
              "       0.50059951, 0.50159594, 0.50367949, 0.5000575 , 0.49904502,\n",
              "       0.49867523, 0.49550067, 0.49906648, 0.50133199, 0.49978612,\n",
              "       0.50184991, 0.50307103, 0.50237631, 0.50275066, 0.50357911,\n",
              "       0.50143139, 0.49931196, 0.49926823, 0.49878377, 0.4960514 ,\n",
              "       0.4977349 , 0.49995037, 0.49946167, 0.49842114, 0.49754046,\n",
              "       0.49614912, 0.49610671, 0.49453148, 0.49309373, 0.49066044,\n",
              "       0.48793245, 0.49076062, 0.49238629, 0.4919372 , 0.49068534,\n",
              "       0.49239117, 0.49500072, 0.49702434, 0.49471415, 0.49417816,\n",
              "       0.49683022, 0.49607954, 0.49507225, 0.49328997, 0.49390287,\n",
              "       0.49687668, 0.49766347, 0.4950445 , 0.49628414, 0.49469271,\n",
              "       0.49298898, 0.49214659, 0.49100904, 0.48851822, 0.4908638 ,\n",
              "       0.49248351, 0.49324657, 0.49494502, 0.49380017, 0.4947902 ,\n",
              "       0.49706506, 0.49682416, 0.49956664, 0.50122294, 0.5023957 ,\n",
              "       0.50213888, 0.50179481, 0.5041834 , 0.50593046, 0.50559295,\n",
              "       0.50303143, 0.50249883, 0.50388626, 0.50281243, 0.50244686,\n",
              "       0.50138046, 0.50118851, 0.50290619, 0.50045787, 0.50001807,\n",
              "       0.49925808, 0.50015116, 0.49971431, 0.50125972, 0.49921273,\n",
              "       0.50102785, 0.50285568, 0.50374894, 0.50347325, 0.50294454,\n",
              "       0.50154744, 0.49986244, 0.49961769, 0.50183951, 0.5006451 ,\n",
              "       0.50190685, 0.50399653, 0.50509255, 0.50580161, 0.5057754 ,\n",
              "       0.50399242, 0.5052823 , 0.50450806, 0.50274568, 0.50328765,\n",
              "       0.50186666, 0.50381431, 0.50331516, 0.50121634, 0.50082565,\n",
              "       0.49872351, 0.49954892, 0.49940572, 0.49836722, 0.49705196,\n",
              "       0.49706712, 0.49660672, 0.49717674, 0.49615326, 0.49662538,\n",
              "       0.49762303, 0.49894733, 0.49820791, 0.49804996, 0.49972288,\n",
              "       0.49780314, 0.49664238, 0.49805008, 0.4971316 , 0.49713695,\n",
              "       0.49803242, 0.49913426, 0.49929003, 0.50088688, 0.50025371,\n",
              "       0.5003614 , 0.50059142, 0.50134951, 0.50002189, 0.49891914,\n",
              "       0.49919024, 0.49764421, 0.49803243, 0.49907341, 0.5005768 ,\n",
              "       0.49886126, 0.49951648, 0.50044191, 0.50117938, 0.50099169,\n",
              "       0.50013967, 0.50053891, 0.50213448, 0.50286448, 0.50440373,\n",
              "       0.50324961, 0.50345658, 0.50349803, 0.50298253, 0.50143097,\n",
              "       0.50201031, 0.50046285, 0.50029576, 0.50074597, 0.50141617,\n",
              "       0.5029905 , 0.5022469 , 0.50141251, 0.5004086 , 0.50066116,\n",
              "       0.50178087, 0.50341912, 0.50226807, 0.50096187, 0.50244501,\n",
              "       0.5036812 , 0.50356872, 0.50236252, 0.5029001 , 0.50135632,\n",
              "       0.50033207, 0.50041524, 0.49883314, 0.49767307, 0.4972869 ,\n",
              "       0.4960791 , 0.49695915, 0.49852167, 0.49987958, 0.49924568,\n",
              "       0.4982397 , 0.49963979, 0.49980361, 0.49886573, 0.4976575 ,\n",
              "       0.497861  , 0.49632357, 0.49773386, 0.49739041, 0.49618685,\n",
              "       0.49732431, 0.49578275, 0.49659775, 0.49647141, 0.4962782 ,\n",
              "       0.49619784, 0.49734372, 0.49732823, 0.49755644, 0.49650552,\n",
              "       0.49663178, 0.49704366, 0.49567154, 0.49676275, 0.49685194,\n",
              "       0.49563   , 0.49428776, 0.49425116, 0.49314534, 0.49238168,\n",
              "       0.49364374, 0.49447689, 0.49571695, 0.4952278 , 0.49600861,\n",
              "       0.49636546, 0.49622591, 0.49606928, 0.49467648, 0.49469236,\n",
              "       0.49611814, 0.49674424, 0.49678685, 0.4967154 , 0.49552958,\n",
              "       0.49414259, 0.49394222, 0.49482608, 0.49575784, 0.49671148,\n",
              "       0.49721839, 0.49836163, 0.49742511, 0.4975523 , 0.49785016,\n",
              "       0.4991631 , 0.50033042, 0.50163988, 0.50297496, 0.50304452,\n",
              "       0.50284272, 0.50357678, 0.50236364, 0.50333279, 0.50282509,\n",
              "       0.50393746, 0.50335788, 0.50354837, 0.50476015, 0.50604809,\n",
              "       0.50710577, 0.50612893, 0.505005  , 0.50513509, 0.50492146,\n",
              "       0.50530147, 0.50575909, 0.50529133, 0.50514955, 0.50421677,\n",
              "       0.50417479, 0.50304218, 0.50336762, 0.50314974, 0.50327499,\n",
              "       0.50374221, 0.50439332, 0.50551677, 0.50611703, 0.50589546,\n",
              "       0.50630818, 0.50530509, 0.5052102 , 0.50632593, 0.50540162,\n",
              "       0.5044579 , 0.50542961, 0.50630307, 0.50582746, 0.50497669,\n",
              "       0.50417404, 0.50299971, 0.50312541, 0.50205398, 0.50117102,\n",
              "       0.50223982, 0.50155904, 0.50215786, 0.50184171, 0.50221026,\n",
              "       0.50283265, 0.50400814, 0.50514785, 0.50586245, 0.50577544,\n",
              "       0.50641979, 0.50722382, 0.5064742 , 0.50684541, 0.50694811,\n",
              "       0.50774937, 0.50880458, 0.50881883, 0.50932832, 0.50894015,\n",
              "       0.50930751, 0.5092219 , 0.50959446, 0.51027415, 0.51015525,\n",
              "       0.51017048, 0.5091719 , 0.50981666, 0.51063277, 0.51094786,\n",
              "       0.51127892, 0.51184939, 0.51266672, 0.51326824, 0.5126031 ,\n",
              "       0.51335418, 0.51284756, 0.51273952, 0.51252013, 0.51330255,\n",
              "       0.51283092, 0.51286461, 0.51315817, 0.51415828, 0.51378003,\n",
              "       0.51312145, 0.51393697, 0.51408017, 0.51451936, 0.51427755,\n",
              "       0.5146031 , 0.51476159, 0.51577734, 0.51546905, 0.51557231,\n",
              "       0.51493452, 0.51407709, 0.51398743, 0.51384084, 0.51449924,\n",
              "       0.51384997, 0.51445567, 0.51521317, 0.51594977, 0.51690788,\n",
              "       0.51658218, 0.51674915, 0.51577159, 0.51560548, 0.51556453,\n",
              "       0.51494804, 0.51572352, 0.51630355, 0.51571463, 0.5153672 ,\n",
              "       0.51461123, 0.5149993 , 0.51452461, 0.51431781, 0.51499934,\n",
              "       0.51495818, 0.51471554, 0.51381889, 0.51316587, 0.51392998,\n",
              "       0.51358059, 0.51315688, 0.51370474, 0.51308427, 0.51228883,\n",
              "       0.51198628, 0.51146524, 0.51086973, 0.51158718, 0.51188343,\n",
              "       0.51131521, 0.51075184, 0.51145713, 0.51118338, 0.51195985,\n",
              "       0.51113704, 0.51165569, 0.512104  , 0.51224698, 0.51156193,\n",
              "       0.51201462, 0.51243925, 0.51220816, 0.51207174, 0.51180394,\n",
              "       0.51259328, 0.51298362, 0.51385124, 0.51330804, 0.51331066,\n",
              "       0.51300092, 0.51249442, 0.5122428 , 0.51299197, 0.51343084,\n",
              "       0.51402593, 0.514759  , 0.51538162, 0.51608117, 0.51660826,\n",
              "       0.51666681, 0.51602071, 0.51636365, 0.51646893, 0.51591756,\n",
              "       0.51621682, 0.51705323, 0.51631622, 0.51704963, 0.51708241,\n",
              "       0.51644077, 0.51636965, 0.51650609, 0.51712018, 0.51652553,\n",
              "       0.51581779, 0.51548497, 0.51626331, 0.51630618, 0.51579312,\n",
              "       0.51492515, 0.51448391, 0.51467041, 0.51454195, 0.51526576,\n",
              "       0.51524932, 0.51596386, 0.51625862, 0.51649041, 0.51589973,\n",
              "       0.51604132, 0.51659807, 0.51614822, 0.51697184, 0.51621027,\n",
              "       0.51638736, 0.51712557, 0.51775348, 0.51704803, 0.51637625,\n",
              "       0.51584626, 0.51608145, 0.5165401 , 0.51727882, 0.51641064,\n",
              "       0.51701551, 0.51732092, 0.51676175, 0.51672834, 0.51615948,\n",
              "       0.51599822, 0.51611495, 0.51565254, 0.51553459, 0.51481125,\n",
              "       0.5146817 , 0.51457807, 0.51373371, 0.51325281, 0.51329563,\n",
              "       0.51382907, 0.51454948, 0.51440377, 0.51415276, 0.513965  ,\n",
              "       0.51427936, 0.51493486, 0.51500895, 0.51514183, 0.51470488,\n",
              "       0.51507033, 0.51426362, 0.51350616, 0.51377935, 0.51441695,\n",
              "       0.5140566 , 0.5147848 , 0.51554916, 0.51631593, 0.51669703,\n",
              "       0.517144  , 0.51767123, 0.51816512, 0.5182983 , 0.51797304,\n",
              "       0.51848058, 0.51787627, 0.51804654, 0.51810949, 0.51800307,\n",
              "       0.51772621, 0.51822686, 0.51784237, 0.51718753, 0.51697664,\n",
              "       0.51628971, 0.5162732 , 0.51649191, 0.51689017, 0.51720136,\n",
              "       0.51722083, 0.51720856, 0.51689661, 0.51647488, 0.51594011,\n",
              "       0.51547187, 0.51494107, 0.51556902, 0.51496001, 0.51476985,\n",
              "       0.51502942, 0.51550271, 0.51577388, 0.51607067, 0.51641605,\n",
              "       0.51676727, 0.51666515, 0.51651739, 0.51598396, 0.51529103,\n",
              "       0.51503256, 0.51480045, 0.51475236, 0.51426718, 0.51498138,\n",
              "       0.51430062, 0.51462056, 0.51490909, 0.51509996, 0.51461483,\n",
              "       0.51469986, 0.51495371, 0.51492507, 0.51438323, 0.51499624,\n",
              "       0.51499705, 0.5155991 , 0.51594063, 0.51541688, 0.5155397 ,\n",
              "       0.5157823 , 0.51644119, 0.51620365, 0.51672261, 0.51684428,\n",
              "       0.51723835, 0.5174818 , 0.51691546, 0.51757358, 0.51819102,\n",
              "       0.51768365, 0.51828392, 0.51853571, 0.51882519, 0.51869097,\n",
              "       0.51855883, 0.51856054, 0.51910259, 0.5193102 , 0.51886015,\n",
              "       0.5186645 , 0.51887287, 0.51831022, 0.51783716, 0.51801832,\n",
              "       0.51773284, 0.51815183, 0.5185107 , 0.51812285, 0.51858962,\n",
              "       0.51786236, 0.51784559, 0.51725957, 0.51783898, 0.51751617,\n",
              "       0.51695881, 0.5164092 , 0.51642183, 0.51696561, 0.51644574,\n",
              "       0.51693353, 0.51727286, 0.51792208, 0.51801297, 0.51811998,\n",
              "       0.518413  , 0.51850189, 0.51824127, 0.5183692 , 0.51819795,\n",
              "       0.51853772, 0.51805847, 0.51853357, 0.51839597, 0.51878041,\n",
              "       0.51817251, 0.51855219, 0.51848426, 0.51895162, 0.51898302,\n",
              "       0.51896269, 0.51885003, 0.51854166, 0.51838447, 0.51833951,\n",
              "       0.51897632, 0.51939867, 0.51979528, 0.51972122, 0.51958324,\n",
              "       0.5196319 , 0.52000502, 0.51972312, 0.51937454, 0.51917446,\n",
              "       0.51933104, 0.51967143, 0.51919874, 0.51893389, 0.51872581,\n",
              "       0.51918298, 0.51958616, 0.51897261, 0.51837689, 0.5178873 ,\n",
              "       0.51728833, 0.51736896, 0.51684014, 0.51626854, 0.51615801,\n",
              "       0.51650249, 0.51607237, 0.5155217 , 0.5151204 , 0.51505963,\n",
              "       0.51505996, 0.5145386 , 0.5147608 , 0.51465673, 0.51470127,\n",
              "       0.51492827, 0.51543411, 0.51505005, 0.51452885, 0.51470947,\n",
              "       0.51418697, 0.51412212, 0.51459252, 0.51481142, 0.51416328,\n",
              "       0.51469254, 0.51468285, 0.51473414, 0.51480949, 0.51474133,\n",
              "       0.51439994, 0.5144858 , 0.51498883, 0.51476674, 0.51417229,\n",
              "       0.51459728, 0.51494199, 0.51481085, 0.51418052, 0.51465649,\n",
              "       0.51481795, 0.51451917, 0.51395946, 0.51455224, 0.51405823,\n",
              "       0.51360422, 0.51348582, 0.51341074, 0.51389227, 0.51432784,\n",
              "       0.5138388 , 0.51342777, 0.51367857, 0.51362887, 0.51401312,\n",
              "       0.51443559, 0.51493116, 0.515112  , 0.51467813, 0.51424995,\n",
              "       0.51400564, 0.51414067, 0.51447222, 0.51468267, 0.51503342,\n",
              "       0.51538623, 0.51482858, 0.5146128 , 0.51421873, 0.51420378,\n",
              "       0.51418486, 0.51384503, 0.51343691, 0.51334183, 0.51315258,\n",
              "       0.51351904, 0.51311996, 0.51364831, 0.51399146, 0.5142684 ,\n",
              "       0.51408218, 0.51425979, 0.51458556, 0.5146707 , 0.51484954,\n",
              "       0.51425113, 0.51425513, 0.51472038, 0.51465102, 0.51435788,\n",
              "       0.5143308 , 0.51478931, 0.51478278, 0.51452609, 0.51417887,\n",
              "       0.51471007, 0.51444228, 0.51396606, 0.5139485 , 0.51436449,\n",
              "       0.51469467, 0.51496521, 0.5153268 , 0.5153006 , 0.51472655,\n",
              "       0.51488208, 0.51498954, 0.51527867, 0.51544033, 0.51555321,\n",
              "       0.51501393, 0.51503205, 0.51536658, 0.51536517, 0.51518441,\n",
              "       0.51551791, 0.51522365, 0.51564291, 0.51540266, 0.5149351 ,\n",
              "       0.51484325, 0.51428093, 0.51420502, 0.51411571, 0.51440051,\n",
              "       0.51384059, 0.5136693 , 0.51401553, 0.51404487, 0.51376883,\n",
              "       0.51328891, 0.51325745, 0.51371509, 0.51336761, 0.51317839,\n",
              "       0.5131263 , 0.51364874, 0.51386666, 0.51397008, 0.51445195,\n",
              "       0.51390592, 0.51346863, 0.51394979, 0.51445633, 0.51431312,\n",
              "       0.51404975, 0.51451599, 0.51412795, 0.51433115, 0.51391282,\n",
              "       0.51434686, 0.51460435, 0.51478673, 0.51451151, 0.51398059,\n",
              "       0.51360256, 0.51308066, 0.51309681, 0.51353824, 0.51320467,\n",
              "       0.51329387, 0.51379017, 0.51323869, 0.51301969, 0.51258766,\n",
              "       0.51291842, 0.51294298, 0.51271086, 0.51308294, 0.51335276,\n",
              "       0.5130094 , 0.51280922, 0.51244198, 0.51190793, 0.51181403,\n",
              "       0.51200833, 0.51186153, 0.511691  , 0.51142482, 0.51185231,\n",
              "       0.51211279, 0.51251745, 0.51287267, 0.51269332, 0.51315044,\n",
              "       0.51334697, 0.51383553, 0.51405074, 0.51366246, 0.51414566,\n",
              "       0.51430526, 0.51396987, 0.51366113, 0.51369394, 0.5141692 ,\n",
              "       0.51436248, 0.51472726, 0.51428195, 0.51473828, 0.51471274,\n",
              "       0.51430931, 0.51426881, 0.51377774, 0.51419128, 0.51440409,\n",
              "       0.51404349, 0.51379473, 0.51385871, 0.51417434, 0.51418276,\n",
              "       0.51388025, 0.51397832, 0.51380299, 0.51412358, 0.51402885,\n",
              "       0.51353149, 0.51354958, 0.51401831, 0.51364872, 0.51323078,\n",
              "       0.5135123 , 0.51368745, 0.51370571, 0.5132152 , 0.51294482,\n",
              "       0.51337439, 0.51380656, 0.51352356, 0.51315467, 0.51278373,\n",
              "       0.51285825, 0.51281007, 0.51247691, 0.51296464, 0.51338939])"
            ]
          },
          "metadata": {
            "tags": []
          },
          "execution_count": 97
        }
      ]
    },
    {
      "cell_type": "markdown",
      "metadata": {
        "id": "Y1v0cIdj94CJ",
        "colab_type": "text"
      },
      "source": [
        "##Effect of outliers on mean and median"
      ]
    },
    {
      "cell_type": "code",
      "metadata": {
        "id": "TCYlsn3q9z0b",
        "colab_type": "code",
        "colab": {}
      },
      "source": [
        "arr = np.random.randint(1,100,100)"
      ],
      "execution_count": 107,
      "outputs": []
    },
    {
      "cell_type": "code",
      "metadata": {
        "id": "ZLry8CjM-Bpb",
        "colab_type": "code",
        "colab": {
          "base_uri": "https://localhost:8080/",
          "height": 34
        },
        "outputId": "902f2995-2b37-498e-c6cb-038bcb8d8aa5"
      },
      "source": [
        "np.mean(arr)"
      ],
      "execution_count": 108,
      "outputs": [
        {
          "output_type": "execute_result",
          "data": {
            "text/plain": [
              "48.42"
            ]
          },
          "metadata": {
            "tags": []
          },
          "execution_count": 108
        }
      ]
    },
    {
      "cell_type": "code",
      "metadata": {
        "id": "c_rhREcR-D6F",
        "colab_type": "code",
        "colab": {
          "base_uri": "https://localhost:8080/",
          "height": 34
        },
        "outputId": "5aa37ac1-487a-410d-ea72-45aa2b3e8303"
      },
      "source": [
        "np.median(arr)"
      ],
      "execution_count": 109,
      "outputs": [
        {
          "output_type": "execute_result",
          "data": {
            "text/plain": [
              "47.5"
            ]
          },
          "metadata": {
            "tags": []
          },
          "execution_count": 109
        }
      ]
    },
    {
      "cell_type": "code",
      "metadata": {
        "id": "1vCeVIZp-mMi",
        "colab_type": "code",
        "colab": {
          "base_uri": "https://localhost:8080/",
          "height": 34
        },
        "outputId": "049e2554-dcc0-4043-8885-17a68901ff11"
      },
      "source": [
        "np.std(arr)"
      ],
      "execution_count": 110,
      "outputs": [
        {
          "output_type": "execute_result",
          "data": {
            "text/plain": [
              "29.926971113027793"
            ]
          },
          "metadata": {
            "tags": []
          },
          "execution_count": 110
        }
      ]
    },
    {
      "cell_type": "code",
      "metadata": {
        "id": "Gu8vl6UA-tY5",
        "colab_type": "code",
        "colab": {}
      },
      "source": [
        "iqr = np.percentile(arr,75) - np.percentile(arr,25)"
      ],
      "execution_count": 111,
      "outputs": []
    },
    {
      "cell_type": "code",
      "metadata": {
        "id": "4dRST7lk-2EZ",
        "colab_type": "code",
        "colab": {
          "base_uri": "https://localhost:8080/",
          "height": 34
        },
        "outputId": "3a7ef9a0-638c-45f3-ad36-7e5c5b4754ca"
      },
      "source": [
        "iqr"
      ],
      "execution_count": 112,
      "outputs": [
        {
          "output_type": "execute_result",
          "data": {
            "text/plain": [
              "51.75"
            ]
          },
          "metadata": {
            "tags": []
          },
          "execution_count": 112
        }
      ]
    },
    {
      "cell_type": "code",
      "metadata": {
        "id": "l-X6ANez-Iyf",
        "colab_type": "code",
        "colab": {}
      },
      "source": [
        "arr = np.append(arr,[1000,2000])"
      ],
      "execution_count": 113,
      "outputs": []
    },
    {
      "cell_type": "code",
      "metadata": {
        "id": "nO5LSW4Y-PpD",
        "colab_type": "code",
        "colab": {
          "base_uri": "https://localhost:8080/",
          "height": 34
        },
        "outputId": "20e50906-9cb6-44d3-ff33-e798f6920916"
      },
      "source": [
        "arr.shape"
      ],
      "execution_count": 114,
      "outputs": [
        {
          "output_type": "execute_result",
          "data": {
            "text/plain": [
              "(102,)"
            ]
          },
          "metadata": {
            "tags": []
          },
          "execution_count": 114
        }
      ]
    },
    {
      "cell_type": "code",
      "metadata": {
        "id": "mnZ5sccR-SJS",
        "colab_type": "code",
        "colab": {
          "base_uri": "https://localhost:8080/",
          "height": 34
        },
        "outputId": "1e1a341e-05d4-408c-b6c8-db3486fdfd42"
      },
      "source": [
        "np.mean(arr)"
      ],
      "execution_count": 115,
      "outputs": [
        {
          "output_type": "execute_result",
          "data": {
            "text/plain": [
              "76.88235294117646"
            ]
          },
          "metadata": {
            "tags": []
          },
          "execution_count": 115
        }
      ]
    },
    {
      "cell_type": "code",
      "metadata": {
        "id": "MUhfG6hf-ayx",
        "colab_type": "code",
        "colab": {
          "base_uri": "https://localhost:8080/",
          "height": 34
        },
        "outputId": "d75a0b02-e6ca-4f88-e0a8-c7abc6891564"
      },
      "source": [
        "np.median(arr)"
      ],
      "execution_count": 106,
      "outputs": [
        {
          "output_type": "execute_result",
          "data": {
            "text/plain": [
              "48.5"
            ]
          },
          "metadata": {
            "tags": []
          },
          "execution_count": 106
        }
      ]
    },
    {
      "cell_type": "code",
      "metadata": {
        "id": "rspY4bm2-cY9",
        "colab_type": "code",
        "colab": {
          "base_uri": "https://localhost:8080/",
          "height": 34
        },
        "outputId": "d43c111f-bd52-4416-ad2e-05eb72ec643d"
      },
      "source": [
        "np.std(arr)"
      ],
      "execution_count": 116,
      "outputs": [
        {
          "output_type": "execute_result",
          "data": {
            "text/plain": [
              "215.1401865869316"
            ]
          },
          "metadata": {
            "tags": []
          },
          "execution_count": 116
        }
      ]
    },
    {
      "cell_type": "code",
      "metadata": {
        "id": "EGda7Q_X-8gu",
        "colab_type": "code",
        "colab": {}
      },
      "source": [
        "iqr = np.percentile(arr,75) - np.percentile(arr,25)"
      ],
      "execution_count": 117,
      "outputs": []
    },
    {
      "cell_type": "code",
      "metadata": {
        "id": "WsN-wpuW_Amc",
        "colab_type": "code",
        "colab": {
          "base_uri": "https://localhost:8080/",
          "height": 34
        },
        "outputId": "9dc59d7c-a3c8-44a3-e220-27812d293198"
      },
      "source": [
        "iqr"
      ],
      "execution_count": 118,
      "outputs": [
        {
          "output_type": "execute_result",
          "data": {
            "text/plain": [
              "53.5"
            ]
          },
          "metadata": {
            "tags": []
          },
          "execution_count": 118
        }
      ]
    },
    {
      "cell_type": "markdown",
      "metadata": {
        "id": "LlMKNm12_GhA",
        "colab_type": "text"
      },
      "source": [
        "##Effect of scaling arrays"
      ]
    },
    {
      "cell_type": "code",
      "metadata": {
        "id": "SDnLG3Gk_B0K",
        "colab_type": "code",
        "colab": {}
      },
      "source": [
        "arr = np.random.rand(100)"
      ],
      "execution_count": 119,
      "outputs": []
    },
    {
      "cell_type": "code",
      "metadata": {
        "id": "q1mABy07_N1t",
        "colab_type": "code",
        "colab": {
          "base_uri": "https://localhost:8080/",
          "height": 34
        },
        "outputId": "5cc20fc0-64ee-4c26-a114-7768576cc28e"
      },
      "source": [
        "np.mean(arr)"
      ],
      "execution_count": 120,
      "outputs": [
        {
          "output_type": "execute_result",
          "data": {
            "text/plain": [
              "0.5056864118288038"
            ]
          },
          "metadata": {
            "tags": []
          },
          "execution_count": 120
        }
      ]
    },
    {
      "cell_type": "code",
      "metadata": {
        "id": "ClteVlFX_PMD",
        "colab_type": "code",
        "colab": {
          "base_uri": "https://localhost:8080/",
          "height": 34
        },
        "outputId": "a2f5037c-b28a-465c-b0c7-7ea4eb3feefb"
      },
      "source": [
        "np.median(arr)"
      ],
      "execution_count": 121,
      "outputs": [
        {
          "output_type": "execute_result",
          "data": {
            "text/plain": [
              "0.5118008444627986"
            ]
          },
          "metadata": {
            "tags": []
          },
          "execution_count": 121
        }
      ]
    },
    {
      "cell_type": "code",
      "metadata": {
        "id": "SIcTuntg_Rt-",
        "colab_type": "code",
        "colab": {}
      },
      "source": [
        "arr1 = 2.5 * arr + 0.65"
      ],
      "execution_count": 122,
      "outputs": []
    },
    {
      "cell_type": "code",
      "metadata": {
        "id": "249t1fOz_YH9",
        "colab_type": "code",
        "colab": {
          "base_uri": "https://localhost:8080/",
          "height": 34
        },
        "outputId": "b9e026af-0585-4b9a-f11d-e7c5dcf0b6ae"
      },
      "source": [
        "print(np.mean(arr1), 2.5 * np.mean(arr) + 0.65 )"
      ],
      "execution_count": 123,
      "outputs": [
        {
          "output_type": "stream",
          "text": [
            "1.9142160295720092 1.9142160295720094\n"
          ],
          "name": "stdout"
        }
      ]
    },
    {
      "cell_type": "code",
      "metadata": {
        "id": "AW6mTivq_jID",
        "colab_type": "code",
        "colab": {
          "base_uri": "https://localhost:8080/",
          "height": 34
        },
        "outputId": "b512814b-0bd5-4f94-8b54-516d6fd4769a"
      },
      "source": [
        "print(np.median(arr1), 2.5 * np.median(arr) + 0.65 )"
      ],
      "execution_count": 124,
      "outputs": [
        {
          "output_type": "stream",
          "text": [
            "1.9295021111569965 1.9295021111569963\n"
          ],
          "name": "stdout"
        }
      ]
    },
    {
      "cell_type": "code",
      "metadata": {
        "id": "TVameUYP_xcg",
        "colab_type": "code",
        "colab": {
          "base_uri": "https://localhost:8080/",
          "height": 34
        },
        "outputId": "01754a0f-58b0-4a80-b810-f8a04495b9ad"
      },
      "source": [
        "print(np.var(arr1), 2.5 * 2.5 * np.var(arr))"
      ],
      "execution_count": 125,
      "outputs": [
        {
          "output_type": "stream",
          "text": [
            "0.5182014099070267 0.5182014099070267\n"
          ],
          "name": "stdout"
        }
      ]
    },
    {
      "cell_type": "code",
      "metadata": {
        "id": "eUc8jSOK_92C",
        "colab_type": "code",
        "colab": {
          "base_uri": "https://localhost:8080/",
          "height": 34
        },
        "outputId": "017ec386-1122-4c8e-c6d7-7fb50743db2f"
      },
      "source": [
        "print(np.std(arr1), 2.5 * np.std(arr))"
      ],
      "execution_count": 126,
      "outputs": [
        {
          "output_type": "stream",
          "text": [
            "0.7198620770029678 0.7198620770029678\n"
          ],
          "name": "stdout"
        }
      ]
    },
    {
      "cell_type": "code",
      "metadata": {
        "id": "FeO8B4uKAK9t",
        "colab_type": "code",
        "colab": {}
      },
      "source": [
        "arr1 = np.random.rand(100)\n",
        "arr2 = np.random.rand(100)"
      ],
      "execution_count": 128,
      "outputs": []
    },
    {
      "cell_type": "code",
      "metadata": {
        "id": "lcZWt7AAA4xN",
        "colab_type": "code",
        "colab": {
          "base_uri": "https://localhost:8080/",
          "height": 34
        },
        "outputId": "04877fec-d9d8-42c8-96e0-7b08903024af"
      },
      "source": [
        "print(np.mean(0.21 * arr1 - 0.75 * arr2),\n",
        "      0.21 * np.mean(arr1) - 0.75 * np.mean(arr2))"
      ],
      "execution_count": 129,
      "outputs": [
        {
          "output_type": "stream",
          "text": [
            "-0.2847717952210186 -0.28477179522101853\n"
          ],
          "name": "stdout"
        }
      ]
    },
    {
      "cell_type": "code",
      "metadata": {
        "id": "11YJwHd1BSnf",
        "colab_type": "code",
        "colab": {}
      },
      "source": [
        ""
      ],
      "execution_count": null,
      "outputs": []
    }
  ]
}