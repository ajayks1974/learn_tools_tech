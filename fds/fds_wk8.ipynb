{
  "nbformat": 4,
  "nbformat_minor": 0,
  "metadata": {
    "colab": {
      "name": "fds_wk8.ipynb",
      "provenance": [],
      "authorship_tag": "ABX9TyPMl3wNIhm7gXnF3Bc52Nnu",
      "include_colab_link": true
    },
    "kernelspec": {
      "name": "python3",
      "display_name": "Python 3"
    }
  },
  "cells": [
    {
      "cell_type": "markdown",
      "metadata": {
        "id": "view-in-github",
        "colab_type": "text"
      },
      "source": [
        "<a href=\"https://colab.research.google.com/github/ajayks1974/learning/blob/master/fds/fds_wk8.ipynb\" target=\"_parent\"><img src=\"https://colab.research.google.com/assets/colab-badge.svg\" alt=\"Open In Colab\"/></a>"
      ]
    },
    {
      "cell_type": "markdown",
      "metadata": {
        "id": "Dy2gNoJtt7JZ",
        "colab_type": "text"
      },
      "source": [
        "#Comparing performance Numpy with lists etc"
      ]
    },
    {
      "cell_type": "code",
      "metadata": {
        "id": "I1maOKoTwPWm",
        "colab_type": "code",
        "colab": {}
      },
      "source": [
        "import numpy as np"
      ],
      "execution_count": 1,
      "outputs": []
    },
    {
      "cell_type": "code",
      "metadata": {
        "id": "4m_kWOqnuDDx",
        "colab_type": "code",
        "colab": {}
      },
      "source": [
        "N = 100000000"
      ],
      "execution_count": null,
      "outputs": []
    },
    {
      "cell_type": "code",
      "metadata": {
        "id": "hDkl4k1FuM8S",
        "colab_type": "code",
        "colab": {
          "base_uri": "https://localhost:8080/",
          "height": 54
        },
        "outputId": "30b96dd8-5c65-43fc-c005-5266fcc2e169"
      },
      "source": [
        "%%time\n",
        "list_ = list(ange(N))\n",
        "for i in range(N):\n",
        "    list_[i] = list_[i] * list_[i]"
      ],
      "execution_count": null,
      "outputs": [
        {
          "output_type": "stream",
          "text": [
            "CPU times: user 18.7 s, sys: 2.43 s, total: 21.1 s\n",
            "Wall time: 21.1 s\n"
          ],
          "name": "stdout"
        }
      ]
    },
    {
      "cell_type": "code",
      "metadata": {
        "id": "bwonali-uUOd",
        "colab_type": "code",
        "colab": {
          "base_uri": "https://localhost:8080/",
          "height": 54
        },
        "outputId": "7df07c96-2dfd-434a-fafa-0d5599e72ee8"
      },
      "source": [
        "%%time\n",
        "list_ = list(range(N))\n",
        "list__ = [item * item for item in list_]"
      ],
      "execution_count": null,
      "outputs": [
        {
          "output_type": "stream",
          "text": [
            "CPU times: user 8.91 s, sys: 7.9 s, total: 16.8 s\n",
            "Wall time: 16.8 s\n"
          ],
          "name": "stdout"
        }
      ]
    },
    {
      "cell_type": "code",
      "metadata": {
        "id": "aXXAtruFvMTp",
        "colab_type": "code",
        "colab": {
          "base_uri": "https://localhost:8080/",
          "height": 54
        },
        "outputId": "de109cc5-8467-4d2d-aba3-6d3ff313ffcf"
      },
      "source": [
        "%%time\n",
        "list_ = list(range(N))\n",
        "list__ = map(lambda x: x * x, list_)"
      ],
      "execution_count": null,
      "outputs": [
        {
          "output_type": "stream",
          "text": [
            "CPU times: user 3.25 s, sys: 3.27 s, total: 6.51 s\n",
            "Wall time: 6.51 s\n"
          ],
          "name": "stdout"
        }
      ]
    },
    {
      "cell_type": "code",
      "metadata": {
        "id": "_oOyvZIMvrP8",
        "colab_type": "code",
        "colab": {
          "base_uri": "https://localhost:8080/",
          "height": 54
        },
        "outputId": "f3cdb65a-49fd-4629-8253-90f8ce595b22"
      },
      "source": [
        "%%time\n",
        "list_ = list(range(N))\n",
        "list_sum = 0\n",
        "for item in list_:\n",
        "    list_sum += item"
      ],
      "execution_count": null,
      "outputs": [
        {
          "output_type": "stream",
          "text": [
            "CPU times: user 11.1 s, sys: 1.26 s, total: 12.4 s\n",
            "Wall time: 12.4 s\n"
          ],
          "name": "stdout"
        }
      ]
    },
    {
      "cell_type": "code",
      "metadata": {
        "id": "HIQVXqrgwEpj",
        "colab_type": "code",
        "colab": {
          "base_uri": "https://localhost:8080/",
          "height": 54
        },
        "outputId": "e31ce177-2f6d-4d90-976e-2266b0db728f"
      },
      "source": [
        "%%time\n",
        "list_ = list(range(N))\n",
        "list_sum = sum(list_)"
      ],
      "execution_count": null,
      "outputs": [
        {
          "output_type": "stream",
          "text": [
            "CPU times: user 3.02 s, sys: 2.14 s, total: 5.16 s\n",
            "Wall time: 5.15 s\n"
          ],
          "name": "stdout"
        }
      ]
    },
    {
      "cell_type": "code",
      "metadata": {
        "id": "5xIemUixwlEn",
        "colab_type": "code",
        "colab": {
          "base_uri": "https://localhost:8080/",
          "height": 54
        },
        "outputId": "ce6612c1-098c-4a54-934c-3f91257c9fda"
      },
      "source": [
        "%%time\n",
        "arr = np.arange(N)\n",
        "arr = arr * arr"
      ],
      "execution_count": null,
      "outputs": [
        {
          "output_type": "stream",
          "text": [
            "CPU times: user 391 ms, sys: 16.6 ms, total: 407 ms\n",
            "Wall time: 409 ms\n"
          ],
          "name": "stdout"
        }
      ]
    },
    {
      "cell_type": "code",
      "metadata": {
        "id": "E9K7pMVuwqH2",
        "colab_type": "code",
        "colab": {
          "base_uri": "https://localhost:8080/",
          "height": 54
        },
        "outputId": "82b37a0b-fccf-4c0a-bad3-3b9d67fd5c9b"
      },
      "source": [
        "%%time\n",
        "arr = np.arange(N)\n",
        "arr_sum = np.sum(arr)"
      ],
      "execution_count": null,
      "outputs": [
        {
          "output_type": "stream",
          "text": [
            "CPU times: user 276 ms, sys: 7.66 ms, total: 284 ms\n",
            "Wall time: 284 ms\n"
          ],
          "name": "stdout"
        }
      ]
    },
    {
      "cell_type": "markdown",
      "metadata": {
        "id": "FgSMaUSbti5n",
        "colab_type": "text"
      },
      "source": [
        "#Creating np arrays"
      ]
    },
    {
      "cell_type": "code",
      "metadata": {
        "id": "m37OSUa7xCRx",
        "colab_type": "code",
        "colab": {}
      },
      "source": [
        "arr = np.arange(5)"
      ],
      "execution_count": 2,
      "outputs": []
    },
    {
      "cell_type": "code",
      "metadata": {
        "id": "NTuER733tne8",
        "colab_type": "code",
        "colab": {
          "base_uri": "https://localhost:8080/",
          "height": 35
        },
        "outputId": "cf8f1552-9cfc-464d-b19c-768fd227722d"
      },
      "source": [
        "print(arr,type(arr))"
      ],
      "execution_count": 3,
      "outputs": [
        {
          "output_type": "stream",
          "text": [
            "[0 1 2 3 4] <class 'numpy.ndarray'>\n"
          ],
          "name": "stdout"
        }
      ]
    },
    {
      "cell_type": "code",
      "metadata": {
        "id": "ehb_1B4ftqSR",
        "colab_type": "code",
        "colab": {}
      },
      "source": [
        "arr = np.array([0,1,2,3,4])"
      ],
      "execution_count": 4,
      "outputs": []
    },
    {
      "cell_type": "code",
      "metadata": {
        "id": "RzD06aYutvq3",
        "colab_type": "code",
        "colab": {
          "base_uri": "https://localhost:8080/",
          "height": 35
        },
        "outputId": "f3dcf9f5-c948-4760-8478-2b90c33e9e38"
      },
      "source": [
        "print(arr,type(arr))"
      ],
      "execution_count": 5,
      "outputs": [
        {
          "output_type": "stream",
          "text": [
            "[0 1 2 3 4] <class 'numpy.ndarray'>\n"
          ],
          "name": "stdout"
        }
      ]
    },
    {
      "cell_type": "code",
      "metadata": {
        "id": "kot1MoCltyCz",
        "colab_type": "code",
        "colab": {
          "base_uri": "https://localhost:8080/",
          "height": 35
        },
        "outputId": "5a2ad44a-0ee2-48be-9162-2e3e81ae287c"
      },
      "source": [
        "arr"
      ],
      "execution_count": 6,
      "outputs": [
        {
          "output_type": "execute_result",
          "data": {
            "text/plain": [
              "array([0, 1, 2, 3, 4])"
            ]
          },
          "metadata": {
            "tags": []
          },
          "execution_count": 6
        }
      ]
    },
    {
      "cell_type": "code",
      "metadata": {
        "id": "p6n0gOZVt1eB",
        "colab_type": "code",
        "colab": {
          "base_uri": "https://localhost:8080/",
          "height": 35
        },
        "outputId": "7548238d-59c2-4241-c1c4-f2fdd08df8e3"
      },
      "source": [
        "arr.dtype"
      ],
      "execution_count": 7,
      "outputs": [
        {
          "output_type": "execute_result",
          "data": {
            "text/plain": [
              "dtype('int64')"
            ]
          },
          "metadata": {
            "tags": []
          },
          "execution_count": 7
        }
      ]
    },
    {
      "cell_type": "code",
      "metadata": {
        "id": "yL6YasQmt5_d",
        "colab_type": "code",
        "colab": {
          "base_uri": "https://localhost:8080/",
          "height": 35
        },
        "outputId": "b6ab6e8f-f20e-4c37-f4f3-84ed75ee72ec"
      },
      "source": [
        "arr.ndim"
      ],
      "execution_count": 8,
      "outputs": [
        {
          "output_type": "execute_result",
          "data": {
            "text/plain": [
              "1"
            ]
          },
          "metadata": {
            "tags": []
          },
          "execution_count": 8
        }
      ]
    },
    {
      "cell_type": "code",
      "metadata": {
        "id": "lAJDdHqit_V5",
        "colab_type": "code",
        "colab": {
          "base_uri": "https://localhost:8080/",
          "height": 35
        },
        "outputId": "5fb2396b-3f1a-42fb-a091-601dc10f9f48"
      },
      "source": [
        "arr.shape"
      ],
      "execution_count": 9,
      "outputs": [
        {
          "output_type": "execute_result",
          "data": {
            "text/plain": [
              "(5,)"
            ]
          },
          "metadata": {
            "tags": []
          },
          "execution_count": 9
        }
      ]
    },
    {
      "cell_type": "code",
      "metadata": {
        "id": "8fbJL5AMuA4b",
        "colab_type": "code",
        "colab": {
          "base_uri": "https://localhost:8080/",
          "height": 35
        },
        "outputId": "add10c20-b51c-4b04-e165-0160400d925e"
      },
      "source": [
        "type(arr.shape)"
      ],
      "execution_count": 10,
      "outputs": [
        {
          "output_type": "execute_result",
          "data": {
            "text/plain": [
              "tuple"
            ]
          },
          "metadata": {
            "tags": []
          },
          "execution_count": 10
        }
      ]
    },
    {
      "cell_type": "code",
      "metadata": {
        "id": "AvB92OcOuD0R",
        "colab_type": "code",
        "colab": {
          "base_uri": "https://localhost:8080/",
          "height": 35
        },
        "outputId": "c4080c6a-3ecf-4c65-e93c-87ab4d3a6b95"
      },
      "source": [
        "arr.size"
      ],
      "execution_count": 11,
      "outputs": [
        {
          "output_type": "execute_result",
          "data": {
            "text/plain": [
              "5"
            ]
          },
          "metadata": {
            "tags": []
          },
          "execution_count": 11
        }
      ]
    },
    {
      "cell_type": "code",
      "metadata": {
        "id": "lFEDQjZfuF9b",
        "colab_type": "code",
        "colab": {
          "base_uri": "https://localhost:8080/",
          "height": 35
        },
        "outputId": "9edf3a2f-32c3-40c1-a083-c85387e9e811"
      },
      "source": [
        "arr.itemsize"
      ],
      "execution_count": 12,
      "outputs": [
        {
          "output_type": "execute_result",
          "data": {
            "text/plain": [
              "8"
            ]
          },
          "metadata": {
            "tags": []
          },
          "execution_count": 12
        }
      ]
    },
    {
      "cell_type": "code",
      "metadata": {
        "id": "3XsdCplcuI0w",
        "colab_type": "code",
        "colab": {}
      },
      "source": [
        "arr = np.array([0.0,1,2,3,4])"
      ],
      "execution_count": 16,
      "outputs": []
    },
    {
      "cell_type": "code",
      "metadata": {
        "id": "1zbqXvY8uOlq",
        "colab_type": "code",
        "colab": {
          "base_uri": "https://localhost:8080/",
          "height": 35
        },
        "outputId": "5470e829-1aeb-47c4-b635-4f1c72a04863"
      },
      "source": [
        "arr"
      ],
      "execution_count": 17,
      "outputs": [
        {
          "output_type": "execute_result",
          "data": {
            "text/plain": [
              "array([0., 1., 2., 3., 4.])"
            ]
          },
          "metadata": {
            "tags": []
          },
          "execution_count": 17
        }
      ]
    },
    {
      "cell_type": "code",
      "metadata": {
        "id": "KPK4gVqluPmY",
        "colab_type": "code",
        "colab": {
          "base_uri": "https://localhost:8080/",
          "height": 35
        },
        "outputId": "3e635c9f-4274-474b-80fe-7c263a22ad23"
      },
      "source": [
        "arr.dtype"
      ],
      "execution_count": 18,
      "outputs": [
        {
          "output_type": "execute_result",
          "data": {
            "text/plain": [
              "dtype('float64')"
            ]
          },
          "metadata": {
            "tags": []
          },
          "execution_count": 18
        }
      ]
    },
    {
      "cell_type": "code",
      "metadata": {
        "id": "xxNuref1uQxS",
        "colab_type": "code",
        "colab": {}
      },
      "source": [
        "arr2d = np.array([\n",
        "                  [1,2,3],\n",
        "                  [4,5,6]\n",
        "])"
      ],
      "execution_count": 19,
      "outputs": []
    },
    {
      "cell_type": "code",
      "metadata": {
        "id": "jPl80-5eucBZ",
        "colab_type": "code",
        "colab": {
          "base_uri": "https://localhost:8080/",
          "height": 54
        },
        "outputId": "c866898f-5e60-463a-fcc6-342230a92ff8"
      },
      "source": [
        "arr2d"
      ],
      "execution_count": 20,
      "outputs": [
        {
          "output_type": "execute_result",
          "data": {
            "text/plain": [
              "array([[1, 2, 3],\n",
              "       [4, 5, 6]])"
            ]
          },
          "metadata": {
            "tags": []
          },
          "execution_count": 20
        }
      ]
    },
    {
      "cell_type": "code",
      "metadata": {
        "id": "7xCmmtz1ued2",
        "colab_type": "code",
        "colab": {
          "base_uri": "https://localhost:8080/",
          "height": 35
        },
        "outputId": "6fd437e5-d93d-4971-cd42-b84f5ade79cc"
      },
      "source": [
        "arr2d.shape"
      ],
      "execution_count": 21,
      "outputs": [
        {
          "output_type": "execute_result",
          "data": {
            "text/plain": [
              "(2, 3)"
            ]
          },
          "metadata": {
            "tags": []
          },
          "execution_count": 21
        }
      ]
    },
    {
      "cell_type": "code",
      "metadata": {
        "id": "LvVSkkT_uhmz",
        "colab_type": "code",
        "colab": {
          "base_uri": "https://localhost:8080/",
          "height": 35
        },
        "outputId": "42ee8fef-c95b-4071-a1c0-268bc9788ec3"
      },
      "source": [
        "arr2d.ndim"
      ],
      "execution_count": 22,
      "outputs": [
        {
          "output_type": "execute_result",
          "data": {
            "text/plain": [
              "2"
            ]
          },
          "metadata": {
            "tags": []
          },
          "execution_count": 22
        }
      ]
    },
    {
      "cell_type": "code",
      "metadata": {
        "id": "pwd866bRumJK",
        "colab_type": "code",
        "colab": {
          "base_uri": "https://localhost:8080/",
          "height": 35
        },
        "outputId": "7a4a4995-d61d-4b70-9bf3-feba480a19b2"
      },
      "source": [
        "arr2d.dtype"
      ],
      "execution_count": 23,
      "outputs": [
        {
          "output_type": "execute_result",
          "data": {
            "text/plain": [
              "dtype('int64')"
            ]
          },
          "metadata": {
            "tags": []
          },
          "execution_count": 23
        }
      ]
    },
    {
      "cell_type": "code",
      "metadata": {
        "id": "pN5RDYXiuoRf",
        "colab_type": "code",
        "colab": {
          "base_uri": "https://localhost:8080/",
          "height": 35
        },
        "outputId": "1475d38d-b18f-4290-f132-f7d7c2a82584"
      },
      "source": [
        "arr2d.size"
      ],
      "execution_count": 24,
      "outputs": [
        {
          "output_type": "execute_result",
          "data": {
            "text/plain": [
              "6"
            ]
          },
          "metadata": {
            "tags": []
          },
          "execution_count": 24
        }
      ]
    },
    {
      "cell_type": "code",
      "metadata": {
        "id": "tcKPaygPurKf",
        "colab_type": "code",
        "colab": {
          "base_uri": "https://localhost:8080/",
          "height": 35
        },
        "outputId": "16aa7a8e-5db9-4dd5-a3a3-174d8abb46fa"
      },
      "source": [
        "arr2d.itemsize"
      ],
      "execution_count": 25,
      "outputs": [
        {
          "output_type": "execute_result",
          "data": {
            "text/plain": [
              "8"
            ]
          },
          "metadata": {
            "tags": []
          },
          "execution_count": 25
        }
      ]
    },
    {
      "cell_type": "code",
      "metadata": {
        "id": "PS5cMLxfutZQ",
        "colab_type": "code",
        "colab": {}
      },
      "source": [
        "arr3d = np.array([\n",
        "                  [\n",
        "                   [1,2,3],\n",
        "                   [4,5,6]\n",
        "                  ],\n",
        "                  [\n",
        "                   [7,8,9],\n",
        "                   [10,11,12]\n",
        "                  ]\n",
        "])"
      ],
      "execution_count": 26,
      "outputs": []
    },
    {
      "cell_type": "code",
      "metadata": {
        "id": "0_tuVrspvKC4",
        "colab_type": "code",
        "colab": {
          "base_uri": "https://localhost:8080/",
          "height": 108
        },
        "outputId": "b4cf5851-df85-4203-d874-98cb2ba98199"
      },
      "source": [
        "arr3d"
      ],
      "execution_count": 27,
      "outputs": [
        {
          "output_type": "execute_result",
          "data": {
            "text/plain": [
              "array([[[ 1,  2,  3],\n",
              "        [ 4,  5,  6]],\n",
              "\n",
              "       [[ 7,  8,  9],\n",
              "        [10, 11, 12]]])"
            ]
          },
          "metadata": {
            "tags": []
          },
          "execution_count": 27
        }
      ]
    },
    {
      "cell_type": "code",
      "metadata": {
        "id": "yo3lHLGjvL29",
        "colab_type": "code",
        "colab": {
          "base_uri": "https://localhost:8080/",
          "height": 35
        },
        "outputId": "a0a50b54-93ba-42c1-d7dc-ab26c250ebce"
      },
      "source": [
        "arr3d.shape"
      ],
      "execution_count": 28,
      "outputs": [
        {
          "output_type": "execute_result",
          "data": {
            "text/plain": [
              "(2, 2, 3)"
            ]
          },
          "metadata": {
            "tags": []
          },
          "execution_count": 28
        }
      ]
    },
    {
      "cell_type": "code",
      "metadata": {
        "id": "S-bN1dOjvNtV",
        "colab_type": "code",
        "colab": {
          "base_uri": "https://localhost:8080/",
          "height": 35
        },
        "outputId": "7c879ac9-9f94-4719-b340-8ebb195fe220"
      },
      "source": [
        "arr3d.ndim"
      ],
      "execution_count": 29,
      "outputs": [
        {
          "output_type": "execute_result",
          "data": {
            "text/plain": [
              "3"
            ]
          },
          "metadata": {
            "tags": []
          },
          "execution_count": 29
        }
      ]
    },
    {
      "cell_type": "code",
      "metadata": {
        "id": "OBFF0P5QvQWe",
        "colab_type": "code",
        "colab": {
          "base_uri": "https://localhost:8080/",
          "height": 35
        },
        "outputId": "6b40bc57-7c5f-4c11-e151-1d73cb5eff83"
      },
      "source": [
        "arr3d.size"
      ],
      "execution_count": 30,
      "outputs": [
        {
          "output_type": "execute_result",
          "data": {
            "text/plain": [
              "12"
            ]
          },
          "metadata": {
            "tags": []
          },
          "execution_count": 30
        }
      ]
    },
    {
      "cell_type": "code",
      "metadata": {
        "id": "O41yXY5fvShS",
        "colab_type": "code",
        "colab": {
          "base_uri": "https://localhost:8080/",
          "height": 35
        },
        "outputId": "ab2af5b4-fd8b-4aba-ba70-fb62b4fa3ca5"
      },
      "source": [
        "arr3d.itemsize"
      ],
      "execution_count": 31,
      "outputs": [
        {
          "output_type": "execute_result",
          "data": {
            "text/plain": [
              "8"
            ]
          },
          "metadata": {
            "tags": []
          },
          "execution_count": 31
        }
      ]
    },
    {
      "cell_type": "code",
      "metadata": {
        "id": "GYgoALBFvVzr",
        "colab_type": "code",
        "colab": {
          "base_uri": "https://localhost:8080/",
          "height": 145
        },
        "outputId": "43e47b41-38c5-41ff-f2ee-8625d0a634d9"
      },
      "source": [
        "np.ones((2,3,4))"
      ],
      "execution_count": 33,
      "outputs": [
        {
          "output_type": "execute_result",
          "data": {
            "text/plain": [
              "array([[[1., 1., 1., 1.],\n",
              "        [1., 1., 1., 1.],\n",
              "        [1., 1., 1., 1.]],\n",
              "\n",
              "       [[1., 1., 1., 1.],\n",
              "        [1., 1., 1., 1.],\n",
              "        [1., 1., 1., 1.]]])"
            ]
          },
          "metadata": {
            "tags": []
          },
          "execution_count": 33
        }
      ]
    },
    {
      "cell_type": "code",
      "metadata": {
        "id": "sYguUDXuvrYM",
        "colab_type": "code",
        "colab": {
          "base_uri": "https://localhost:8080/",
          "height": 145
        },
        "outputId": "999b0165-2cd0-47ac-8303-dcef01d004c8"
      },
      "source": [
        "1729 * np.ones((2,3,4))"
      ],
      "execution_count": 34,
      "outputs": [
        {
          "output_type": "execute_result",
          "data": {
            "text/plain": [
              "array([[[1729., 1729., 1729., 1729.],\n",
              "        [1729., 1729., 1729., 1729.],\n",
              "        [1729., 1729., 1729., 1729.]],\n",
              "\n",
              "       [[1729., 1729., 1729., 1729.],\n",
              "        [1729., 1729., 1729., 1729.],\n",
              "        [1729., 1729., 1729., 1729.]]])"
            ]
          },
          "metadata": {
            "tags": []
          },
          "execution_count": 34
        }
      ]
    },
    {
      "cell_type": "code",
      "metadata": {
        "id": "psFpJNEev13x",
        "colab_type": "code",
        "colab": {
          "base_uri": "https://localhost:8080/",
          "height": 145
        },
        "outputId": "d9900c78-c09f-428e-8992-0259cf6f019d"
      },
      "source": [
        "np.zeros((2,3,4))"
      ],
      "execution_count": 35,
      "outputs": [
        {
          "output_type": "execute_result",
          "data": {
            "text/plain": [
              "array([[[0., 0., 0., 0.],\n",
              "        [0., 0., 0., 0.],\n",
              "        [0., 0., 0., 0.]],\n",
              "\n",
              "       [[0., 0., 0., 0.],\n",
              "        [0., 0., 0., 0.],\n",
              "        [0., 0., 0., 0.]]])"
            ]
          },
          "metadata": {
            "tags": []
          },
          "execution_count": 35
        }
      ]
    },
    {
      "cell_type": "code",
      "metadata": {
        "id": "xERG6rDUv7b7",
        "colab_type": "code",
        "colab": {
          "base_uri": "https://localhost:8080/",
          "height": 54
        },
        "outputId": "71629284-6418-49c8-a2bf-e6f5bc9305c8"
      },
      "source": [
        "np.random.randn(2,3)"
      ],
      "execution_count": 36,
      "outputs": [
        {
          "output_type": "execute_result",
          "data": {
            "text/plain": [
              "array([[-1.00589478, -0.3898828 , -0.85221281],\n",
              "       [ 0.33750489, -1.67201323,  1.27546523]])"
            ]
          },
          "metadata": {
            "tags": []
          },
          "execution_count": 36
        }
      ]
    },
    {
      "cell_type": "code",
      "metadata": {
        "id": "Peo2bsCOwJ4i",
        "colab_type": "code",
        "colab": {
          "base_uri": "https://localhost:8080/",
          "height": 54
        },
        "outputId": "e166e159-6529-4a2a-9f53-9de2b2d50226"
      },
      "source": [
        "np.random.rand(2,3)"
      ],
      "execution_count": 37,
      "outputs": [
        {
          "output_type": "execute_result",
          "data": {
            "text/plain": [
              "array([[0.65293855, 0.33566872, 0.7951923 ],\n",
              "       [0.68768021, 0.39753755, 0.54699186]])"
            ]
          },
          "metadata": {
            "tags": []
          },
          "execution_count": 37
        }
      ]
    },
    {
      "cell_type": "code",
      "metadata": {
        "id": "mvuvefarwclQ",
        "colab_type": "code",
        "colab": {
          "base_uri": "https://localhost:8080/",
          "height": 199
        },
        "outputId": "eed2c502-0460-4c96-868b-41b1ce5481ea"
      },
      "source": [
        "np.random.rand(10,1)"
      ],
      "execution_count": 38,
      "outputs": [
        {
          "output_type": "execute_result",
          "data": {
            "text/plain": [
              "array([[0.25803821],\n",
              "       [0.06859112],\n",
              "       [0.81441376],\n",
              "       [0.01781106],\n",
              "       [0.82113887],\n",
              "       [0.97163254],\n",
              "       [0.70132435],\n",
              "       [0.03206706],\n",
              "       [0.87595757],\n",
              "       [0.68838091]])"
            ]
          },
          "metadata": {
            "tags": []
          },
          "execution_count": 38
        }
      ]
    },
    {
      "cell_type": "code",
      "metadata": {
        "id": "7m5Y7Oj2wiJ1",
        "colab_type": "code",
        "colab": {
          "base_uri": "https://localhost:8080/",
          "height": 54
        },
        "outputId": "13c35225-2217-4ffb-c839-ccfafae317a6"
      },
      "source": [
        "np.random.randint(0,100,(2,3))"
      ],
      "execution_count": 39,
      "outputs": [
        {
          "output_type": "execute_result",
          "data": {
            "text/plain": [
              "array([[86, 94, 64],\n",
              "       [66, 12, 81]])"
            ]
          },
          "metadata": {
            "tags": []
          },
          "execution_count": 39
        }
      ]
    },
    {
      "cell_type": "code",
      "metadata": {
        "id": "K3d2hIH3wpUf",
        "colab_type": "code",
        "colab": {
          "base_uri": "https://localhost:8080/",
          "height": 199
        },
        "outputId": "fe440287-4561-4d59-d4a7-26340b8b3c47"
      },
      "source": [
        "np.random.randint(0,100,(10,10))"
      ],
      "execution_count": 40,
      "outputs": [
        {
          "output_type": "execute_result",
          "data": {
            "text/plain": [
              "array([[92, 38, 76, 28, 98,  2, 52, 10, 73, 42],\n",
              "       [87, 25, 99, 22, 46, 36, 24, 14, 74, 84],\n",
              "       [28, 68, 15, 67,  9, 72, 93,  1, 72, 11],\n",
              "       [34, 34,  7, 10, 81, 64, 37, 48, 80, 75],\n",
              "       [25, 38, 58, 46, 14, 84,  6, 36, 22, 29],\n",
              "       [71, 89, 45,  4, 48, 92, 14, 30, 55, 63],\n",
              "       [21, 82, 86, 82, 86, 64, 63, 92,  5, 58],\n",
              "       [37, 30, 11, 37, 61, 31, 34, 27, 54, 59],\n",
              "       [70, 45, 96, 33, 25, 57, 41, 45, 56, 80],\n",
              "       [58, 42, 16,  3, 77, 11, 71, 53, 42, 93]])"
            ]
          },
          "metadata": {
            "tags": []
          },
          "execution_count": 40
        }
      ]
    },
    {
      "cell_type": "code",
      "metadata": {
        "id": "Qc8R7PGAwt1S",
        "colab_type": "code",
        "colab": {
          "base_uri": "https://localhost:8080/",
          "height": 381
        },
        "outputId": "3c0d433a-c9e5-4452-db06-edfeb4748789"
      },
      "source": [
        "100 * np.random.rand(10,10)"
      ],
      "execution_count": 41,
      "outputs": [
        {
          "output_type": "execute_result",
          "data": {
            "text/plain": [
              "array([[80.69786935, 76.69542721, 17.62814209,  3.80200682, 95.25750426,\n",
              "        61.82977707, 22.54233457, 34.15568528,  9.4950149 , 97.98347291],\n",
              "       [49.46427421, 40.86133401, 66.03539183, 92.76412825, 54.21134588,\n",
              "        13.67914785, 48.16576071, 54.12092223, 16.36744255, 82.61678632],\n",
              "       [ 3.15150829, 25.84848065, 87.34094369, 49.78940404, 36.73639263,\n",
              "        79.0657547 , 52.57878627, 16.80684578, 34.0179283 , 99.54556867],\n",
              "       [68.22322988, 98.46545172, 33.75888994, 46.61830499, 63.16353022,\n",
              "        57.96593336, 63.98530629, 30.09080339,  2.67483617, 25.47589392],\n",
              "       [45.0254313 , 20.05927444, 45.65263797, 43.48776465, 83.18442068,\n",
              "        73.75915102, 29.68760424, 25.9712664 , 14.60089101, 97.65291927],\n",
              "       [ 2.50232999, 71.73459648, 27.77531788,  7.22030205, 31.6258764 ,\n",
              "        29.68442208, 78.76869259, 93.92368717, 15.12482542, 34.68777946],\n",
              "       [57.2063046 , 88.77835277, 71.35370839, 42.01620569, 29.57191525,\n",
              "        10.52108823, 58.18470171, 77.31081106, 82.27890061, 37.1647517 ],\n",
              "       [86.5174003 , 36.482188  , 10.16898699,  4.68409324, 53.6868293 ,\n",
              "        25.51183766, 10.9934682 , 82.39328394, 42.24071905, 96.37742274],\n",
              "       [76.6125107 , 27.1499686 , 66.12802154, 92.79272462, 21.69817115,\n",
              "        31.86663103, 59.0143192 , 33.21443758, 79.70502632, 85.53377476],\n",
              "       [35.49831138, 78.92710402, 33.83445038, 45.72387187, 60.33962542,\n",
              "        66.02761449, 85.53584111, 56.38795056, 37.09781107,  3.2966981 ]])"
            ]
          },
          "metadata": {
            "tags": []
          },
          "execution_count": 41
        }
      ]
    },
    {
      "cell_type": "code",
      "metadata": {
        "id": "JBx22walw7L4",
        "colab_type": "code",
        "colab": {
          "base_uri": "https://localhost:8080/",
          "height": 35
        },
        "outputId": "a817621a-6863-4ede-9f7c-b2fa4815b849"
      },
      "source": [
        "np.arange(7,70,7)"
      ],
      "execution_count": 43,
      "outputs": [
        {
          "output_type": "execute_result",
          "data": {
            "text/plain": [
              "array([ 7, 14, 21, 28, 35, 42, 49, 56, 63])"
            ]
          },
          "metadata": {
            "tags": []
          },
          "execution_count": 43
        }
      ]
    },
    {
      "cell_type": "code",
      "metadata": {
        "id": "vORoggApxCvs",
        "colab_type": "code",
        "colab": {
          "base_uri": "https://localhost:8080/",
          "height": 35
        },
        "outputId": "d8430ed3-5957-42f6-db0b-73247127b1f8"
      },
      "source": [
        "np.linspace(7,70,10)"
      ],
      "execution_count": 44,
      "outputs": [
        {
          "output_type": "execute_result",
          "data": {
            "text/plain": [
              "array([ 7., 14., 21., 28., 35., 42., 49., 56., 63., 70.])"
            ]
          },
          "metadata": {
            "tags": []
          },
          "execution_count": 44
        }
      ]
    },
    {
      "cell_type": "code",
      "metadata": {
        "id": "WityTBd-xL3N",
        "colab_type": "code",
        "colab": {}
      },
      "source": [
        "bool_arr = np.array([True, False,True, False])"
      ],
      "execution_count": 50,
      "outputs": []
    },
    {
      "cell_type": "code",
      "metadata": {
        "id": "PwiY8CA6xTMg",
        "colab_type": "code",
        "colab": {}
      },
      "source": [
        "str_array = np.array(['1.4', '2.1','1.1'])"
      ],
      "execution_count": 56,
      "outputs": []
    },
    {
      "cell_type": "code",
      "metadata": {
        "id": "aACqHXcXxise",
        "colab_type": "code",
        "colab": {
          "base_uri": "https://localhost:8080/",
          "height": 35
        },
        "outputId": "820146fd-137f-4f50-cfa3-1546fd647871"
      },
      "source": [
        "bool_arr.itemsize"
      ],
      "execution_count": 54,
      "outputs": [
        {
          "output_type": "execute_result",
          "data": {
            "text/plain": [
              "1"
            ]
          },
          "metadata": {
            "tags": []
          },
          "execution_count": 54
        }
      ]
    },
    {
      "cell_type": "code",
      "metadata": {
        "id": "qPGtrbdHxx7M",
        "colab_type": "code",
        "colab": {
          "base_uri": "https://localhost:8080/",
          "height": 35
        },
        "outputId": "c92eba7c-7050-455d-9105-78a404df1f87"
      },
      "source": [
        "bool_arr.dtype"
      ],
      "execution_count": 55,
      "outputs": [
        {
          "output_type": "execute_result",
          "data": {
            "text/plain": [
              "dtype('bool')"
            ]
          },
          "metadata": {
            "tags": []
          },
          "execution_count": 55
        }
      ]
    },
    {
      "cell_type": "code",
      "metadata": {
        "id": "eBLjVYeJx4ys",
        "colab_type": "code",
        "colab": {
          "base_uri": "https://localhost:8080/",
          "height": 35
        },
        "outputId": "5f710f80-1ac8-4c85-ee0e-f572d803505f"
      },
      "source": [
        "str_array.dtype"
      ],
      "execution_count": 57,
      "outputs": [
        {
          "output_type": "execute_result",
          "data": {
            "text/plain": [
              "dtype('<U3')"
            ]
          },
          "metadata": {
            "tags": []
          },
          "execution_count": 57
        }
      ]
    },
    {
      "cell_type": "code",
      "metadata": {
        "id": "fvGOG8lNx9hS",
        "colab_type": "code",
        "colab": {
          "base_uri": "https://localhost:8080/",
          "height": 35
        },
        "outputId": "6463fae7-9a01-4dcc-ea4a-00fd1f2c327d"
      },
      "source": [
        "str_array.itemsize"
      ],
      "execution_count": 58,
      "outputs": [
        {
          "output_type": "execute_result",
          "data": {
            "text/plain": [
              "12"
            ]
          },
          "metadata": {
            "tags": []
          },
          "execution_count": 58
        }
      ]
    },
    {
      "cell_type": "code",
      "metadata": {
        "id": "72F4w5LjyBuJ",
        "colab_type": "code",
        "colab": {
          "base_uri": "https://localhost:8080/",
          "height": 35
        },
        "outputId": "47f85428-bc66-4360-fa74-c378047960d1"
      },
      "source": [
        "str_array.size"
      ],
      "execution_count": 59,
      "outputs": [
        {
          "output_type": "execute_result",
          "data": {
            "text/plain": [
              "3"
            ]
          },
          "metadata": {
            "tags": []
          },
          "execution_count": 59
        }
      ]
    },
    {
      "cell_type": "code",
      "metadata": {
        "id": "_KaKE7eNyD4v",
        "colab_type": "code",
        "colab": {}
      },
      "source": [
        "arr = np.array(str_array,dtype='float')"
      ],
      "execution_count": 60,
      "outputs": []
    },
    {
      "cell_type": "code",
      "metadata": {
        "id": "ws2GNGGCyY3F",
        "colab_type": "code",
        "colab": {
          "base_uri": "https://localhost:8080/",
          "height": 35
        },
        "outputId": "ef584ff0-aa36-444e-d2e8-bd907717f001"
      },
      "source": [
        "arr"
      ],
      "execution_count": 61,
      "outputs": [
        {
          "output_type": "execute_result",
          "data": {
            "text/plain": [
              "array([1.4, 2.1, 1.1])"
            ]
          },
          "metadata": {
            "tags": []
          },
          "execution_count": 61
        }
      ]
    },
    {
      "cell_type": "code",
      "metadata": {
        "id": "MkdQzI4LyZml",
        "colab_type": "code",
        "colab": {
          "base_uri": "https://localhost:8080/",
          "height": 35
        },
        "outputId": "cec0ed3c-f8e3-4d35-9471-22ec08edce46"
      },
      "source": [
        "arr.dtype"
      ],
      "execution_count": 62,
      "outputs": [
        {
          "output_type": "execute_result",
          "data": {
            "text/plain": [
              "dtype('float64')"
            ]
          },
          "metadata": {
            "tags": []
          },
          "execution_count": 62
        }
      ]
    },
    {
      "cell_type": "code",
      "metadata": {
        "id": "SrUayoGSybfh",
        "colab_type": "code",
        "colab": {
          "base_uri": "https://localhost:8080/",
          "height": 35
        },
        "outputId": "6a4e5f2a-bf09-47ec-a1c3-254c0eefd7ae"
      },
      "source": [
        "arr.itemsize"
      ],
      "execution_count": 63,
      "outputs": [
        {
          "output_type": "execute_result",
          "data": {
            "text/plain": [
              "8"
            ]
          },
          "metadata": {
            "tags": []
          },
          "execution_count": 63
        }
      ]
    },
    {
      "cell_type": "code",
      "metadata": {
        "id": "b9dSO4sjydnY",
        "colab_type": "code",
        "colab": {
          "base_uri": "https://localhost:8080/",
          "height": 35
        },
        "outputId": "63215aa1-7121-4a6c-8b5f-b0470bb24eb0"
      },
      "source": [
        "arr.size"
      ],
      "execution_count": 64,
      "outputs": [
        {
          "output_type": "execute_result",
          "data": {
            "text/plain": [
              "3"
            ]
          },
          "metadata": {
            "tags": []
          },
          "execution_count": 64
        }
      ]
    }
  ]
}