{
  "nbformat": 4,
  "nbformat_minor": 0,
  "metadata": {
    "colab": {
      "name": "fds_wk5.ipynb",
      "provenance": [],
      "authorship_tag": "ABX9TyMT2WPqicGa8y0GbYaM2qh0",
      "include_colab_link": true
    },
    "kernelspec": {
      "name": "python3",
      "display_name": "Python 3"
    }
  },
  "cells": [
    {
      "cell_type": "markdown",
      "metadata": {
        "id": "view-in-github",
        "colab_type": "text"
      },
      "source": [
        "<a href=\"https://colab.research.google.com/github/ajayks1974/learning/blob/master/fds/fds_wk5.ipynb\" target=\"_parent\"><img src=\"https://colab.research.google.com/assets/colab-badge.svg\" alt=\"Open In Colab\"/></a>"
      ]
    },
    {
      "cell_type": "markdown",
      "metadata": {
        "id": "cKMlPjWvnPJQ",
        "colab_type": "text"
      },
      "source": [
        "#Comments and Error Handling"
      ]
    },
    {
      "cell_type": "code",
      "metadata": {
        "id": "h4Q3A4i6lz7N",
        "colab_type": "code",
        "colab": {}
      },
      "source": [
        "def fibonacci_sequence(n, a=1, b=1):\n",
        "    \"\"\"\n",
        "    This computes the nth number in the fibonacci sequence\n",
        "    starting with a and b as the first two values\n",
        "    \"\"\"\n",
        "    for i in range(n):\n",
        "        temp = a + b\n",
        "        a = b\n",
        "        b = temp\n",
        "    return temp"
      ],
      "execution_count": 0,
      "outputs": []
    },
    {
      "cell_type": "code",
      "metadata": {
        "id": "EnhuTHcWm742",
        "colab_type": "code",
        "colab": {}
      },
      "source": [
        "def input_single_float(prompt):\n",
        "    user_input = input(prompt)\n",
        "    output = None\n",
        "    try:\n",
        "        output = float(user_input)\n",
        "    except ValueError:\n",
        "        print(\"Input Value must be float\")\n",
        "    return output"
      ],
      "execution_count": 0,
      "outputs": []
    },
    {
      "cell_type": "code",
      "metadata": {
        "id": "c-9MS0uenNLO",
        "colab_type": "code",
        "outputId": "9808e0d1-a502-495e-d657-f8d4e7fe595a",
        "colab": {
          "base_uri": "https://localhost:8080/",
          "height": 51
        }
      },
      "source": [
        "input_single_float(1)"
      ],
      "execution_count": 0,
      "outputs": [
        {
          "output_type": "stream",
          "text": [
            "12\n"
          ],
          "name": "stdout"
        },
        {
          "output_type": "execute_result",
          "data": {
            "text/plain": [
              "2.0"
            ]
          },
          "metadata": {
            "tags": []
          },
          "execution_count": 12
        }
      ]
    },
    {
      "cell_type": "markdown",
      "metadata": {
        "id": "Y6u5eyzZnN3Y",
        "colab_type": "text"
      },
      "source": [
        "#List"
      ]
    },
    {
      "cell_type": "code",
      "metadata": {
        "id": "lI3KjffDG5Su",
        "colab_type": "code",
        "colab": {}
      },
      "source": [
        "course_name = \"Foundation of Data Science\""
      ],
      "execution_count": 0,
      "outputs": []
    },
    {
      "cell_type": "code",
      "metadata": {
        "id": "eZ-Gyb-PHBkL",
        "colab_type": "code",
        "colab": {}
      },
      "source": [
        "words = course_name.split()"
      ],
      "execution_count": 0,
      "outputs": []
    },
    {
      "cell_type": "code",
      "metadata": {
        "id": "rPl_IFtrHpTA",
        "colab_type": "code",
        "outputId": "a3c4075d-e1ee-4589-8126-dd6b63153317",
        "colab": {
          "base_uri": "https://localhost:8080/",
          "height": 34
        }
      },
      "source": [
        "words"
      ],
      "execution_count": 0,
      "outputs": [
        {
          "output_type": "execute_result",
          "data": {
            "text/plain": [
              "['Foundation', 'of', 'Data', 'Science']"
            ]
          },
          "metadata": {
            "tags": []
          },
          "execution_count": 3
        }
      ]
    },
    {
      "cell_type": "code",
      "metadata": {
        "id": "ZfU4BTfCHrt9",
        "colab_type": "code",
        "outputId": "39195f8f-5268-4c1e-8147-5c561d2f2872",
        "colab": {
          "base_uri": "https://localhost:8080/",
          "height": 34
        }
      },
      "source": [
        "print(words)"
      ],
      "execution_count": 0,
      "outputs": [
        {
          "output_type": "stream",
          "text": [
            "['Foundation', 'of', 'Data', 'Science']\n"
          ],
          "name": "stdout"
        }
      ]
    },
    {
      "cell_type": "code",
      "metadata": {
        "id": "L8cKFJsFHuwm",
        "colab_type": "code",
        "colab": {}
      },
      "source": [
        "str.split?"
      ],
      "execution_count": 0,
      "outputs": []
    },
    {
      "cell_type": "code",
      "metadata": {
        "id": "CgiZhaZdH4oq",
        "colab_type": "code",
        "outputId": "c7201d66-3a35-48b6-ea90-8a4ca89a5af2",
        "colab": {
          "base_uri": "https://localhost:8080/",
          "height": 34
        }
      },
      "source": [
        "print(type(words))"
      ],
      "execution_count": 0,
      "outputs": [
        {
          "output_type": "stream",
          "text": [
            "<class 'list'>\n"
          ],
          "name": "stdout"
        }
      ]
    },
    {
      "cell_type": "code",
      "metadata": {
        "id": "6hwBaDonIFKF",
        "colab_type": "code",
        "outputId": "4d59166f-1613-4462-b7c9-a785328c1216",
        "colab": {
          "base_uri": "https://localhost:8080/",
          "height": 163
        }
      },
      "source": [
        "print(words[-5])"
      ],
      "execution_count": 0,
      "outputs": [
        {
          "output_type": "error",
          "ename": "IndexError",
          "evalue": "ignored",
          "traceback": [
            "\u001b[0;31m---------------------------------------------------------------------------\u001b[0m",
            "\u001b[0;31mIndexError\u001b[0m                                Traceback (most recent call last)",
            "\u001b[0;32m<ipython-input-13-b564173a8cb0>\u001b[0m in \u001b[0;36m<module>\u001b[0;34m()\u001b[0m\n\u001b[0;32m----> 1\u001b[0;31m \u001b[0mprint\u001b[0m\u001b[0;34m(\u001b[0m\u001b[0mwords\u001b[0m\u001b[0;34m[\u001b[0m\u001b[0;34m-\u001b[0m\u001b[0;36m5\u001b[0m\u001b[0;34m]\u001b[0m\u001b[0;34m)\u001b[0m\u001b[0;34m\u001b[0m\u001b[0;34m\u001b[0m\u001b[0m\n\u001b[0m",
            "\u001b[0;31mIndexError\u001b[0m: list index out of range"
          ]
        }
      ]
    },
    {
      "cell_type": "code",
      "metadata": {
        "id": "pUlnqunzIIWQ",
        "colab_type": "code",
        "outputId": "8ed559db-511b-4ef1-c36b-3c89e351d0d0",
        "colab": {
          "base_uri": "https://localhost:8080/",
          "height": 34
        }
      },
      "source": [
        "print(type(words[2:4]))"
      ],
      "execution_count": 0,
      "outputs": [
        {
          "output_type": "stream",
          "text": [
            "<class 'list'>\n"
          ],
          "name": "stdout"
        }
      ]
    },
    {
      "cell_type": "code",
      "metadata": {
        "id": "rxd7RGDKIlTq",
        "colab_type": "code",
        "outputId": "91d1af42-f210-44f8-d20e-4e8b7a3f745a",
        "colab": {
          "base_uri": "https://localhost:8080/",
          "height": 34
        }
      },
      "source": [
        "print(words[:3])"
      ],
      "execution_count": 0,
      "outputs": [
        {
          "output_type": "stream",
          "text": [
            "['Foundation', 'of', 'Data']\n"
          ],
          "name": "stdout"
        }
      ]
    },
    {
      "cell_type": "code",
      "metadata": {
        "id": "c0C9olldI4BD",
        "colab_type": "code",
        "outputId": "739e57d2-bbe1-41ae-ad76-ff50da10d4f9",
        "colab": {
          "base_uri": "https://localhost:8080/",
          "height": 34
        }
      },
      "source": [
        "    print(words[1:])"
      ],
      "execution_count": 0,
      "outputs": [
        {
          "output_type": "stream",
          "text": [
            "['of', 'Data', 'Science']\n"
          ],
          "name": "stdout"
        }
      ]
    },
    {
      "cell_type": "code",
      "metadata": {
        "id": "OYqVeX6DI-oT",
        "colab_type": "code",
        "outputId": "5828c039-febf-45fb-8ec4-9ce5e04411de",
        "colab": {
          "base_uri": "https://localhost:8080/",
          "height": 34
        }
      },
      "source": [
        "print(words[:])"
      ],
      "execution_count": 0,
      "outputs": [
        {
          "output_type": "stream",
          "text": [
            "['Foundation', 'of', 'Data', 'Science']\n"
          ],
          "name": "stdout"
        }
      ]
    },
    {
      "cell_type": "code",
      "metadata": {
        "id": "062E5hHlJExp",
        "colab_type": "code",
        "colab": {}
      },
      "source": [
        "new_words = [\"Machine\",\"Learning\"]"
      ],
      "execution_count": 0,
      "outputs": []
    },
    {
      "cell_type": "code",
      "metadata": {
        "id": "IcKFguDmJLcA",
        "colab_type": "code",
        "colab": {}
      },
      "source": [
        "fibonacci_series = [1,1,2,3,5,8,13,21]"
      ],
      "execution_count": 0,
      "outputs": []
    },
    {
      "cell_type": "code",
      "metadata": {
        "id": "TVPz76SWJYes",
        "colab_type": "code",
        "outputId": "4255b604-a8ee-442d-a074-6467ef717565",
        "colab": {
          "base_uri": "https://localhost:8080/",
          "height": 34
        }
      },
      "source": [
        "print(fibonacci_series[:])"
      ],
      "execution_count": 0,
      "outputs": [
        {
          "output_type": "stream",
          "text": [
            "[1, 1, 2, 3, 5, 8, 13, 21]\n"
          ],
          "name": "stdout"
        }
      ]
    },
    {
      "cell_type": "code",
      "metadata": {
        "id": "5mszfWkiJmGz",
        "colab_type": "code",
        "outputId": "e490b93b-38b1-4a06-95c6-32f68f7d2459",
        "colab": {
          "base_uri": "https://localhost:8080/",
          "height": 153
        }
      },
      "source": [
        "for num in fibonacci_series:\n",
        "    print(num+10)"
      ],
      "execution_count": 0,
      "outputs": [
        {
          "output_type": "stream",
          "text": [
            "11\n",
            "11\n",
            "12\n",
            "13\n",
            "15\n",
            "18\n",
            "23\n",
            "31\n"
          ],
          "name": "stdout"
        }
      ]
    },
    {
      "cell_type": "code",
      "metadata": {
        "id": "uga-BqyaJwLC",
        "colab_type": "code",
        "colab": {}
      },
      "source": [
        "length = len(fibonacci_series)"
      ],
      "execution_count": 0,
      "outputs": []
    },
    {
      "cell_type": "code",
      "metadata": {
        "id": "EVz7pbmOJ5X4",
        "colab_type": "code",
        "outputId": "ac972487-6207-408b-8c95-0321e2f4324e",
        "colab": {
          "base_uri": "https://localhost:8080/",
          "height": 34
        }
      },
      "source": [
        "print(len)"
      ],
      "execution_count": 0,
      "outputs": [
        {
          "output_type": "stream",
          "text": [
            "<built-in function len>\n"
          ],
          "name": "stdout"
        }
      ]
    },
    {
      "cell_type": "code",
      "metadata": {
        "id": "nb5QXJfDJ7JC",
        "colab_type": "code",
        "outputId": "94c9a6fd-5dd6-4c61-f527-1528ace81281",
        "colab": {
          "base_uri": "https://localhost:8080/",
          "height": 153
        }
      },
      "source": [
        "for i in range(length):\n",
        "    print(i, fibonacci_series[i])\n"
      ],
      "execution_count": 0,
      "outputs": [
        {
          "output_type": "stream",
          "text": [
            "0 1\n",
            "1 1\n",
            "2 2\n",
            "3 3\n",
            "4 5\n",
            "5 8\n",
            "6 13\n",
            "7 21\n"
          ],
          "name": "stdout"
        }
      ]
    },
    {
      "cell_type": "code",
      "metadata": {
        "id": "qIIo-jANKFt8",
        "colab_type": "code",
        "colab": {}
      },
      "source": [
        "bmi_record = [\"Krishna\", 75, 1.73, False]"
      ],
      "execution_count": 0,
      "outputs": []
    },
    {
      "cell_type": "code",
      "metadata": {
        "id": "q0LYzB-AKNKk",
        "colab_type": "code",
        "outputId": "35f9fb1b-dcc5-4c92-fe7d-ed87f3840af6",
        "colab": {
          "base_uri": "https://localhost:8080/",
          "height": 34
        }
      },
      "source": [
        "print(type(bmi_record))"
      ],
      "execution_count": 0,
      "outputs": [
        {
          "output_type": "stream",
          "text": [
            "<class 'list'>\n"
          ],
          "name": "stdout"
        }
      ]
    },
    {
      "cell_type": "code",
      "metadata": {
        "id": "885VF4twKZ5P",
        "colab_type": "code",
        "outputId": "0069592d-e9e9-4ef4-8a1f-034af9e7accc",
        "colab": {
          "base_uri": "https://localhost:8080/",
          "height": 102
        }
      },
      "source": [
        "for item in bmi_record:\n",
        "    print(item, type(item))"
      ],
      "execution_count": 0,
      "outputs": [
        {
          "output_type": "stream",
          "text": [
            "Krishna <class 'str'>\n",
            "75 <class 'int'>\n",
            "1.73 <class 'float'>\n",
            "False <class 'bool'>\n",
            "krishna@idontknow.com <class 'str'>\n"
          ],
          "name": "stdout"
        }
      ]
    },
    {
      "cell_type": "code",
      "metadata": {
        "id": "9ABpWU3dKp5O",
        "colab_type": "code",
        "colab": {}
      },
      "source": [
        "bmi_record.append(\"krishna@idontknow.com\")"
      ],
      "execution_count": 0,
      "outputs": []
    },
    {
      "cell_type": "markdown",
      "metadata": {
        "id": "-1T4xvSCfkBS",
        "colab_type": "text"
      },
      "source": [
        "#Lists - Continued"
      ]
    },
    {
      "cell_type": "code",
      "metadata": {
        "id": "sRlJwbAjLAp6",
        "colab_type": "code",
        "colab": {}
      },
      "source": [
        "bmi_dataset = [\n",
        "               [\"Krishna\", 75, 1.73, False],\n",
        "               [\"Bheem\", 120, 1.78, True]\n",
        "]"
      ],
      "execution_count": 0,
      "outputs": []
    },
    {
      "cell_type": "code",
      "metadata": {
        "id": "7Jty_gzlgMW_",
        "colab_type": "code",
        "outputId": "d2ad8769-497c-4a0d-b6ea-2ecb3d8b5beb",
        "colab": {
          "base_uri": "https://localhost:8080/",
          "height": 34
        }
      },
      "source": [
        "print(type(bmi_dataset))"
      ],
      "execution_count": 0,
      "outputs": [
        {
          "output_type": "stream",
          "text": [
            "<class 'list'>\n"
          ],
          "name": "stdout"
        }
      ]
    },
    {
      "cell_type": "code",
      "metadata": {
        "id": "YeKCY2WFgSFO",
        "colab_type": "code",
        "outputId": "27483a54-7a31-4407-f175-9eddf720bbfe",
        "colab": {
          "base_uri": "https://localhost:8080/",
          "height": 34
        }
      },
      "source": [
        "print(type(bmi_dataset[1]))"
      ],
      "execution_count": 0,
      "outputs": [
        {
          "output_type": "stream",
          "text": [
            "<class 'list'>\n"
          ],
          "name": "stdout"
        }
      ]
    },
    {
      "cell_type": "code",
      "metadata": {
        "id": "_1cFO8UqgdsE",
        "colab_type": "code",
        "outputId": "b044bb55-1c42-41a9-eed8-9d10344d4686",
        "colab": {
          "base_uri": "https://localhost:8080/",
          "height": 34
        }
      },
      "source": [
        "print(bmi_dataset[0])"
      ],
      "execution_count": 0,
      "outputs": [
        {
          "output_type": "stream",
          "text": [
            "['Krishna', 75, 1.73, False]\n"
          ],
          "name": "stdout"
        }
      ]
    },
    {
      "cell_type": "code",
      "metadata": {
        "id": "HGKydfORgqsd",
        "colab_type": "code",
        "outputId": "9204ca0b-373a-49ee-c42b-a24052442853",
        "colab": {
          "base_uri": "https://localhost:8080/",
          "height": 34
        }
      },
      "source": [
        "print(type(bmi_dataset[0][0]))"
      ],
      "execution_count": 0,
      "outputs": [
        {
          "output_type": "stream",
          "text": [
            "<class 'str'>\n"
          ],
          "name": "stdout"
        }
      ]
    },
    {
      "cell_type": "code",
      "metadata": {
        "id": "DICepy8Kg51O",
        "colab_type": "code",
        "outputId": "9a784781-72f6-4b71-9106-2f3d93f0150b",
        "colab": {
          "base_uri": "https://localhost:8080/",
          "height": 34
        }
      },
      "source": [
        "print(bmi_dataset[0][0])"
      ],
      "execution_count": 0,
      "outputs": [
        {
          "output_type": "stream",
          "text": [
            "Krishna\n"
          ],
          "name": "stdout"
        }
      ]
    },
    {
      "cell_type": "code",
      "metadata": {
        "id": "TPSPILyxg8HH",
        "colab_type": "code",
        "outputId": "7ab3cd0f-b076-4487-ed74-c7e9b1a0550d",
        "colab": {
          "base_uri": "https://localhost:8080/",
          "height": 221
        }
      },
      "source": [
        "for item in bmi_dataset:\n",
        "    print(\"Start Of Record ------------\")\n",
        "    for nest_item in item:\n",
        "        print(nest_item)\n",
        "    print(\"\")"
      ],
      "execution_count": 0,
      "outputs": [
        {
          "output_type": "stream",
          "text": [
            "Start Of Record ------------\n",
            "Krishna\n",
            "75\n",
            "1.73\n",
            "False\n",
            "\n",
            "Start Of Record ------------\n",
            "Bheem\n",
            "120\n",
            "1.78\n",
            "True\n",
            "\n"
          ],
          "name": "stdout"
        }
      ]
    },
    {
      "cell_type": "code",
      "metadata": {
        "id": "EP9TspHZhYGh",
        "colab_type": "code",
        "colab": {}
      },
      "source": [
        "bmi_dataset[1].append(\"bheem@foodtruck.com\")"
      ],
      "execution_count": 0,
      "outputs": []
    },
    {
      "cell_type": "code",
      "metadata": {
        "id": "pLRoNSJeh7CQ",
        "colab_type": "code",
        "outputId": "c5cdfc94-8806-4450-a5fa-f2e864a31806",
        "colab": {
          "base_uri": "https://localhost:8080/",
          "height": 51
        }
      },
      "source": [
        "bmi_dataset"
      ],
      "execution_count": 0,
      "outputs": [
        {
          "output_type": "execute_result",
          "data": {
            "text/plain": [
              "[['Krishna', 75, 1.73, False],\n",
              " ['Bheem', 125, 1.78, True, 'bheem@foodtruck.com']]"
            ]
          },
          "metadata": {
            "tags": []
          },
          "execution_count": 20
        }
      ]
    },
    {
      "cell_type": "code",
      "metadata": {
        "id": "2ubZkCuHh9Lb",
        "colab_type": "code",
        "colab": {}
      },
      "source": [
        "bmi_dataset[1][1] = 125"
      ],
      "execution_count": 0,
      "outputs": []
    },
    {
      "cell_type": "code",
      "metadata": {
        "id": "-k-3i743ooFr",
        "colab_type": "code",
        "colab": {}
      },
      "source": [
        "identity_3 = [\n",
        "              [1,0,0],\n",
        "              [0,1,0],\n",
        "              [0,0,1]\n",
        "]"
      ],
      "execution_count": 0,
      "outputs": []
    },
    {
      "cell_type": "code",
      "metadata": {
        "id": "5MsKpFSnpWdF",
        "colab_type": "code",
        "colab": {}
      },
      "source": [
        "A = [1, 2]"
      ],
      "execution_count": 0,
      "outputs": []
    },
    {
      "cell_type": "code",
      "metadata": {
        "id": "O7ElpKBhpsvI",
        "colab_type": "code",
        "colab": {}
      },
      "source": [
        "B = A"
      ],
      "execution_count": 0,
      "outputs": []
    },
    {
      "cell_type": "code",
      "metadata": {
        "id": "70x7hK-7pveb",
        "colab_type": "code",
        "outputId": "ea80e470-e072-4728-b5e4-759d60326691",
        "colab": {
          "base_uri": "https://localhost:8080/",
          "height": 34
        }
      },
      "source": [
        "print(B)"
      ],
      "execution_count": 0,
      "outputs": [
        {
          "output_type": "stream",
          "text": [
            "[1, 2]\n"
          ],
          "name": "stdout"
        }
      ]
    },
    {
      "cell_type": "code",
      "metadata": {
        "id": "PPUX11WjpxyS",
        "colab_type": "code",
        "colab": {}
      },
      "source": [
        "A[0] = A[0] + B[1]"
      ],
      "execution_count": 0,
      "outputs": []
    },
    {
      "cell_type": "code",
      "metadata": {
        "id": "_-37VXgsp6UQ",
        "colab_type": "code",
        "outputId": "3d7dd6d2-12b1-44cf-ce90-5652664154e5",
        "colab": {
          "base_uri": "https://localhost:8080/",
          "height": 34
        }
      },
      "source": [
        "print(B)"
      ],
      "execution_count": 0,
      "outputs": [
        {
          "output_type": "stream",
          "text": [
            "[1, 2]\n"
          ],
          "name": "stdout"
        }
      ]
    },
    {
      "cell_type": "code",
      "metadata": {
        "id": "keAiV9Y1p-tG",
        "colab_type": "code",
        "colab": {}
      },
      "source": [
        "B = [iter for iter in A]"
      ],
      "execution_count": 0,
      "outputs": []
    },
    {
      "cell_type": "code",
      "metadata": {
        "id": "1L5xRj6eqXOx",
        "colab_type": "code",
        "outputId": "faac4b6f-f757-4781-cae4-6654a93f4115",
        "colab": {
          "base_uri": "https://localhost:8080/",
          "height": 34
        }
      },
      "source": [
        "print(A)"
      ],
      "execution_count": 0,
      "outputs": [
        {
          "output_type": "stream",
          "text": [
            "[3, 2]\n"
          ],
          "name": "stdout"
        }
      ]
    },
    {
      "cell_type": "code",
      "metadata": {
        "id": "-SyGNWSRq2I3",
        "colab_type": "code",
        "colab": {}
      },
      "source": [
        "a = 2"
      ],
      "execution_count": 0,
      "outputs": []
    },
    {
      "cell_type": "code",
      "metadata": {
        "id": "gBHtJvdeq1k4",
        "colab_type": "code",
        "colab": {}
      },
      "source": [
        "b = a"
      ],
      "execution_count": 0,
      "outputs": []
    },
    {
      "cell_type": "code",
      "metadata": {
        "id": "MY2Tqjtmq-HR",
        "colab_type": "code",
        "colab": {}
      },
      "source": [
        "a = 3"
      ],
      "execution_count": 0,
      "outputs": []
    },
    {
      "cell_type": "code",
      "metadata": {
        "id": "so5CAesXq6qK",
        "colab_type": "code",
        "outputId": "cbeaec2d-a4db-4f21-bfd4-061c25445806",
        "colab": {
          "base_uri": "https://localhost:8080/",
          "height": 34
        }
      },
      "source": [
        "print(b)"
      ],
      "execution_count": 0,
      "outputs": [
        {
          "output_type": "stream",
          "text": [
            "2\n"
          ],
          "name": "stdout"
        }
      ]
    },
    {
      "cell_type": "code",
      "metadata": {
        "id": "C28u1SVvqZdU",
        "colab_type": "code",
        "colab": {}
      },
      "source": [
        "def square_matrix_power(A, n):"
      ],
      "execution_count": 0,
      "outputs": []
    }
  ]
}