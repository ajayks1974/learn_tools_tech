{
  "nbformat": 4,
  "nbformat_minor": 0,
  "metadata": {
    "colab": {
      "name": "fds_wk5.ipynb",
      "provenance": [],
      "authorship_tag": "ABX9TyME39ySM+Dj4VnpAqinqjoL",
      "include_colab_link": true
    },
    "kernelspec": {
      "name": "python3",
      "display_name": "Python 3"
    }
  },
  "cells": [
    {
      "cell_type": "markdown",
      "metadata": {
        "id": "view-in-github",
        "colab_type": "text"
      },
      "source": [
        "<a href=\"https://colab.research.google.com/github/ajayks1974/learning/blob/master/fds/fds_wk5.ipynb\" target=\"_parent\"><img src=\"https://colab.research.google.com/assets/colab-badge.svg\" alt=\"Open In Colab\"/></a>"
      ]
    },
    {
      "cell_type": "markdown",
      "metadata": {
        "id": "cKMlPjWvnPJQ",
        "colab_type": "text"
      },
      "source": [
        "#Comments and Error Handling"
      ]
    },
    {
      "cell_type": "code",
      "metadata": {
        "id": "h4Q3A4i6lz7N",
        "colab_type": "code",
        "colab": {}
      },
      "source": [
        "def fibonacci_sequence(n, a=1, b=1):\n",
        "    \"\"\"\n",
        "    This computes the nth number in the fibonacci sequence\n",
        "    starting with a and b as the first two values\n",
        "    \"\"\"\n",
        "    for i in range(n):\n",
        "        temp = a + b\n",
        "        a = b\n",
        "        b = temp\n",
        "    return temp"
      ],
      "execution_count": null,
      "outputs": []
    },
    {
      "cell_type": "code",
      "metadata": {
        "id": "EnhuTHcWm742",
        "colab_type": "code",
        "colab": {}
      },
      "source": [
        "def input_single_float(prompt):\n",
        "    user_input = input(prompt)\n",
        "    output = None\n",
        "    try:\n",
        "        output = float(user_input)\n",
        "    except ValueError:\n",
        "        print(\"Input Value must be float\")\n",
        "    return output"
      ],
      "execution_count": null,
      "outputs": []
    },
    {
      "cell_type": "code",
      "metadata": {
        "id": "c-9MS0uenNLO",
        "colab_type": "code",
        "colab": {
          "base_uri": "https://localhost:8080/",
          "height": 51
        },
        "outputId": "9808e0d1-a502-495e-d657-f8d4e7fe595a"
      },
      "source": [
        "input_single_float(1)"
      ],
      "execution_count": null,
      "outputs": [
        {
          "output_type": "stream",
          "text": [
            "12\n"
          ],
          "name": "stdout"
        },
        {
          "output_type": "execute_result",
          "data": {
            "text/plain": [
              "2.0"
            ]
          },
          "metadata": {
            "tags": []
          },
          "execution_count": 12
        }
      ]
    },
    {
      "cell_type": "markdown",
      "metadata": {
        "id": "Y6u5eyzZnN3Y",
        "colab_type": "text"
      },
      "source": [
        "#List"
      ]
    },
    {
      "cell_type": "code",
      "metadata": {
        "id": "lI3KjffDG5Su",
        "colab_type": "code",
        "colab": {}
      },
      "source": [
        "course_name = \"Foundation of Data Science\""
      ],
      "execution_count": null,
      "outputs": []
    },
    {
      "cell_type": "code",
      "metadata": {
        "id": "eZ-Gyb-PHBkL",
        "colab_type": "code",
        "colab": {}
      },
      "source": [
        "words = course_name.split()"
      ],
      "execution_count": null,
      "outputs": []
    },
    {
      "cell_type": "code",
      "metadata": {
        "id": "rPl_IFtrHpTA",
        "colab_type": "code",
        "colab": {
          "base_uri": "https://localhost:8080/",
          "height": 34
        },
        "outputId": "a3c4075d-e1ee-4589-8126-dd6b63153317"
      },
      "source": [
        "words"
      ],
      "execution_count": null,
      "outputs": [
        {
          "output_type": "execute_result",
          "data": {
            "text/plain": [
              "['Foundation', 'of', 'Data', 'Science']"
            ]
          },
          "metadata": {
            "tags": []
          },
          "execution_count": 3
        }
      ]
    },
    {
      "cell_type": "code",
      "metadata": {
        "id": "ZfU4BTfCHrt9",
        "colab_type": "code",
        "colab": {
          "base_uri": "https://localhost:8080/",
          "height": 34
        },
        "outputId": "39195f8f-5268-4c1e-8147-5c561d2f2872"
      },
      "source": [
        "print(words)"
      ],
      "execution_count": null,
      "outputs": [
        {
          "output_type": "stream",
          "text": [
            "['Foundation', 'of', 'Data', 'Science']\n"
          ],
          "name": "stdout"
        }
      ]
    },
    {
      "cell_type": "code",
      "metadata": {
        "id": "L8cKFJsFHuwm",
        "colab_type": "code",
        "colab": {}
      },
      "source": [
        "str.split?"
      ],
      "execution_count": null,
      "outputs": []
    },
    {
      "cell_type": "code",
      "metadata": {
        "id": "CgiZhaZdH4oq",
        "colab_type": "code",
        "colab": {
          "base_uri": "https://localhost:8080/",
          "height": 34
        },
        "outputId": "c7201d66-3a35-48b6-ea90-8a4ca89a5af2"
      },
      "source": [
        "print(type(words))"
      ],
      "execution_count": null,
      "outputs": [
        {
          "output_type": "stream",
          "text": [
            "<class 'list'>\n"
          ],
          "name": "stdout"
        }
      ]
    },
    {
      "cell_type": "code",
      "metadata": {
        "id": "6hwBaDonIFKF",
        "colab_type": "code",
        "colab": {
          "base_uri": "https://localhost:8080/",
          "height": 163
        },
        "outputId": "4d59166f-1613-4462-b7c9-a785328c1216"
      },
      "source": [
        "print(words[-5])"
      ],
      "execution_count": null,
      "outputs": [
        {
          "output_type": "error",
          "ename": "IndexError",
          "evalue": "ignored",
          "traceback": [
            "\u001b[0;31m---------------------------------------------------------------------------\u001b[0m",
            "\u001b[0;31mIndexError\u001b[0m                                Traceback (most recent call last)",
            "\u001b[0;32m<ipython-input-13-b564173a8cb0>\u001b[0m in \u001b[0;36m<module>\u001b[0;34m()\u001b[0m\n\u001b[0;32m----> 1\u001b[0;31m \u001b[0mprint\u001b[0m\u001b[0;34m(\u001b[0m\u001b[0mwords\u001b[0m\u001b[0;34m[\u001b[0m\u001b[0;34m-\u001b[0m\u001b[0;36m5\u001b[0m\u001b[0;34m]\u001b[0m\u001b[0;34m)\u001b[0m\u001b[0;34m\u001b[0m\u001b[0;34m\u001b[0m\u001b[0m\n\u001b[0m",
            "\u001b[0;31mIndexError\u001b[0m: list index out of range"
          ]
        }
      ]
    },
    {
      "cell_type": "code",
      "metadata": {
        "id": "pUlnqunzIIWQ",
        "colab_type": "code",
        "colab": {
          "base_uri": "https://localhost:8080/",
          "height": 34
        },
        "outputId": "8ed559db-511b-4ef1-c36b-3c89e351d0d0"
      },
      "source": [
        "print(type(words[2:4]))"
      ],
      "execution_count": null,
      "outputs": [
        {
          "output_type": "stream",
          "text": [
            "<class 'list'>\n"
          ],
          "name": "stdout"
        }
      ]
    },
    {
      "cell_type": "code",
      "metadata": {
        "id": "rxd7RGDKIlTq",
        "colab_type": "code",
        "colab": {
          "base_uri": "https://localhost:8080/",
          "height": 34
        },
        "outputId": "91d1af42-f210-44f8-d20e-4e8b7a3f745a"
      },
      "source": [
        "print(words[:3])"
      ],
      "execution_count": null,
      "outputs": [
        {
          "output_type": "stream",
          "text": [
            "['Foundation', 'of', 'Data']\n"
          ],
          "name": "stdout"
        }
      ]
    },
    {
      "cell_type": "code",
      "metadata": {
        "id": "c0C9olldI4BD",
        "colab_type": "code",
        "colab": {
          "base_uri": "https://localhost:8080/",
          "height": 34
        },
        "outputId": "739e57d2-bbe1-41ae-ad76-ff50da10d4f9"
      },
      "source": [
        "    print(words[1:])"
      ],
      "execution_count": null,
      "outputs": [
        {
          "output_type": "stream",
          "text": [
            "['of', 'Data', 'Science']\n"
          ],
          "name": "stdout"
        }
      ]
    },
    {
      "cell_type": "code",
      "metadata": {
        "id": "OYqVeX6DI-oT",
        "colab_type": "code",
        "colab": {
          "base_uri": "https://localhost:8080/",
          "height": 34
        },
        "outputId": "5828c039-febf-45fb-8ec4-9ce5e04411de"
      },
      "source": [
        "print(words[:])"
      ],
      "execution_count": null,
      "outputs": [
        {
          "output_type": "stream",
          "text": [
            "['Foundation', 'of', 'Data', 'Science']\n"
          ],
          "name": "stdout"
        }
      ]
    },
    {
      "cell_type": "code",
      "metadata": {
        "id": "062E5hHlJExp",
        "colab_type": "code",
        "colab": {}
      },
      "source": [
        "new_words = [\"Machine\",\"Learning\"]"
      ],
      "execution_count": null,
      "outputs": []
    },
    {
      "cell_type": "code",
      "metadata": {
        "id": "IcKFguDmJLcA",
        "colab_type": "code",
        "colab": {}
      },
      "source": [
        "fibonacci_series = [1,1,2,3,5,8,13,21]"
      ],
      "execution_count": null,
      "outputs": []
    },
    {
      "cell_type": "code",
      "metadata": {
        "id": "TVPz76SWJYes",
        "colab_type": "code",
        "colab": {
          "base_uri": "https://localhost:8080/",
          "height": 34
        },
        "outputId": "4255b604-a8ee-442d-a074-6467ef717565"
      },
      "source": [
        "print(fibonacci_series[:])"
      ],
      "execution_count": null,
      "outputs": [
        {
          "output_type": "stream",
          "text": [
            "[1, 1, 2, 3, 5, 8, 13, 21]\n"
          ],
          "name": "stdout"
        }
      ]
    },
    {
      "cell_type": "code",
      "metadata": {
        "id": "5mszfWkiJmGz",
        "colab_type": "code",
        "colab": {
          "base_uri": "https://localhost:8080/",
          "height": 153
        },
        "outputId": "e490b93b-38b1-4a06-95c6-32f68f7d2459"
      },
      "source": [
        "for num in fibonacci_series:\n",
        "    print(num+10)"
      ],
      "execution_count": null,
      "outputs": [
        {
          "output_type": "stream",
          "text": [
            "11\n",
            "11\n",
            "12\n",
            "13\n",
            "15\n",
            "18\n",
            "23\n",
            "31\n"
          ],
          "name": "stdout"
        }
      ]
    },
    {
      "cell_type": "code",
      "metadata": {
        "id": "uga-BqyaJwLC",
        "colab_type": "code",
        "colab": {}
      },
      "source": [
        "length = len(fibonacci_series)"
      ],
      "execution_count": null,
      "outputs": []
    },
    {
      "cell_type": "code",
      "metadata": {
        "id": "EVz7pbmOJ5X4",
        "colab_type": "code",
        "colab": {
          "base_uri": "https://localhost:8080/",
          "height": 34
        },
        "outputId": "ac972487-6207-408b-8c95-0321e2f4324e"
      },
      "source": [
        "print(len)"
      ],
      "execution_count": null,
      "outputs": [
        {
          "output_type": "stream",
          "text": [
            "<built-in function len>\n"
          ],
          "name": "stdout"
        }
      ]
    },
    {
      "cell_type": "code",
      "metadata": {
        "id": "nb5QXJfDJ7JC",
        "colab_type": "code",
        "colab": {
          "base_uri": "https://localhost:8080/",
          "height": 153
        },
        "outputId": "94c9a6fd-5dd6-4c61-f527-1528ace81281"
      },
      "source": [
        "for i in range(length):\n",
        "    print(i, fibonacci_series[i])\n"
      ],
      "execution_count": null,
      "outputs": [
        {
          "output_type": "stream",
          "text": [
            "0 1\n",
            "1 1\n",
            "2 2\n",
            "3 3\n",
            "4 5\n",
            "5 8\n",
            "6 13\n",
            "7 21\n"
          ],
          "name": "stdout"
        }
      ]
    },
    {
      "cell_type": "code",
      "metadata": {
        "id": "qIIo-jANKFt8",
        "colab_type": "code",
        "colab": {}
      },
      "source": [
        "bmi_record = [\"Krishna\", 75, 1.73, False]"
      ],
      "execution_count": null,
      "outputs": []
    },
    {
      "cell_type": "code",
      "metadata": {
        "id": "q0LYzB-AKNKk",
        "colab_type": "code",
        "colab": {
          "base_uri": "https://localhost:8080/",
          "height": 34
        },
        "outputId": "35f9fb1b-dcc5-4c92-fe7d-ed87f3840af6"
      },
      "source": [
        "print(type(bmi_record))"
      ],
      "execution_count": null,
      "outputs": [
        {
          "output_type": "stream",
          "text": [
            "<class 'list'>\n"
          ],
          "name": "stdout"
        }
      ]
    },
    {
      "cell_type": "code",
      "metadata": {
        "id": "885VF4twKZ5P",
        "colab_type": "code",
        "colab": {
          "base_uri": "https://localhost:8080/",
          "height": 102
        },
        "outputId": "0069592d-e9e9-4ef4-8a1f-034af9e7accc"
      },
      "source": [
        "for item in bmi_record:\n",
        "    print(item, type(item))"
      ],
      "execution_count": null,
      "outputs": [
        {
          "output_type": "stream",
          "text": [
            "Krishna <class 'str'>\n",
            "75 <class 'int'>\n",
            "1.73 <class 'float'>\n",
            "False <class 'bool'>\n",
            "krishna@idontknow.com <class 'str'>\n"
          ],
          "name": "stdout"
        }
      ]
    },
    {
      "cell_type": "code",
      "metadata": {
        "id": "9ABpWU3dKp5O",
        "colab_type": "code",
        "colab": {}
      },
      "source": [
        "bmi_record.append(\"krishna@idontknow.com\")"
      ],
      "execution_count": null,
      "outputs": []
    },
    {
      "cell_type": "markdown",
      "metadata": {
        "id": "-1T4xvSCfkBS",
        "colab_type": "text"
      },
      "source": [
        "#Lists - Continued"
      ]
    },
    {
      "cell_type": "code",
      "metadata": {
        "id": "sRlJwbAjLAp6",
        "colab_type": "code",
        "colab": {}
      },
      "source": [
        "bmi_dataset = [\n",
        "               [\"Krishna\", 75, 1.73, False],\n",
        "               [\"Bheem\", 120, 1.78, True]\n",
        "]"
      ],
      "execution_count": null,
      "outputs": []
    },
    {
      "cell_type": "code",
      "metadata": {
        "id": "7Jty_gzlgMW_",
        "colab_type": "code",
        "colab": {
          "base_uri": "https://localhost:8080/",
          "height": 34
        },
        "outputId": "d2ad8769-497c-4a0d-b6ea-2ecb3d8b5beb"
      },
      "source": [
        "print(type(bmi_dataset))"
      ],
      "execution_count": null,
      "outputs": [
        {
          "output_type": "stream",
          "text": [
            "<class 'list'>\n"
          ],
          "name": "stdout"
        }
      ]
    },
    {
      "cell_type": "code",
      "metadata": {
        "id": "YeKCY2WFgSFO",
        "colab_type": "code",
        "colab": {
          "base_uri": "https://localhost:8080/",
          "height": 34
        },
        "outputId": "27483a54-7a31-4407-f175-9eddf720bbfe"
      },
      "source": [
        "print(type(bmi_dataset[1]))"
      ],
      "execution_count": null,
      "outputs": [
        {
          "output_type": "stream",
          "text": [
            "<class 'list'>\n"
          ],
          "name": "stdout"
        }
      ]
    },
    {
      "cell_type": "code",
      "metadata": {
        "id": "_1cFO8UqgdsE",
        "colab_type": "code",
        "colab": {
          "base_uri": "https://localhost:8080/",
          "height": 34
        },
        "outputId": "b044bb55-1c42-41a9-eed8-9d10344d4686"
      },
      "source": [
        "print(bmi_dataset[0])"
      ],
      "execution_count": null,
      "outputs": [
        {
          "output_type": "stream",
          "text": [
            "['Krishna', 75, 1.73, False]\n"
          ],
          "name": "stdout"
        }
      ]
    },
    {
      "cell_type": "code",
      "metadata": {
        "id": "HGKydfORgqsd",
        "colab_type": "code",
        "colab": {
          "base_uri": "https://localhost:8080/",
          "height": 34
        },
        "outputId": "9204ca0b-373a-49ee-c42b-a24052442853"
      },
      "source": [
        "print(type(bmi_dataset[0][0]))"
      ],
      "execution_count": null,
      "outputs": [
        {
          "output_type": "stream",
          "text": [
            "<class 'str'>\n"
          ],
          "name": "stdout"
        }
      ]
    },
    {
      "cell_type": "code",
      "metadata": {
        "id": "DICepy8Kg51O",
        "colab_type": "code",
        "colab": {
          "base_uri": "https://localhost:8080/",
          "height": 34
        },
        "outputId": "9a784781-72f6-4b71-9106-2f3d93f0150b"
      },
      "source": [
        "print(bmi_dataset[0][0])"
      ],
      "execution_count": null,
      "outputs": [
        {
          "output_type": "stream",
          "text": [
            "Krishna\n"
          ],
          "name": "stdout"
        }
      ]
    },
    {
      "cell_type": "code",
      "metadata": {
        "id": "TPSPILyxg8HH",
        "colab_type": "code",
        "colab": {
          "base_uri": "https://localhost:8080/",
          "height": 221
        },
        "outputId": "7ab3cd0f-b076-4487-ed74-c7e9b1a0550d"
      },
      "source": [
        "for item in bmi_dataset:\n",
        "    print(\"Start Of Record ------------\")\n",
        "    for nest_item in item:\n",
        "        print(nest_item)\n",
        "    print(\"\")"
      ],
      "execution_count": null,
      "outputs": [
        {
          "output_type": "stream",
          "text": [
            "Start Of Record ------------\n",
            "Krishna\n",
            "75\n",
            "1.73\n",
            "False\n",
            "\n",
            "Start Of Record ------------\n",
            "Bheem\n",
            "120\n",
            "1.78\n",
            "True\n",
            "\n"
          ],
          "name": "stdout"
        }
      ]
    },
    {
      "cell_type": "code",
      "metadata": {
        "id": "EP9TspHZhYGh",
        "colab_type": "code",
        "colab": {}
      },
      "source": [
        "bmi_dataset[1].append(\"bheem@foodtruck.com\")"
      ],
      "execution_count": null,
      "outputs": []
    },
    {
      "cell_type": "code",
      "metadata": {
        "id": "pLRoNSJeh7CQ",
        "colab_type": "code",
        "colab": {
          "base_uri": "https://localhost:8080/",
          "height": 51
        },
        "outputId": "c5cdfc94-8806-4450-a5fa-f2e864a31806"
      },
      "source": [
        "bmi_dataset"
      ],
      "execution_count": null,
      "outputs": [
        {
          "output_type": "execute_result",
          "data": {
            "text/plain": [
              "[['Krishna', 75, 1.73, False],\n",
              " ['Bheem', 125, 1.78, True, 'bheem@foodtruck.com']]"
            ]
          },
          "metadata": {
            "tags": []
          },
          "execution_count": 20
        }
      ]
    },
    {
      "cell_type": "code",
      "metadata": {
        "id": "2ubZkCuHh9Lb",
        "colab_type": "code",
        "colab": {}
      },
      "source": [
        "bmi_dataset[1][1] = 125"
      ],
      "execution_count": null,
      "outputs": []
    },
    {
      "cell_type": "code",
      "metadata": {
        "id": "-k-3i743ooFr",
        "colab_type": "code",
        "colab": {}
      },
      "source": [
        "identity_3 = [\n",
        "              [1,0,0],\n",
        "              [0,1,0],\n",
        "              [0,0,1]\n",
        "]"
      ],
      "execution_count": null,
      "outputs": []
    },
    {
      "cell_type": "code",
      "metadata": {
        "id": "5MsKpFSnpWdF",
        "colab_type": "code",
        "colab": {}
      },
      "source": [
        "A = [1, 2]"
      ],
      "execution_count": null,
      "outputs": []
    },
    {
      "cell_type": "code",
      "metadata": {
        "id": "O7ElpKBhpsvI",
        "colab_type": "code",
        "colab": {}
      },
      "source": [
        "B = A"
      ],
      "execution_count": null,
      "outputs": []
    },
    {
      "cell_type": "code",
      "metadata": {
        "id": "70x7hK-7pveb",
        "colab_type": "code",
        "colab": {
          "base_uri": "https://localhost:8080/",
          "height": 34
        },
        "outputId": "ea80e470-e072-4728-b5e4-759d60326691"
      },
      "source": [
        "print(B)"
      ],
      "execution_count": null,
      "outputs": [
        {
          "output_type": "stream",
          "text": [
            "[1, 2]\n"
          ],
          "name": "stdout"
        }
      ]
    },
    {
      "cell_type": "code",
      "metadata": {
        "id": "PPUX11WjpxyS",
        "colab_type": "code",
        "colab": {}
      },
      "source": [
        "A[0] = A[0] + B[1]"
      ],
      "execution_count": null,
      "outputs": []
    },
    {
      "cell_type": "code",
      "metadata": {
        "id": "_-37VXgsp6UQ",
        "colab_type": "code",
        "colab": {
          "base_uri": "https://localhost:8080/",
          "height": 34
        },
        "outputId": "3d7dd6d2-12b1-44cf-ce90-5652664154e5"
      },
      "source": [
        "print(B)"
      ],
      "execution_count": null,
      "outputs": [
        {
          "output_type": "stream",
          "text": [
            "[1, 2]\n"
          ],
          "name": "stdout"
        }
      ]
    },
    {
      "cell_type": "code",
      "metadata": {
        "id": "keAiV9Y1p-tG",
        "colab_type": "code",
        "colab": {}
      },
      "source": [
        "B = [iter for iter in A]"
      ],
      "execution_count": null,
      "outputs": []
    },
    {
      "cell_type": "code",
      "metadata": {
        "id": "1L5xRj6eqXOx",
        "colab_type": "code",
        "colab": {
          "base_uri": "https://localhost:8080/",
          "height": 34
        },
        "outputId": "faac4b6f-f757-4781-cae4-6654a93f4115"
      },
      "source": [
        "print(A)"
      ],
      "execution_count": null,
      "outputs": [
        {
          "output_type": "stream",
          "text": [
            "[3, 2]\n"
          ],
          "name": "stdout"
        }
      ]
    },
    {
      "cell_type": "code",
      "metadata": {
        "id": "-SyGNWSRq2I3",
        "colab_type": "code",
        "colab": {}
      },
      "source": [
        "a = 2"
      ],
      "execution_count": null,
      "outputs": []
    },
    {
      "cell_type": "code",
      "metadata": {
        "id": "gBHtJvdeq1k4",
        "colab_type": "code",
        "colab": {}
      },
      "source": [
        "b = a"
      ],
      "execution_count": null,
      "outputs": []
    },
    {
      "cell_type": "code",
      "metadata": {
        "id": "MY2Tqjtmq-HR",
        "colab_type": "code",
        "colab": {}
      },
      "source": [
        "a = 3"
      ],
      "execution_count": null,
      "outputs": []
    },
    {
      "cell_type": "code",
      "metadata": {
        "id": "so5CAesXq6qK",
        "colab_type": "code",
        "colab": {
          "base_uri": "https://localhost:8080/",
          "height": 34
        },
        "outputId": "cbeaec2d-a4db-4f21-bfd4-061c25445806"
      },
      "source": [
        "print(b)"
      ],
      "execution_count": null,
      "outputs": [
        {
          "output_type": "stream",
          "text": [
            "2\n"
          ],
          "name": "stdout"
        }
      ]
    },
    {
      "cell_type": "code",
      "metadata": {
        "id": "2xdaS-CSUMcS",
        "colab_type": "code",
        "colab": {}
      },
      "source": [
        "# define Python user-defined exceptions\n",
        "class Error(Exception):\n",
        "    \"\"\"Base class for other exceptions\"\"\"\n",
        "    pass\n",
        "\n",
        "\n",
        "class NotASquareMatrix(Error):\n",
        "    \"\"\"Raised when input Matrix for Exponential is not Square\"\"\"\n",
        "    pass"
      ],
      "execution_count": null,
      "outputs": []
    },
    {
      "cell_type": "code",
      "metadata": {
        "id": "y8KKGMbwXCEF",
        "colab_type": "code",
        "colab": {}
      },
      "source": [
        "def build_empty_mat(out_mat,row,col):\n",
        "    for row_iter in range(row):\n",
        "        row_list = []\n",
        "        for col_iter in range(col):\n",
        "            row_list.append(0)\n",
        "        out_mat.append([iter for iter in row_list])"
      ],
      "execution_count": null,
      "outputs": []
    },
    {
      "cell_type": "code",
      "metadata": {
        "id": "Gsz9gr4IaAGb",
        "colab_type": "code",
        "colab": {}
      },
      "source": [
        "mat = []\n",
        "build_empty_mat(mat,3,3)"
      ],
      "execution_count": null,
      "outputs": []
    },
    {
      "cell_type": "code",
      "metadata": {
        "id": "C28u1SVvqZdU",
        "colab_type": "code",
        "colab": {}
      },
      "source": [
        "def matrix_mul(mat_a, mat_b):\n",
        "    mat_ab = []\n",
        "    build_empty_mat(mat_ab,len(mat_a),len(mat_b[0]))\n",
        "    for row in range(len(mat_a)):\n",
        "        for col in range(len(mat_b[0])):\n",
        "            mat_ab[row][col] = 0\n",
        "            for iter in range(len(mat_a)):\n",
        "                mat_ab[row][col] += mat_a[row][iter] * mat_b[iter][col]\n",
        "    return mat_ab"
      ],
      "execution_count": null,
      "outputs": []
    },
    {
      "cell_type": "code",
      "metadata": {
        "id": "pfCGPh6bUr75",
        "colab_type": "code",
        "colab": {}
      },
      "source": [
        "def build_eye_matrix(dim):\n",
        "    mat_eye = []\n",
        "    build_empty_mat(mat_eye,dim,dim)\n",
        "    for row in range(dim):\n",
        "        for col in range(dim):\n",
        "            if row == col:\n",
        "                mat_eye[row][col] = 1\n",
        "            else:\n",
        "                mat_eye[row][col] = 0\n",
        "    return mat_eye"
      ],
      "execution_count": null,
      "outputs": []
    },
    {
      "cell_type": "code",
      "metadata": {
        "id": "dsB9bRjxaiv-",
        "colab_type": "code",
        "colab": {
          "base_uri": "https://localhost:8080/",
          "height": 34
        },
        "outputId": "264d7678-29e9-451f-ed2e-5865f37fe946"
      },
      "source": [
        "build_eye_matrix(3)"
      ],
      "execution_count": null,
      "outputs": [
        {
          "output_type": "execute_result",
          "data": {
            "text/plain": [
              "[[1, 0, 0], [0, 1, 0], [0, 0, 1]]"
            ]
          },
          "metadata": {
            "tags": []
          },
          "execution_count": 38
        }
      ]
    },
    {
      "cell_type": "code",
      "metadata": {
        "id": "S-GzL-qIRdUq",
        "colab_type": "code",
        "colab": {}
      },
      "source": [
        "def square_matrix_power(A, n):\n",
        "    out_mat_a_exp_n = None\n",
        "    try:\n",
        "        if len(A) != len(A[0]):\n",
        "            raise NotASquareMatrix\n",
        "        out_mat_a_exp_n = build_eye_matrix(len(A))\n",
        "        for iter in range(n):\n",
        "            out_mat_a_exp_n = matrix_mul(out_mat_a_exp_n,A)\n",
        "    except NotASquareMatrix:\n",
        "        print(\"Not a Square Matrix\")\n",
        "    return out_mat_a_exp_n"
      ],
      "execution_count": null,
      "outputs": []
    },
    {
      "cell_type": "code",
      "metadata": {
        "id": "UDO2KSR9WJ7v",
        "colab_type": "code",
        "colab": {
          "base_uri": "https://localhost:8080/",
          "height": 34
        },
        "outputId": "feae0d3b-0a52-4a3c-f1f0-fb007d928d82"
      },
      "source": [
        "A = [[1, 1], [1, 0]]\n",
        "square_matrix_power(A,6)"
      ],
      "execution_count": null,
      "outputs": [
        {
          "output_type": "execute_result",
          "data": {
            "text/plain": [
              "[[13, 8], [8, 5]]"
            ]
          },
          "metadata": {
            "tags": []
          },
          "execution_count": 46
        }
      ]
    },
    {
      "cell_type": "markdown",
      "metadata": {
        "id": "QhZYmIsmdkWH",
        "colab_type": "text"
      },
      "source": [
        "#Tuples & Sets"
      ]
    },
    {
      "cell_type": "code",
      "metadata": {
        "id": "2twdNiQRWOGM",
        "colab_type": "code",
        "colab": {}
      },
      "source": [
        "bmi_categories = (\"Underweight\",\"Normal\", \"Overweight\",\"Very Overweight\")"
      ],
      "execution_count": null,
      "outputs": []
    },
    {
      "cell_type": "code",
      "metadata": {
        "id": "hGZ_4WM-d0y_",
        "colab_type": "code",
        "colab": {
          "base_uri": "https://localhost:8080/",
          "height": 34
        },
        "outputId": "6b681bf1-b490-4a01-e459-2447b16b9d92"
      },
      "source": [
        "print(type(bmi_categories))"
      ],
      "execution_count": null,
      "outputs": [
        {
          "output_type": "stream",
          "text": [
            "<class 'tuple'>\n"
          ],
          "name": "stdout"
        }
      ]
    },
    {
      "cell_type": "code",
      "metadata": {
        "id": "NjUzsTVveAeb",
        "colab_type": "code",
        "colab": {
          "base_uri": "https://localhost:8080/",
          "height": 34
        },
        "outputId": "da9f2d6a-7bd8-44f4-99db-3678a68aa6fb"
      },
      "source": [
        "print(bmi_categories[-1])"
      ],
      "execution_count": null,
      "outputs": [
        {
          "output_type": "stream",
          "text": [
            "Very Overweight\n"
          ],
          "name": "stdout"
        }
      ]
    },
    {
      "cell_type": "code",
      "metadata": {
        "id": "IS3oHRvmeGyh",
        "colab_type": "code",
        "colab": {
          "base_uri": "https://localhost:8080/",
          "height": 34
        },
        "outputId": "205beb8f-83d0-4d9a-a6fd-13ada9d447c5"
      },
      "source": [
        "print(bmi_categories[0:2])"
      ],
      "execution_count": null,
      "outputs": [
        {
          "output_type": "stream",
          "text": [
            "('Underweight', 'Normal')\n"
          ],
          "name": "stdout"
        }
      ]
    },
    {
      "cell_type": "code",
      "metadata": {
        "id": "v7QVKsgReKuJ",
        "colab_type": "code",
        "colab": {
          "base_uri": "https://localhost:8080/",
          "height": 34
        },
        "outputId": "841ec74b-0345-4464-dfcc-b488537640fe"
      },
      "source": [
        "bmi_categories.index(\"Normal\")"
      ],
      "execution_count": null,
      "outputs": [
        {
          "output_type": "execute_result",
          "data": {
            "text/plain": [
              "1"
            ]
          },
          "metadata": {
            "tags": []
          },
          "execution_count": 11
        }
      ]
    },
    {
      "cell_type": "code",
      "metadata": {
        "id": "ymMe9CQReTRg",
        "colab_type": "code",
        "colab": {
          "base_uri": "https://localhost:8080/",
          "height": 34
        },
        "outputId": "d981a7ba-ec74-4f63-8cc7-4df02fb9000f"
      },
      "source": [
        "print(\"Very Underweight\" in bmi_categories)"
      ],
      "execution_count": null,
      "outputs": [
        {
          "output_type": "stream",
          "text": [
            "False\n"
          ],
          "name": "stdout"
        }
      ]
    },
    {
      "cell_type": "code",
      "metadata": {
        "id": "HUL3OmMDeqVz",
        "colab_type": "code",
        "colab": {
          "base_uri": "https://localhost:8080/",
          "height": 34
        },
        "outputId": "1495d42f-48d4-4fde-a6af-68e6a7d7e0ed"
      },
      "source": [
        "print(\"Underweight\" in bmi_categories)"
      ],
      "execution_count": null,
      "outputs": [
        {
          "output_type": "stream",
          "text": [
            "True\n"
          ],
          "name": "stdout"
        }
      ]
    },
    {
      "cell_type": "code",
      "metadata": {
        "id": "cLX0quPAe26A",
        "colab_type": "code",
        "colab": {
          "base_uri": "https://localhost:8080/",
          "height": 163
        },
        "outputId": "90fc52bb-342c-49a4-a185-6d0481136a00"
      },
      "source": [
        "bmi_categories[3] = \"Very Overweight\""
      ],
      "execution_count": null,
      "outputs": [
        {
          "output_type": "error",
          "ename": "TypeError",
          "evalue": "ignored",
          "traceback": [
            "\u001b[0;31m---------------------------------------------------------------------------\u001b[0m",
            "\u001b[0;31mTypeError\u001b[0m                                 Traceback (most recent call last)",
            "\u001b[0;32m<ipython-input-14-a267d4efb568>\u001b[0m in \u001b[0;36m<module>\u001b[0;34m()\u001b[0m\n\u001b[0;32m----> 1\u001b[0;31m \u001b[0mbmi_categories\u001b[0m\u001b[0;34m[\u001b[0m\u001b[0;36m3\u001b[0m\u001b[0;34m]\u001b[0m \u001b[0;34m=\u001b[0m \u001b[0;34m\"Very Overweight\"\u001b[0m\u001b[0;34m\u001b[0m\u001b[0;34m\u001b[0m\u001b[0m\n\u001b[0m",
            "\u001b[0;31mTypeError\u001b[0m: 'tuple' object does not support item assignment"
          ]
        }
      ]
    },
    {
      "cell_type": "code",
      "metadata": {
        "id": "2wQ6MqupfDTH",
        "colab_type": "code",
        "colab": {
          "base_uri": "https://localhost:8080/",
          "height": 34
        },
        "outputId": "52a8a849-419c-4ffe-e540-967a577aee88"
      },
      "source": [
        "%%timeit -n1 -r10\n",
        "for i in range(1000000):\n",
        "    my_list = [\"Tuples\", \"are\", \"faster\", \"than\", \"lists\"]"
      ],
      "execution_count": null,
      "outputs": [
        {
          "output_type": "stream",
          "text": [
            "1 loop, best of 10: 64.7 ms per loop\n"
          ],
          "name": "stdout"
        }
      ]
    },
    {
      "cell_type": "code",
      "metadata": {
        "id": "zQi-sYpVfWgt",
        "colab_type": "code",
        "colab": {}
      },
      "source": [
        "%%timeit?"
      ],
      "execution_count": null,
      "outputs": []
    },
    {
      "cell_type": "code",
      "metadata": {
        "id": "LZ075Lj1gKvz",
        "colab_type": "code",
        "colab": {
          "base_uri": "https://localhost:8080/",
          "height": 34
        },
        "outputId": "dc205cff-7bd7-4266-e1c0-02234458ac9e"
      },
      "source": [
        "%%timeit -n1 -r10\n",
        "for i in range(1000000):\n",
        "    my_tuple = (\"Tuples\", \"are\", \"faster\", \"than\", \"lists\")"
      ],
      "execution_count": null,
      "outputs": [
        {
          "output_type": "stream",
          "text": [
            "1 loop, best of 10: 25.9 ms per loop\n"
          ],
          "name": "stdout"
        }
      ]
    },
    {
      "cell_type": "code",
      "metadata": {
        "id": "Lo8HxuFVgvCB",
        "colab_type": "code",
        "colab": {}
      },
      "source": [
        "batsmen = {\"Rohit\", \"Virat\", \"Ravindra\", \"rahul\"}"
      ],
      "execution_count": null,
      "outputs": []
    },
    {
      "cell_type": "code",
      "metadata": {
        "id": "biMYlXaghKDo",
        "colab_type": "code",
        "colab": {
          "base_uri": "https://localhost:8080/",
          "height": 34
        },
        "outputId": "c8f61830-2166-437c-a0be-604832fd4e82"
      },
      "source": [
        "print(type(batsmen))"
      ],
      "execution_count": null,
      "outputs": [
        {
          "output_type": "stream",
          "text": [
            "<class 'set'>\n"
          ],
          "name": "stdout"
        }
      ]
    },
    {
      "cell_type": "code",
      "metadata": {
        "id": "u-m6Gms2hNBH",
        "colab_type": "code",
        "colab": {
          "base_uri": "https://localhost:8080/",
          "height": 34
        },
        "outputId": "adddd204-c36e-4070-ee53-63fd37f62a84"
      },
      "source": [
        "print(\"Rohit\" in batsmen)"
      ],
      "execution_count": null,
      "outputs": [
        {
          "output_type": "stream",
          "text": [
            "True\n"
          ],
          "name": "stdout"
        }
      ]
    },
    {
      "cell_type": "code",
      "metadata": {
        "id": "AMlM9KDLhRWG",
        "colab_type": "code",
        "colab": {
          "base_uri": "https://localhost:8080/",
          "height": 163
        },
        "outputId": "99d4c484-268f-48b6-d717-cd073bdd98d0"
      },
      "source": [
        "batsmen[0]"
      ],
      "execution_count": null,
      "outputs": [
        {
          "output_type": "error",
          "ename": "TypeError",
          "evalue": "ignored",
          "traceback": [
            "\u001b[0;31m---------------------------------------------------------------------------\u001b[0m",
            "\u001b[0;31mTypeError\u001b[0m                                 Traceback (most recent call last)",
            "\u001b[0;32m<ipython-input-23-aff098528270>\u001b[0m in \u001b[0;36m<module>\u001b[0;34m()\u001b[0m\n\u001b[0;32m----> 1\u001b[0;31m \u001b[0mbatsmen\u001b[0m\u001b[0;34m[\u001b[0m\u001b[0;36m0\u001b[0m\u001b[0;34m]\u001b[0m\u001b[0;34m\u001b[0m\u001b[0;34m\u001b[0m\u001b[0m\n\u001b[0m",
            "\u001b[0;31mTypeError\u001b[0m: 'set' object does not support indexing"
          ]
        }
      ]
    },
    {
      "cell_type": "code",
      "metadata": {
        "id": "g5yTSoTfhWEe",
        "colab_type": "code",
        "colab": {}
      },
      "source": [
        "bowlers = {\"Ishaan\", \"Ravindra\", \"Bumrah\"}"
      ],
      "execution_count": null,
      "outputs": []
    },
    {
      "cell_type": "code",
      "metadata": {
        "id": "2QOhY_sQhfgT",
        "colab_type": "code",
        "colab": {}
      },
      "source": [
        "all_rounders = batsmen.intersection(bowlers)"
      ],
      "execution_count": null,
      "outputs": []
    },
    {
      "cell_type": "code",
      "metadata": {
        "id": "dTwjv1owhoqq",
        "colab_type": "code",
        "colab": {
          "base_uri": "https://localhost:8080/",
          "height": 34
        },
        "outputId": "ac7bdd45-888f-4bdf-8d21-ec7719be7a14"
      },
      "source": [
        "all_rounders"
      ],
      "execution_count": null,
      "outputs": [
        {
          "output_type": "execute_result",
          "data": {
            "text/plain": [
              "{'Ravindra'}"
            ]
          },
          "metadata": {
            "tags": []
          },
          "execution_count": 26
        }
      ]
    },
    {
      "cell_type": "code",
      "metadata": {
        "id": "lJ5BhzaJhrcl",
        "colab_type": "code",
        "colab": {}
      },
      "source": [
        "players = batsmen.union(bowlers)"
      ],
      "execution_count": null,
      "outputs": []
    },
    {
      "cell_type": "code",
      "metadata": {
        "id": "J3AaW8LSh3Ql",
        "colab_type": "code",
        "colab": {}
      },
      "source": [
        "bowlers = {\"Ishaan\", \"Ravindra\", \"Bumrah\", \"Bumrah\"}"
      ],
      "execution_count": null,
      "outputs": []
    },
    {
      "cell_type": "code",
      "metadata": {
        "id": "iQsoP6FSh-YO",
        "colab_type": "code",
        "colab": {
          "base_uri": "https://localhost:8080/",
          "height": 34
        },
        "outputId": "b3271bfc-612a-4ad8-93e0-7b5faedde074"
      },
      "source": [
        "bowlers"
      ],
      "execution_count": null,
      "outputs": [
        {
          "output_type": "execute_result",
          "data": {
            "text/plain": [
              "{'Bumrah', 'Ishaan', 'Ravindra'}"
            ]
          },
          "metadata": {
            "tags": []
          },
          "execution_count": 31
        }
      ]
    },
    {
      "cell_type": "code",
      "metadata": {
        "id": "u6hTQCgsh_O0",
        "colab_type": "code",
        "colab": {
          "base_uri": "https://localhost:8080/",
          "height": 34
        },
        "outputId": "32afa537-b890-40fd-cf05-5a7c403d4b24"
      },
      "source": [
        "%%timeit -n1 -r10\n",
        "my_list = list(range(10000))\n",
        "for i in range(10000):\n",
        "    b = 1947 in my_list"
      ],
      "execution_count": null,
      "outputs": [
        {
          "output_type": "stream",
          "text": [
            "1 loop, best of 10: 206 ms per loop\n"
          ],
          "name": "stdout"
        }
      ]
    },
    {
      "cell_type": "code",
      "metadata": {
        "id": "hSjXa49ni0AY",
        "colab_type": "code",
        "colab": {
          "base_uri": "https://localhost:8080/",
          "height": 34
        },
        "outputId": "9e48db9a-3e7b-4f49-b506-fdc19c53e86d"
      },
      "source": [
        "%%timeit -n1 -r10\n",
        "my_tuple = tuple(range(10000))\n",
        "for i in range(10000):\n",
        "    b = 1947 in my_tuple"
      ],
      "execution_count": null,
      "outputs": [
        {
          "output_type": "stream",
          "text": [
            "1 loop, best of 10: 207 ms per loop\n"
          ],
          "name": "stdout"
        }
      ]
    },
    {
      "cell_type": "code",
      "metadata": {
        "id": "vuC9uridi8zY",
        "colab_type": "code",
        "colab": {
          "base_uri": "https://localhost:8080/",
          "height": 34
        },
        "outputId": "d8d04912-7bb2-4bd2-bfe0-0dc2ebf0e882"
      },
      "source": [
        "%%timeit -n1 -r10\n",
        "my_set = set(range(10000))\n",
        "for i in range(10000):\n",
        "    b = 1947 in my_set"
      ],
      "execution_count": null,
      "outputs": [
        {
          "output_type": "stream",
          "text": [
            "1 loop, best of 10: 1.08 ms per loop\n"
          ],
          "name": "stdout"
        }
      ]
    },
    {
      "cell_type": "markdown",
      "metadata": {
        "id": "IpNVBGjqjjq4",
        "colab_type": "text"
      },
      "source": [
        "#Dictionaries"
      ]
    },
    {
      "cell_type": "code",
      "metadata": {
        "id": "3b2kYcu6jmaf",
        "colab_type": "code",
        "colab": {}
      },
      "source": [
        "bmi_dataset = [\n",
        "               [\"Krishna\", 75, 1.73, False],\n",
        "               [\"Bheem\", 120, 1.78, True]\n",
        "]"
      ],
      "execution_count": null,
      "outputs": []
    },
    {
      "cell_type": "code",
      "metadata": {
        "id": "Qhw1QB4Gj1AK",
        "colab_type": "code",
        "colab": {}
      },
      "source": [
        "bm_dataset_deep_copy = [iter[:] for iter in bmi_dataset]"
      ],
      "execution_count": null,
      "outputs": []
    },
    {
      "cell_type": "code",
      "metadata": {
        "id": "KDzXSpJzj_Ek",
        "colab_type": "code",
        "colab": {
          "base_uri": "https://localhost:8080/",
          "height": 34
        },
        "outputId": "bda8ca25-d850-49e2-f88b-82616380a540"
      },
      "source": [
        "bm_dataset_deep_copy"
      ],
      "execution_count": null,
      "outputs": [
        {
          "output_type": "execute_result",
          "data": {
            "text/plain": [
              "[['Krishna', 75, 1.73, False], ['Bheem', 120, 1.78, True]]"
            ]
          },
          "metadata": {
            "tags": []
          },
          "execution_count": 52
        }
      ]
    },
    {
      "cell_type": "code",
      "metadata": {
        "id": "9OdaEw9ukBWB",
        "colab_type": "code",
        "colab": {}
      },
      "source": [
        "bmi_record = {\n",
        "    \"name\": \"Krishna\",\n",
        "    \"weight\": 75,\n",
        "    \"height\": 1.73,\n",
        "    \"is_overweight\": False\n",
        "}"
      ],
      "execution_count": null,
      "outputs": []
    },
    {
      "cell_type": "code",
      "metadata": {
        "id": "YR9ddGVVkvvy",
        "colab_type": "code",
        "colab": {
          "base_uri": "https://localhost:8080/",
          "height": 34
        },
        "outputId": "e1f6a618-be1e-49c5-a193-d20ed1cd5fe8"
      },
      "source": [
        "bmi_record[\"name\"]"
      ],
      "execution_count": null,
      "outputs": [
        {
          "output_type": "execute_result",
          "data": {
            "text/plain": [
              "'Krishna'"
            ]
          },
          "metadata": {
            "tags": []
          },
          "execution_count": 54
        }
      ]
    },
    {
      "cell_type": "code",
      "metadata": {
        "id": "EGF6bsIkk0HR",
        "colab_type": "code",
        "colab": {
          "base_uri": "https://localhost:8080/",
          "height": 51
        },
        "outputId": "607e04af-5612-43a5-8dbf-4abff1435b4c"
      },
      "source": [
        "val = None\n",
        "try:\n",
        "    val=bmi_record[\"email\"]\n",
        "except KeyError:\n",
        "    print(\"Key Doesn't Exist\")\n",
        "    bmi_record[\"email\"] = \"noemail@newrec.com\"\n",
        "    val=bmi_record[\"email\"]\n",
        "print(val)"
      ],
      "execution_count": null,
      "outputs": [
        {
          "output_type": "stream",
          "text": [
            "Key Doesn't Exist\n",
            "noemail@newrec.com\n"
          ],
          "name": "stdout"
        }
      ]
    },
    {
      "cell_type": "code",
      "metadata": {
        "id": "kvgx5jDLlPrm",
        "colab_type": "code",
        "colab": {
          "base_uri": "https://localhost:8080/",
          "height": 54
        },
        "outputId": "f11b6305-118b-49fd-a42f-e10c3afd27ec"
      },
      "source": [
        "print(bmi_record)"
      ],
      "execution_count": null,
      "outputs": [
        {
          "output_type": "stream",
          "text": [
            "{'name': 'Krishna', 'weight': 75, 'height': 1.73, 'is_overweight': False, 'email': 'noemail@newrec.com'}\n"
          ],
          "name": "stdout"
        }
      ]
    },
    {
      "cell_type": "code",
      "metadata": {
        "id": "zM4tE1_xl0iu",
        "colab_type": "code",
        "colab": {
          "base_uri": "https://localhost:8080/",
          "height": 102
        },
        "outputId": "8e4bb31b-d16b-48b7-d1a6-3283d80aa020"
      },
      "source": [
        "for key in bmi_record:\n",
        "    print(key, \":\", bmi_record[key])"
      ],
      "execution_count": null,
      "outputs": [
        {
          "output_type": "stream",
          "text": [
            "name : Krishna\n",
            "weight : 75\n",
            "height : 1.73\n",
            "is_overweight : False\n",
            "email : noemail@newrec.com\n"
          ],
          "name": "stdout"
        }
      ]
    },
    {
      "cell_type": "code",
      "metadata": {
        "id": "TV6th-HOmCUT",
        "colab_type": "code",
        "colab": {
          "base_uri": "https://localhost:8080/",
          "height": 34
        },
        "outputId": "a8d7e7dd-f490-4412-fa98-f22d1565d346"
      },
      "source": [
        "print(bmi_record.keys())"
      ],
      "execution_count": null,
      "outputs": [
        {
          "output_type": "stream",
          "text": [
            "dict_keys(['name', 'weight', 'height', 'is_overweight', 'email'])\n"
          ],
          "name": "stdout"
        }
      ]
    },
    {
      "cell_type": "code",
      "metadata": {
        "id": "3mt2CEp3mcS0",
        "colab_type": "code",
        "colab": {
          "base_uri": "https://localhost:8080/",
          "height": 129
        },
        "outputId": "175f4576-f0d8-4f18-8f2f-fed957ce9b03"
      },
      "source": [
        "bmi_record1 = {\n",
        "    \"name\": \"Bheem\",\n",
        "    \"weight\": 125,\n",
        "    \"height\": 1.75,\n",
        "    \"is_overweight\": True\n",
        "    \"email\": \"bheem@foodtruck.com\"\n",
        "}"
      ],
      "execution_count": null,
      "outputs": [
        {
          "output_type": "error",
          "ename": "SyntaxError",
          "evalue": "ignored",
          "traceback": [
            "\u001b[0;36m  File \u001b[0;32m\"<ipython-input-64-92571abb29d4>\"\u001b[0;36m, line \u001b[0;32m6\u001b[0m\n\u001b[0;31m    \"email\": \"bheem@foodtruck.com\"\u001b[0m\n\u001b[0m          ^\u001b[0m\n\u001b[0;31mSyntaxError\u001b[0m\u001b[0;31m:\u001b[0m invalid syntax\n"
          ]
        }
      ]
    },
    {
      "cell_type": "code",
      "metadata": {
        "id": "B1LZj9Yum0y3",
        "colab_type": "code",
        "colab": {}
      },
      "source": [
        "bmi_dataset = [bmi_record, bmi_record1]"
      ],
      "execution_count": null,
      "outputs": []
    },
    {
      "cell_type": "code",
      "metadata": {
        "id": "yATkQ3c2nEZO",
        "colab_type": "code",
        "colab": {
          "base_uri": "https://localhost:8080/",
          "height": 34
        },
        "outputId": "cdbc4f0b-b714-4781-cd11-5b0b7593ca79"
      },
      "source": [
        "bmi_dataset[0][\"name\"]"
      ],
      "execution_count": null,
      "outputs": [
        {
          "output_type": "execute_result",
          "data": {
            "text/plain": [
              "'Krishna'"
            ]
          },
          "metadata": {
            "tags": []
          },
          "execution_count": 66
        }
      ]
    },
    {
      "cell_type": "markdown",
      "metadata": {
        "id": "u6fbCS2ZotxV",
        "colab_type": "text"
      },
      "source": [
        "#Files"
      ]
    },
    {
      "cell_type": "code",
      "metadata": {
        "id": "fYzzut_do6ZK",
        "colab_type": "code",
        "colab": {}
      },
      "source": [
        "f = open(\"sift_match.py\", \"r\")"
      ],
      "execution_count": null,
      "outputs": []
    },
    {
      "cell_type": "code",
      "metadata": {
        "id": "KHJAHF48plFs",
        "colab_type": "code",
        "colab": {
          "base_uri": "https://localhost:8080/",
          "height": 35
        },
        "outputId": "da0f84d6-24f8-4015-f7d7-2c194344ff7b"
      },
      "source": [
        "print(f)"
      ],
      "execution_count": null,
      "outputs": [
        {
          "output_type": "stream",
          "text": [
            "<_io.TextIOWrapper name='sift_match.py' mode='r' encoding='UTF-8'>\n"
          ],
          "name": "stdout"
        }
      ]
    },
    {
      "cell_type": "code",
      "metadata": {
        "id": "6aQmT2i1ptAf",
        "colab_type": "code",
        "colab": {}
      },
      "source": [
        "output = f.read()"
      ],
      "execution_count": null,
      "outputs": []
    },
    {
      "cell_type": "code",
      "metadata": {
        "id": "3YeJM7zDpyyq",
        "colab_type": "code",
        "colab": {
          "base_uri": "https://localhost:8080/",
          "height": 490
        },
        "outputId": "600adde6-d058-4fbe-d674-50139f862ef3"
      },
      "source": [
        "print(output)"
      ],
      "execution_count": null,
      "outputs": [
        {
          "output_type": "stream",
          "text": [
            "import cv2 \n",
            "import matplotlib.pyplot as plt\n",
            "\n",
            "\n",
            "# read images\n",
            "img1 = cv2.imread('asetu3.jpg')  \n",
            "img2 = cv2.imread('asetu4.jpg') \n",
            "\n",
            "img1 = cv2.cvtColor(img1, cv2.COLOR_BGR2GRAY)\n",
            "img2 = cv2.cvtColor(img2, cv2.COLOR_BGR2GRAY)\n",
            "\n",
            "#sift\n",
            "sift = cv2.xfeatures2d.SIFT_create()\n",
            "\n",
            "keypoints_1, descriptors_1 = sift.detectAndCompute(img1,None)\n",
            "keypoints_2, descriptors_2 = sift.detectAndCompute(img2,None)\n",
            "\n",
            "#feature matching\n",
            "bf = cv2.BFMatcher(cv2.NORM_L1, crossCheck=True)\n",
            "\n",
            "matches = bf.match(descriptors_1,descriptors_2)\n",
            "matches = sorted(matches, key = lambda x:x.distance)\n",
            "\n",
            "img3 = cv2.drawMatches(img1, keypoints_1, img2, keypoints_2, matches[:50], img2, flags=2)\n",
            "plt.imshow(img3),plt.show()\n",
            "\n"
          ],
          "name": "stdout"
        }
      ]
    },
    {
      "cell_type": "code",
      "metadata": {
        "id": "2yQlUwYQp2NC",
        "colab_type": "code",
        "colab": {
          "base_uri": "https://localhost:8080/",
          "height": 54
        },
        "outputId": "2c0175d7-8be5-47ee-e0bc-64eeec025cfd"
      },
      "source": [
        "outline = f.readline()\n",
        "print(outline)"
      ],
      "execution_count": null,
      "outputs": [
        {
          "output_type": "stream",
          "text": [
            "# read images\n",
            "\n"
          ],
          "name": "stdout"
        }
      ]
    },
    {
      "cell_type": "code",
      "metadata": {
        "id": "fHsvSpcuqEZs",
        "colab_type": "code",
        "colab": {
          "base_uri": "https://localhost:8080/",
          "height": 35
        },
        "outputId": "32d86867-b289-4f22-f1ab-300c7877a73f"
      },
      "source": [
        "f.seek(0)"
      ],
      "execution_count": null,
      "outputs": [
        {
          "output_type": "execute_result",
          "data": {
            "text/plain": [
              "0"
            ]
          },
          "metadata": {
            "tags": []
          },
          "execution_count": 19
        }
      ]
    },
    {
      "cell_type": "code",
      "metadata": {
        "id": "O3u6-9TmqtTD",
        "colab_type": "code",
        "colab": {
          "base_uri": "https://localhost:8080/",
          "height": 55
        },
        "outputId": "44dc4346-2e59-45c1-a5e6-86ebc0f3c79a"
      },
      "source": [
        "outlines = f.readlines()\n",
        "print(type(outlines), outlines)"
      ],
      "execution_count": null,
      "outputs": [
        {
          "output_type": "stream",
          "text": [
            "<class 'list'> ['import cv2 \\n', 'import matplotlib.pyplot as plt\\n', '\\n', '\\n', '# read images\\n', \"img1 = cv2.imread('asetu3.jpg')  \\n\", \"img2 = cv2.imread('asetu4.jpg') \\n\", '\\n', 'img1 = cv2.cvtColor(img1, cv2.COLOR_BGR2GRAY)\\n', 'img2 = cv2.cvtColor(img2, cv2.COLOR_BGR2GRAY)\\n', '\\n', '#sift\\n', 'sift = cv2.xfeatures2d.SIFT_create()\\n', '\\n', 'keypoints_1, descriptors_1 = sift.detectAndCompute(img1,None)\\n', 'keypoints_2, descriptors_2 = sift.detectAndCompute(img2,None)\\n', '\\n', '#feature matching\\n', 'bf = cv2.BFMatcher(cv2.NORM_L1, crossCheck=True)\\n', '\\n', 'matches = bf.match(descriptors_1,descriptors_2)\\n', 'matches = sorted(matches, key = lambda x:x.distance)\\n', '\\n', 'img3 = cv2.drawMatches(img1, keypoints_1, img2, keypoints_2, matches[:50], img2, flags=2)\\n', 'plt.imshow(img3),plt.show()\\n']\n"
          ],
          "name": "stdout"
        }
      ]
    },
    {
      "cell_type": "code",
      "metadata": {
        "id": "T_baVnyYrZL-",
        "colab_type": "code",
        "colab": {
          "base_uri": "https://localhost:8080/",
          "height": 35
        },
        "outputId": "b1dce321-e28e-47b5-c5a7-2e0955954956"
      },
      "source": [
        "f.seek(2)"
      ],
      "execution_count": null,
      "outputs": [
        {
          "output_type": "execute_result",
          "data": {
            "text/plain": [
              "2"
            ]
          },
          "metadata": {
            "tags": []
          },
          "execution_count": 73
        }
      ]
    },
    {
      "cell_type": "code",
      "metadata": {
        "id": "VpOhUOLirdqt",
        "colab_type": "code",
        "colab": {
          "base_uri": "https://localhost:8080/",
          "height": 35
        },
        "outputId": "cb020012-8679-42cf-a1e3-903fb6df9642"
      },
      "source": [
        "print(len(f.readline()))"
      ],
      "execution_count": null,
      "outputs": [
        {
          "output_type": "stream",
          "text": [
            "0\n"
          ],
          "name": "stdout"
        }
      ]
    },
    {
      "cell_type": "code",
      "metadata": {
        "id": "J-XZjTxYsDYK",
        "colab_type": "code",
        "colab": {}
      },
      "source": [
        "f.close()"
      ],
      "execution_count": null,
      "outputs": []
    },
    {
      "cell_type": "code",
      "metadata": {
        "id": "TGhgdl-luPFk",
        "colab_type": "code",
        "colab": {
          "base_uri": "https://localhost:8080/",
          "height": 55
        },
        "outputId": "02da1aa6-e1b2-458f-af9e-bff6ee308719"
      },
      "source": [
        "with open(\"sift_match.py\", \"r\") as f:\n",
        "    outlines = f.readlines()\n",
        "    print(type(outlines), outlines)"
      ],
      "execution_count": null,
      "outputs": [
        {
          "output_type": "stream",
          "text": [
            "<class 'list'> ['import cv2 \\n', 'import matplotlib.pyplot as plt\\n', '\\n', '\\n', '# read images\\n', \"img1 = cv2.imread('asetu3.jpg')  \\n\", \"img2 = cv2.imread('asetu4.jpg') \\n\", '\\n', 'img1 = cv2.cvtColor(img1, cv2.COLOR_BGR2GRAY)\\n', 'img2 = cv2.cvtColor(img2, cv2.COLOR_BGR2GRAY)\\n', '\\n', '#sift\\n', 'sift = cv2.xfeatures2d.SIFT_create()\\n', '\\n', 'keypoints_1, descriptors_1 = sift.detectAndCompute(img1,None)\\n', 'keypoints_2, descriptors_2 = sift.detectAndCompute(img2,None)\\n', '\\n', '#feature matching\\n', 'bf = cv2.BFMatcher(cv2.NORM_L1, crossCheck=True)\\n', '\\n', 'matches = bf.match(descriptors_1,descriptors_2)\\n', 'matches = sorted(matches, key = lambda x:x.distance)\\n', '\\n', 'img3 = cv2.drawMatches(img1, keypoints_1, img2, keypoints_2, matches[:50], img2, flags=2)\\n', 'plt.imshow(img3),plt.show()\\n']\n"
          ],
          "name": "stdout"
        }
      ]
    },
    {
      "cell_type": "code",
      "metadata": {
        "id": "zUybmZTAuhxh",
        "colab_type": "code",
        "colab": {
          "base_uri": "https://localhost:8080/",
          "height": 171
        },
        "outputId": "71c450a1-fc4d-4f5a-8954-016bd65030c2"
      },
      "source": [
        "f.readlines()"
      ],
      "execution_count": null,
      "outputs": [
        {
          "output_type": "error",
          "ename": "ValueError",
          "evalue": "ignored",
          "traceback": [
            "\u001b[0;31m---------------------------------------------------------------------------\u001b[0m",
            "\u001b[0;31mValueError\u001b[0m                                Traceback (most recent call last)",
            "\u001b[0;32m<ipython-input-105-055d0c37aeda>\u001b[0m in \u001b[0;36m<module>\u001b[0;34m()\u001b[0m\n\u001b[0;32m----> 1\u001b[0;31m \u001b[0mf\u001b[0m\u001b[0;34m.\u001b[0m\u001b[0mreadlines\u001b[0m\u001b[0;34m(\u001b[0m\u001b[0;34m)\u001b[0m\u001b[0;34m\u001b[0m\u001b[0;34m\u001b[0m\u001b[0m\n\u001b[0m",
            "\u001b[0;31mValueError\u001b[0m: I/O operation on closed file."
          ]
        }
      ]
    },
    {
      "cell_type": "code",
      "metadata": {
        "id": "HHsLWsrAuiRe",
        "colab_type": "code",
        "colab": {}
      },
      "source": [
        "f = open(\"sift_match.py\", \"r\")"
      ],
      "execution_count": null,
      "outputs": []
    },
    {
      "cell_type": "code",
      "metadata": {
        "id": "__vkER7Z7WPT",
        "colab_type": "code",
        "colab": {}
      },
      "source": [
        "outlines = f.readlines()"
      ],
      "execution_count": null,
      "outputs": []
    },
    {
      "cell_type": "code",
      "metadata": {
        "id": "uPXSp7jx7coN",
        "colab_type": "code",
        "colab": {
          "base_uri": "https://localhost:8080/",
          "height": 492
        },
        "outputId": "3b5a0ef3-0da6-4c31-ac22-228a42fd26be"
      },
      "source": [
        "i = 0\n",
        "for line in outlines:\n",
        "    i += 1\n",
        "    print(i,\"\\t\", line.strip())"
      ],
      "execution_count": null,
      "outputs": [
        {
          "output_type": "stream",
          "text": [
            "1 \t import cv2\n",
            "2 \t import matplotlib.pyplot as plt\n",
            "3 \t \n",
            "4 \t \n",
            "5 \t # read images\n",
            "6 \t img1 = cv2.imread('asetu3.jpg')\n",
            "7 \t img2 = cv2.imread('asetu4.jpg')\n",
            "8 \t \n",
            "9 \t img1 = cv2.cvtColor(img1, cv2.COLOR_BGR2GRAY)\n",
            "10 \t img2 = cv2.cvtColor(img2, cv2.COLOR_BGR2GRAY)\n",
            "11 \t \n",
            "12 \t #sift\n",
            "13 \t sift = cv2.xfeatures2d.SIFT_create()\n",
            "14 \t \n",
            "15 \t keypoints_1, descriptors_1 = sift.detectAndCompute(img1,None)\n",
            "16 \t keypoints_2, descriptors_2 = sift.detectAndCompute(img2,None)\n",
            "17 \t \n",
            "18 \t #feature matching\n",
            "19 \t bf = cv2.BFMatcher(cv2.NORM_L1, crossCheck=True)\n",
            "20 \t \n",
            "21 \t matches = bf.match(descriptors_1,descriptors_2)\n",
            "22 \t matches = sorted(matches, key = lambda x:x.distance)\n",
            "23 \t \n",
            "24 \t img3 = cv2.drawMatches(img1, keypoints_1, img2, keypoints_2, matches[:50], img2, flags=2)\n",
            "25 \t plt.imshow(img3),plt.show()\n"
          ],
          "name": "stdout"
        }
      ]
    },
    {
      "cell_type": "code",
      "metadata": {
        "id": "WXIXKH3a7u7V",
        "colab_type": "code",
        "colab": {}
      },
      "source": [
        "fout = open(\"fav.txt\", \"w\")"
      ],
      "execution_count": null,
      "outputs": []
    },
    {
      "cell_type": "code",
      "metadata": {
        "id": "v60SUs5Q78-t",
        "colab_type": "code",
        "colab": {}
      },
      "source": [
        "fout.writelines(outlines[1])"
      ],
      "execution_count": null,
      "outputs": []
    },
    {
      "cell_type": "code",
      "metadata": {
        "id": "gk5-ZDLm8Get",
        "colab_type": "code",
        "colab": {}
      },
      "source": [
        "fout.close()"
      ],
      "execution_count": null,
      "outputs": []
    },
    {
      "cell_type": "code",
      "metadata": {
        "id": "NCRk3mRW8Tcu",
        "colab_type": "code",
        "colab": {}
      },
      "source": [
        "fav_lines = [1,21]"
      ],
      "execution_count": null,
      "outputs": []
    },
    {
      "cell_type": "code",
      "metadata": {
        "id": "ZGIr3g5K9ZNG",
        "colab_type": "code",
        "colab": {}
      },
      "source": [
        "with open(\"fav.txt\", \"a\") as fout:\n",
        "    for fav_line in fav_lines:\n",
        "        fout.write(outlines[fav_line])"
      ],
      "execution_count": null,
      "outputs": []
    },
    {
      "cell_type": "code",
      "metadata": {
        "id": "s0avlbEv95Nh",
        "colab_type": "code",
        "colab": {
          "base_uri": "https://localhost:8080/",
          "height": 35
        },
        "outputId": "2d2674ef-243f-4f19-9d73-c5ca3c8fa96d"
      },
      "source": [
        "v = (1,2,3)\n",
        "u = list(v)\n",
        "print(u)"
      ],
      "execution_count": null,
      "outputs": [
        {
          "output_type": "stream",
          "text": [
            "[1, 2, 3]\n"
          ],
          "name": "stdout"
        }
      ]
    },
    {
      "cell_type": "code",
      "metadata": {
        "id": "F4i1eE-7f-55",
        "colab_type": "code",
        "colab": {
          "base_uri": "https://localhost:8080/",
          "height": 35
        },
        "outputId": "50c423d6-bcfd-4824-d9bf-117200b83f9e"
      },
      "source": [
        "b = (1,2,3) + (2,2,2)\n",
        "print(b)"
      ],
      "execution_count": null,
      "outputs": [
        {
          "output_type": "stream",
          "text": [
            "(1, 2, 3, 2, 2, 2)\n"
          ],
          "name": "stdout"
        }
      ]
    },
    {
      "cell_type": "code",
      "metadata": {
        "id": "lkOW657WgLry",
        "colab_type": "code",
        "colab": {
          "base_uri": "https://localhost:8080/",
          "height": 189
        },
        "outputId": "10dd09a0-b4e2-4460-b27d-e959b8ceaf74"
      },
      "source": [
        "s = set(1,2,3)\n",
        "print(s)"
      ],
      "execution_count": null,
      "outputs": [
        {
          "output_type": "error",
          "ename": "TypeError",
          "evalue": "ignored",
          "traceback": [
            "\u001b[0;31m---------------------------------------------------------------------------\u001b[0m",
            "\u001b[0;31mTypeError\u001b[0m                                 Traceback (most recent call last)",
            "\u001b[0;32m<ipython-input-3-8384dfe25200>\u001b[0m in \u001b[0;36m<module>\u001b[0;34m()\u001b[0m\n\u001b[0;32m----> 1\u001b[0;31m \u001b[0ms\u001b[0m \u001b[0;34m=\u001b[0m \u001b[0mset\u001b[0m\u001b[0;34m(\u001b[0m\u001b[0;36m1\u001b[0m\u001b[0;34m,\u001b[0m\u001b[0;36m2\u001b[0m\u001b[0;34m,\u001b[0m\u001b[0;36m3\u001b[0m\u001b[0;34m)\u001b[0m\u001b[0;34m\u001b[0m\u001b[0;34m\u001b[0m\u001b[0m\n\u001b[0m\u001b[1;32m      2\u001b[0m \u001b[0mprint\u001b[0m\u001b[0;34m(\u001b[0m\u001b[0ms\u001b[0m\u001b[0;34m)\u001b[0m\u001b[0;34m\u001b[0m\u001b[0;34m\u001b[0m\u001b[0m\n",
            "\u001b[0;31mTypeError\u001b[0m: set expected at most 1 arguments, got 3"
          ]
        }
      ]
    },
    {
      "cell_type": "code",
      "metadata": {
        "id": "J0uI39engx_c",
        "colab_type": "code",
        "colab": {
          "base_uri": "https://localhost:8080/",
          "height": 35
        },
        "outputId": "c145ecf1-792d-4b32-cafd-c9bcafded441"
      },
      "source": [
        "a = \"amoeba\"\n",
        "try:\n",
        "    print(a+1)\n",
        "except:\n",
        "    print(\"Something went wrong\")\n"
      ],
      "execution_count": null,
      "outputs": [
        {
          "output_type": "stream",
          "text": [
            "Something went wrong\n"
          ],
          "name": "stdout"
        }
      ]
    },
    {
      "cell_type": "code",
      "metadata": {
        "id": "gK_vUFzWhsNR",
        "colab_type": "code",
        "colab": {
          "base_uri": "https://localhost:8080/",
          "height": 35
        },
        "outputId": "952ffd79-89af-4b7f-cea0-099c39c10a9a"
      },
      "source": [
        "a = None\n",
        "if a:\n",
        "    print(\"Orange\")\n",
        "else:\n",
        "    if a == False:\n",
        "        print(\"Apple\")\n",
        "    else:\n",
        "        print(\"Pineapple\")"
      ],
      "execution_count": null,
      "outputs": [
        {
          "output_type": "stream",
          "text": [
            "Pineapple\n"
          ],
          "name": "stdout"
        }
      ]
    },
    {
      "cell_type": "code",
      "metadata": {
        "id": "k04oJwj4ihuW",
        "colab_type": "code",
        "colab": {}
      },
      "source": [
        ""
      ],
      "execution_count": null,
      "outputs": []
    }
  ]
}