{
  "nbformat": 4,
  "nbformat_minor": 0,
  "metadata": {
    "colab": {
      "name": "fds_wk8_assign_2.ipynb",
      "provenance": [],
      "authorship_tag": "ABX9TyPMtxVNZzDeUEA8dMt56xYv",
      "include_colab_link": true
    },
    "kernelspec": {
      "name": "python3",
      "display_name": "Python 3"
    }
  },
  "cells": [
    {
      "cell_type": "markdown",
      "metadata": {
        "id": "view-in-github",
        "colab_type": "text"
      },
      "source": [
        "<a href=\"https://colab.research.google.com/github/ajayks1974/learning/blob/master/fds/fds_wk8_assign_2.ipynb\" target=\"_parent\"><img src=\"https://colab.research.google.com/assets/colab-badge.svg\" alt=\"Open In Colab\"/></a>"
      ]
    },
    {
      "cell_type": "code",
      "metadata": {
        "id": "6Q6VnIgMSJIr",
        "colab_type": "code",
        "colab": {}
      },
      "source": [
        "#Case Study"
      ],
      "execution_count": 1,
      "outputs": []
    },
    {
      "cell_type": "code",
      "metadata": {
        "id": "VPjxIwFeTl96",
        "colab_type": "code",
        "colab": {
          "base_uri": "https://localhost:8080/",
          "height": 34
        },
        "outputId": "26d36d13-b35d-47f8-dae1-b0ef3feb569d"
      },
      "source": [
        "!ls cric_data*"
      ],
      "execution_count": 2,
      "outputs": [
        {
          "output_type": "stream",
          "text": [
            "cric_data-200320-181217.tsv\n"
          ],
          "name": "stdout"
        }
      ]
    },
    {
      "cell_type": "code",
      "metadata": {
        "id": "ENyK4UvYT8WJ",
        "colab_type": "code",
        "colab": {
          "base_uri": "https://localhost:8080/",
          "height": 187
        },
        "outputId": "c430fd46-845b-4cad-a54e-9ae5feecf44f"
      },
      "source": [
        "!head cric_data-200320-181217.tsv"
      ],
      "execution_count": 3,
      "outputs": [
        {
          "output_type": "stream",
          "text": [
            "\tSachin Tendulkar\tRahul Dravid\tIndia\n",
            "0\t100\t78\t342\n",
            "1\t11\t62\t191\n",
            "2\t8\t85\t252\n",
            "3\t71\t24\t307\n",
            "4\t104\t17\t229\n",
            "5\t18\t104\t246\n",
            "6\t8\t76\t226\n",
            "7\t86\t74\t288\n",
            "8\t12\t60\t216\n"
          ],
          "name": "stdout"
        }
      ]
    },
    {
      "cell_type": "markdown",
      "metadata": {
        "id": "LVN2JZDwUHGd",
        "colab_type": "text"
      },
      "source": [
        "#Tasks\n",
        "1. Find mean, median, IQR for Sachin, Rahul, and India\n",
        "2. Find the histogram of Sachin's scores with 10 bins\n",
        "3. Find mean of Sachin's scores grouped by 25 matches\n",
        "4. Find mean of Sachin's scores where he has scored century\n",
        "5. Find mean of Sachin's score when Rahul scored less than 10\n",
        "6. Find mean of Sachin's scores based on which quartile India's score fall in\n",
        "7. For every match, who has scored more - Sachin or Rahul\n",
        "8. How many more runs does Sachin score on average after having scored x runs"
      ]
    },
    {
      "cell_type": "code",
      "metadata": {
        "id": "7agO887fV6dp",
        "colab_type": "code",
        "colab": {}
      },
      "source": [
        "import numpy as np"
      ],
      "execution_count": 5,
      "outputs": []
    },
    {
      "cell_type": "code",
      "metadata": {
        "id": "SIn8QIrnUCg-",
        "colab_type": "code",
        "colab": {}
      },
      "source": [
        "#Find mean, median, IQR for Sachin, Rahul, and India"
      ],
      "execution_count": 4,
      "outputs": []
    },
    {
      "cell_type": "code",
      "metadata": {
        "id": "bSBQnq-8V2DH",
        "colab_type": "code",
        "colab": {}
      },
      "source": [
        "cric_scores = np.genfromtxt(\"cric_data-200320-181217.tsv\",\n",
        "                            skip_header = 1,\n",
        "                            usecols = [1, 2, 3])"
      ],
      "execution_count": 7,
      "outputs": []
    },
    {
      "cell_type": "code",
      "metadata": {
        "id": "EDE9pshYWUxI",
        "colab_type": "code",
        "colab": {
          "base_uri": "https://localhost:8080/",
          "height": 34
        },
        "outputId": "0103111f-5ccc-4074-b317-5a584330cf9e"
      },
      "source": [
        "cric_scores.shape"
      ],
      "execution_count": 9,
      "outputs": [
        {
          "output_type": "execute_result",
          "data": {
            "text/plain": [
              "(225, 3)"
            ]
          },
          "metadata": {
            "tags": []
          },
          "execution_count": 9
        }
      ]
    },
    {
      "cell_type": "code",
      "metadata": {
        "id": "U6o5qXRRWdXn",
        "colab_type": "code",
        "colab": {
          "base_uri": "https://localhost:8080/",
          "height": 34
        },
        "outputId": "65d9e314-a6ac-4e3b-8327-d7c516cc028f"
      },
      "source": [
        "cric_scores[0,2]"
      ],
      "execution_count": 12,
      "outputs": [
        {
          "output_type": "execute_result",
          "data": {
            "text/plain": [
              "342.0"
            ]
          },
          "metadata": {
            "tags": []
          },
          "execution_count": 12
        }
      ]
    },
    {
      "cell_type": "code",
      "metadata": {
        "id": "zRhveI35Ww4n",
        "colab_type": "code",
        "colab": {
          "base_uri": "https://localhost:8080/",
          "height": 51
        },
        "outputId": "b12b23de-28f6-45b0-cb8e-ad06b1527bde"
      },
      "source": [
        "sachin_mean_score = np.mean(cric_scores[:,0])\n",
        "print(\"Sachin Mean Score:\",sachin_mean_score)\n",
        "sachin_quartiles = np.percentile(cric_scores[:,0], [25,75])\n",
        "print(\"Sachin IQR:\",sachin_quartiles[1] - sachin_quartiles[0])"
      ],
      "execution_count": 24,
      "outputs": [
        {
          "output_type": "stream",
          "text": [
            "Sachin Mean Score: 39.87555555555556\n",
            "Sachin IQR: 57.0\n"
          ],
          "name": "stdout"
        }
      ]
    },
    {
      "cell_type": "code",
      "metadata": {
        "id": "wQOuocldXSZU",
        "colab_type": "code",
        "colab": {
          "base_uri": "https://localhost:8080/",
          "height": 51
        },
        "outputId": "4eb3a910-d60a-4ae7-ca24-840eb15f016a"
      },
      "source": [
        "rahul_mean_score = np.mean(cric_scores[:,1])\n",
        "print(\"Rahul Mean Score:\",rahul_mean_score)\n",
        "rahul_quartiles = np.percentile(cric_scores[:,1], [25,75])\n",
        "print(\"Rahul IQR:\",rahul_quartiles[1] - rahul_quartiles[0])"
      ],
      "execution_count": 25,
      "outputs": [
        {
          "output_type": "stream",
          "text": [
            "Rahul Mean Score: 32.062222222222225\n",
            "Rahul IQR: 46.0\n"
          ],
          "name": "stdout"
        }
      ]
    },
    {
      "cell_type": "code",
      "metadata": {
        "id": "-Qr0QLp7Xaqo",
        "colab_type": "code",
        "colab": {
          "base_uri": "https://localhost:8080/",
          "height": 51
        },
        "outputId": "b9b33e8e-8598-4805-fd43-a929f278e189"
      },
      "source": [
        "india_mean_score = np.mean(cric_scores[:,2])\n",
        "print(\"India Mean Score:\",india_mean_score)\n",
        "india_quartiles = np.percentile(cric_scores[:,2], [25,75])\n",
        "print(\"India IQR:\",india_quartiles[1] - india_quartiles[0])"
      ],
      "execution_count": 26,
      "outputs": [
        {
          "output_type": "stream",
          "text": [
            "India Mean Score: 220.79555555555555\n",
            "India IQR: 98.0\n"
          ],
          "name": "stdout"
        }
      ]
    },
    {
      "cell_type": "code",
      "metadata": {
        "id": "kBIxTpgBcJJa",
        "colab_type": "code",
        "colab": {
          "base_uri": "https://localhost:8080/",
          "height": 34
        },
        "outputId": "74e83fff-b00e-4831-e90e-3fa823374553"
      },
      "source": [
        "np.mean(cric_scores, axis = 0)"
      ],
      "execution_count": 45,
      "outputs": [
        {
          "output_type": "execute_result",
          "data": {
            "text/plain": [
              "array([ 39.87555556,  32.06222222, 220.79555556])"
            ]
          },
          "metadata": {
            "tags": []
          },
          "execution_count": 45
        }
      ]
    },
    {
      "cell_type": "code",
      "metadata": {
        "id": "bLqV7uO0XllP",
        "colab_type": "code",
        "colab": {}
      },
      "source": [
        "#Find the histogram of Sachin's scores with 10 bins"
      ],
      "execution_count": 27,
      "outputs": []
    },
    {
      "cell_type": "code",
      "metadata": {
        "id": "nsQrh3SoY5tE",
        "colab_type": "code",
        "colab": {}
      },
      "source": [
        "sachin_hist = np.histogram(cric_scores[:,0],bins=10)"
      ],
      "execution_count": 28,
      "outputs": []
    },
    {
      "cell_type": "code",
      "metadata": {
        "id": "1aIFhWyuZIlw",
        "colab_type": "code",
        "colab": {
          "base_uri": "https://localhost:8080/",
          "height": 68
        },
        "outputId": "6d7bbcf1-b803-45df-cae5-e56bb6034d73"
      },
      "source": [
        "sachin_hist"
      ],
      "execution_count": 29,
      "outputs": [
        {
          "output_type": "execute_result",
          "data": {
            "text/plain": [
              "(array([99, 36, 28, 16, 11, 17,  8,  8,  1,  1]),\n",
              " array([  0. ,  18.6,  37.2,  55.8,  74.4,  93. , 111.6, 130.2, 148.8,\n",
              "        167.4, 186. ]))"
            ]
          },
          "metadata": {
            "tags": []
          },
          "execution_count": 29
        }
      ]
    },
    {
      "cell_type": "code",
      "metadata": {
        "id": "8kvFj9sqZJ3v",
        "colab_type": "code",
        "colab": {}
      },
      "source": [
        "#Find mean of Sachin's scores grouped by 25 matches"
      ],
      "execution_count": 30,
      "outputs": []
    },
    {
      "cell_type": "code",
      "metadata": {
        "id": "7dLxtH2vZiVH",
        "colab_type": "code",
        "colab": {}
      },
      "source": [
        "sachin_score_group_by_25 = cric_scores[:,0].reshape(25,-1)"
      ],
      "execution_count": 41,
      "outputs": []
    },
    {
      "cell_type": "code",
      "metadata": {
        "id": "ue45voRQaJab",
        "colab_type": "code",
        "colab": {
          "base_uri": "https://localhost:8080/",
          "height": 34
        },
        "outputId": "11b3cbb0-7e18-4af9-b96a-7e51cf164775"
      },
      "source": [
        "np.mean(sachin_score_group_by_25, axis = 0)"
      ],
      "execution_count": 44,
      "outputs": [
        {
          "output_type": "execute_result",
          "data": {
            "text/plain": [
              "array([37.04, 45.44, 40.24, 44.76, 51.32, 28.52, 37.88, 32.28, 41.4 ])"
            ]
          },
          "metadata": {
            "tags": []
          },
          "execution_count": 44
        }
      ]
    },
    {
      "cell_type": "code",
      "metadata": {
        "id": "aXSUzWOqZa4t",
        "colab_type": "code",
        "colab": {}
      },
      "source": [
        "#Find mean of Sachin's scores where he has scored century"
      ],
      "execution_count": 33,
      "outputs": []
    },
    {
      "cell_type": "code",
      "metadata": {
        "id": "dlcdXEIJcd75",
        "colab_type": "code",
        "colab": {}
      },
      "source": [
        "sachin_scores = cric_scores[:,0]"
      ],
      "execution_count": 48,
      "outputs": []
    },
    {
      "cell_type": "code",
      "metadata": {
        "id": "bVyAy9HFdGL9",
        "colab_type": "code",
        "colab": {
          "base_uri": "https://localhost:8080/",
          "height": 34
        },
        "outputId": "3a54d423-209f-4697-dd28-010335083b47"
      },
      "source": [
        "np.mean(sachin_scores[sachin_scores >= 100])"
      ],
      "execution_count": 49,
      "outputs": [
        {
          "output_type": "execute_result",
          "data": {
            "text/plain": [
              "125.0"
            ]
          },
          "metadata": {
            "tags": []
          },
          "execution_count": 49
        }
      ]
    },
    {
      "cell_type": "code",
      "metadata": {
        "id": "fhfgL-9UZgw0",
        "colab_type": "code",
        "colab": {
          "base_uri": "https://localhost:8080/",
          "height": 34
        },
        "outputId": "70f8d180-9099-4215-efb8-7afd1eae6cd4"
      },
      "source": [
        "np.mean(cric_scores[:,0][cric_scores[:,0] >= 100])"
      ],
      "execution_count": 50,
      "outputs": [
        {
          "output_type": "execute_result",
          "data": {
            "text/plain": [
              "125.0"
            ]
          },
          "metadata": {
            "tags": []
          },
          "execution_count": 50
        }
      ]
    },
    {
      "cell_type": "code",
      "metadata": {
        "id": "drk1VClkcU_M",
        "colab_type": "code",
        "colab": {}
      },
      "source": [
        "#Find mean of Sachin's score when Rahul scored less than 10"
      ],
      "execution_count": null,
      "outputs": []
    },
    {
      "cell_type": "code",
      "metadata": {
        "id": "UiL1D3JtdbM1",
        "colab_type": "code",
        "colab": {
          "base_uri": "https://localhost:8080/",
          "height": 34
        },
        "outputId": "04bc22dc-0a77-498a-e7d5-bc31222912c1"
      },
      "source": [
        "test = cric_scores[:,1] < 10\n",
        "test.shape"
      ],
      "execution_count": 54,
      "outputs": [
        {
          "output_type": "execute_result",
          "data": {
            "text/plain": [
              "(225,)"
            ]
          },
          "metadata": {
            "tags": []
          },
          "execution_count": 54
        }
      ]
    },
    {
      "cell_type": "code",
      "metadata": {
        "id": "2onoprFBdeKu",
        "colab_type": "code",
        "colab": {}
      },
      "source": [
        "\"\"\"\n",
        "Find mean of Sachin's scores based on which quartile India's score fall in\n",
        "For every match, who has scored more - Sachin or Rahul\n",
        "How many more runs does Sachin score on average after having scored x runs\n",
        "\"\"\""
      ],
      "execution_count": null,
      "outputs": []
    }
  ]
}