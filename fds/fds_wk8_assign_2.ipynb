{
  "nbformat": 4,
  "nbformat_minor": 0,
  "metadata": {
    "colab": {
      "name": "fds_wk8_assign_2.ipynb",
      "provenance": [],
      "toc_visible": true,
      "authorship_tag": "ABX9TyNyGQ51Iq1TkczpEF2uWuQn",
      "include_colab_link": true
    },
    "kernelspec": {
      "name": "python3",
      "display_name": "Python 3"
    }
  },
  "cells": [
    {
      "cell_type": "markdown",
      "metadata": {
        "id": "view-in-github",
        "colab_type": "text"
      },
      "source": [
        "<a href=\"https://colab.research.google.com/github/ajayks1974/learning/blob/master/fds/fds_wk8_assign_2.ipynb\" target=\"_parent\"><img src=\"https://colab.research.google.com/assets/colab-badge.svg\" alt=\"Open In Colab\"/></a>"
      ]
    },
    {
      "cell_type": "code",
      "metadata": {
        "id": "6Q6VnIgMSJIr",
        "colab_type": "code",
        "colab": {}
      },
      "source": [
        "#Case Study"
      ],
      "execution_count": 2,
      "outputs": []
    },
    {
      "cell_type": "code",
      "metadata": {
        "id": "VPjxIwFeTl96",
        "colab_type": "code",
        "colab": {
          "base_uri": "https://localhost:8080/",
          "height": 34
        },
        "outputId": "e3c5ec59-1779-4d68-f0ed-30d3d679bd10"
      },
      "source": [
        "!ls cric_data*"
      ],
      "execution_count": 3,
      "outputs": [
        {
          "output_type": "stream",
          "text": [
            "cric_data-200320-181217.tsv\n"
          ],
          "name": "stdout"
        }
      ]
    },
    {
      "cell_type": "code",
      "metadata": {
        "id": "ENyK4UvYT8WJ",
        "colab_type": "code",
        "colab": {
          "base_uri": "https://localhost:8080/",
          "height": 187
        },
        "outputId": "e6a19690-48f6-4266-84f4-154ebb8a42ad"
      },
      "source": [
        "!head cric_data-200320-181217.tsv"
      ],
      "execution_count": 4,
      "outputs": [
        {
          "output_type": "stream",
          "text": [
            "\tSachin Tendulkar\tRahul Dravid\tIndia\n",
            "0\t100\t78\t342\n",
            "1\t11\t62\t191\n",
            "2\t8\t85\t252\n",
            "3\t71\t24\t307\n",
            "4\t104\t17\t229\n",
            "5\t18\t104\t246\n",
            "6\t8\t76\t226\n",
            "7\t86\t74\t288\n",
            "8\t12\t60\t216\n"
          ],
          "name": "stdout"
        }
      ]
    },
    {
      "cell_type": "markdown",
      "metadata": {
        "id": "LVN2JZDwUHGd",
        "colab_type": "text"
      },
      "source": [
        "#Tasks\n",
        "1. Find mean, median, IQR for Sachin, Rahul, and India\n",
        "2. Find the histogram of Sachin's scores with 10 bins\n",
        "3. Find mean of Sachin's scores grouped by 25 matches\n",
        "4. Find mean of Sachin's scores where he has scored century\n",
        "5. Find mean of Sachin's score when Rahul scored less than 10\n",
        "6. Find mean of Sachin's scores based on which quartile India's score fall in\n",
        "7. For every match, who has scored more - Sachin or Rahul\n",
        "8. How many more runs does Sachin score on average after having scored x runs"
      ]
    },
    {
      "cell_type": "code",
      "metadata": {
        "id": "7agO887fV6dp",
        "colab_type": "code",
        "colab": {}
      },
      "source": [
        "import numpy as np"
      ],
      "execution_count": 5,
      "outputs": []
    },
    {
      "cell_type": "code",
      "metadata": {
        "id": "SIn8QIrnUCg-",
        "colab_type": "code",
        "colab": {}
      },
      "source": [
        "#Find mean, median, IQR for Sachin, Rahul, and India"
      ],
      "execution_count": 6,
      "outputs": []
    },
    {
      "cell_type": "code",
      "metadata": {
        "id": "bSBQnq-8V2DH",
        "colab_type": "code",
        "colab": {}
      },
      "source": [
        "cric_scores = np.genfromtxt(\"cric_data-200320-181217.tsv\",\n",
        "                            skip_header = 1,\n",
        "                            usecols = [1, 2, 3])"
      ],
      "execution_count": 7,
      "outputs": []
    },
    {
      "cell_type": "code",
      "metadata": {
        "id": "EDE9pshYWUxI",
        "colab_type": "code",
        "colab": {
          "base_uri": "https://localhost:8080/",
          "height": 34
        },
        "outputId": "d3445e46-1242-489d-fa52-728c72c5b6db"
      },
      "source": [
        "cric_scores.shape"
      ],
      "execution_count": 8,
      "outputs": [
        {
          "output_type": "execute_result",
          "data": {
            "text/plain": [
              "(225, 3)"
            ]
          },
          "metadata": {
            "tags": []
          },
          "execution_count": 8
        }
      ]
    },
    {
      "cell_type": "code",
      "metadata": {
        "id": "U6o5qXRRWdXn",
        "colab_type": "code",
        "colab": {
          "base_uri": "https://localhost:8080/",
          "height": 34
        },
        "outputId": "0cfbca67-5e9d-481a-f38e-c6f2980fc3d6"
      },
      "source": [
        "cric_scores[0,2]"
      ],
      "execution_count": 9,
      "outputs": [
        {
          "output_type": "execute_result",
          "data": {
            "text/plain": [
              "342.0"
            ]
          },
          "metadata": {
            "tags": []
          },
          "execution_count": 9
        }
      ]
    },
    {
      "cell_type": "code",
      "metadata": {
        "id": "zRhveI35Ww4n",
        "colab_type": "code",
        "colab": {
          "base_uri": "https://localhost:8080/",
          "height": 51
        },
        "outputId": "3ec11ef1-ab90-4cab-dc2a-72562cc46db8"
      },
      "source": [
        "sachin_mean_score = np.mean(cric_scores[:,0])\n",
        "print(\"Sachin Mean Score:\",sachin_mean_score)\n",
        "sachin_quartiles = np.percentile(cric_scores[:,0], [25,75])\n",
        "print(\"Sachin IQR:\",sachin_quartiles[1] - sachin_quartiles[0])"
      ],
      "execution_count": 10,
      "outputs": [
        {
          "output_type": "stream",
          "text": [
            "Sachin Mean Score: 39.87555555555556\n",
            "Sachin IQR: 57.0\n"
          ],
          "name": "stdout"
        }
      ]
    },
    {
      "cell_type": "code",
      "metadata": {
        "id": "wQOuocldXSZU",
        "colab_type": "code",
        "colab": {
          "base_uri": "https://localhost:8080/",
          "height": 51
        },
        "outputId": "28465265-5a94-406c-c531-e8248c2a5ae9"
      },
      "source": [
        "rahul_mean_score = np.mean(cric_scores[:,1])\n",
        "print(\"Rahul Mean Score:\",rahul_mean_score)\n",
        "rahul_quartiles = np.percentile(cric_scores[:,1], [25,75])\n",
        "print(\"Rahul IQR:\",rahul_quartiles[1] - rahul_quartiles[0])"
      ],
      "execution_count": 11,
      "outputs": [
        {
          "output_type": "stream",
          "text": [
            "Rahul Mean Score: 32.062222222222225\n",
            "Rahul IQR: 46.0\n"
          ],
          "name": "stdout"
        }
      ]
    },
    {
      "cell_type": "code",
      "metadata": {
        "id": "-Qr0QLp7Xaqo",
        "colab_type": "code",
        "colab": {
          "base_uri": "https://localhost:8080/",
          "height": 51
        },
        "outputId": "ce2005d5-e19e-4a90-de42-55f2c3d855b4"
      },
      "source": [
        "india_mean_score = np.mean(cric_scores[:,2])\n",
        "print(\"India Mean Score:\",india_mean_score)\n",
        "india_quartiles = np.percentile(cric_scores[:,2], [25,75])\n",
        "print(\"India IQR:\",india_quartiles[1] - india_quartiles[0])"
      ],
      "execution_count": 12,
      "outputs": [
        {
          "output_type": "stream",
          "text": [
            "India Mean Score: 220.79555555555555\n",
            "India IQR: 98.0\n"
          ],
          "name": "stdout"
        }
      ]
    },
    {
      "cell_type": "code",
      "metadata": {
        "id": "kBIxTpgBcJJa",
        "colab_type": "code",
        "colab": {
          "base_uri": "https://localhost:8080/",
          "height": 34
        },
        "outputId": "831e6e86-5dbc-4619-d331-ecc9e62e9eec"
      },
      "source": [
        "np.mean(cric_scores, axis = 0)"
      ],
      "execution_count": 13,
      "outputs": [
        {
          "output_type": "execute_result",
          "data": {
            "text/plain": [
              "array([ 39.87555556,  32.06222222, 220.79555556])"
            ]
          },
          "metadata": {
            "tags": []
          },
          "execution_count": 13
        }
      ]
    },
    {
      "cell_type": "code",
      "metadata": {
        "id": "bLqV7uO0XllP",
        "colab_type": "code",
        "colab": {}
      },
      "source": [
        "#Find the histogram of Sachin's scores with 10 bins"
      ],
      "execution_count": 14,
      "outputs": []
    },
    {
      "cell_type": "code",
      "metadata": {
        "id": "nsQrh3SoY5tE",
        "colab_type": "code",
        "colab": {}
      },
      "source": [
        "sachin_hist = np.histogram(cric_scores[:,0],bins=10)"
      ],
      "execution_count": 15,
      "outputs": []
    },
    {
      "cell_type": "code",
      "metadata": {
        "id": "1aIFhWyuZIlw",
        "colab_type": "code",
        "colab": {
          "base_uri": "https://localhost:8080/",
          "height": 68
        },
        "outputId": "08218bfb-9d9f-4d9d-c8c8-20ddbd9957dd"
      },
      "source": [
        "sachin_hist"
      ],
      "execution_count": 16,
      "outputs": [
        {
          "output_type": "execute_result",
          "data": {
            "text/plain": [
              "(array([99, 36, 28, 16, 11, 17,  8,  8,  1,  1]),\n",
              " array([  0. ,  18.6,  37.2,  55.8,  74.4,  93. , 111.6, 130.2, 148.8,\n",
              "        167.4, 186. ]))"
            ]
          },
          "metadata": {
            "tags": []
          },
          "execution_count": 16
        }
      ]
    },
    {
      "cell_type": "code",
      "metadata": {
        "id": "8kvFj9sqZJ3v",
        "colab_type": "code",
        "colab": {}
      },
      "source": [
        "#Find mean of Sachin's scores grouped by 25 matches"
      ],
      "execution_count": 17,
      "outputs": []
    },
    {
      "cell_type": "code",
      "metadata": {
        "id": "7dLxtH2vZiVH",
        "colab_type": "code",
        "colab": {}
      },
      "source": [
        "sachin_score_group_by_25 = cric_scores[:,0].reshape(25,-1)"
      ],
      "execution_count": 80,
      "outputs": []
    },
    {
      "cell_type": "code",
      "metadata": {
        "id": "0hh2EWeECZBV",
        "colab_type": "code",
        "colab": {
          "base_uri": "https://localhost:8080/",
          "height": 34
        },
        "outputId": "69242266-833e-42f7-e2a2-2cd7580e27e3"
      },
      "source": [
        "sachin_score_group_by_25.shape"
      ],
      "execution_count": 81,
      "outputs": [
        {
          "output_type": "execute_result",
          "data": {
            "text/plain": [
              "(25, 9)"
            ]
          },
          "metadata": {
            "tags": []
          },
          "execution_count": 81
        }
      ]
    },
    {
      "cell_type": "code",
      "metadata": {
        "id": "ue45voRQaJab",
        "colab_type": "code",
        "colab": {
          "base_uri": "https://localhost:8080/",
          "height": 34
        },
        "outputId": "b65a51fc-8e44-468c-801c-1051d2861934"
      },
      "source": [
        "np.mean(sachin_score_group_by_25, axis = 0)"
      ],
      "execution_count": 19,
      "outputs": [
        {
          "output_type": "execute_result",
          "data": {
            "text/plain": [
              "array([37.04, 45.44, 40.24, 44.76, 51.32, 28.52, 37.88, 32.28, 41.4 ])"
            ]
          },
          "metadata": {
            "tags": []
          },
          "execution_count": 19
        }
      ]
    },
    {
      "cell_type": "code",
      "metadata": {
        "id": "aXSUzWOqZa4t",
        "colab_type": "code",
        "colab": {}
      },
      "source": [
        "#Find mean of Sachin's scores where he has scored century"
      ],
      "execution_count": 20,
      "outputs": []
    },
    {
      "cell_type": "code",
      "metadata": {
        "id": "dlcdXEIJcd75",
        "colab_type": "code",
        "colab": {}
      },
      "source": [
        "sachin_scores = cric_scores[:,0]"
      ],
      "execution_count": 21,
      "outputs": []
    },
    {
      "cell_type": "code",
      "metadata": {
        "id": "bVyAy9HFdGL9",
        "colab_type": "code",
        "colab": {
          "base_uri": "https://localhost:8080/",
          "height": 34
        },
        "outputId": "52eb442f-299f-4115-955f-7ce120d2471b"
      },
      "source": [
        "np.mean(sachin_scores[sachin_scores >= 100])"
      ],
      "execution_count": 22,
      "outputs": [
        {
          "output_type": "execute_result",
          "data": {
            "text/plain": [
              "125.0"
            ]
          },
          "metadata": {
            "tags": []
          },
          "execution_count": 22
        }
      ]
    },
    {
      "cell_type": "code",
      "metadata": {
        "id": "fhfgL-9UZgw0",
        "colab_type": "code",
        "colab": {
          "base_uri": "https://localhost:8080/",
          "height": 34
        },
        "outputId": "f5ef690a-a01b-4810-d69b-6303631fb968"
      },
      "source": [
        "np.mean(cric_scores[:,0][cric_scores[:,0] >= 100])"
      ],
      "execution_count": 23,
      "outputs": [
        {
          "output_type": "execute_result",
          "data": {
            "text/plain": [
              "125.0"
            ]
          },
          "metadata": {
            "tags": []
          },
          "execution_count": 23
        }
      ]
    },
    {
      "cell_type": "code",
      "metadata": {
        "id": "drk1VClkcU_M",
        "colab_type": "code",
        "colab": {}
      },
      "source": [
        "#Find mean of Sachin's score when Rahul scored less than 10"
      ],
      "execution_count": 24,
      "outputs": []
    },
    {
      "cell_type": "code",
      "metadata": {
        "id": "UiL1D3JtdbM1",
        "colab_type": "code",
        "colab": {
          "base_uri": "https://localhost:8080/",
          "height": 34
        },
        "outputId": "07c2ae46-e84b-4370-c518-00030fd08310"
      },
      "source": [
        "np.mean(cric_scores[cric_scores[:,1] < 10 ][:,0])"
      ],
      "execution_count": 31,
      "outputs": [
        {
          "output_type": "execute_result",
          "data": {
            "text/plain": [
              "40.74285714285714"
            ]
          },
          "metadata": {
            "tags": []
          },
          "execution_count": 31
        }
      ]
    },
    {
      "cell_type": "code",
      "metadata": {
        "id": "VHMlBE6A1uHv",
        "colab_type": "code",
        "colab": {}
      },
      "source": [
        "#Find mean of Sachin's scores based on which quartile India's score fall in"
      ],
      "execution_count": 32,
      "outputs": []
    },
    {
      "cell_type": "code",
      "metadata": {
        "id": "zNIo1FZs2Z-1",
        "colab_type": "code",
        "colab": {}
      },
      "source": [
        "quartiles = np.percentile(cric_scores[:,2],[0,25,50,75,100])"
      ],
      "execution_count": 35,
      "outputs": []
    },
    {
      "cell_type": "code",
      "metadata": {
        "id": "a8AS3uNq5wrv",
        "colab_type": "code",
        "colab": {
          "base_uri": "https://localhost:8080/",
          "height": 34
        },
        "outputId": "814b4f7e-6c1c-4a89-893c-ad919ee08e11"
      },
      "source": [
        "quartiles"
      ],
      "execution_count": 36,
      "outputs": [
        {
          "output_type": "execute_result",
          "data": {
            "text/plain": [
              "array([  0., 175., 216., 273., 499.])"
            ]
          },
          "metadata": {
            "tags": []
          },
          "execution_count": 36
        }
      ]
    },
    {
      "cell_type": "code",
      "metadata": {
        "id": "2CHoTaKp6P9B",
        "colab_type": "code",
        "colab": {}
      },
      "source": [
        "digitized_list = np.digitize(cric_scores[:,2], list(quartiles))"
      ],
      "execution_count": 74,
      "outputs": []
    },
    {
      "cell_type": "code",
      "metadata": {
        "id": "f71XguOP6r_y",
        "colab_type": "code",
        "colab": {}
      },
      "source": [
        "temp_cric_scores = np.copy(cric_scores)"
      ],
      "execution_count": 75,
      "outputs": []
    },
    {
      "cell_type": "code",
      "metadata": {
        "id": "H6Zo9oEq9F8s",
        "colab_type": "code",
        "colab": {
          "base_uri": "https://localhost:8080/",
          "height": 34
        },
        "outputId": "40e33cec-078f-433d-85de-25bf49a86ef4"
      },
      "source": [
        "temp_cric_scores.shape"
      ],
      "execution_count": 76,
      "outputs": [
        {
          "output_type": "execute_result",
          "data": {
            "text/plain": [
              "(225, 3)"
            ]
          },
          "metadata": {
            "tags": []
          },
          "execution_count": 76
        }
      ]
    },
    {
      "cell_type": "code",
      "metadata": {
        "id": "IBKQrkP860Bn",
        "colab_type": "code",
        "colab": {}
      },
      "source": [
        "temp_cric_scores_1 = np.column_stack((temp_cric_scores,digitized_list))"
      ],
      "execution_count": 77,
      "outputs": []
    },
    {
      "cell_type": "code",
      "metadata": {
        "id": "ZXoL_Gq9B4sH",
        "colab_type": "code",
        "colab": {
          "base_uri": "https://localhost:8080/",
          "height": 34
        },
        "outputId": "9ed6b231-c5f3-463b-a572-fe4253d9b6ee"
      },
      "source": [
        "temp_cric_scores_1.shape"
      ],
      "execution_count": 79,
      "outputs": [
        {
          "output_type": "execute_result",
          "data": {
            "text/plain": [
              "(225, 4)"
            ]
          },
          "metadata": {
            "tags": []
          },
          "execution_count": 79
        }
      ]
    },
    {
      "cell_type": "code",
      "metadata": {
        "id": "a_yiLeyvCgHv",
        "colab_type": "code",
        "colab": {
          "base_uri": "https://localhost:8080/",
          "height": 85
        },
        "outputId": "14ac9d94-6054-4cd1-d190-4545812997d7"
      },
      "source": [
        "for iter in range(4):\n",
        "    print(\"Sachin Average for Indian Score in Quartile \", iter+1, \"is: \", np.mean(temp_cric_scores_1[temp_cric_scores_1[:,3] == iter+1][:,0]))\n",
        "#np.mean(temp_cric_scores_1[temp_cric_scores_1[:,3] == 4][:,0])"
      ],
      "execution_count": 84,
      "outputs": [
        {
          "output_type": "stream",
          "text": [
            "Sachin Average for Indian Score in Quartile  1 is:  19.672727272727272\n",
            "Sachin Average for Indian Score in Quartile  2 is:  36.535714285714285\n",
            "Sachin Average for Indian Score in Quartile  3 is:  38.642857142857146\n",
            "Sachin Average for Indian Score in Quartile  4 is:  63.56140350877193\n"
          ],
          "name": "stdout"
        }
      ]
    },
    {
      "cell_type": "code",
      "metadata": {
        "colab_type": "code",
        "id": "C11lyl0r2SrZ",
        "colab": {
          "base_uri": "https://localhost:8080/",
          "height": 69
        },
        "outputId": "074c55ce-b773-460f-afed-c028a9f609fa"
      },
      "source": [
        "\"\"\"\n",
        "For every match, who has scored more - Sachin or Rahul\n",
        "How many more runs does Sachin score on average after having scored x runs\n",
        "\"\"\""
      ],
      "execution_count": null,
      "outputs": [
        {
          "output_type": "execute_result",
          "data": {
            "application/vnd.google.colaboratory.intrinsic": {
              "type": "string"
            },
            "text/plain": [
              "\"\\nFind mean of Sachin's scores based on which quartile India's score fall in\\nFor every match, who has scored more - Sachin or Rahul\\nHow many more runs does Sachin score on average after having scored x runs\\n\""
            ]
          },
          "metadata": {
            "tags": []
          },
          "execution_count": 26
        }
      ]
    },
    {
      "cell_type": "code",
      "metadata": {
        "id": "2onoprFBdeKu",
        "colab_type": "code",
        "colab": {
          "base_uri": "https://localhost:8080/",
          "height": 69
        },
        "outputId": "074c55ce-b773-460f-afed-c028a9f609fa"
      },
      "source": [
        "\"\"\"\n",
        "Find mean of Sachin's scores based on which quartile India's score fall in\n",
        "For every match, who has scored more - Sachin or Rahul\n",
        "How many more runs does Sachin score on average after having scored x runs\n",
        "\"\"\""
      ],
      "execution_count": 26,
      "outputs": [
        {
          "output_type": "execute_result",
          "data": {
            "application/vnd.google.colaboratory.intrinsic": {
              "type": "string"
            },
            "text/plain": [
              "\"\\nFind mean of Sachin's scores based on which quartile India's score fall in\\nFor every match, who has scored more - Sachin or Rahul\\nHow many more runs does Sachin score on average after having scored x runs\\n\""
            ]
          },
          "metadata": {
            "tags": []
          },
          "execution_count": 26
        }
      ]
    }
  ]
}