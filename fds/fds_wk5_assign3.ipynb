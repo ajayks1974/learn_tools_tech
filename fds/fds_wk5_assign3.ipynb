{
  "nbformat": 4,
  "nbformat_minor": 0,
  "metadata": {
    "colab": {
      "name": "fds_wk5_assign3.ipynb",
      "provenance": [],
      "authorship_tag": "ABX9TyNpkil1iaXNGFtJkkOrhl3g",
      "include_colab_link": true
    },
    "kernelspec": {
      "name": "python3",
      "display_name": "Python 3"
    }
  },
  "cells": [
    {
      "cell_type": "markdown",
      "metadata": {
        "id": "view-in-github",
        "colab_type": "text"
      },
      "source": [
        "<a href=\"https://colab.research.google.com/github/ajayks1974/learning/blob/master/fds/fds_wk5_assign3.ipynb\" target=\"_parent\"><img src=\"https://colab.research.google.com/assets/colab-badge.svg\" alt=\"Open In Colab\"/></a>"
      ]
    },
    {
      "cell_type": "code",
      "metadata": {
        "id": "VQFHv-jAfhG9",
        "colab_type": "code",
        "colab": {
          "base_uri": "https://localhost:8080/",
          "height": 74
        },
        "outputId": "94ec3b6f-839c-4650-aa0d-5e888a87f846"
      },
      "source": [
        "with open(\"poem.txt\", \"r\") as f:\n",
        "    words = ((((f.read()).replace(\".\",\" \")).replace(\",\",\"\")).lower()).split()\n",
        "    unique_words= set(words)\n",
        "    for wor\n",
        "    print(words)\n",
        "    print(unique_words)"
      ],
      "execution_count": 10,
      "outputs": [
        {
          "output_type": "stream",
          "text": [
            "['unending', 'love', 'i', 'seem', 'to', 'have', 'loved', 'you', 'in', 'numberless', 'forms', 'numberless', 'times…', 'in', 'life', 'after', 'life', 'in', 'age', 'after', 'age', 'forever', 'my', 'spellbound', 'heart', 'has', 'made', 'and', 'remade', 'the', 'necklace', 'of', 'songs', 'that', 'you', 'take', 'as', 'a', 'gift', 'wear', 'round', 'your', 'neck', 'in', 'your', 'many', 'forms', 'in', 'life', 'after', 'life', 'in', 'age', 'after', 'age', 'forever', 'whenever', 'i', 'hear', 'old', 'chronicles', 'of', 'love', 'its', 'age-old', 'pain', 'its', 'ancient', 'tale', 'of', 'being', 'apart', 'or', 'together', 'as', 'i', 'stare', 'on', 'and', 'on', 'into', 'the', 'past', 'in', 'the', 'end', 'you', 'emerge', 'clad', 'in', 'the', 'light', 'of', 'a', 'pole-star', 'piercing', 'the', 'darkness', 'of', 'time:', 'you', 'become', 'an', 'image', 'of', 'what', 'is', 'remembered', 'forever', 'you', 'and', 'i', 'have', 'floated', 'here', 'on', 'the', 'stream', 'that', 'brings', 'from', 'the', 'fount', 'at', 'the', 'heart', 'of', 'time', 'love', 'of', 'one', 'for', 'another', 'we', 'have', 'played', 'along', 'side', 'millions', 'of', 'lovers', 'shared', 'in', 'the', 'same', 'shy', 'sweetness', 'of', 'meeting', 'the', 'same', 'distressful', 'tears', 'of', 'farewell-', 'old', 'love', 'but', 'in', 'shapes', 'that', 'renew', 'and', 'renew', 'forever', 'today', 'it', 'is', 'heaped', 'at', 'your', 'feet', 'it', 'has', 'found', 'its', 'end', 'in', 'you', 'the', 'love', 'of', 'all', 'man’s', 'days', 'both', 'past', 'and', 'forever:', 'universal', 'joy', 'universal', 'sorrow', 'universal', 'life', 'the', 'memories', 'of', 'all', 'loves', 'merging', 'with', 'this', 'one', 'love', 'of', 'ours', '–', 'and', 'the', 'songs', 'of', 'every', 'poet', 'past', 'and', 'forever']\n",
            "{'merging', 'past', 'man’s', 'apart', 'ours', 'round', 'we', 'times…', 'my', 'unending', 'poet', 'light', 'or', 'time:', 'neck', 'farewell-', 'here', 'that', 'fount', 'piercing', 'it', 'love', 'life', 'joy', 'loves', 'for', 'sweetness', 'sorrow', 'memories', '–', 'is', 'numberless', 'forever', 'brings', 'but', 'to', 'wear', 'one', 'shared', 'seem', 'pain', 'clad', 'along', 'songs', 'shapes', 'age-old', 'forever:', 'take', 'found', 'days', 'whenever', 'heart', 'stare', 'after', 'made', 'together', 'distressful', 'this', 'as', 'gift', 'remade', 'has', 'ancient', 'tears', 'every', 'shy', 'become', 'stream', 'side', 'old', 'into', 'all', 'played', 'another', 'remembered', 'an', 'lovers', 'chronicles', 'end', 'being', 'from', 'i', 'many', 'on', 'millions', 'universal', 'and', 'spellbound', 'age', 'heaped', 'your', 'floated', 'of', 'both', 'its', 'you', 'with', 'in', 'image', 'pole-star', 'the', 'tale', 'meeting', 'at', 'emerge', 'loved', 'time', 'feet', 'necklace', 'have', 'today', 'darkness', 'renew', 'hear', 'forms', 'what', 'a', 'same'}\n"
          ],
          "name": "stdout"
        }
      ]
    },
    {
      "cell_type": "code",
      "metadata": {
        "id": "l1DzD0x2hSBT",
        "colab_type": "code",
        "colab": {
          "base_uri": "https://localhost:8080/",
          "height": 35
        },
        "outputId": "d0752f0b-26da-4a0d-e0b2-f8a510f1f64a"
      },
      "source": [
        ""
      ],
      "execution_count": 8,
      "outputs": [
        {
          "output_type": "stream",
          "text": [
            "Eq:\n"
          ],
          "name": "stdout"
        }
      ]
    },
    {
      "cell_type": "code",
      "metadata": {
        "id": "svn6Y665jusV",
        "colab_type": "code",
        "colab": {}
      },
      "source": [
        ""
      ],
      "execution_count": null,
      "outputs": []
    }
  ]
}