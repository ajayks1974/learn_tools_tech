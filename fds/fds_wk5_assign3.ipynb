{
  "nbformat": 4,
  "nbformat_minor": 0,
  "metadata": {
    "colab": {
      "name": "fds_wk5_assign3.ipynb",
      "provenance": [],
      "authorship_tag": "ABX9TyNUFMNHxVSnT1DwZI9R2LBm",
      "include_colab_link": true
    },
    "kernelspec": {
      "name": "python3",
      "display_name": "Python 3"
    }
  },
  "cells": [
    {
      "cell_type": "markdown",
      "metadata": {
        "id": "view-in-github",
        "colab_type": "text"
      },
      "source": [
        "<a href=\"https://colab.research.google.com/github/ajayks1974/learning/blob/master/fds/fds_wk5_assign3.ipynb\" target=\"_parent\"><img src=\"https://colab.research.google.com/assets/colab-badge.svg\" alt=\"Open In Colab\"/></a>"
      ]
    },
    {
      "cell_type": "code",
      "metadata": {
        "id": "VQFHv-jAfhG9",
        "colab_type": "code",
        "colab": {
          "base_uri": "https://localhost:8080/",
          "height": 74
        },
        "outputId": "82e7524f-961f-483c-cd26-819a1ebad098"
      },
      "source": [
        "with open(\"poem.txt\", \"r\") as f:\n",
        "    words = ((((f.read()).replace(\".\",\" \")).replace(\",\",\"\")).lower()).split()\n",
        "    unique_words= set(words)\n",
        "    print(words)\n",
        "    print(unique_words)"
      ],
      "execution_count": 5,
      "outputs": [
        {
          "output_type": "stream",
          "text": [
            "['unending', 'love', 'i', 'seem', 'to', 'have', 'loved', 'you', 'in', 'numberless', 'forms', 'numberless', 'times…', 'in', 'life', 'after', 'life', 'in', 'age', 'after', 'age', 'forever', 'my', 'spellbound', 'heart', 'has', 'made', 'and', 'remade', 'the', 'necklace', 'of', 'songs', 'that', 'you', 'take', 'as', 'a', 'gift', 'wear', 'round', 'your', 'neck', 'in', 'your', 'many', 'forms', 'in', 'life', 'after', 'life', 'in', 'age', 'after', 'age', 'forever', 'whenever', 'i', 'hear', 'old', 'chronicles', 'of', 'love', 'its', 'age-old', 'pain', 'its', 'ancient', 'tale', 'of', 'being', 'apart', 'or', 'together', 'as', 'i', 'stare', 'on', 'and', 'on', 'into', 'the', 'past', 'in', 'the', 'end', 'you', 'emerge', 'clad', 'in', 'the', 'light', 'of', 'a', 'pole-star', 'piercing', 'the', 'darkness', 'of', 'time:', 'you', 'become', 'an', 'image', 'of', 'what', 'is', 'remembered', 'forever', 'you', 'and', 'i', 'have', 'floated', 'here', 'on', 'the', 'stream', 'that', 'brings', 'from', 'the', 'fount', 'at', 'the', 'heart', 'of', 'time', 'love', 'of', 'one', 'for', 'another', 'we', 'have', 'played', 'along', 'side', 'millions', 'of', 'lovers', 'shared', 'in', 'the', 'same', 'shy', 'sweetness', 'of', 'meeting', 'the', 'same', 'distressful', 'tears', 'of', 'farewell-', 'old', 'love', 'but', 'in', 'shapes', 'that', 'renew', 'and', 'renew', 'forever', 'today', 'it', 'is', 'heaped', 'at', 'your', 'feet', 'it', 'has', 'found', 'its', 'end', 'in', 'you', 'the', 'love', 'of', 'all', 'man’s', 'days', 'both', 'past', 'and', 'forever:', 'universal', 'joy', 'universal', 'sorrow', 'universal', 'life', 'the', 'memories', 'of', 'all', 'loves', 'merging', 'with', 'this', 'one', 'love', 'of', 'ours', '–', 'and', 'the', 'songs', 'of', 'every', 'poet', 'past', 'and', 'forever']\n",
            "{'into', 'have', 'being', 'shared', 'age', 'loved', 'light', 'seem', 'past', 'every', 'renew', 'as', 'forever:', 'an', 'is', 'your', 'clad', 'poet', 'stare', 'distressful', 'heaped', 'age-old', 'hear', 'i', 'piercing', 'sweetness', 'feet', 'brings', 'this', 'today', 'ancient', 'found', 'millions', 'another', 'of', 'round', 'along', 'forever', 'forms', 'to', 'times…', 'together', 'universal', 'neck', 'the', 'from', 'at', 'a', 'that', 'take', 'its', 'heart', 'man’s', 'old', 'time:', 'both', 'loves', 'one', 'lovers', 'ours', 'on', 'many', 'remembered', 'shy', 'apart', 'spellbound', 'for', 'fount', 'days', 'made', 'here', 'songs', 'time', 'life', 'love', 'after', 'whenever', 'farewell-', 'has', 'side', 'necklace', 'pain', 'become', 'played', 'tears', 'end', 'gift', 'joy', 'emerge', 'numberless', 'all', 'remade', 'or', 'but', 'it', 'in', 'chronicles', 'wear', 'merging', 'tale', 'meeting', 'same', 'and', 'darkness', 'shapes', 'with', '–', 'we', 'my', 'you', 'image', 'stream', 'memories', 'sorrow', 'unending', 'pole-star', 'floated', 'what'}\n"
          ],
          "name": "stdout"
        }
      ]
    },
    {
      "cell_type": "code",
      "metadata": {
        "id": "l1DzD0x2hSBT",
        "colab_type": "code",
        "colab": {}
      },
      "source": [
        "def return_unique_word_struct(words):\n",
        "    unique_words= set(words)\n",
        "    unique_words_dict = {}\n",
        "    top_5 = {1:None,\n",
        "             2:None,\n",
        "             3:None,\n",
        "             4:None,\n",
        "             5:None}\n",
        "    for unq_word in unique_words:\n",
        "        count_curr_word = words.count(unq_word)\n",
        "        unique_words_dict[unq_word] = words.count(unq_word)\n",
        "        for iter in range(1,6):\n",
        "            if top_5[iter] == None or count_curr_word > top_5[iter][1]:\n",
        "                top_5[iter] = (unq_word,count_curr_word)\n",
        "                break\n",
        "    print(words)\n",
        "    print(unique_words)\n",
        "    print(unique_words_dict)\n",
        "    print(top_5)\n",
        "    return top_5, unique_words_dict"
      ],
      "execution_count": 2,
      "outputs": []
    },
    {
      "cell_type": "code",
      "metadata": {
        "id": "svn6Y665jusV",
        "colab_type": "code",
        "colab": {
          "base_uri": "https://localhost:8080/",
          "height": 165
        },
        "outputId": "0c1132f9-869e-4863-9366-6e170d924700"
      },
      "source": [
        "#Find Top Unique Words\n",
        "\n",
        "with open(\"poem.txt\", \"r\") as f1:\n",
        "    words = ((((f1.read()).replace(\".\",\" \")).replace(\",\",\"\")).lower()).split()\n",
        "    print(len(words))\n",
        "    top5, unq_words = return_unique_word_struct(words)\n",
        "    print(top5)\n",
        "    print(unq_words)\n",
        "    with open(\"out.txt\", \"w\") as f2:\n",
        "        for iter in range(5):\n",
        "            f2.write(top5[iter+1][0]+'\\n')"
      ],
      "execution_count": 3,
      "outputs": [
        {
          "output_type": "stream",
          "text": [
            "217\n",
            "['unending', 'love', 'i', 'seem', 'to', 'have', 'loved', 'you', 'in', 'numberless', 'forms', 'numberless', 'times…', 'in', 'life', 'after', 'life', 'in', 'age', 'after', 'age', 'forever', 'my', 'spellbound', 'heart', 'has', 'made', 'and', 'remade', 'the', 'necklace', 'of', 'songs', 'that', 'you', 'take', 'as', 'a', 'gift', 'wear', 'round', 'your', 'neck', 'in', 'your', 'many', 'forms', 'in', 'life', 'after', 'life', 'in', 'age', 'after', 'age', 'forever', 'whenever', 'i', 'hear', 'old', 'chronicles', 'of', 'love', 'its', 'age-old', 'pain', 'its', 'ancient', 'tale', 'of', 'being', 'apart', 'or', 'together', 'as', 'i', 'stare', 'on', 'and', 'on', 'into', 'the', 'past', 'in', 'the', 'end', 'you', 'emerge', 'clad', 'in', 'the', 'light', 'of', 'a', 'pole-star', 'piercing', 'the', 'darkness', 'of', 'time:', 'you', 'become', 'an', 'image', 'of', 'what', 'is', 'remembered', 'forever', 'you', 'and', 'i', 'have', 'floated', 'here', 'on', 'the', 'stream', 'that', 'brings', 'from', 'the', 'fount', 'at', 'the', 'heart', 'of', 'time', 'love', 'of', 'one', 'for', 'another', 'we', 'have', 'played', 'along', 'side', 'millions', 'of', 'lovers', 'shared', 'in', 'the', 'same', 'shy', 'sweetness', 'of', 'meeting', 'the', 'same', 'distressful', 'tears', 'of', 'farewell-', 'old', 'love', 'but', 'in', 'shapes', 'that', 'renew', 'and', 'renew', 'forever', 'today', 'it', 'is', 'heaped', 'at', 'your', 'feet', 'it', 'has', 'found', 'its', 'end', 'in', 'you', 'the', 'love', 'of', 'all', 'man’s', 'days', 'both', 'past', 'and', 'forever:', 'universal', 'joy', 'universal', 'sorrow', 'universal', 'life', 'the', 'memories', 'of', 'all', 'loves', 'merging', 'with', 'this', 'one', 'love', 'of', 'ours', '–', 'and', 'the', 'songs', 'of', 'every', 'poet', 'past', 'and', 'forever']\n",
            "{'into', 'have', 'being', 'shared', 'age', 'loved', 'light', 'seem', 'past', 'every', 'renew', 'as', 'forever:', 'an', 'is', 'your', 'clad', 'poet', 'stare', 'distressful', 'heaped', 'age-old', 'hear', 'i', 'piercing', 'sweetness', 'feet', 'brings', 'this', 'today', 'ancient', 'found', 'millions', 'another', 'of', 'round', 'along', 'forever', 'forms', 'to', 'times…', 'together', 'universal', 'neck', 'the', 'from', 'at', 'a', 'that', 'take', 'its', 'heart', 'man’s', 'old', 'time:', 'both', 'loves', 'one', 'lovers', 'ours', 'on', 'many', 'remembered', 'shy', 'apart', 'spellbound', 'for', 'fount', 'days', 'made', 'here', 'songs', 'time', 'life', 'love', 'after', 'whenever', 'farewell-', 'has', 'side', 'necklace', 'pain', 'become', 'played', 'tears', 'end', 'gift', 'joy', 'emerge', 'numberless', 'all', 'remade', 'or', 'but', 'it', 'in', 'chronicles', 'wear', 'merging', 'tale', 'meeting', 'same', 'and', 'darkness', 'shapes', 'with', '–', 'we', 'my', 'you', 'image', 'stream', 'memories', 'sorrow', 'unending', 'pole-star', 'floated', 'what'}\n",
            "{'into': 1, 'have': 3, 'being': 1, 'shared': 1, 'age': 4, 'loved': 1, 'light': 1, 'seem': 1, 'past': 3, 'every': 1, 'renew': 2, 'as': 2, 'forever:': 1, 'an': 1, 'is': 2, 'your': 3, 'clad': 1, 'poet': 1, 'stare': 1, 'distressful': 1, 'heaped': 1, 'age-old': 1, 'hear': 1, 'i': 4, 'piercing': 1, 'sweetness': 1, 'feet': 1, 'brings': 1, 'this': 1, 'today': 1, 'ancient': 1, 'found': 1, 'millions': 1, 'another': 1, 'of': 15, 'round': 1, 'along': 1, 'forever': 5, 'forms': 2, 'to': 1, 'times…': 1, 'together': 1, 'universal': 3, 'neck': 1, 'the': 13, 'from': 1, 'at': 2, 'a': 2, 'that': 3, 'take': 1, 'its': 3, 'heart': 2, 'man’s': 1, 'old': 2, 'time:': 1, 'both': 1, 'loves': 1, 'one': 2, 'lovers': 1, 'ours': 1, 'on': 3, 'many': 1, 'remembered': 1, 'shy': 1, 'apart': 1, 'spellbound': 1, 'for': 1, 'fount': 1, 'days': 1, 'made': 1, 'here': 1, 'songs': 2, 'time': 1, 'life': 5, 'love': 6, 'after': 4, 'whenever': 1, 'farewell-': 1, 'has': 2, 'side': 1, 'necklace': 1, 'pain': 1, 'become': 1, 'played': 1, 'tears': 1, 'end': 2, 'gift': 1, 'joy': 1, 'emerge': 1, 'numberless': 2, 'all': 2, 'remade': 1, 'or': 1, 'but': 1, 'it': 2, 'in': 11, 'chronicles': 1, 'wear': 1, 'merging': 1, 'tale': 1, 'meeting': 1, 'same': 2, 'and': 7, 'darkness': 1, 'shapes': 1, 'with': 1, '–': 1, 'we': 1, 'my': 1, 'you': 6, 'image': 1, 'stream': 1, 'memories': 1, 'sorrow': 1, 'unending': 1, 'pole-star': 1, 'floated': 1, 'what': 1}\n",
            "{1: ('of', 15), 2: ('the', 13), 3: ('in', 11), 4: ('and', 7), 5: ('you', 6)}\n",
            "{1: ('of', 15), 2: ('the', 13), 3: ('in', 11), 4: ('and', 7), 5: ('you', 6)}\n",
            "{'into': 1, 'have': 3, 'being': 1, 'shared': 1, 'age': 4, 'loved': 1, 'light': 1, 'seem': 1, 'past': 3, 'every': 1, 'renew': 2, 'as': 2, 'forever:': 1, 'an': 1, 'is': 2, 'your': 3, 'clad': 1, 'poet': 1, 'stare': 1, 'distressful': 1, 'heaped': 1, 'age-old': 1, 'hear': 1, 'i': 4, 'piercing': 1, 'sweetness': 1, 'feet': 1, 'brings': 1, 'this': 1, 'today': 1, 'ancient': 1, 'found': 1, 'millions': 1, 'another': 1, 'of': 15, 'round': 1, 'along': 1, 'forever': 5, 'forms': 2, 'to': 1, 'times…': 1, 'together': 1, 'universal': 3, 'neck': 1, 'the': 13, 'from': 1, 'at': 2, 'a': 2, 'that': 3, 'take': 1, 'its': 3, 'heart': 2, 'man’s': 1, 'old': 2, 'time:': 1, 'both': 1, 'loves': 1, 'one': 2, 'lovers': 1, 'ours': 1, 'on': 3, 'many': 1, 'remembered': 1, 'shy': 1, 'apart': 1, 'spellbound': 1, 'for': 1, 'fount': 1, 'days': 1, 'made': 1, 'here': 1, 'songs': 2, 'time': 1, 'life': 5, 'love': 6, 'after': 4, 'whenever': 1, 'farewell-': 1, 'has': 2, 'side': 1, 'necklace': 1, 'pain': 1, 'become': 1, 'played': 1, 'tears': 1, 'end': 2, 'gift': 1, 'joy': 1, 'emerge': 1, 'numberless': 2, 'all': 2, 'remade': 1, 'or': 1, 'but': 1, 'it': 2, 'in': 11, 'chronicles': 1, 'wear': 1, 'merging': 1, 'tale': 1, 'meeting': 1, 'same': 2, 'and': 7, 'darkness': 1, 'shapes': 1, 'with': 1, '–': 1, 'we': 1, 'my': 1, 'you': 6, 'image': 1, 'stream': 1, 'memories': 1, 'sorrow': 1, 'unending': 1, 'pole-star': 1, 'floated': 1, 'what': 1}\n"
          ],
          "name": "stdout"
        }
      ]
    },
    {
      "cell_type": "code",
      "metadata": {
        "id": "9RS5inPBA63M",
        "colab_type": "code",
        "colab": {
          "base_uri": "https://localhost:8080/",
          "height": 165
        },
        "outputId": "2363bd0e-7581-4343-996f-9945e00fc5da"
      },
      "source": [
        "#Find Top Bigram Words\n",
        "\n",
        "with open(\"poem.txt\", \"r\") as f1:\n",
        "    words = ((((f1.read()).replace(\".\",\" \")).replace(\",\",\"\")).lower()).split()\n",
        "    bigram_list = []\n",
        "    for iter in range(len(words)-1):\n",
        "        bigram_list.append(words[iter]+\" \"+words[iter+1])\n",
        "    print(bigram_list)\n",
        "    top5, unq_words = return_unique_word_struct(bigram_list)\n",
        "    print(top5)\n",
        "    print(unq_words)\n",
        "    with open(\"out_bigram.txt\", \"w\") as f2:\n",
        "        for iter in range(5):\n",
        "            f2.write(top5[iter+1][0]+'\\n')"
      ],
      "execution_count": 4,
      "outputs": [
        {
          "output_type": "stream",
          "text": [
            "['unending love', 'love i', 'i seem', 'seem to', 'to have', 'have loved', 'loved you', 'you in', 'in numberless', 'numberless forms', 'forms numberless', 'numberless times…', 'times… in', 'in life', 'life after', 'after life', 'life in', 'in age', 'age after', 'after age', 'age forever', 'forever my', 'my spellbound', 'spellbound heart', 'heart has', 'has made', 'made and', 'and remade', 'remade the', 'the necklace', 'necklace of', 'of songs', 'songs that', 'that you', 'you take', 'take as', 'as a', 'a gift', 'gift wear', 'wear round', 'round your', 'your neck', 'neck in', 'in your', 'your many', 'many forms', 'forms in', 'in life', 'life after', 'after life', 'life in', 'in age', 'age after', 'after age', 'age forever', 'forever whenever', 'whenever i', 'i hear', 'hear old', 'old chronicles', 'chronicles of', 'of love', 'love its', 'its age-old', 'age-old pain', 'pain its', 'its ancient', 'ancient tale', 'tale of', 'of being', 'being apart', 'apart or', 'or together', 'together as', 'as i', 'i stare', 'stare on', 'on and', 'and on', 'on into', 'into the', 'the past', 'past in', 'in the', 'the end', 'end you', 'you emerge', 'emerge clad', 'clad in', 'in the', 'the light', 'light of', 'of a', 'a pole-star', 'pole-star piercing', 'piercing the', 'the darkness', 'darkness of', 'of time:', 'time: you', 'you become', 'become an', 'an image', 'image of', 'of what', 'what is', 'is remembered', 'remembered forever', 'forever you', 'you and', 'and i', 'i have', 'have floated', 'floated here', 'here on', 'on the', 'the stream', 'stream that', 'that brings', 'brings from', 'from the', 'the fount', 'fount at', 'at the', 'the heart', 'heart of', 'of time', 'time love', 'love of', 'of one', 'one for', 'for another', 'another we', 'we have', 'have played', 'played along', 'along side', 'side millions', 'millions of', 'of lovers', 'lovers shared', 'shared in', 'in the', 'the same', 'same shy', 'shy sweetness', 'sweetness of', 'of meeting', 'meeting the', 'the same', 'same distressful', 'distressful tears', 'tears of', 'of farewell-', 'farewell- old', 'old love', 'love but', 'but in', 'in shapes', 'shapes that', 'that renew', 'renew and', 'and renew', 'renew forever', 'forever today', 'today it', 'it is', 'is heaped', 'heaped at', 'at your', 'your feet', 'feet it', 'it has', 'has found', 'found its', 'its end', 'end in', 'in you', 'you the', 'the love', 'love of', 'of all', 'all man’s', 'man’s days', 'days both', 'both past', 'past and', 'and forever:', 'forever: universal', 'universal joy', 'joy universal', 'universal sorrow', 'sorrow universal', 'universal life', 'life the', 'the memories', 'memories of', 'of all', 'all loves', 'loves merging', 'merging with', 'with this', 'this one', 'one love', 'love of', 'of ours', 'ours –', '– and', 'and the', 'the songs', 'songs of', 'of every', 'every poet', 'poet past', 'past and', 'and forever']\n",
            "['unending love', 'love i', 'i seem', 'seem to', 'to have', 'have loved', 'loved you', 'you in', 'in numberless', 'numberless forms', 'forms numberless', 'numberless times…', 'times… in', 'in life', 'life after', 'after life', 'life in', 'in age', 'age after', 'after age', 'age forever', 'forever my', 'my spellbound', 'spellbound heart', 'heart has', 'has made', 'made and', 'and remade', 'remade the', 'the necklace', 'necklace of', 'of songs', 'songs that', 'that you', 'you take', 'take as', 'as a', 'a gift', 'gift wear', 'wear round', 'round your', 'your neck', 'neck in', 'in your', 'your many', 'many forms', 'forms in', 'in life', 'life after', 'after life', 'life in', 'in age', 'age after', 'after age', 'age forever', 'forever whenever', 'whenever i', 'i hear', 'hear old', 'old chronicles', 'chronicles of', 'of love', 'love its', 'its age-old', 'age-old pain', 'pain its', 'its ancient', 'ancient tale', 'tale of', 'of being', 'being apart', 'apart or', 'or together', 'together as', 'as i', 'i stare', 'stare on', 'on and', 'and on', 'on into', 'into the', 'the past', 'past in', 'in the', 'the end', 'end you', 'you emerge', 'emerge clad', 'clad in', 'in the', 'the light', 'light of', 'of a', 'a pole-star', 'pole-star piercing', 'piercing the', 'the darkness', 'darkness of', 'of time:', 'time: you', 'you become', 'become an', 'an image', 'image of', 'of what', 'what is', 'is remembered', 'remembered forever', 'forever you', 'you and', 'and i', 'i have', 'have floated', 'floated here', 'here on', 'on the', 'the stream', 'stream that', 'that brings', 'brings from', 'from the', 'the fount', 'fount at', 'at the', 'the heart', 'heart of', 'of time', 'time love', 'love of', 'of one', 'one for', 'for another', 'another we', 'we have', 'have played', 'played along', 'along side', 'side millions', 'millions of', 'of lovers', 'lovers shared', 'shared in', 'in the', 'the same', 'same shy', 'shy sweetness', 'sweetness of', 'of meeting', 'meeting the', 'the same', 'same distressful', 'distressful tears', 'tears of', 'of farewell-', 'farewell- old', 'old love', 'love but', 'but in', 'in shapes', 'shapes that', 'that renew', 'renew and', 'and renew', 'renew forever', 'forever today', 'today it', 'it is', 'is heaped', 'heaped at', 'at your', 'your feet', 'feet it', 'it has', 'has found', 'found its', 'its end', 'end in', 'in you', 'you the', 'the love', 'love of', 'of all', 'all man’s', 'man’s days', 'days both', 'both past', 'past and', 'and forever:', 'forever: universal', 'universal joy', 'joy universal', 'universal sorrow', 'sorrow universal', 'universal life', 'life the', 'the memories', 'memories of', 'of all', 'all loves', 'loves merging', 'merging with', 'with this', 'this one', 'one love', 'love of', 'of ours', 'ours –', '– and', 'and the', 'the songs', 'songs of', 'of every', 'every poet', 'poet past', 'past and', 'and forever']\n",
            "{'with this', 'of time:', 'have floated', 'another we', 'a pole-star', 'its age-old', 'forever: universal', 'you take', 'on the', 'farewell- old', 'heart has', 'millions of', 'loves merging', 'heart of', 'at the', 'your many', 'together as', 'universal sorrow', 'same distressful', 'of what', 'played along', 'pain its', 'sorrow universal', 'merging with', 'numberless forms', 'it has', 'the heart', 'loved you', 'end in', 'spellbound heart', 'what is', 'of lovers', 'gift wear', 'of farewell-', 'of all', 'and forever', 'piercing the', 'your neck', 'universal joy', 'tears of', 'as i', 'as a', 'necklace of', 'today it', 'i hear', 'poet past', 'you in', 'is heaped', 'the darkness', 'pole-star piercing', 'has made', 'ours –', 'that renew', 'of being', 'the memories', 'stream that', 'remade the', 'on and', 'round your', 'of love', 'and on', 'old chronicles', 'is remembered', 'age-old pain', 'unending love', 'in you', 'your feet', '– and', 'forms numberless', 'you become', 'time: you', 'this one', 'love i', 'shared in', 'distressful tears', 'stare on', 'brings from', 'made and', 'renew and', 'image of', 'old love', 'shapes that', 'of one', 'its ancient', 'one love', 'same shy', 'along side', 'universal life', 'and the', 'an image', 'shy sweetness', 'and renew', 'all loves', 'clad in', 'past and', 'in numberless', 'life after', 'i have', 'a gift', 'many forms', 'and remade', 'tale of', 'both past', 'of songs', 'has found', 'in shapes', 'take as', 'the light', 'you and', 'i stare', 'on into', 'past in', 'of meeting', 'remembered forever', 'neck in', 'the past', 'the fount', 'love but', 'that brings', 'being apart', 'have loved', 'the necklace', 'age after', 'to have', 'man’s days', 'of every', 'time love', 'forever you', 'light of', 'life the', 'or together', 'that you', 'forever whenever', 'hear old', 'of time', 'in the', 'days both', 'age forever', 'after age', 'forever my', 'heaped at', 'at your', 'its end', 'end you', 'darkness of', 'fount at', 'found its', 'floated here', 'we have', 'here on', 'i seem', 'numberless times…', 'ancient tale', 'you the', 'of a', 'forever today', 'love of', 'wear round', 'songs of', 'in life', 'the same', 'memories of', 'and forever:', 'seem to', 'in your', 'you emerge', 'emerge clad', 'love its', 'into the', 'side millions', 'become an', 'from the', 'songs that', 'feet it', 'and i', 'in age', 'the end', 'my spellbound', 'lovers shared', 'forms in', 'after life', 'but in', 'sweetness of', 'of ours', 'the songs', 'the stream', 'for another', 'have played', 'joy universal', 'one for', 'all man’s', 'life in', 'it is', 'times… in', 'chronicles of', 'renew forever', 'whenever i', 'meeting the', 'the love', 'apart or', 'every poet'}\n",
            "{'with this': 1, 'of time:': 1, 'have floated': 1, 'another we': 1, 'a pole-star': 1, 'its age-old': 1, 'forever: universal': 1, 'you take': 1, 'on the': 1, 'farewell- old': 1, 'heart has': 1, 'millions of': 1, 'loves merging': 1, 'heart of': 1, 'at the': 1, 'your many': 1, 'together as': 1, 'universal sorrow': 1, 'same distressful': 1, 'of what': 1, 'played along': 1, 'pain its': 1, 'sorrow universal': 1, 'merging with': 1, 'numberless forms': 1, 'it has': 1, 'the heart': 1, 'loved you': 1, 'end in': 1, 'spellbound heart': 1, 'what is': 1, 'of lovers': 1, 'gift wear': 1, 'of farewell-': 1, 'of all': 2, 'and forever': 1, 'piercing the': 1, 'your neck': 1, 'universal joy': 1, 'tears of': 1, 'as i': 1, 'as a': 1, 'necklace of': 1, 'today it': 1, 'i hear': 1, 'poet past': 1, 'you in': 1, 'is heaped': 1, 'the darkness': 1, 'pole-star piercing': 1, 'has made': 1, 'ours –': 1, 'that renew': 1, 'of being': 1, 'the memories': 1, 'stream that': 1, 'remade the': 1, 'on and': 1, 'round your': 1, 'of love': 1, 'and on': 1, 'old chronicles': 1, 'is remembered': 1, 'age-old pain': 1, 'unending love': 1, 'in you': 1, 'your feet': 1, '– and': 1, 'forms numberless': 1, 'you become': 1, 'time: you': 1, 'this one': 1, 'love i': 1, 'shared in': 1, 'distressful tears': 1, 'stare on': 1, 'brings from': 1, 'made and': 1, 'renew and': 1, 'image of': 1, 'old love': 1, 'shapes that': 1, 'of one': 1, 'its ancient': 1, 'one love': 1, 'same shy': 1, 'along side': 1, 'universal life': 1, 'and the': 1, 'an image': 1, 'shy sweetness': 1, 'and renew': 1, 'all loves': 1, 'clad in': 1, 'past and': 2, 'in numberless': 1, 'life after': 2, 'i have': 1, 'a gift': 1, 'many forms': 1, 'and remade': 1, 'tale of': 1, 'both past': 1, 'of songs': 1, 'has found': 1, 'in shapes': 1, 'take as': 1, 'the light': 1, 'you and': 1, 'i stare': 1, 'on into': 1, 'past in': 1, 'of meeting': 1, 'remembered forever': 1, 'neck in': 1, 'the past': 1, 'the fount': 1, 'love but': 1, 'that brings': 1, 'being apart': 1, 'have loved': 1, 'the necklace': 1, 'age after': 2, 'to have': 1, 'man’s days': 1, 'of every': 1, 'time love': 1, 'forever you': 1, 'light of': 1, 'life the': 1, 'or together': 1, 'that you': 1, 'forever whenever': 1, 'hear old': 1, 'of time': 1, 'in the': 3, 'days both': 1, 'age forever': 2, 'after age': 2, 'forever my': 1, 'heaped at': 1, 'at your': 1, 'its end': 1, 'end you': 1, 'darkness of': 1, 'fount at': 1, 'found its': 1, 'floated here': 1, 'we have': 1, 'here on': 1, 'i seem': 1, 'numberless times…': 1, 'ancient tale': 1, 'you the': 1, 'of a': 1, 'forever today': 1, 'love of': 3, 'wear round': 1, 'songs of': 1, 'in life': 2, 'the same': 2, 'memories of': 1, 'and forever:': 1, 'seem to': 1, 'in your': 1, 'you emerge': 1, 'emerge clad': 1, 'love its': 1, 'into the': 1, 'side millions': 1, 'become an': 1, 'from the': 1, 'songs that': 1, 'feet it': 1, 'and i': 1, 'in age': 2, 'the end': 1, 'my spellbound': 1, 'lovers shared': 1, 'forms in': 1, 'after life': 2, 'but in': 1, 'sweetness of': 1, 'of ours': 1, 'the songs': 1, 'the stream': 1, 'for another': 1, 'have played': 1, 'joy universal': 1, 'one for': 1, 'all man’s': 1, 'life in': 2, 'it is': 1, 'times… in': 1, 'chronicles of': 1, 'renew forever': 1, 'whenever i': 1, 'meeting the': 1, 'the love': 1, 'apart or': 1, 'every poet': 1}\n",
            "{1: ('in the', 3), 2: ('love of', 3), 3: ('life after', 2), 4: ('age after', 2), 5: ('age forever', 2)}\n",
            "{1: ('in the', 3), 2: ('love of', 3), 3: ('life after', 2), 4: ('age after', 2), 5: ('age forever', 2)}\n",
            "{'with this': 1, 'of time:': 1, 'have floated': 1, 'another we': 1, 'a pole-star': 1, 'its age-old': 1, 'forever: universal': 1, 'you take': 1, 'on the': 1, 'farewell- old': 1, 'heart has': 1, 'millions of': 1, 'loves merging': 1, 'heart of': 1, 'at the': 1, 'your many': 1, 'together as': 1, 'universal sorrow': 1, 'same distressful': 1, 'of what': 1, 'played along': 1, 'pain its': 1, 'sorrow universal': 1, 'merging with': 1, 'numberless forms': 1, 'it has': 1, 'the heart': 1, 'loved you': 1, 'end in': 1, 'spellbound heart': 1, 'what is': 1, 'of lovers': 1, 'gift wear': 1, 'of farewell-': 1, 'of all': 2, 'and forever': 1, 'piercing the': 1, 'your neck': 1, 'universal joy': 1, 'tears of': 1, 'as i': 1, 'as a': 1, 'necklace of': 1, 'today it': 1, 'i hear': 1, 'poet past': 1, 'you in': 1, 'is heaped': 1, 'the darkness': 1, 'pole-star piercing': 1, 'has made': 1, 'ours –': 1, 'that renew': 1, 'of being': 1, 'the memories': 1, 'stream that': 1, 'remade the': 1, 'on and': 1, 'round your': 1, 'of love': 1, 'and on': 1, 'old chronicles': 1, 'is remembered': 1, 'age-old pain': 1, 'unending love': 1, 'in you': 1, 'your feet': 1, '– and': 1, 'forms numberless': 1, 'you become': 1, 'time: you': 1, 'this one': 1, 'love i': 1, 'shared in': 1, 'distressful tears': 1, 'stare on': 1, 'brings from': 1, 'made and': 1, 'renew and': 1, 'image of': 1, 'old love': 1, 'shapes that': 1, 'of one': 1, 'its ancient': 1, 'one love': 1, 'same shy': 1, 'along side': 1, 'universal life': 1, 'and the': 1, 'an image': 1, 'shy sweetness': 1, 'and renew': 1, 'all loves': 1, 'clad in': 1, 'past and': 2, 'in numberless': 1, 'life after': 2, 'i have': 1, 'a gift': 1, 'many forms': 1, 'and remade': 1, 'tale of': 1, 'both past': 1, 'of songs': 1, 'has found': 1, 'in shapes': 1, 'take as': 1, 'the light': 1, 'you and': 1, 'i stare': 1, 'on into': 1, 'past in': 1, 'of meeting': 1, 'remembered forever': 1, 'neck in': 1, 'the past': 1, 'the fount': 1, 'love but': 1, 'that brings': 1, 'being apart': 1, 'have loved': 1, 'the necklace': 1, 'age after': 2, 'to have': 1, 'man’s days': 1, 'of every': 1, 'time love': 1, 'forever you': 1, 'light of': 1, 'life the': 1, 'or together': 1, 'that you': 1, 'forever whenever': 1, 'hear old': 1, 'of time': 1, 'in the': 3, 'days both': 1, 'age forever': 2, 'after age': 2, 'forever my': 1, 'heaped at': 1, 'at your': 1, 'its end': 1, 'end you': 1, 'darkness of': 1, 'fount at': 1, 'found its': 1, 'floated here': 1, 'we have': 1, 'here on': 1, 'i seem': 1, 'numberless times…': 1, 'ancient tale': 1, 'you the': 1, 'of a': 1, 'forever today': 1, 'love of': 3, 'wear round': 1, 'songs of': 1, 'in life': 2, 'the same': 2, 'memories of': 1, 'and forever:': 1, 'seem to': 1, 'in your': 1, 'you emerge': 1, 'emerge clad': 1, 'love its': 1, 'into the': 1, 'side millions': 1, 'become an': 1, 'from the': 1, 'songs that': 1, 'feet it': 1, 'and i': 1, 'in age': 2, 'the end': 1, 'my spellbound': 1, 'lovers shared': 1, 'forms in': 1, 'after life': 2, 'but in': 1, 'sweetness of': 1, 'of ours': 1, 'the songs': 1, 'the stream': 1, 'for another': 1, 'have played': 1, 'joy universal': 1, 'one for': 1, 'all man’s': 1, 'life in': 2, 'it is': 1, 'times… in': 1, 'chronicles of': 1, 'renew forever': 1, 'whenever i': 1, 'meeting the': 1, 'the love': 1, 'apart or': 1, 'every poet': 1}\n"
          ],
          "name": "stdout"
        }
      ]
    }
  ]
}