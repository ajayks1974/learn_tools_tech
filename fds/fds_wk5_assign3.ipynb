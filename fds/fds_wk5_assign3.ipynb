{
  "nbformat": 4,
  "nbformat_minor": 0,
  "metadata": {
    "colab": {
      "name": "fds_wk5_assign3.ipynb",
      "provenance": [],
      "authorship_tag": "ABX9TyNvm8q7jzm3M++bol8DGfI2",
      "include_colab_link": true
    },
    "kernelspec": {
      "name": "python3",
      "display_name": "Python 3"
    }
  },
  "cells": [
    {
      "cell_type": "markdown",
      "metadata": {
        "id": "view-in-github",
        "colab_type": "text"
      },
      "source": [
        "<a href=\"https://colab.research.google.com/github/ajayks1974/learning/blob/master/fds/fds_wk5_assign3.ipynb\" target=\"_parent\"><img src=\"https://colab.research.google.com/assets/colab-badge.svg\" alt=\"Open In Colab\"/></a>"
      ]
    },
    {
      "cell_type": "code",
      "metadata": {
        "id": "VQFHv-jAfhG9",
        "colab_type": "code",
        "colab": {
          "base_uri": "https://localhost:8080/",
          "height": 55
        },
        "outputId": "d4fff5ad-3654-4638-afd7-0fa781b9258c"
      },
      "source": [
        "with open(\"poem.txt\", \"r\") as f:\n",
        "    words = ((((f.read()).replace(\".\",\" \")).replace(\",\",\"\")).lower()).split()\n",
        "    print(words)"
      ],
      "execution_count": 5,
      "outputs": [
        {
          "output_type": "stream",
          "text": [
            "['unending', 'love', 'i', 'seem', 'to', 'have', 'loved', 'you', 'in', 'numberless', 'forms', 'numberless', 'times…', 'in', 'life', 'after', 'life', 'in', 'age', 'after', 'age', 'forever', 'my', 'spellbound', 'heart', 'has', 'made', 'and', 'remade', 'the', 'necklace', 'of', 'songs', 'that', 'you', 'take', 'as', 'a', 'gift', 'wear', 'round', 'your', 'neck', 'in', 'your', 'many', 'forms', 'in', 'life', 'after', 'life', 'in', 'age', 'after', 'age', 'forever', 'whenever', 'i', 'hear', 'old', 'chronicles', 'of', 'love', 'its', 'age-old', 'pain', 'its', 'ancient', 'tale', 'of', 'being', 'apart', 'or', 'together', 'as', 'i', 'stare', 'on', 'and', 'on', 'into', 'the', 'past', 'in', 'the', 'end', 'you', 'emerge', 'clad', 'in', 'the', 'light', 'of', 'a', 'pole-star', 'piercing', 'the', 'darkness', 'of', 'time:', 'you', 'become', 'an', 'image', 'of', 'what', 'is', 'remembered', 'forever', 'you', 'and', 'i', 'have', 'floated', 'here', 'on', 'the', 'stream', 'that', 'brings', 'from', 'the', 'fount', 'at', 'the', 'heart', 'of', 'time', 'love', 'of', 'one', 'for', 'another', 'we', 'have', 'played', 'along', 'side', 'millions', 'of', 'lovers', 'shared', 'in', 'the', 'same', 'shy', 'sweetness', 'of', 'meeting', 'the', 'same', 'distressful', 'tears', 'of', 'farewell-', 'old', 'love', 'but', 'in', 'shapes', 'that', 'renew', 'and', 'renew', 'forever', 'today', 'it', 'is', 'heaped', 'at', 'your', 'feet', 'it', 'has', 'found', 'its', 'end', 'in', 'you', 'the', 'love', 'of', 'all', 'man’s', 'days', 'both', 'past', 'and', 'forever:', 'universal', 'joy', 'universal', 'sorrow', 'universal', 'life', 'the', 'memories', 'of', 'all', 'loves', 'merging', 'with', 'this', 'one', 'love', 'of', 'ours', '–', 'and', 'the', 'songs', 'of', 'every', 'poet', 'past', 'and', 'forever']\n"
          ],
          "name": "stdout"
        }
      ]
    },
    {
      "cell_type": "code",
      "metadata": {
        "id": "l1DzD0x2hSBT",
        "colab_type": "code",
        "colab": {
          "base_uri": "https://localhost:8080/",
          "height": 35
        },
        "outputId": "d0752f0b-26da-4a0d-e0b2-f8a510f1f64a"
      },
      "source": [
        ""
      ],
      "execution_count": 8,
      "outputs": [
        {
          "output_type": "stream",
          "text": [
            "Eq:\n"
          ],
          "name": "stdout"
        }
      ]
    },
    {
      "cell_type": "code",
      "metadata": {
        "id": "svn6Y665jusV",
        "colab_type": "code",
        "colab": {}
      },
      "source": [
        ""
      ],
      "execution_count": null,
      "outputs": []
    }
  ]
}