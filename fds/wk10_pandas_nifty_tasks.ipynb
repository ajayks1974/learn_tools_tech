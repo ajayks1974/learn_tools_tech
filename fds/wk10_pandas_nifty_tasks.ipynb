{
  "nbformat": 4,
  "nbformat_minor": 0,
  "metadata": {
    "colab": {
      "name": "wk10_pandas_nifty_tasks.ipynb",
      "provenance": [],
      "authorship_tag": "ABX9TyPemOIRRS4Qt35H66OYBKYu",
      "include_colab_link": true
    },
    "kernelspec": {
      "name": "python3",
      "display_name": "Python 3"
    }
  },
  "cells": [
    {
      "cell_type": "markdown",
      "metadata": {
        "id": "view-in-github",
        "colab_type": "text"
      },
      "source": [
        "<a href=\"https://colab.research.google.com/github/ajayks1974/learning/blob/master/fds/wk10_pandas_nifty_tasks.ipynb\" target=\"_parent\"><img src=\"https://colab.research.google.com/assets/colab-badge.svg\" alt=\"Open In Colab\"/></a>"
      ]
    },
    {
      "cell_type": "code",
      "metadata": {
        "id": "hA0Vj9_ebAoE",
        "colab_type": "code",
        "colab": {}
      },
      "source": [
        "import numpy as np\n",
        "import pandas as pd"
      ],
      "execution_count": 2,
      "outputs": []
    },
    {
      "cell_type": "code",
      "metadata": {
        "id": "5zr4-vAPbWul",
        "colab_type": "code",
        "colab": {}
      },
      "source": [
        "nifty50_2019 = pd.read_csv('NIFTY50_Data_2019.csv')"
      ],
      "execution_count": 3,
      "outputs": []
    },
    {
      "cell_type": "code",
      "metadata": {
        "id": "XzPSxysdb_me",
        "colab_type": "code",
        "colab": {}
      },
      "source": [
        "nifty50_2019 = pd.read_csv('NIFTY50_Data_2019.csv', index_col = 0)"
      ],
      "execution_count": 5,
      "outputs": []
    },
    {
      "cell_type": "code",
      "metadata": {
        "id": "2qgSUhlXcRzu",
        "colab_type": "code",
        "colab": {
          "base_uri": "https://localhost:8080/",
          "height": 235
        },
        "outputId": "ce84b640-246a-4ce8-af1c-30d43142d15a"
      },
      "source": [
        "nifty50_2019.head()"
      ],
      "execution_count": 6,
      "outputs": [
        {
          "output_type": "execute_result",
          "data": {
            "text/html": [
              "<div>\n",
              "<style scoped>\n",
              "    .dataframe tbody tr th:only-of-type {\n",
              "        vertical-align: middle;\n",
              "    }\n",
              "\n",
              "    .dataframe tbody tr th {\n",
              "        vertical-align: top;\n",
              "    }\n",
              "\n",
              "    .dataframe thead th {\n",
              "        text-align: right;\n",
              "    }\n",
              "</style>\n",
              "<table border=\"1\" class=\"dataframe\">\n",
              "  <thead>\n",
              "    <tr style=\"text-align: right;\">\n",
              "      <th></th>\n",
              "      <th>Open</th>\n",
              "      <th>High</th>\n",
              "      <th>Low</th>\n",
              "      <th>Close</th>\n",
              "    </tr>\n",
              "    <tr>\n",
              "      <th>Date</th>\n",
              "      <th></th>\n",
              "      <th></th>\n",
              "      <th></th>\n",
              "      <th></th>\n",
              "    </tr>\n",
              "  </thead>\n",
              "  <tbody>\n",
              "    <tr>\n",
              "      <th>31 Dec 2019</th>\n",
              "      <td>12247.10</td>\n",
              "      <td>12247.10</td>\n",
              "      <td>12151.80</td>\n",
              "      <td>12168.45</td>\n",
              "    </tr>\n",
              "    <tr>\n",
              "      <th>30 Dec 2019</th>\n",
              "      <td>12274.90</td>\n",
              "      <td>12286.45</td>\n",
              "      <td>12213.80</td>\n",
              "      <td>12255.85</td>\n",
              "    </tr>\n",
              "    <tr>\n",
              "      <th>27 Dec 2019</th>\n",
              "      <td>12172.90</td>\n",
              "      <td>12258.45</td>\n",
              "      <td>12157.90</td>\n",
              "      <td>12245.80</td>\n",
              "    </tr>\n",
              "    <tr>\n",
              "      <th>26 Dec 2019</th>\n",
              "      <td>12211.85</td>\n",
              "      <td>12221.55</td>\n",
              "      <td>12118.85</td>\n",
              "      <td>12126.55</td>\n",
              "    </tr>\n",
              "    <tr>\n",
              "      <th>24 Dec 2019</th>\n",
              "      <td>12269.25</td>\n",
              "      <td>12283.70</td>\n",
              "      <td>12202.10</td>\n",
              "      <td>12214.55</td>\n",
              "    </tr>\n",
              "  </tbody>\n",
              "</table>\n",
              "</div>"
            ],
            "text/plain": [
              "                 Open      High       Low     Close\n",
              "Date                                               \n",
              "31 Dec 2019  12247.10  12247.10  12151.80  12168.45\n",
              "30 Dec 2019  12274.90  12286.45  12213.80  12255.85\n",
              "27 Dec 2019  12172.90  12258.45  12157.90  12245.80\n",
              "26 Dec 2019  12211.85  12221.55  12118.85  12126.55\n",
              "24 Dec 2019  12269.25  12283.70  12202.10  12214.55"
            ]
          },
          "metadata": {
            "tags": []
          },
          "execution_count": 6
        }
      ]
    },
    {
      "cell_type": "code",
      "metadata": {
        "id": "EqvxEj1mcajD",
        "colab_type": "code",
        "colab": {
          "base_uri": "https://localhost:8080/",
          "height": 34
        },
        "outputId": "d75f4c16-0d0e-4fc1-9b33-ce7f6ce9c6ee"
      },
      "source": [
        "nifty50_2019.High['31 Dec 2019']\n"
      ],
      "execution_count": 10,
      "outputs": [
        {
          "output_type": "execute_result",
          "data": {
            "text/plain": [
              "12247.1"
            ]
          },
          "metadata": {
            "tags": []
          },
          "execution_count": 10
        }
      ]
    },
    {
      "cell_type": "code",
      "metadata": {
        "id": "m1IolNtgcmVc",
        "colab_type": "code",
        "colab": {}
      },
      "source": [
        "nifty50_2018 = pd.read_csv('NIFTY50_Data_2018.csv', index_col = 0)"
      ],
      "execution_count": 11,
      "outputs": []
    },
    {
      "cell_type": "code",
      "metadata": {
        "id": "yQ5QmluEd5pa",
        "colab_type": "code",
        "colab": {
          "base_uri": "https://localhost:8080/",
          "height": 34
        },
        "outputId": "77f80e39-8e36-4e0d-d440-25a2787ec7a5"
      },
      "source": [
        "nifty50_2019.shape"
      ],
      "execution_count": 15,
      "outputs": [
        {
          "output_type": "execute_result",
          "data": {
            "text/plain": [
              "(245, 4)"
            ]
          },
          "metadata": {
            "tags": []
          },
          "execution_count": 15
        }
      ]
    },
    {
      "cell_type": "code",
      "metadata": {
        "id": "qH4zjcLudatK",
        "colab_type": "code",
        "colab": {}
      },
      "source": [
        "nifty_50_18_19 = pd.concat([nifty50_2018 , nifty50_2019])"
      ],
      "execution_count": 17,
      "outputs": []
    },
    {
      "cell_type": "code",
      "metadata": {
        "id": "nT7yoVWZdiEk",
        "colab_type": "code",
        "colab": {
          "base_uri": "https://localhost:8080/",
          "height": 34
        },
        "outputId": "9342757d-c015-4223-cabc-eea230e9f20d"
      },
      "source": [
        "nifty_50_18_19.shape"
      ],
      "execution_count": 19,
      "outputs": [
        {
          "output_type": "execute_result",
          "data": {
            "text/plain": [
              "(491, 4)"
            ]
          },
          "metadata": {
            "tags": []
          },
          "execution_count": 19
        }
      ]
    },
    {
      "cell_type": "code",
      "metadata": {
        "id": "h0qiSGLAeKqa",
        "colab_type": "code",
        "colab": {}
      },
      "source": [
        "nifty_next_50_19 = pd.read_csv('NIFTYNext 50 _Data_2019.csv', index_col = 0)"
      ],
      "execution_count": 21,
      "outputs": []
    },
    {
      "cell_type": "code",
      "metadata": {
        "id": "sMDRzAmSex47",
        "colab_type": "code",
        "colab": {}
      },
      "source": [
        "nifty_50_next_50_19 = pd.concat([nifty50_2019 , nifty_next_50_19], axis = 1)"
      ],
      "execution_count": 22,
      "outputs": []
    },
    {
      "cell_type": "code",
      "metadata": {
        "id": "Z_4gUqchfZF6",
        "colab_type": "code",
        "colab": {
          "base_uri": "https://localhost:8080/",
          "height": 34
        },
        "outputId": "c4f0c896-a885-4af0-f8d2-114de6fda738"
      },
      "source": [
        "nifty_50_next_50_19.shape"
      ],
      "execution_count": 23,
      "outputs": [
        {
          "output_type": "execute_result",
          "data": {
            "text/plain": [
              "(245, 8)"
            ]
          },
          "metadata": {
            "tags": []
          },
          "execution_count": 23
        }
      ]
    },
    {
      "cell_type": "code",
      "metadata": {
        "id": "6xUcKNcCfam-",
        "colab_type": "code",
        "colab": {
          "base_uri": "https://localhost:8080/",
          "height": 235
        },
        "outputId": "6de59fd6-15ba-472e-b82e-1da1d6ed3fbf"
      },
      "source": [
        "nifty_50_next_50_19.head()"
      ],
      "execution_count": 24,
      "outputs": [
        {
          "output_type": "execute_result",
          "data": {
            "text/html": [
              "<div>\n",
              "<style scoped>\n",
              "    .dataframe tbody tr th:only-of-type {\n",
              "        vertical-align: middle;\n",
              "    }\n",
              "\n",
              "    .dataframe tbody tr th {\n",
              "        vertical-align: top;\n",
              "    }\n",
              "\n",
              "    .dataframe thead th {\n",
              "        text-align: right;\n",
              "    }\n",
              "</style>\n",
              "<table border=\"1\" class=\"dataframe\">\n",
              "  <thead>\n",
              "    <tr style=\"text-align: right;\">\n",
              "      <th></th>\n",
              "      <th>Open</th>\n",
              "      <th>High</th>\n",
              "      <th>Low</th>\n",
              "      <th>Close</th>\n",
              "      <th>Open</th>\n",
              "      <th>High</th>\n",
              "      <th>Low</th>\n",
              "      <th>Close</th>\n",
              "    </tr>\n",
              "    <tr>\n",
              "      <th>Date</th>\n",
              "      <th></th>\n",
              "      <th></th>\n",
              "      <th></th>\n",
              "      <th></th>\n",
              "      <th></th>\n",
              "      <th></th>\n",
              "      <th></th>\n",
              "      <th></th>\n",
              "    </tr>\n",
              "  </thead>\n",
              "  <tbody>\n",
              "    <tr>\n",
              "      <th>31 Dec 2019</th>\n",
              "      <td>12247.10</td>\n",
              "      <td>12247.10</td>\n",
              "      <td>12151.80</td>\n",
              "      <td>12168.45</td>\n",
              "      <td>28495.00</td>\n",
              "      <td>28549.50</td>\n",
              "      <td>28270.25</td>\n",
              "      <td>28307.55</td>\n",
              "    </tr>\n",
              "    <tr>\n",
              "      <th>30 Dec 2019</th>\n",
              "      <td>12274.90</td>\n",
              "      <td>12286.45</td>\n",
              "      <td>12213.80</td>\n",
              "      <td>12255.85</td>\n",
              "      <td>28528.95</td>\n",
              "      <td>28612.95</td>\n",
              "      <td>28406.70</td>\n",
              "      <td>28484.85</td>\n",
              "    </tr>\n",
              "    <tr>\n",
              "      <th>27 Dec 2019</th>\n",
              "      <td>12172.90</td>\n",
              "      <td>12258.45</td>\n",
              "      <td>12157.90</td>\n",
              "      <td>12245.80</td>\n",
              "      <td>28354.50</td>\n",
              "      <td>28500.25</td>\n",
              "      <td>28319.90</td>\n",
              "      <td>28476.80</td>\n",
              "    </tr>\n",
              "    <tr>\n",
              "      <th>26 Dec 2019</th>\n",
              "      <td>12211.85</td>\n",
              "      <td>12221.55</td>\n",
              "      <td>12118.85</td>\n",
              "      <td>12126.55</td>\n",
              "      <td>28409.10</td>\n",
              "      <td>28435.25</td>\n",
              "      <td>28259.75</td>\n",
              "      <td>28280.25</td>\n",
              "    </tr>\n",
              "    <tr>\n",
              "      <th>24 Dec 2019</th>\n",
              "      <td>12269.25</td>\n",
              "      <td>12283.70</td>\n",
              "      <td>12202.10</td>\n",
              "      <td>12214.55</td>\n",
              "      <td>28423.70</td>\n",
              "      <td>28430.40</td>\n",
              "      <td>28318.75</td>\n",
              "      <td>28382.85</td>\n",
              "    </tr>\n",
              "  </tbody>\n",
              "</table>\n",
              "</div>"
            ],
            "text/plain": [
              "                 Open      High       Low  ...      High       Low     Close\n",
              "Date                                       ...                              \n",
              "31 Dec 2019  12247.10  12247.10  12151.80  ...  28549.50  28270.25  28307.55\n",
              "30 Dec 2019  12274.90  12286.45  12213.80  ...  28612.95  28406.70  28484.85\n",
              "27 Dec 2019  12172.90  12258.45  12157.90  ...  28500.25  28319.90  28476.80\n",
              "26 Dec 2019  12211.85  12221.55  12118.85  ...  28435.25  28259.75  28280.25\n",
              "24 Dec 2019  12269.25  12283.70  12202.10  ...  28430.40  28318.75  28382.85\n",
              "\n",
              "[5 rows x 8 columns]"
            ]
          },
          "metadata": {
            "tags": []
          },
          "execution_count": 24
        }
      ]
    },
    {
      "cell_type": "code",
      "metadata": {
        "id": "pBNaB9bGfcGk",
        "colab_type": "code",
        "colab": {}
      },
      "source": [
        "nifty_50_next_50_19 = pd.concat([nifty50_2019 , nifty_next_50_19], axis = 1,\n",
        "                                keys=['nifty50', 'nifty_next_50'])"
      ],
      "execution_count": 27,
      "outputs": []
    },
    {
      "cell_type": "code",
      "metadata": {
        "id": "RwBliOeGgE8s",
        "colab_type": "code",
        "colab": {
          "base_uri": "https://localhost:8080/",
          "height": 34
        },
        "outputId": "0135deeb-098c-46b2-ae8b-f93545f8ee27"
      },
      "source": [
        "nifty_50_next_50_19.shape"
      ],
      "execution_count": 29,
      "outputs": [
        {
          "output_type": "execute_result",
          "data": {
            "text/plain": [
              "(245, 8)"
            ]
          },
          "metadata": {
            "tags": []
          },
          "execution_count": 29
        }
      ]
    },
    {
      "cell_type": "code",
      "metadata": {
        "id": "hxhOLO0GgOLI",
        "colab_type": "code",
        "colab": {
          "base_uri": "https://localhost:8080/",
          "height": 266
        },
        "outputId": "6d68b9cd-8aa4-4f44-d4ce-748265a19e01"
      },
      "source": [
        "nifty_50_next_50_19.head()"
      ],
      "execution_count": 30,
      "outputs": [
        {
          "output_type": "execute_result",
          "data": {
            "text/html": [
              "<div>\n",
              "<style scoped>\n",
              "    .dataframe tbody tr th:only-of-type {\n",
              "        vertical-align: middle;\n",
              "    }\n",
              "\n",
              "    .dataframe tbody tr th {\n",
              "        vertical-align: top;\n",
              "    }\n",
              "\n",
              "    .dataframe thead tr th {\n",
              "        text-align: left;\n",
              "    }\n",
              "\n",
              "    .dataframe thead tr:last-of-type th {\n",
              "        text-align: right;\n",
              "    }\n",
              "</style>\n",
              "<table border=\"1\" class=\"dataframe\">\n",
              "  <thead>\n",
              "    <tr>\n",
              "      <th></th>\n",
              "      <th colspan=\"4\" halign=\"left\">nifty50</th>\n",
              "      <th colspan=\"4\" halign=\"left\">nifty_next_50</th>\n",
              "    </tr>\n",
              "    <tr>\n",
              "      <th></th>\n",
              "      <th>Open</th>\n",
              "      <th>High</th>\n",
              "      <th>Low</th>\n",
              "      <th>Close</th>\n",
              "      <th>Open</th>\n",
              "      <th>High</th>\n",
              "      <th>Low</th>\n",
              "      <th>Close</th>\n",
              "    </tr>\n",
              "    <tr>\n",
              "      <th>Date</th>\n",
              "      <th></th>\n",
              "      <th></th>\n",
              "      <th></th>\n",
              "      <th></th>\n",
              "      <th></th>\n",
              "      <th></th>\n",
              "      <th></th>\n",
              "      <th></th>\n",
              "    </tr>\n",
              "  </thead>\n",
              "  <tbody>\n",
              "    <tr>\n",
              "      <th>31 Dec 2019</th>\n",
              "      <td>12247.10</td>\n",
              "      <td>12247.10</td>\n",
              "      <td>12151.80</td>\n",
              "      <td>12168.45</td>\n",
              "      <td>28495.00</td>\n",
              "      <td>28549.50</td>\n",
              "      <td>28270.25</td>\n",
              "      <td>28307.55</td>\n",
              "    </tr>\n",
              "    <tr>\n",
              "      <th>30 Dec 2019</th>\n",
              "      <td>12274.90</td>\n",
              "      <td>12286.45</td>\n",
              "      <td>12213.80</td>\n",
              "      <td>12255.85</td>\n",
              "      <td>28528.95</td>\n",
              "      <td>28612.95</td>\n",
              "      <td>28406.70</td>\n",
              "      <td>28484.85</td>\n",
              "    </tr>\n",
              "    <tr>\n",
              "      <th>27 Dec 2019</th>\n",
              "      <td>12172.90</td>\n",
              "      <td>12258.45</td>\n",
              "      <td>12157.90</td>\n",
              "      <td>12245.80</td>\n",
              "      <td>28354.50</td>\n",
              "      <td>28500.25</td>\n",
              "      <td>28319.90</td>\n",
              "      <td>28476.80</td>\n",
              "    </tr>\n",
              "    <tr>\n",
              "      <th>26 Dec 2019</th>\n",
              "      <td>12211.85</td>\n",
              "      <td>12221.55</td>\n",
              "      <td>12118.85</td>\n",
              "      <td>12126.55</td>\n",
              "      <td>28409.10</td>\n",
              "      <td>28435.25</td>\n",
              "      <td>28259.75</td>\n",
              "      <td>28280.25</td>\n",
              "    </tr>\n",
              "    <tr>\n",
              "      <th>24 Dec 2019</th>\n",
              "      <td>12269.25</td>\n",
              "      <td>12283.70</td>\n",
              "      <td>12202.10</td>\n",
              "      <td>12214.55</td>\n",
              "      <td>28423.70</td>\n",
              "      <td>28430.40</td>\n",
              "      <td>28318.75</td>\n",
              "      <td>28382.85</td>\n",
              "    </tr>\n",
              "  </tbody>\n",
              "</table>\n",
              "</div>"
            ],
            "text/plain": [
              "              nifty50                      ... nifty_next_50                    \n",
              "                 Open      High       Low  ...          High       Low     Close\n",
              "Date                                       ...                                  \n",
              "31 Dec 2019  12247.10  12247.10  12151.80  ...      28549.50  28270.25  28307.55\n",
              "30 Dec 2019  12274.90  12286.45  12213.80  ...      28612.95  28406.70  28484.85\n",
              "27 Dec 2019  12172.90  12258.45  12157.90  ...      28500.25  28319.90  28476.80\n",
              "26 Dec 2019  12211.85  12221.55  12118.85  ...      28435.25  28259.75  28280.25\n",
              "24 Dec 2019  12269.25  12283.70  12202.10  ...      28430.40  28318.75  28382.85\n",
              "\n",
              "[5 rows x 8 columns]"
            ]
          },
          "metadata": {
            "tags": []
          },
          "execution_count": 30
        }
      ]
    },
    {
      "cell_type": "code",
      "metadata": {
        "id": "bRbymn4rhsNI",
        "colab_type": "code",
        "colab": {
          "base_uri": "https://localhost:8080/",
          "height": 238
        },
        "outputId": "56cecc87-3466-43e6-add1-dcf8c27cbf61"
      },
      "source": [
        "nifty_50_next_50_19.nifty50.Open"
      ],
      "execution_count": 44,
      "outputs": [
        {
          "output_type": "execute_result",
          "data": {
            "text/plain": [
              "Date\n",
              "31 Dec 2019    12247.10\n",
              "30 Dec 2019    12274.90\n",
              "27 Dec 2019    12172.90\n",
              "26 Dec 2019    12211.85\n",
              "24 Dec 2019    12269.25\n",
              "                 ...   \n",
              "07 Jan 2019    10804.85\n",
              "04 Jan 2019    10699.70\n",
              "03 Jan 2019    10796.80\n",
              "02 Jan 2019    10868.85\n",
              "01 Jan 2019    10881.70\n",
              "Name: Open, Length: 245, dtype: float64"
            ]
          },
          "metadata": {
            "tags": []
          },
          "execution_count": 44
        }
      ]
    },
    {
      "cell_type": "code",
      "metadata": {
        "id": "KykmjEughm9F",
        "colab_type": "code",
        "colab": {
          "base_uri": "https://localhost:8080/",
          "height": 34
        },
        "outputId": "300237b0-ab84-4f05-fcdd-0ee685dcc9df"
      },
      "source": [
        "nifty_50_next_50_19.nifty50.Open['31 Dec 2019']"
      ],
      "execution_count": 43,
      "outputs": [
        {
          "output_type": "execute_result",
          "data": {
            "text/plain": [
              "12247.1"
            ]
          },
          "metadata": {
            "tags": []
          },
          "execution_count": 43
        }
      ]
    },
    {
      "cell_type": "code",
      "metadata": {
        "id": "Ge4tyy9Fh64W",
        "colab_type": "code",
        "colab": {
          "base_uri": "https://localhost:8080/",
          "height": 102
        },
        "outputId": "b9fd4581-6b6c-4248-aa80-d7fe46df1fb8"
      },
      "source": [
        "nifty_50_next_50_19.nifty50.loc['31 Dec 2019']"
      ],
      "execution_count": 45,
      "outputs": [
        {
          "output_type": "execute_result",
          "data": {
            "text/plain": [
              "Open     12247.10\n",
              "High     12247.10\n",
              "Low      12151.80\n",
              "Close    12168.45\n",
              "Name: 31 Dec 2019, dtype: float64"
            ]
          },
          "metadata": {
            "tags": []
          },
          "execution_count": 45
        }
      ]
    },
    {
      "cell_type": "code",
      "metadata": {
        "id": "GwEBPC4ugRhT",
        "colab_type": "code",
        "colab": {
          "base_uri": "https://localhost:8080/",
          "height": 170
        },
        "outputId": "e0c83610-919e-41d8-810a-bcde7e855ee9"
      },
      "source": [
        "nifty_50_next_50_19.loc['31 Dec 2019']"
      ],
      "execution_count": 42,
      "outputs": [
        {
          "output_type": "execute_result",
          "data": {
            "text/plain": [
              "nifty50        Open     12247.10\n",
              "               High     12247.10\n",
              "               Low      12151.80\n",
              "               Close    12168.45\n",
              "nifty_next_50  Open     28495.00\n",
              "               High     28549.50\n",
              "               Low      28270.25\n",
              "               Close    28307.55\n",
              "Name: 31 Dec 2019, dtype: float64"
            ]
          },
          "metadata": {
            "tags": []
          },
          "execution_count": 42
        }
      ]
    },
    {
      "cell_type": "code",
      "metadata": {
        "id": "ErQmlrLdgohv",
        "colab_type": "code",
        "colab": {}
      },
      "source": [
        ""
      ],
      "execution_count": null,
      "outputs": []
    }
  ]
}