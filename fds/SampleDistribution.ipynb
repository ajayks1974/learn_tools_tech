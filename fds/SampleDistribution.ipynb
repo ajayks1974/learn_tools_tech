{
  "nbformat": 4,
  "nbformat_minor": 0,
  "metadata": {
    "colab": {
      "name": "SampleDistribution.ipynb",
      "provenance": [],
      "authorship_tag": "ABX9TyMh/UYLf9RFUWQKKR+IYnE2",
      "include_colab_link": true
    },
    "kernelspec": {
      "name": "python3",
      "display_name": "Python 3"
    }
  },
  "cells": [
    {
      "cell_type": "markdown",
      "metadata": {
        "id": "view-in-github",
        "colab_type": "text"
      },
      "source": [
        "<a href=\"https://colab.research.google.com/github/ajayks1974/learning/blob/master/fds/SampleDistribution.ipynb\" target=\"_parent\"><img src=\"https://colab.research.google.com/assets/colab-badge.svg\" alt=\"Open In Colab\"/></a>"
      ]
    },
    {
      "cell_type": "code",
      "metadata": {
        "id": "-nbXejZZxPN6"
      },
      "source": [
        "import random\n",
        "import matplotlib.pyplot as plt"
      ],
      "execution_count": 19,
      "outputs": []
    },
    {
      "cell_type": "code",
      "metadata": {
        "id": "Ql-jCPEByiox"
      },
      "source": [
        "random.seed(1)"
      ],
      "execution_count": 2,
      "outputs": []
    },
    {
      "cell_type": "code",
      "metadata": {
        "id": "TzjqQY_ty2SI"
      },
      "source": [
        "sample_size = 10000\n",
        "range_of_no_of_dice_throws = 1000\n",
        "START_DICE_VAL = 1\n",
        "END_DICE_VAL = 6"
      ],
      "execution_count": 22,
      "outputs": []
    },
    {
      "cell_type": "code",
      "metadata": {
        "id": "ADrrqUOT3DKV"
      },
      "source": [
        "def avg_list(list):\n",
        "    return (sum(sample_dice_val_list) / len(sample_dice_val_list))"
      ],
      "execution_count": 23,
      "outputs": []
    },
    {
      "cell_type": "code",
      "metadata": {
        "id": "hf6CFt6H3OSd"
      },
      "source": [
        "def var_list(list):\n",
        "    sq_diff = []\n",
        "    for iter in list:\n",
        "        sq_diff.append((iter - avg_list(list))**2)\n",
        "    return (avg_list(sq_diff))"
      ],
      "execution_count": 24,
      "outputs": []
    },
    {
      "cell_type": "code",
      "metadata": {
        "id": "B0V48hkVzNAi"
      },
      "source": [
        "dice_avg_var_list = []\n",
        "for no_of_dice_throws in range(range_of_no_of_dice_throws):\n",
        "    sample_avg_list = []\n",
        "    for sample_itr in range(sample_size):\n",
        "        sample_dice_val_list = []\n",
        "        for dic_throw_iter in range(no_of_dice_throws+1):\n",
        "            sample_dice_val_list.append(random.randint(START_DICE_VAL,END_DICE_VAL))\n",
        "        sample_avg_list.append(avg_list(sample_dice_val_list))\n",
        "    dice_avg_var_list.append(var_list(sample_avg_list))\n",
        "        "
      ],
      "execution_count": null,
      "outputs": []
    },
    {
      "cell_type": "code",
      "metadata": {
        "id": "XmuxLhWs5MrV"
      },
      "source": [
        "plt.plot(dice_avg_var_list)\n",
        "plt.ylabel('Variance')\n",
        "plt.show()\n"
      ],
      "execution_count": null,
      "outputs": []
    }
  ]
}