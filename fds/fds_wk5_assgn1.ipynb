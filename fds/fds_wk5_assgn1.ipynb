{
  "nbformat": 4,
  "nbformat_minor": 0,
  "metadata": {
    "colab": {
      "name": "fds_wk5_assgn1.ipynb",
      "provenance": [],
      "authorship_tag": "ABX9TyMEfcQrH73sWvTlZa9x00NA",
      "include_colab_link": true
    },
    "kernelspec": {
      "name": "python3",
      "display_name": "Python 3"
    }
  },
  "cells": [
    {
      "cell_type": "markdown",
      "metadata": {
        "id": "view-in-github",
        "colab_type": "text"
      },
      "source": [
        "<a href=\"https://colab.research.google.com/github/ajayks1974/learning/blob/master/fds/fds_wk5_assgn1.ipynb\" target=\"_parent\"><img src=\"https://colab.research.google.com/assets/colab-badge.svg\" alt=\"Open In Colab\"/></a>"
      ]
    },
    {
      "cell_type": "code",
      "metadata": {
        "id": "g2ZNFl_aF_w6",
        "colab_type": "code",
        "colab": {}
      },
      "source": [
        "# define Python user-defined exceptions\n",
        "class Error(Exception):\n",
        "    \"\"\"Base class for other exceptions\"\"\"\n",
        "    pass\n",
        "\n",
        "\n",
        "class NotASquareMatrix(Error):\n",
        "    \"\"\"Raised when input Matrix for Exponential is not Square\"\"\"\n",
        "    pass"
      ],
      "execution_count": 1,
      "outputs": []
    },
    {
      "cell_type": "code",
      "metadata": {
        "id": "mnEsHhdIGQ25",
        "colab_type": "code",
        "colab": {}
      },
      "source": [
        "def build_empty_mat(out_mat,row,col):\n",
        "    for row_iter in range(row):\n",
        "        row_list = []\n",
        "        for col_iter in range(col):\n",
        "            row_list.append(0)\n",
        "        out_mat.append([iter for iter in row_list])"
      ],
      "execution_count": 2,
      "outputs": []
    },
    {
      "cell_type": "code",
      "metadata": {
        "id": "N0MdMZUAGU4_",
        "colab_type": "code",
        "colab": {}
      },
      "source": [
        "mat = []\n",
        "build_empty_mat(mat,3,3)"
      ],
      "execution_count": 3,
      "outputs": []
    },
    {
      "cell_type": "code",
      "metadata": {
        "id": "Xj6hdOhKGXKU",
        "colab_type": "code",
        "colab": {}
      },
      "source": [
        "def matrix_mul(mat_a, mat_b):\n",
        "    mat_ab = []\n",
        "    build_empty_mat(mat_ab,len(mat_a),len(mat_b[0]))\n",
        "    for row in range(len(mat_a)):\n",
        "        for col in range(len(mat_b[0])):\n",
        "            mat_ab[row][col] = 0\n",
        "            for iter in range(len(mat_a)):\n",
        "                mat_ab[row][col] += mat_a[row][iter] * mat_b[iter][col]\n",
        "    return mat_ab"
      ],
      "execution_count": 4,
      "outputs": []
    },
    {
      "cell_type": "code",
      "metadata": {
        "id": "0JE8X1jLGZ0t",
        "colab_type": "code",
        "colab": {}
      },
      "source": [
        "def build_eye_matrix(dim):\n",
        "    mat_eye = []\n",
        "    build_empty_mat(mat_eye,dim,dim)\n",
        "    for row in range(dim):\n",
        "        for col in range(dim):\n",
        "            if row == col:\n",
        "                mat_eye[row][col] = 1\n",
        "            else:\n",
        "                mat_eye[row][col] = 0\n",
        "    return mat_eye"
      ],
      "execution_count": 5,
      "outputs": []
    },
    {
      "cell_type": "code",
      "metadata": {
        "id": "GMGsrA40GcHE",
        "colab_type": "code",
        "colab": {
          "base_uri": "https://localhost:8080/",
          "height": 34
        },
        "outputId": "43928e2a-ce1c-45d5-bf43-c6bdea083331"
      },
      "source": [
        "build_eye_matrix(3)"
      ],
      "execution_count": 6,
      "outputs": [
        {
          "output_type": "execute_result",
          "data": {
            "text/plain": [
              "[[1, 0, 0], [0, 1, 0], [0, 0, 1]]"
            ]
          },
          "metadata": {
            "tags": []
          },
          "execution_count": 6
        }
      ]
    },
    {
      "cell_type": "code",
      "metadata": {
        "id": "fbdLzej9GeSO",
        "colab_type": "code",
        "colab": {}
      },
      "source": [
        "def square_matrix_power(A, n):\n",
        "    out_mat_a_exp_n = None\n",
        "    try:\n",
        "        if len(A) != len(A[0]):\n",
        "            raise NotASquareMatrix\n",
        "        out_mat_a_exp_n = build_eye_matrix(len(A))\n",
        "        for iter in range(n):\n",
        "            out_mat_a_exp_n = matrix_mul(out_mat_a_exp_n,A)\n",
        "    except NotASquareMatrix:\n",
        "        print(\"Not a Square Matrix\")\n",
        "    return out_mat_a_exp_n"
      ],
      "execution_count": 7,
      "outputs": []
    },
    {
      "cell_type": "code",
      "metadata": {
        "id": "jC3WN9KnGgo6",
        "colab_type": "code",
        "colab": {
          "base_uri": "https://localhost:8080/",
          "height": 34
        },
        "outputId": "e8a44331-153f-4dc1-feed-e2d28cb81fc8"
      },
      "source": [
        "A = [[1, 1], [1, 0]]\n",
        "square_matrix_power(A,6)"
      ],
      "execution_count": 8,
      "outputs": [
        {
          "output_type": "execute_result",
          "data": {
            "text/plain": [
              "[[13, 8], [8, 5]]"
            ]
          },
          "metadata": {
            "tags": []
          },
          "execution_count": 8
        }
      ]
    },
    {
      "cell_type": "code",
      "metadata": {
        "id": "KHwVallfGjU4",
        "colab_type": "code",
        "colab": {}
      },
      "source": [
        ""
      ],
      "execution_count": null,
      "outputs": []
    }
  ]
}