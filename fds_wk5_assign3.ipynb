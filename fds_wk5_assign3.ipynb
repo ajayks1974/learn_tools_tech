{
  "nbformat": 4,
  "nbformat_minor": 0,
  "metadata": {
    "colab": {
      "name": "fds_wk5_assign3.ipynb",
      "provenance": [],
      "authorship_tag": "ABX9TyNsaHqQVUEk7po9I3wvabso",
      "include_colab_link": true
    },
    "kernelspec": {
      "name": "python3",
      "display_name": "Python 3"
    }
  },
  "cells": [
    {
      "cell_type": "markdown",
      "metadata": {
        "id": "view-in-github",
        "colab_type": "text"
      },
      "source": [
        "<a href=\"https://colab.research.google.com/github/ajayks1974/learning/blob/master/fds_wk5_assign3.ipynb\" target=\"_parent\"><img src=\"https://colab.research.google.com/assets/colab-badge.svg\" alt=\"Open In Colab\"/></a>"
      ]
    },
    {
      "cell_type": "code",
      "metadata": {
        "id": "VQFHv-jAfhG9",
        "colab_type": "code",
        "colab": {}
      },
      "source": [
        "def return_unique_word_struct(words):\n",
        "    unique_words= set(words)\n",
        "    unique_words_dict = {}\n",
        "    top_5 = {1:None,\n",
        "             2:None,\n",
        "             3:None,\n",
        "             4:None,\n",
        "             5:None}\n",
        "    for unq_word in unique_words:\n",
        "        count_curr_word = words.count(unq_word)\n",
        "        unique_words_dict[unq_word] = words.count(unq_word)\n",
        "        for iter in range(1,6):\n",
        "            if top_5[iter] == None or count_curr_word > top_5[iter][1]:\n",
        "                top_5[iter] = (unq_word,count_curr_word)\n",
        "                break\n",
        "    print(words)\n",
        "    print(unique_words)\n",
        "    print(unique_words_dict)\n",
        "    print(top_5)\n",
        "    return top_5, unique_words_dict"
      ],
      "execution_count": 24,
      "outputs": []
    },
    {
      "cell_type": "code",
      "metadata": {
        "id": "vGF0lA6ZAVev",
        "colab_type": "code",
        "colab": {}
      },
      "source": [
        "#Find Top Unique Words"
      ],
      "execution_count": 26,
      "outputs": []
    },
    {
      "cell_type": "code",
      "metadata": {
        "id": "l1DzD0x2hSBT",
        "colab_type": "code",
        "colab": {
          "base_uri": "https://localhost:8080/",
          "height": 165
        },
        "outputId": "bdf0b4ac-0c8c-40ae-8abe-55525d44e8ef"
      },
      "source": [
        "with open(\"poem.txt\", \"r\") as f1:\n",
        "    words = ((((f1.read()).replace(\".\",\" \")).replace(\",\",\"\")).lower()).split()\n",
        "    print(len(words))\n",
        "    top5, unq_words = return_unique_word_struct(words)\n",
        "    print(top5)\n",
        "    print(unq_words)\n",
        "    with open(\"out.txt\", \"w\") as f2:\n",
        "        for iter in range(5):\n",
        "            f2.write(top5[iter+1][0]+'\\n')"
      ],
      "execution_count": 27,
      "outputs": [
        {
          "output_type": "stream",
          "text": [
            "217\n",
            "['unending', 'love', 'i', 'seem', 'to', 'have', 'loved', 'you', 'in', 'numberless', 'forms', 'numberless', 'times…', 'in', 'life', 'after', 'life', 'in', 'age', 'after', 'age', 'forever', 'my', 'spellbound', 'heart', 'has', 'made', 'and', 'remade', 'the', 'necklace', 'of', 'songs', 'that', 'you', 'take', 'as', 'a', 'gift', 'wear', 'round', 'your', 'neck', 'in', 'your', 'many', 'forms', 'in', 'life', 'after', 'life', 'in', 'age', 'after', 'age', 'forever', 'whenever', 'i', 'hear', 'old', 'chronicles', 'of', 'love', 'its', 'age-old', 'pain', 'its', 'ancient', 'tale', 'of', 'being', 'apart', 'or', 'together', 'as', 'i', 'stare', 'on', 'and', 'on', 'into', 'the', 'past', 'in', 'the', 'end', 'you', 'emerge', 'clad', 'in', 'the', 'light', 'of', 'a', 'pole-star', 'piercing', 'the', 'darkness', 'of', 'time:', 'you', 'become', 'an', 'image', 'of', 'what', 'is', 'remembered', 'forever', 'you', 'and', 'i', 'have', 'floated', 'here', 'on', 'the', 'stream', 'that', 'brings', 'from', 'the', 'fount', 'at', 'the', 'heart', 'of', 'time', 'love', 'of', 'one', 'for', 'another', 'we', 'have', 'played', 'along', 'side', 'millions', 'of', 'lovers', 'shared', 'in', 'the', 'same', 'shy', 'sweetness', 'of', 'meeting', 'the', 'same', 'distressful', 'tears', 'of', 'farewell-', 'old', 'love', 'but', 'in', 'shapes', 'that', 'renew', 'and', 'renew', 'forever', 'today', 'it', 'is', 'heaped', 'at', 'your', 'feet', 'it', 'has', 'found', 'its', 'end', 'in', 'you', 'the', 'love', 'of', 'all', 'man’s', 'days', 'both', 'past', 'and', 'forever:', 'universal', 'joy', 'universal', 'sorrow', 'universal', 'life', 'the', 'memories', 'of', 'all', 'loves', 'merging', 'with', 'this', 'one', 'love', 'of', 'ours', '–', 'and', 'the', 'songs', 'of', 'every', 'poet', 'past', 'and', 'forever']\n",
            "{'merging', 'past', 'man’s', 'apart', 'ours', 'round', 'we', 'times…', 'my', 'unending', 'poet', 'light', 'or', 'time:', 'neck', 'farewell-', 'here', 'that', 'fount', 'piercing', 'it', 'love', 'life', 'joy', 'loves', 'for', 'sweetness', 'sorrow', 'memories', '–', 'is', 'numberless', 'forever', 'brings', 'but', 'to', 'wear', 'one', 'shared', 'seem', 'pain', 'clad', 'along', 'songs', 'shapes', 'age-old', 'forever:', 'take', 'found', 'days', 'whenever', 'heart', 'stare', 'after', 'made', 'together', 'distressful', 'this', 'as', 'gift', 'remade', 'has', 'ancient', 'tears', 'every', 'shy', 'become', 'stream', 'side', 'old', 'into', 'all', 'played', 'another', 'remembered', 'an', 'lovers', 'chronicles', 'end', 'being', 'from', 'i', 'many', 'on', 'millions', 'universal', 'and', 'spellbound', 'age', 'heaped', 'your', 'floated', 'of', 'both', 'its', 'you', 'with', 'in', 'image', 'pole-star', 'the', 'tale', 'meeting', 'at', 'emerge', 'loved', 'time', 'feet', 'necklace', 'have', 'today', 'darkness', 'renew', 'hear', 'forms', 'what', 'a', 'same'}\n",
            "{'merging': 1, 'past': 3, 'man’s': 1, 'apart': 1, 'ours': 1, 'round': 1, 'we': 1, 'times…': 1, 'my': 1, 'unending': 1, 'poet': 1, 'light': 1, 'or': 1, 'time:': 1, 'neck': 1, 'farewell-': 1, 'here': 1, 'that': 3, 'fount': 1, 'piercing': 1, 'it': 2, 'love': 6, 'life': 5, 'joy': 1, 'loves': 1, 'for': 1, 'sweetness': 1, 'sorrow': 1, 'memories': 1, '–': 1, 'is': 2, 'numberless': 2, 'forever': 5, 'brings': 1, 'but': 1, 'to': 1, 'wear': 1, 'one': 2, 'shared': 1, 'seem': 1, 'pain': 1, 'clad': 1, 'along': 1, 'songs': 2, 'shapes': 1, 'age-old': 1, 'forever:': 1, 'take': 1, 'found': 1, 'days': 1, 'whenever': 1, 'heart': 2, 'stare': 1, 'after': 4, 'made': 1, 'together': 1, 'distressful': 1, 'this': 1, 'as': 2, 'gift': 1, 'remade': 1, 'has': 2, 'ancient': 1, 'tears': 1, 'every': 1, 'shy': 1, 'become': 1, 'stream': 1, 'side': 1, 'old': 2, 'into': 1, 'all': 2, 'played': 1, 'another': 1, 'remembered': 1, 'an': 1, 'lovers': 1, 'chronicles': 1, 'end': 2, 'being': 1, 'from': 1, 'i': 4, 'many': 1, 'on': 3, 'millions': 1, 'universal': 3, 'and': 7, 'spellbound': 1, 'age': 4, 'heaped': 1, 'your': 3, 'floated': 1, 'of': 15, 'both': 1, 'its': 3, 'you': 6, 'with': 1, 'in': 11, 'image': 1, 'pole-star': 1, 'the': 13, 'tale': 1, 'meeting': 1, 'at': 2, 'emerge': 1, 'loved': 1, 'time': 1, 'feet': 1, 'necklace': 1, 'have': 3, 'today': 1, 'darkness': 1, 'renew': 2, 'hear': 1, 'forms': 2, 'what': 1, 'a': 2, 'same': 2}\n",
            "{1: ('of', 15), 2: ('the', 13), 3: ('forever', 5), 4: ('after', 4), 5: ('i', 4)}\n",
            "{1: ('of', 15), 2: ('the', 13), 3: ('forever', 5), 4: ('after', 4), 5: ('i', 4)}\n",
            "{'merging': 1, 'past': 3, 'man’s': 1, 'apart': 1, 'ours': 1, 'round': 1, 'we': 1, 'times…': 1, 'my': 1, 'unending': 1, 'poet': 1, 'light': 1, 'or': 1, 'time:': 1, 'neck': 1, 'farewell-': 1, 'here': 1, 'that': 3, 'fount': 1, 'piercing': 1, 'it': 2, 'love': 6, 'life': 5, 'joy': 1, 'loves': 1, 'for': 1, 'sweetness': 1, 'sorrow': 1, 'memories': 1, '–': 1, 'is': 2, 'numberless': 2, 'forever': 5, 'brings': 1, 'but': 1, 'to': 1, 'wear': 1, 'one': 2, 'shared': 1, 'seem': 1, 'pain': 1, 'clad': 1, 'along': 1, 'songs': 2, 'shapes': 1, 'age-old': 1, 'forever:': 1, 'take': 1, 'found': 1, 'days': 1, 'whenever': 1, 'heart': 2, 'stare': 1, 'after': 4, 'made': 1, 'together': 1, 'distressful': 1, 'this': 1, 'as': 2, 'gift': 1, 'remade': 1, 'has': 2, 'ancient': 1, 'tears': 1, 'every': 1, 'shy': 1, 'become': 1, 'stream': 1, 'side': 1, 'old': 2, 'into': 1, 'all': 2, 'played': 1, 'another': 1, 'remembered': 1, 'an': 1, 'lovers': 1, 'chronicles': 1, 'end': 2, 'being': 1, 'from': 1, 'i': 4, 'many': 1, 'on': 3, 'millions': 1, 'universal': 3, 'and': 7, 'spellbound': 1, 'age': 4, 'heaped': 1, 'your': 3, 'floated': 1, 'of': 15, 'both': 1, 'its': 3, 'you': 6, 'with': 1, 'in': 11, 'image': 1, 'pole-star': 1, 'the': 13, 'tale': 1, 'meeting': 1, 'at': 2, 'emerge': 1, 'loved': 1, 'time': 1, 'feet': 1, 'necklace': 1, 'have': 3, 'today': 1, 'darkness': 1, 'renew': 2, 'hear': 1, 'forms': 2, 'what': 1, 'a': 2, 'same': 2}\n"
          ],
          "name": "stdout"
        }
      ]
    },
    {
      "cell_type": "code",
      "metadata": {
        "id": "svn6Y665jusV",
        "colab_type": "code",
        "colab": {}
      },
      "source": [
        "#Find Top Bigram Words"
      ],
      "execution_count": null,
      "outputs": []
    },
    {
      "cell_type": "code",
      "metadata": {
        "id": "U5kzDbXpAlIT",
        "colab_type": "code",
        "colab": {
          "base_uri": "https://localhost:8080/",
          "height": 165
        },
        "outputId": "82a65a02-b272-42c8-b51f-86a64da26d58"
      },
      "source": [
        "with open(\"poem.txt\", \"r\") as f1:\n",
        "    words = ((((f1.read()).replace(\".\",\" \")).replace(\",\",\"\")).lower()).split()\n",
        "    bigram_list = []\n",
        "    for iter in range(len(words)-1):\n",
        "        bigram_list.append(words[iter]+\" \"+words[iter+1])\n",
        "    print(bigram_list)\n",
        "    top5, unq_words = return_unique_word_struct(bigram_list)\n",
        "    print(top5)\n",
        "    print(unq_words)\n",
        "    with open(\"out_bigram.txt\", \"w\") as f2:\n",
        "        for iter in range(5):\n",
        "            f2.write(top5[iter+1][0]+'\\n')"
      ],
      "execution_count": 29,
      "outputs": [
        {
          "output_type": "stream",
          "text": [
            "['unending love', 'love i', 'i seem', 'seem to', 'to have', 'have loved', 'loved you', 'you in', 'in numberless', 'numberless forms', 'forms numberless', 'numberless times…', 'times… in', 'in life', 'life after', 'after life', 'life in', 'in age', 'age after', 'after age', 'age forever', 'forever my', 'my spellbound', 'spellbound heart', 'heart has', 'has made', 'made and', 'and remade', 'remade the', 'the necklace', 'necklace of', 'of songs', 'songs that', 'that you', 'you take', 'take as', 'as a', 'a gift', 'gift wear', 'wear round', 'round your', 'your neck', 'neck in', 'in your', 'your many', 'many forms', 'forms in', 'in life', 'life after', 'after life', 'life in', 'in age', 'age after', 'after age', 'age forever', 'forever whenever', 'whenever i', 'i hear', 'hear old', 'old chronicles', 'chronicles of', 'of love', 'love its', 'its age-old', 'age-old pain', 'pain its', 'its ancient', 'ancient tale', 'tale of', 'of being', 'being apart', 'apart or', 'or together', 'together as', 'as i', 'i stare', 'stare on', 'on and', 'and on', 'on into', 'into the', 'the past', 'past in', 'in the', 'the end', 'end you', 'you emerge', 'emerge clad', 'clad in', 'in the', 'the light', 'light of', 'of a', 'a pole-star', 'pole-star piercing', 'piercing the', 'the darkness', 'darkness of', 'of time:', 'time: you', 'you become', 'become an', 'an image', 'image of', 'of what', 'what is', 'is remembered', 'remembered forever', 'forever you', 'you and', 'and i', 'i have', 'have floated', 'floated here', 'here on', 'on the', 'the stream', 'stream that', 'that brings', 'brings from', 'from the', 'the fount', 'fount at', 'at the', 'the heart', 'heart of', 'of time', 'time love', 'love of', 'of one', 'one for', 'for another', 'another we', 'we have', 'have played', 'played along', 'along side', 'side millions', 'millions of', 'of lovers', 'lovers shared', 'shared in', 'in the', 'the same', 'same shy', 'shy sweetness', 'sweetness of', 'of meeting', 'meeting the', 'the same', 'same distressful', 'distressful tears', 'tears of', 'of farewell-', 'farewell- old', 'old love', 'love but', 'but in', 'in shapes', 'shapes that', 'that renew', 'renew and', 'and renew', 'renew forever', 'forever today', 'today it', 'it is', 'is heaped', 'heaped at', 'at your', 'your feet', 'feet it', 'it has', 'has found', 'found its', 'its end', 'end in', 'in you', 'you the', 'the love', 'love of', 'of all', 'all man’s', 'man’s days', 'days both', 'both past', 'past and', 'and forever:', 'forever: universal', 'universal joy', 'joy universal', 'universal sorrow', 'sorrow universal', 'universal life', 'life the', 'the memories', 'memories of', 'of all', 'all loves', 'loves merging', 'merging with', 'with this', 'this one', 'one love', 'love of', 'of ours', 'ours –', '– and', 'and the', 'the songs', 'songs of', 'of every', 'every poet', 'poet past', 'past and', 'and forever']\n",
            "['unending love', 'love i', 'i seem', 'seem to', 'to have', 'have loved', 'loved you', 'you in', 'in numberless', 'numberless forms', 'forms numberless', 'numberless times…', 'times… in', 'in life', 'life after', 'after life', 'life in', 'in age', 'age after', 'after age', 'age forever', 'forever my', 'my spellbound', 'spellbound heart', 'heart has', 'has made', 'made and', 'and remade', 'remade the', 'the necklace', 'necklace of', 'of songs', 'songs that', 'that you', 'you take', 'take as', 'as a', 'a gift', 'gift wear', 'wear round', 'round your', 'your neck', 'neck in', 'in your', 'your many', 'many forms', 'forms in', 'in life', 'life after', 'after life', 'life in', 'in age', 'age after', 'after age', 'age forever', 'forever whenever', 'whenever i', 'i hear', 'hear old', 'old chronicles', 'chronicles of', 'of love', 'love its', 'its age-old', 'age-old pain', 'pain its', 'its ancient', 'ancient tale', 'tale of', 'of being', 'being apart', 'apart or', 'or together', 'together as', 'as i', 'i stare', 'stare on', 'on and', 'and on', 'on into', 'into the', 'the past', 'past in', 'in the', 'the end', 'end you', 'you emerge', 'emerge clad', 'clad in', 'in the', 'the light', 'light of', 'of a', 'a pole-star', 'pole-star piercing', 'piercing the', 'the darkness', 'darkness of', 'of time:', 'time: you', 'you become', 'become an', 'an image', 'image of', 'of what', 'what is', 'is remembered', 'remembered forever', 'forever you', 'you and', 'and i', 'i have', 'have floated', 'floated here', 'here on', 'on the', 'the stream', 'stream that', 'that brings', 'brings from', 'from the', 'the fount', 'fount at', 'at the', 'the heart', 'heart of', 'of time', 'time love', 'love of', 'of one', 'one for', 'for another', 'another we', 'we have', 'have played', 'played along', 'along side', 'side millions', 'millions of', 'of lovers', 'lovers shared', 'shared in', 'in the', 'the same', 'same shy', 'shy sweetness', 'sweetness of', 'of meeting', 'meeting the', 'the same', 'same distressful', 'distressful tears', 'tears of', 'of farewell-', 'farewell- old', 'old love', 'love but', 'but in', 'in shapes', 'shapes that', 'that renew', 'renew and', 'and renew', 'renew forever', 'forever today', 'today it', 'it is', 'is heaped', 'heaped at', 'at your', 'your feet', 'feet it', 'it has', 'has found', 'found its', 'its end', 'end in', 'in you', 'you the', 'the love', 'love of', 'of all', 'all man’s', 'man’s days', 'days both', 'both past', 'past and', 'and forever:', 'forever: universal', 'universal joy', 'joy universal', 'universal sorrow', 'sorrow universal', 'universal life', 'life the', 'the memories', 'memories of', 'of all', 'all loves', 'loves merging', 'merging with', 'with this', 'this one', 'one love', 'love of', 'of ours', 'ours –', '– and', 'and the', 'the songs', 'songs of', 'of every', 'every poet', 'poet past', 'past and', 'and forever']\n",
            "{'farewell- old', 'neck in', 'the end', 'is remembered', 'here on', 'and remade', 'of songs', 'joy universal', 'you become', 'renew forever', 'made and', 'my spellbound', 'same shy', 'loved you', 'being apart', 'spellbound heart', 'past in', 'in age', 'age forever', 'darkness of', 'for another', 'hear old', 'of one', 'the necklace', 'life in', 'into the', 'life after', 'ours –', 'you the', 'shared in', 'played along', 'of time', 'in shapes', 'forever you', 'remade the', 'lovers shared', 'found its', 'as a', 'what is', 'days both', 'forms in', 'millions of', 'has found', 'brings from', 'fount at', 'heaped at', 'have played', 'pain its', 'chronicles of', 'the past', 'that you', 'ancient tale', 'round your', 'become an', 'apart or', 'clad in', 'old chronicles', 'i hear', 'of time:', 'time: you', 'that brings', 'of lovers', 'love of', 'your neck', 'love but', 'stare on', 'i have', 'end in', 'today it', 'the heart', 'the love', 'that renew', 'piercing the', 'image of', 'an image', 'to have', 'one for', 'renew and', 'side millions', 'after life', 'tale of', 'the same', 'meeting the', 'and renew', 'remembered forever', 'love its', 'universal sorrow', 'times… in', 'sweetness of', 'in the', 'the songs', '– and', 'in numberless', 'along side', 'necklace of', 'in you', 'with this', 'at your', 'wear round', 'of love', 'on and', 'songs of', 'together as', 'forever my', 'you take', 'we have', 'shy sweetness', 'many forms', 'songs that', 'universal joy', 'past and', 'merging with', 'and the', 'and on', 'your many', 'forever today', 'the memories', 'feet it', 'floated here', 'unending love', 'the darkness', 'stream that', 'the fount', 'and forever', 'love i', 'this one', 'numberless forms', 'old love', 'all man’s', 'poet past', 'of all', 'both past', 'and i', 'of a', 'time love', 'is heaped', 'it has', 'of ours', 'end you', 'of being', 'its end', 'have floated', 'forever whenever', 'same distressful', 'on into', 'from the', 'another we', 'age-old pain', 'a pole-star', 'you emerge', 'has made', 'whenever i', 'all loves', 'every poet', 'numberless times…', 'your feet', 'one love', 'and forever:', 'of farewell-', 'pole-star piercing', 'heart of', 'tears of', 'it is', 'sorrow universal', 'heart has', 'at the', 'you in', 'in your', 'or together', 'shapes that', 'after age', 'of what', 'the stream', 'i stare', 'i seem', 'of meeting', 'loves merging', 'distressful tears', 'a gift', 'of every', 'its age-old', 'its ancient', 'have loved', 'seem to', 'emerge clad', 'the light', 'forever: universal', 'man’s days', 'forms numberless', 'as i', 'light of', 'you and', 'age after', 'take as', 'on the', 'life the', 'universal life', 'memories of', 'gift wear', 'in life', 'but in'}\n",
            "{'farewell- old': 1, 'neck in': 1, 'the end': 1, 'is remembered': 1, 'here on': 1, 'and remade': 1, 'of songs': 1, 'joy universal': 1, 'you become': 1, 'renew forever': 1, 'made and': 1, 'my spellbound': 1, 'same shy': 1, 'loved you': 1, 'being apart': 1, 'spellbound heart': 1, 'past in': 1, 'in age': 2, 'age forever': 2, 'darkness of': 1, 'for another': 1, 'hear old': 1, 'of one': 1, 'the necklace': 1, 'life in': 2, 'into the': 1, 'life after': 2, 'ours –': 1, 'you the': 1, 'shared in': 1, 'played along': 1, 'of time': 1, 'in shapes': 1, 'forever you': 1, 'remade the': 1, 'lovers shared': 1, 'found its': 1, 'as a': 1, 'what is': 1, 'days both': 1, 'forms in': 1, 'millions of': 1, 'has found': 1, 'brings from': 1, 'fount at': 1, 'heaped at': 1, 'have played': 1, 'pain its': 1, 'chronicles of': 1, 'the past': 1, 'that you': 1, 'ancient tale': 1, 'round your': 1, 'become an': 1, 'apart or': 1, 'clad in': 1, 'old chronicles': 1, 'i hear': 1, 'of time:': 1, 'time: you': 1, 'that brings': 1, 'of lovers': 1, 'love of': 3, 'your neck': 1, 'love but': 1, 'stare on': 1, 'i have': 1, 'end in': 1, 'today it': 1, 'the heart': 1, 'the love': 1, 'that renew': 1, 'piercing the': 1, 'image of': 1, 'an image': 1, 'to have': 1, 'one for': 1, 'renew and': 1, 'side millions': 1, 'after life': 2, 'tale of': 1, 'the same': 2, 'meeting the': 1, 'and renew': 1, 'remembered forever': 1, 'love its': 1, 'universal sorrow': 1, 'times… in': 1, 'sweetness of': 1, 'in the': 3, 'the songs': 1, '– and': 1, 'in numberless': 1, 'along side': 1, 'necklace of': 1, 'in you': 1, 'with this': 1, 'at your': 1, 'wear round': 1, 'of love': 1, 'on and': 1, 'songs of': 1, 'together as': 1, 'forever my': 1, 'you take': 1, 'we have': 1, 'shy sweetness': 1, 'many forms': 1, 'songs that': 1, 'universal joy': 1, 'past and': 2, 'merging with': 1, 'and the': 1, 'and on': 1, 'your many': 1, 'forever today': 1, 'the memories': 1, 'feet it': 1, 'floated here': 1, 'unending love': 1, 'the darkness': 1, 'stream that': 1, 'the fount': 1, 'and forever': 1, 'love i': 1, 'this one': 1, 'numberless forms': 1, 'old love': 1, 'all man’s': 1, 'poet past': 1, 'of all': 2, 'both past': 1, 'and i': 1, 'of a': 1, 'time love': 1, 'is heaped': 1, 'it has': 1, 'of ours': 1, 'end you': 1, 'of being': 1, 'its end': 1, 'have floated': 1, 'forever whenever': 1, 'same distressful': 1, 'on into': 1, 'from the': 1, 'another we': 1, 'age-old pain': 1, 'a pole-star': 1, 'you emerge': 1, 'has made': 1, 'whenever i': 1, 'all loves': 1, 'every poet': 1, 'numberless times…': 1, 'your feet': 1, 'one love': 1, 'and forever:': 1, 'of farewell-': 1, 'pole-star piercing': 1, 'heart of': 1, 'tears of': 1, 'it is': 1, 'sorrow universal': 1, 'heart has': 1, 'at the': 1, 'you in': 1, 'in your': 1, 'or together': 1, 'shapes that': 1, 'after age': 2, 'of what': 1, 'the stream': 1, 'i stare': 1, 'i seem': 1, 'of meeting': 1, 'loves merging': 1, 'distressful tears': 1, 'a gift': 1, 'of every': 1, 'its age-old': 1, 'its ancient': 1, 'have loved': 1, 'seem to': 1, 'emerge clad': 1, 'the light': 1, 'forever: universal': 1, 'man’s days': 1, 'forms numberless': 1, 'as i': 1, 'light of': 1, 'you and': 1, 'age after': 2, 'take as': 1, 'on the': 1, 'life the': 1, 'universal life': 1, 'memories of': 1, 'gift wear': 1, 'in life': 2, 'but in': 1}\n",
            "{1: ('love of', 3), 2: ('in the', 3), 3: ('life in', 2), 4: ('life after', 2), 5: ('after life', 2)}\n",
            "{1: ('love of', 3), 2: ('in the', 3), 3: ('life in', 2), 4: ('life after', 2), 5: ('after life', 2)}\n",
            "{'farewell- old': 1, 'neck in': 1, 'the end': 1, 'is remembered': 1, 'here on': 1, 'and remade': 1, 'of songs': 1, 'joy universal': 1, 'you become': 1, 'renew forever': 1, 'made and': 1, 'my spellbound': 1, 'same shy': 1, 'loved you': 1, 'being apart': 1, 'spellbound heart': 1, 'past in': 1, 'in age': 2, 'age forever': 2, 'darkness of': 1, 'for another': 1, 'hear old': 1, 'of one': 1, 'the necklace': 1, 'life in': 2, 'into the': 1, 'life after': 2, 'ours –': 1, 'you the': 1, 'shared in': 1, 'played along': 1, 'of time': 1, 'in shapes': 1, 'forever you': 1, 'remade the': 1, 'lovers shared': 1, 'found its': 1, 'as a': 1, 'what is': 1, 'days both': 1, 'forms in': 1, 'millions of': 1, 'has found': 1, 'brings from': 1, 'fount at': 1, 'heaped at': 1, 'have played': 1, 'pain its': 1, 'chronicles of': 1, 'the past': 1, 'that you': 1, 'ancient tale': 1, 'round your': 1, 'become an': 1, 'apart or': 1, 'clad in': 1, 'old chronicles': 1, 'i hear': 1, 'of time:': 1, 'time: you': 1, 'that brings': 1, 'of lovers': 1, 'love of': 3, 'your neck': 1, 'love but': 1, 'stare on': 1, 'i have': 1, 'end in': 1, 'today it': 1, 'the heart': 1, 'the love': 1, 'that renew': 1, 'piercing the': 1, 'image of': 1, 'an image': 1, 'to have': 1, 'one for': 1, 'renew and': 1, 'side millions': 1, 'after life': 2, 'tale of': 1, 'the same': 2, 'meeting the': 1, 'and renew': 1, 'remembered forever': 1, 'love its': 1, 'universal sorrow': 1, 'times… in': 1, 'sweetness of': 1, 'in the': 3, 'the songs': 1, '– and': 1, 'in numberless': 1, 'along side': 1, 'necklace of': 1, 'in you': 1, 'with this': 1, 'at your': 1, 'wear round': 1, 'of love': 1, 'on and': 1, 'songs of': 1, 'together as': 1, 'forever my': 1, 'you take': 1, 'we have': 1, 'shy sweetness': 1, 'many forms': 1, 'songs that': 1, 'universal joy': 1, 'past and': 2, 'merging with': 1, 'and the': 1, 'and on': 1, 'your many': 1, 'forever today': 1, 'the memories': 1, 'feet it': 1, 'floated here': 1, 'unending love': 1, 'the darkness': 1, 'stream that': 1, 'the fount': 1, 'and forever': 1, 'love i': 1, 'this one': 1, 'numberless forms': 1, 'old love': 1, 'all man’s': 1, 'poet past': 1, 'of all': 2, 'both past': 1, 'and i': 1, 'of a': 1, 'time love': 1, 'is heaped': 1, 'it has': 1, 'of ours': 1, 'end you': 1, 'of being': 1, 'its end': 1, 'have floated': 1, 'forever whenever': 1, 'same distressful': 1, 'on into': 1, 'from the': 1, 'another we': 1, 'age-old pain': 1, 'a pole-star': 1, 'you emerge': 1, 'has made': 1, 'whenever i': 1, 'all loves': 1, 'every poet': 1, 'numberless times…': 1, 'your feet': 1, 'one love': 1, 'and forever:': 1, 'of farewell-': 1, 'pole-star piercing': 1, 'heart of': 1, 'tears of': 1, 'it is': 1, 'sorrow universal': 1, 'heart has': 1, 'at the': 1, 'you in': 1, 'in your': 1, 'or together': 1, 'shapes that': 1, 'after age': 2, 'of what': 1, 'the stream': 1, 'i stare': 1, 'i seem': 1, 'of meeting': 1, 'loves merging': 1, 'distressful tears': 1, 'a gift': 1, 'of every': 1, 'its age-old': 1, 'its ancient': 1, 'have loved': 1, 'seem to': 1, 'emerge clad': 1, 'the light': 1, 'forever: universal': 1, 'man’s days': 1, 'forms numberless': 1, 'as i': 1, 'light of': 1, 'you and': 1, 'age after': 2, 'take as': 1, 'on the': 1, 'life the': 1, 'universal life': 1, 'memories of': 1, 'gift wear': 1, 'in life': 2, 'but in': 1}\n"
          ],
          "name": "stdout"
        }
      ]
    },
    {
      "cell_type": "code",
      "metadata": {
        "id": "kWbhqtD_BhSD",
        "colab_type": "code",
        "colab": {}
      },
      "source": [
        ""
      ],
      "execution_count": null,
      "outputs": []
    }
  ]
}