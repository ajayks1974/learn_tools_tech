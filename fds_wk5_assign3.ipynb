{
  "nbformat": 4,
  "nbformat_minor": 0,
  "metadata": {
    "colab": {
      "name": "fds_wk5_assign3.ipynb",
      "provenance": [],
      "authorship_tag": "ABX9TyM/G7Zw9jyUo3bAW3nIZpEg",
      "include_colab_link": true
    },
    "kernelspec": {
      "name": "python3",
      "display_name": "Python 3"
    }
  },
  "cells": [
    {
      "cell_type": "markdown",
      "metadata": {
        "id": "view-in-github",
        "colab_type": "text"
      },
      "source": [
        "<a href=\"https://colab.research.google.com/github/ajayks1974/learning/blob/master/fds_wk5_assign3.ipynb\" target=\"_parent\"><img src=\"https://colab.research.google.com/assets/colab-badge.svg\" alt=\"Open In Colab\"/></a>"
      ]
    },
    {
      "cell_type": "code",
      "metadata": {
        "id": "VQFHv-jAfhG9",
        "colab_type": "code",
        "colab": {
          "base_uri": "https://localhost:8080/",
          "height": 110
        },
        "outputId": "caab35f2-10ef-4006-a756-d468ed12f1a5"
      },
      "source": [
        "with open(\"poem.txt\", \"r\") as f:\n",
        "    words = ((((f.read()).replace(\".\",\" \")).replace(\",\",\"\")).lower()).split()\n",
        "    unique_words= set(words)\n",
        "    unique_words_dict = {}\n",
        "    top_5 = {1:None,\n",
        "             2:None,\n",
        "             3:None,\n",
        "             4:None,\n",
        "             5:None}\n",
        "    for unq_word in unique_words:\n",
        "        count_curr_word = words.count(unq_word)\n",
        "        unique_words_dict[unq_word] = words.count(unq_word)\n",
        "        for iter in range(1,6):\n",
        "            if top_5[iter] == None or count_curr_word > top_5[iter][1]:\n",
        "                top_5[iter] = (unq_word,count_curr_word)\n",
        "                break\n",
        "    print(words)\n",
        "    print(unique_words)\n",
        "    print(unique_words_dict)\n",
        "    print(top_5)"
      ],
      "execution_count": 20,
      "outputs": [
        {
          "output_type": "stream",
          "text": [
            "['unending', 'love', 'i', 'seem', 'to', 'have', 'loved', 'you', 'in', 'numberless', 'forms', 'numberless', 'times…', 'in', 'life', 'after', 'life', 'in', 'age', 'after', 'age', 'forever', 'my', 'spellbound', 'heart', 'has', 'made', 'and', 'remade', 'the', 'necklace', 'of', 'songs', 'that', 'you', 'take', 'as', 'a', 'gift', 'wear', 'round', 'your', 'neck', 'in', 'your', 'many', 'forms', 'in', 'life', 'after', 'life', 'in', 'age', 'after', 'age', 'forever', 'whenever', 'i', 'hear', 'old', 'chronicles', 'of', 'love', 'its', 'age-old', 'pain', 'its', 'ancient', 'tale', 'of', 'being', 'apart', 'or', 'together', 'as', 'i', 'stare', 'on', 'and', 'on', 'into', 'the', 'past', 'in', 'the', 'end', 'you', 'emerge', 'clad', 'in', 'the', 'light', 'of', 'a', 'pole-star', 'piercing', 'the', 'darkness', 'of', 'time:', 'you', 'become', 'an', 'image', 'of', 'what', 'is', 'remembered', 'forever', 'you', 'and', 'i', 'have', 'floated', 'here', 'on', 'the', 'stream', 'that', 'brings', 'from', 'the', 'fount', 'at', 'the', 'heart', 'of', 'time', 'love', 'of', 'one', 'for', 'another', 'we', 'have', 'played', 'along', 'side', 'millions', 'of', 'lovers', 'shared', 'in', 'the', 'same', 'shy', 'sweetness', 'of', 'meeting', 'the', 'same', 'distressful', 'tears', 'of', 'farewell-', 'old', 'love', 'but', 'in', 'shapes', 'that', 'renew', 'and', 'renew', 'forever', 'today', 'it', 'is', 'heaped', 'at', 'your', 'feet', 'it', 'has', 'found', 'its', 'end', 'in', 'you', 'the', 'love', 'of', 'all', 'man’s', 'days', 'both', 'past', 'and', 'forever:', 'universal', 'joy', 'universal', 'sorrow', 'universal', 'life', 'the', 'memories', 'of', 'all', 'loves', 'merging', 'with', 'this', 'one', 'love', 'of', 'ours', '–', 'and', 'the', 'songs', 'of', 'every', 'poet', 'past', 'and', 'forever']\n",
            "{'merging', 'past', 'man’s', 'apart', 'ours', 'round', 'we', 'times…', 'my', 'unending', 'poet', 'light', 'or', 'time:', 'neck', 'farewell-', 'here', 'that', 'fount', 'piercing', 'it', 'love', 'life', 'joy', 'loves', 'for', 'sweetness', 'sorrow', 'memories', '–', 'is', 'numberless', 'forever', 'brings', 'but', 'to', 'wear', 'one', 'shared', 'seem', 'pain', 'clad', 'along', 'songs', 'shapes', 'age-old', 'forever:', 'take', 'found', 'days', 'whenever', 'heart', 'stare', 'after', 'made', 'together', 'distressful', 'this', 'as', 'gift', 'remade', 'has', 'ancient', 'tears', 'every', 'shy', 'become', 'stream', 'side', 'old', 'into', 'all', 'played', 'another', 'remembered', 'an', 'lovers', 'chronicles', 'end', 'being', 'from', 'i', 'many', 'on', 'millions', 'universal', 'and', 'spellbound', 'age', 'heaped', 'your', 'floated', 'of', 'both', 'its', 'you', 'with', 'in', 'image', 'pole-star', 'the', 'tale', 'meeting', 'at', 'emerge', 'loved', 'time', 'feet', 'necklace', 'have', 'today', 'darkness', 'renew', 'hear', 'forms', 'what', 'a', 'same'}\n",
            "{'merging': 1, 'past': 3, 'man’s': 1, 'apart': 1, 'ours': 1, 'round': 1, 'we': 1, 'times…': 1, 'my': 1, 'unending': 1, 'poet': 1, 'light': 1, 'or': 1, 'time:': 1, 'neck': 1, 'farewell-': 1, 'here': 1, 'that': 3, 'fount': 1, 'piercing': 1, 'it': 2, 'love': 6, 'life': 5, 'joy': 1, 'loves': 1, 'for': 1, 'sweetness': 1, 'sorrow': 1, 'memories': 1, '–': 1, 'is': 2, 'numberless': 2, 'forever': 5, 'brings': 1, 'but': 1, 'to': 1, 'wear': 1, 'one': 2, 'shared': 1, 'seem': 1, 'pain': 1, 'clad': 1, 'along': 1, 'songs': 2, 'shapes': 1, 'age-old': 1, 'forever:': 1, 'take': 1, 'found': 1, 'days': 1, 'whenever': 1, 'heart': 2, 'stare': 1, 'after': 4, 'made': 1, 'together': 1, 'distressful': 1, 'this': 1, 'as': 2, 'gift': 1, 'remade': 1, 'has': 2, 'ancient': 1, 'tears': 1, 'every': 1, 'shy': 1, 'become': 1, 'stream': 1, 'side': 1, 'old': 2, 'into': 1, 'all': 2, 'played': 1, 'another': 1, 'remembered': 1, 'an': 1, 'lovers': 1, 'chronicles': 1, 'end': 2, 'being': 1, 'from': 1, 'i': 4, 'many': 1, 'on': 3, 'millions': 1, 'universal': 3, 'and': 7, 'spellbound': 1, 'age': 4, 'heaped': 1, 'your': 3, 'floated': 1, 'of': 15, 'both': 1, 'its': 3, 'you': 6, 'with': 1, 'in': 11, 'image': 1, 'pole-star': 1, 'the': 13, 'tale': 1, 'meeting': 1, 'at': 2, 'emerge': 1, 'loved': 1, 'time': 1, 'feet': 1, 'necklace': 1, 'have': 3, 'today': 1, 'darkness': 1, 'renew': 2, 'hear': 1, 'forms': 2, 'what': 1, 'a': 2, 'same': 2}\n",
            "{1: ('of', 15), 2: ('the', 13), 3: ('forever', 5), 4: ('after', 4), 5: ('i', 4)}\n"
          ],
          "name": "stdout"
        }
      ]
    },
    {
      "cell_type": "code",
      "metadata": {
        "id": "l1DzD0x2hSBT",
        "colab_type": "code",
        "colab": {
          "base_uri": "https://localhost:8080/",
          "height": 35
        },
        "outputId": "d0752f0b-26da-4a0d-e0b2-f8a510f1f64a"
      },
      "source": [
        ""
      ],
      "execution_count": 8,
      "outputs": [
        {
          "output_type": "stream",
          "text": [
            "Eq:\n"
          ],
          "name": "stdout"
        }
      ]
    },
    {
      "cell_type": "code",
      "metadata": {
        "id": "svn6Y665jusV",
        "colab_type": "code",
        "colab": {}
      },
      "source": [
        ""
      ],
      "execution_count": null,
      "outputs": []
    }
  ]
}